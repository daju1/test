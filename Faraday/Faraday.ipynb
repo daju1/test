{
 "cells": [
  {
   "cell_type": "markdown",
   "metadata": {},
   "source": [
    "Вывод закона электромагнитной индукции Фарадея исходя из формул потенциальной и конвективной компоненты силы Лоренца\n",
    "\n",
    "А.Ю. Дроздов"
   ]
  },
  {
   "cell_type": "markdown",
   "metadata": {},
   "source": [
    "Вывод закона электромагнитной индукции Фарадея исходя из формул потенциальной и конвективной компоненты силы Лоренца для случая движения контура в постоянном магнитном поле\n",
    "\n",
    "Закон электромагнитной индукции Фарадея для случая движения контура в постоянном магнитном поле есть следствие действия конвективной компоненты силы Лоренца на электроны в проводнике контура"
   ]
  },
  {
   "cell_type": "markdown",
   "metadata": {},
   "source": [
    "Опыт 1\n",
    "\n",
    "Пусть магнитное поле создаётся бесконечно длинным проводником с током, проходящим через начало координат вдоль оси $y,$ а пробный контур совершает движение в одной плоскости с этим проводником (в плоскости $xy$)"
   ]
  },
  {
   "cell_type": "code",
   "execution_count": 1,
   "metadata": {},
   "outputs": [
    {
     "data": {
      "image/png": "[encoded data removed]",
      "text/plain": [
       "Graphics object consisting of 9 graphics primitives"
      ]
     },
     "metadata": {},
     "output_type": "display_data"
    }
   ],
   "source": [
    "p = line([[0,-8],[0,8]], color = \"red\", thickness=3)\n",
    "x1 = 2\n",
    "x2 = 6\n",
    "y1 = -5\n",
    "y2 = 5\n",
    "dx = 0.35\n",
    "dy = 0.0\n",
    "p += line ([[x1,y1],[x1,y2]])\n",
    "p += line ([[x1,y2],[x2,y2]])\n",
    "p += line ([[x2,y1],[x2,y2]])\n",
    "p += line ([[x1,y1],[x2,y1]])\n",
    "p += text(\"1\", [(x1)+dx, (y1+y2)/2+dy])\n",
    "p += text(\"2\", [(x1+x2)/2, y2+0.5])\n",
    "p += text(\"3\", [(x2)+dx, (y1+y2)/2+dy])\n",
    "p += text(\"4\", [(x1+x2)/2, y1+0.5])\n",
    "p.show(axes_labels=[\"$x$\",\"$y$\"], aspect_ratio = 1, axes = False)"
   ]
  },
  {
   "cell_type": "markdown",
   "metadata": {},
   "source": [
    "\n",
    "при такой конфигурации при движении контура в направлении перпендикулярном бесконечному проводу эдс индукции Фарадея будет создаваться проводниках 1 и 3 контура которые параллельны бесконечному проводу конвективной компонентой силы Лоренца"
   ]
  },
  {
   "cell_type": "markdown",
   "metadata": {},
   "source": [
    "Векторный потенциал, создаваемый бесконечно длинным проводом будет иметь только лишь одну компоненту\n",
    "\n",
    "$A_y (x) = \\int\\limits_{y_{q1}}^{y_{q2}}{\\frac{I_1}{\\sqrt((x-x_q)^2+(y-y_q)^2)}}dy_q$"
   ]
  },
  {
   "cell_type": "code",
   "execution_count": 2,
   "metadata": {},
   "outputs": [],
   "source": [
    "from IPython.display import display, Math, Latex"
   ]
  },
  {
   "cell_type": "code",
   "execution_count": 3,
   "metadata": {},
   "outputs": [],
   "source": [
    "I_1 = var(\"I_1\")\n",
    "\n",
    "x = var(\"x\")\n",
    "y = var(\"y\")\n",
    "\n",
    "x_q = var(\"x_q\")\n",
    "y_q = var(\"y_q\")\n",
    "\n",
    "y_q1 = var(\"y_q1\")\n",
    "y_q2 = var(\"y_q2\")"
   ]
  },
  {
   "cell_type": "code",
   "execution_count": 4,
   "metadata": {},
   "outputs": [
    {
     "data": {
      "text/plain": [
       "I_1*arcsinh(-(y - y_q)/sqrt(x^2 - 2*x*x_q + x_q^2))"
      ]
     },
     "execution_count": 4,
     "metadata": {},
     "output_type": "execute_result"
    }
   ],
   "source": [
    "forget()\n",
    "assume(x_q-x<0)\n",
    "assume(y>0)\n",
    "assume(y_q2-y_q1>0)\n",
    "\n",
    "integrate(I_1/sqrt((x-x_q)^2+(y-y_q)^2), (y_q))"
   ]
  },
  {
   "cell_type": "code",
   "execution_count": 5,
   "metadata": {},
   "outputs": [
    {
     "data": {
      "text/latex": [
       "$$\\frac{I_{1}}{\\sqrt{x^{2} - 2 \\, x x_{q} + x_{q}^{2}} \\sqrt{\\frac{x^{2} - 2 \\, x x_{q} + x_{q}^{2} + y^{2} - 2 \\, y y_{q} + y_{q}^{2}}{x^{2} - 2 \\, x x_{q} + x_{q}^{2}}}}$$"
      ],
      "text/plain": [
       "<IPython.core.display.Math object>"
      ]
     },
     "metadata": {},
     "output_type": "display_data"
    }
   ],
   "source": [
    "from IPython.display import display, Math, Latex\n",
    "display(Math(latex(integrate(I_1/sqrt((x-x_q)^2+(y-y_q)^2), (y_q)).diff(y_q).full_simplify())))"
   ]
  },
  {
   "cell_type": "code",
   "execution_count": 6,
   "metadata": {},
   "outputs": [
    {
     "data": {
      "text/plain": [
       "-I_1*(arcsinh(-(y - y_q1)/sqrt(x^2 - 2*x*x_q + x_q^2)) - arcsinh(-(y - y_q2)/sqrt(x^2 - 2*x*x_q + x_q^2)))"
      ]
     },
     "execution_count": 6,
     "metadata": {},
     "output_type": "execute_result"
    }
   ],
   "source": [
    "forget()\n",
    "assume(x_q-x>0)\n",
    "assume(y>0)\n",
    "assume(y_q2-y_q1>0)\n",
    "\n",
    "A_y(x)=integrate(I_1/sqrt((x-x_q)^2+(y-y_q)^2), (y_q, y_q1, y_q2))\n",
    "A_y(x)"
   ]
  },
  {
   "cell_type": "code",
   "execution_count": 7,
   "metadata": {},
   "outputs": [
    {
     "data": {
      "text/plain": [
       "-I_1*(arcsinh(-(y - y_q1)/sqrt(x^2 - 2*x*x_q + x_q^2)) - arcsinh(-(y - y_q2)/sqrt(x^2 - 2*x*x_q + x_q^2)))"
      ]
     },
     "execution_count": 7,
     "metadata": {},
     "output_type": "execute_result"
    }
   ],
   "source": [
    "forget()\n",
    "assume(x_q-x<0)\n",
    "assume(y<0)\n",
    "assume(y_q2-y_q1>0)\n",
    "\n",
    "A_y(x)=integrate(I_1/sqrt((x-x_q)^2+(y-y_q)^2), (y_q, y_q1, y_q2))\n",
    "A_y(x)"
   ]
  },
  {
   "cell_type": "code",
   "execution_count": 8,
   "metadata": {},
   "outputs": [
    {
     "data": {
      "text/latex": [
       "$$-I_{1} {\\left(\\operatorname{arsinh}\\left(-\\frac{y - y_{q_{1}}}{\\sqrt{x^{2} - 2 \\, x x_{q} + x_{q}^{2}}}\\right) - \\operatorname{arsinh}\\left(-\\frac{y - y_{q_{2}}}{\\sqrt{x^{2} - 2 \\, x x_{q} + x_{q}^{2}}}\\right)\\right)}$$"
      ],
      "text/plain": [
       "<IPython.core.display.Math object>"
      ]
     },
     "metadata": {},
     "output_type": "display_data"
    }
   ],
   "source": [
    "display(Math(latex(A_y(x))))"
   ]
  },
  {
   "cell_type": "markdown",
   "metadata": {},
   "source": [
    "Ответ Maple\n",
    "\n",
    "$\\displaystyle -I_{1}\\,\\ln  \\left( y_{{q1}}-y+ \\sqrt{{x}^{2}-2\\,xx_{q}+{x_{q}}^{2}+{y}^{2}-2\\,yy_{{q1}}+{y_{{ q1}}}^{2}} \\right) + I_{1}\\,\\ln  \\left( y_{{q2}}-y+ \\sqrt{{x}^{2}-2\\,xx_{q}+{x_{q}}^{2}+{y}^{2}-2\\,yy_{{q2}}+{y_{{q2}}}^{2}} \\right) $\n"
   ]
  },
  {
   "cell_type": "code",
   "execution_count": 9,
   "metadata": {},
   "outputs": [],
   "source": [
    "forget()\n",
    "A_y(x)=-I_1*ln(y_q1-y+sqrt(x^2-2*x*x_q+x_q^2+y^2-2*y*y_q1+y_q1^2))+I_1*ln(y_q2-y+sqrt(x^2-2*x*x_q+x_q^2+y^2-2*y*y_q2+y_q2^2))"
   ]
  },
  {
   "cell_type": "code",
   "execution_count": 10,
   "metadata": {},
   "outputs": [
    {
     "data": {
      "text/latex": [
       "$$-I_{1} \\log\\left(-y + y_{q_{1}} + \\sqrt{x^{2} - 2 \\, x x_{q} + x_{q}^{2} + y^{2} - 2 \\, y y_{q_{1}} + y_{q_{1}}^{2}}\\right) + I_{1} \\log\\left(-y + y_{q_{2}} + \\sqrt{x^{2} - 2 \\, x x_{q} + x_{q}^{2} + y^{2} - 2 \\, y y_{q_{2}} + y_{q_{2}}^{2}}\\right)$$"
      ],
      "text/plain": [
       "<IPython.core.display.Math object>"
      ]
     },
     "metadata": {},
     "output_type": "display_data"
    }
   ],
   "source": [
    "display(Math(latex(A_y(x))))"
   ]
  },
  {
   "cell_type": "code",
   "execution_count": 11,
   "metadata": {},
   "outputs": [
    {
     "data": {
      "text/latex": [
       "$$\\frac{\\frac{y - y_{q_{2}}}{\\sqrt{x^{2} - 2 \\, x x_{q} + x_{q}^{2} + y^{2} - 2 \\, y y_{q_{2}} + y_{q_{2}}^{2}}} - 1}{y - y_{q_{2}} - \\sqrt{x^{2} - 2 \\, x x_{q} + x_{q}^{2} + y^{2} - 2 \\, y y_{q_{2}} + y_{q_{2}}^{2}}}$$"
      ],
      "text/plain": [
       "<IPython.core.display.Math object>"
      ]
     },
     "metadata": {},
     "output_type": "display_data"
    }
   ],
   "source": [
    "display(Math(latex((ln(y_q2-y+sqrt(x^2-2*x*x_q+x_q^2+y^2-2*y*y_q2+y_q2^2))).diff(y_q2))))"
   ]
  },
  {
   "cell_type": "markdown",
   "metadata": {},
   "source": [
    "Выражение для конвективной компоненты силы Лоренца при движении в поле этого потенциала в направлении $\\displaystyle x$\n",
    "\n",
    "$\\displaystyle F\\, := \\,-{\\frac {\\mu_{k}\\,qv_{x}\\,{\\frac {\\rm d}{{\\rm d}x}}A_{y} \\left( x \\right) }{c}}$"
   ]
  },
  {
   "cell_type": "code",
   "execution_count": 12,
   "metadata": {},
   "outputs": [
    {
     "data": {
      "text/plain": [
       "I_1*(x - x_q)/(sqrt(x^2 - 2*x*x_q + x_q^2 + y^2 - 2*y*y_q1 + y_q1^2)*(y - y_q1 - sqrt(x^2 - 2*x*x_q + x_q^2 + y^2 - 2*y*y_q1 + y_q1^2))) - I_1*(x - x_q)/(sqrt(x^2 - 2*x*x_q + x_q^2 + y^2 - 2*y*y_q2 + y_q2^2)*(y - y_q2 - sqrt(x^2 - 2*x*x_q + x_q^2 + y^2 - 2*y*y_q2 + y_q2^2)))"
      ]
     },
     "execution_count": 12,
     "metadata": {},
     "output_type": "execute_result"
    }
   ],
   "source": [
    "A_y(x).diff(x)"
   ]
  },
  {
   "cell_type": "code",
   "execution_count": 13,
   "metadata": {},
   "outputs": [],
   "source": [
    "mu_k = var(\"mu_k\")\n",
    "q    = var(\"q\")\n",
    "v_x  = var(\"v_x\")\n",
    "c    = var(\"c\")"
   ]
  },
  {
   "cell_type": "code",
   "execution_count": 14,
   "metadata": {},
   "outputs": [],
   "source": [
    "F = -mu_k*q*v_x*(diff(A_y(x), x))/c"
   ]
  },
  {
   "cell_type": "code",
   "execution_count": 15,
   "metadata": {},
   "outputs": [
    {
     "data": {
      "text/latex": [
       "$$-\\frac{\\mu_{k} q v_{x} {\\left(\\frac{I_{1} {\\left(x - x_{q}\\right)}}{\\sqrt{x^{2} - 2 \\, x x_{q} + x_{q}^{2} + y^{2} - 2 \\, y y_{q_{1}} + y_{q_{1}}^{2}} {\\left(y - y_{q_{1}} - \\sqrt{x^{2} - 2 \\, x x_{q} + x_{q}^{2} + y^{2} - 2 \\, y y_{q_{1}} + y_{q_{1}}^{2}}\\right)}} - \\frac{I_{1} {\\left(x - x_{q}\\right)}}{\\sqrt{x^{2} - 2 \\, x x_{q} + x_{q}^{2} + y^{2} - 2 \\, y y_{q_{2}} + y_{q_{2}}^{2}} {\\left(y - y_{q_{2}} - \\sqrt{x^{2} - 2 \\, x x_{q} + x_{q}^{2} + y^{2} - 2 \\, y y_{q_{2}} + y_{q_{2}}^{2}}\\right)}}\\right)}}{c}$$"
      ],
      "text/plain": [
       "<IPython.core.display.Math object>"
      ]
     },
     "metadata": {},
     "output_type": "display_data"
    }
   ],
   "source": [
    "display(Math(latex(F)))"
   ]
  },
  {
   "cell_type": "markdown",
   "metadata": {},
   "source": [
    "Чтобы избежать математических трудностей оперирования с бесконечными величинами будем искать решение в виде разности конвективных компонент силы Лоренца в проводах 1 и 3 контура\n",
    "\n",
    "$\\displaystyle F\\, := \\,-{\\frac {\\mu_{k}\\,qv_{x}\\,{\\frac {\\partial }{\\partial x}} \\left( A_{y} \\left( x-d/2 \\right) -A_{y} \\left( x+d/2 \\right)  \\right) }{c}}$"
   ]
  },
  {
   "cell_type": "code",
   "execution_count": 16,
   "metadata": {},
   "outputs": [],
   "source": [
    "d = var(\"d\")\n",
    "l = var(\"l\")"
   ]
  },
  {
   "cell_type": "code",
   "execution_count": 17,
   "metadata": {},
   "outputs": [
    {
     "data": {
      "text/latex": [
       "$$-I_{1} \\log\\left(-y + y_{q_{2}} + \\frac{1}{2} \\, \\sqrt{{\\left(d + 2 \\, x\\right)}^{2} - 4 \\, {\\left(d + 2 \\, x\\right)} x_{q} + 4 \\, x_{q}^{2} + 4 \\, y^{2} - 8 \\, y y_{q_{2}} + 4 \\, y_{q_{2}}^{2}}\\right) + I_{1} \\log\\left(-y + y_{q_{2}} + \\frac{1}{2} \\, \\sqrt{{\\left(d - 2 \\, x\\right)}^{2} + 4 \\, {\\left(d - 2 \\, x\\right)} x_{q} + 4 \\, x_{q}^{2} + 4 \\, y^{2} - 8 \\, y y_{q_{2}} + 4 \\, y_{q_{2}}^{2}}\\right) + I_{1} \\log\\left(-y - y_{q_{2}} + \\frac{1}{2} \\, \\sqrt{{\\left(d + 2 \\, x\\right)}^{2} - 4 \\, {\\left(d + 2 \\, x\\right)} x_{q} + 4 \\, x_{q}^{2} + 4 \\, y^{2} + 8 \\, y y_{q_{2}} + 4 \\, y_{q_{2}}^{2}}\\right) - I_{1} \\log\\left(-y - y_{q_{2}} + \\frac{1}{2} \\, \\sqrt{{\\left(d - 2 \\, x\\right)}^{2} + 4 \\, {\\left(d - 2 \\, x\\right)} x_{q} + 4 \\, x_{q}^{2} + 4 \\, y^{2} + 8 \\, y y_{q_{2}} + 4 \\, y_{q_{2}}^{2}}\\right)$$"
      ],
      "text/plain": [
       "<IPython.core.display.Math object>"
      ]
     },
     "metadata": {},
     "output_type": "display_data"
    }
   ],
   "source": [
    "display(Math(latex((A_y(x-(1/2)*d)-A_y(x+(1/2)*d)).subs(y_q1 == -y_q2))))"
   ]
  },
  {
   "cell_type": "markdown",
   "metadata": {},
   "source": [
    "Берём выражение под логарифмом"
   ]
  },
  {
   "cell_type": "code",
   "execution_count": 18,
   "metadata": {},
   "outputs": [],
   "source": [
    "exp_Delta_A_y(x) = (exp(((A_y(x-(1/2)*d)-A_y(x+(1/2)*d))/I_1).full_simplify())).simplify()"
   ]
  },
  {
   "cell_type": "code",
   "execution_count": 19,
   "metadata": {},
   "outputs": [
    {
     "data": {
      "text/latex": [
       "$$\\frac{{\\left(2 \\, y - 2 \\, y_{q_{1}} - \\sqrt{d^{2} + 4 \\, d x + 4 \\, x^{2} - 4 \\, {\\left(d + 2 \\, x\\right)} x_{q} + 4 \\, x_{q}^{2} + 4 \\, y^{2} - 8 \\, y y_{q_{1}} + 4 \\, y_{q_{1}}^{2}}\\right)} {\\left(2 \\, y - 2 \\, y_{q_{2}} - \\sqrt{d^{2} - 4 \\, d x + 4 \\, x^{2} + 4 \\, {\\left(d - 2 \\, x\\right)} x_{q} + 4 \\, x_{q}^{2} + 4 \\, y^{2} - 8 \\, y y_{q_{2}} + 4 \\, y_{q_{2}}^{2}}\\right)}}{{\\left(2 \\, y - 2 \\, y_{q_{1}} - \\sqrt{d^{2} - 4 \\, d x + 4 \\, x^{2} + 4 \\, {\\left(d - 2 \\, x\\right)} x_{q} + 4 \\, x_{q}^{2} + 4 \\, y^{2} - 8 \\, y y_{q_{1}} + 4 \\, y_{q_{1}}^{2}}\\right)} {\\left(2 \\, y - 2 \\, y_{q_{2}} - \\sqrt{d^{2} + 4 \\, d x + 4 \\, x^{2} - 4 \\, {\\left(d + 2 \\, x\\right)} x_{q} + 4 \\, x_{q}^{2} + 4 \\, y^{2} - 8 \\, y y_{q_{2}} + 4 \\, y_{q_{2}}^{2}}\\right)}}$$"
      ],
      "text/plain": [
       "<IPython.core.display.Math object>"
      ]
     },
     "metadata": {},
     "output_type": "display_data"
    }
   ],
   "source": [
    "display(Math(latex(exp_Delta_A_y(x))))"
   ]
  },
  {
   "cell_type": "markdown",
   "metadata": {},
   "source": [
    "Делаем подстановку"
   ]
  },
  {
   "cell_type": "code",
   "execution_count": 20,
   "metadata": {},
   "outputs": [],
   "source": [
    "exp_Delta_A_y(x) = exp_Delta_A_y(x).subs(y_q1 == -y_q2)"
   ]
  },
  {
   "cell_type": "code",
   "execution_count": 21,
   "metadata": {},
   "outputs": [
    {
     "data": {
      "text/latex": [
       "$$\\frac{{\\left(2 \\, y + 2 \\, y_{q_{2}} - \\sqrt{d^{2} + 4 \\, d x + 4 \\, x^{2} - 4 \\, {\\left(d + 2 \\, x\\right)} x_{q} + 4 \\, x_{q}^{2} + 4 \\, y^{2} + 8 \\, y y_{q_{2}} + 4 \\, y_{q_{2}}^{2}}\\right)} {\\left(2 \\, y - 2 \\, y_{q_{2}} - \\sqrt{d^{2} - 4 \\, d x + 4 \\, x^{2} + 4 \\, {\\left(d - 2 \\, x\\right)} x_{q} + 4 \\, x_{q}^{2} + 4 \\, y^{2} - 8 \\, y y_{q_{2}} + 4 \\, y_{q_{2}}^{2}}\\right)}}{{\\left(2 \\, y + 2 \\, y_{q_{2}} - \\sqrt{d^{2} - 4 \\, d x + 4 \\, x^{2} + 4 \\, {\\left(d - 2 \\, x\\right)} x_{q} + 4 \\, x_{q}^{2} + 4 \\, y^{2} + 8 \\, y y_{q_{2}} + 4 \\, y_{q_{2}}^{2}}\\right)} {\\left(2 \\, y - 2 \\, y_{q_{2}} - \\sqrt{d^{2} + 4 \\, d x + 4 \\, x^{2} - 4 \\, {\\left(d + 2 \\, x\\right)} x_{q} + 4 \\, x_{q}^{2} + 4 \\, y^{2} - 8 \\, y y_{q_{2}} + 4 \\, y_{q_{2}}^{2}}\\right)}}$$"
      ],
      "text/plain": [
       "<IPython.core.display.Math object>"
      ]
     },
     "metadata": {},
     "output_type": "display_data"
    }
   ],
   "source": [
    "display(Math(latex(exp_Delta_A_y(x))))"
   ]
  },
  {
   "cell_type": "markdown",
   "metadata": {},
   "source": [
    "Находим предел"
   ]
  },
  {
   "cell_type": "code",
   "execution_count": 22,
   "metadata": {},
   "outputs": [],
   "source": [
    "lim_exp_Delta_A_y(x) = exp_Delta_A_y(x).limit(y_q2 = Infinity)"
   ]
  },
  {
   "cell_type": "code",
   "execution_count": 23,
   "metadata": {},
   "outputs": [
    {
     "data": {
      "text/latex": [
       "$$\\frac{d^{2} + 4 \\, d x + 4 \\, x^{2} - 4 \\, {\\left(d + 2 \\, x\\right)} x_{q} + 4 \\, x_{q}^{2}}{d^{2} - 4 \\, d x + 4 \\, x^{2} + 4 \\, {\\left(d - 2 \\, x\\right)} x_{q} + 4 \\, x_{q}^{2}}$$"
      ],
      "text/plain": [
       "<IPython.core.display.Math object>"
      ]
     },
     "metadata": {},
     "output_type": "display_data"
    }
   ],
   "source": [
    "display(Math(latex(lim_exp_Delta_A_y(x))))"
   ]
  },
  {
   "cell_type": "markdown",
   "metadata": {},
   "source": [
    "Возвращаем в выражение логарифм"
   ]
  },
  {
   "cell_type": "code",
   "execution_count": 24,
   "metadata": {},
   "outputs": [],
   "source": [
    "Delta_A_y(x) = ln(lim_exp_Delta_A_y(x))"
   ]
  },
  {
   "cell_type": "code",
   "execution_count": 25,
   "metadata": {},
   "outputs": [
    {
     "data": {
      "text/latex": [
       "$$\\log\\left(\\frac{d^{2} + 4 \\, d x + 4 \\, x^{2} - 4 \\, {\\left(d + 2 \\, x\\right)} x_{q} + 4 \\, x_{q}^{2}}{d^{2} - 4 \\, d x + 4 \\, x^{2} + 4 \\, {\\left(d - 2 \\, x\\right)} x_{q} + 4 \\, x_{q}^{2}}\\right)$$"
      ],
      "text/plain": [
       "<IPython.core.display.Math object>"
      ]
     },
     "metadata": {},
     "output_type": "display_data"
    }
   ],
   "source": [
    "display(Math(latex(Delta_A_y(x))))"
   ]
  },
  {
   "cell_type": "markdown",
   "metadata": {},
   "source": [
    "И вычисляем, собственно, разность конвективных компонент силы Лоренца в противоположных проводниках движущегося контура"
   ]
  },
  {
   "cell_type": "code",
   "execution_count": 26,
   "metadata": {},
   "outputs": [],
   "source": [
    "F = -mu_k*q*v_x*l*I_1*(diff(Delta_A_y(x), x))/c\n",
    "F = F.full_simplify().factor()"
   ]
  },
  {
   "cell_type": "code",
   "execution_count": 27,
   "metadata": {},
   "outputs": [
    {
     "data": {
      "text/latex": [
       "$$-\\frac{8 \\, I_{1} d l \\mu_{k} q v_{x}}{c {\\left(d + 2 \\, x - 2 \\, x_{q}\\right)} {\\left(d - 2 \\, x + 2 \\, x_{q}\\right)}}$$"
      ],
      "text/plain": [
       "<IPython.core.display.Math object>"
      ]
     },
     "metadata": {},
     "output_type": "display_data"
    }
   ],
   "source": [
    "display(Math(latex(F)))"
   ]
  },
  {
   "cell_type": "markdown",
   "metadata": {},
   "source": [
    "Теперь рассчитаем индукцию по формулам курса электродинамики как производную магнитного потока по времени\n",
    "\n",
    "Найдём компоненту z магнитного поля в плоскости рамки"
   ]
  },
  {
   "cell_type": "code",
   "execution_count": 28,
   "metadata": {},
   "outputs": [],
   "source": [
    "rotA_z(x) = diff(A_y(x), x)"
   ]
  },
  {
   "cell_type": "code",
   "execution_count": 29,
   "metadata": {},
   "outputs": [],
   "source": [
    "rotA_z(x) = rotA_z(x).subs(y_q1 == -y_q2)"
   ]
  },
  {
   "cell_type": "code",
   "execution_count": 30,
   "metadata": {},
   "outputs": [],
   "source": [
    "lim_rotA_z(x) = rotA_z(x).limit(y_q2 = Infinity)"
   ]
  },
  {
   "cell_type": "markdown",
   "metadata": {},
   "source": [
    "Магнитное поле бесконечного провода с током в точке x"
   ]
  },
  {
   "cell_type": "code",
   "execution_count": 31,
   "metadata": {},
   "outputs": [
    {
     "data": {
      "text/latex": [
       "$$-\\frac{2 \\, I_{1}}{x - x_{q}}$$"
      ],
      "text/plain": [
       "<IPython.core.display.Math object>"
      ]
     },
     "metadata": {},
     "output_type": "display_data"
    }
   ],
   "source": [
    "display(Math(latex(lim_rotA_z(x))))"
   ]
  },
  {
   "cell_type": "markdown",
   "metadata": {},
   "source": [
    "Вычисляем магнитный поток"
   ]
  },
  {
   "cell_type": "code",
   "execution_count": 32,
   "metadata": {},
   "outputs": [],
   "source": [
    "Phi = l*(integrate(lim_rotA_z(x), x))"
   ]
  },
  {
   "cell_type": "code",
   "execution_count": 33,
   "metadata": {},
   "outputs": [
    {
     "data": {
      "text/latex": [
       "$$-2 \\, I_{1} l \\log\\left(x - x_{q}\\right)$$"
      ],
      "text/plain": [
       "<IPython.core.display.Math object>"
      ]
     },
     "metadata": {},
     "output_type": "display_data"
    }
   ],
   "source": [
    "display(Math(latex(Phi)))"
   ]
  },
  {
   "cell_type": "markdown",
   "metadata": {},
   "source": [
    "скорость изменения магнитного потока при движении рамки вдоль оси x"
   ]
  },
  {
   "cell_type": "code",
   "execution_count": 34,
   "metadata": {},
   "outputs": [],
   "source": [
    "dPhi_dt = Phi.diff(x)*v_x"
   ]
  },
  {
   "cell_type": "code",
   "execution_count": 35,
   "metadata": {},
   "outputs": [
    {
     "data": {
      "text/latex": [
       "$$-\\frac{2 \\, I_{1} l v_{x}}{x - x_{q}}$$"
      ],
      "text/plain": [
       "<IPython.core.display.Math object>"
      ]
     },
     "metadata": {},
     "output_type": "display_data"
    }
   ],
   "source": [
    "display(Math(latex(dPhi_dt)))"
   ]
  },
  {
   "cell_type": "markdown",
   "metadata": {},
   "source": [
    "Подставляем пределы интегрирования"
   ]
  },
  {
   "cell_type": "code",
   "execution_count": 36,
   "metadata": {},
   "outputs": [],
   "source": [
    "x_a = var(\"x_a\")\n",
    "mu = var(\"mu\")\n",
    "F = mu*(dPhi_dt.subs(x = x_a-d/2) - dPhi_dt.subs(x = x_a+d/2)).factor()/c"
   ]
  },
  {
   "cell_type": "code",
   "execution_count": 37,
   "metadata": {},
   "outputs": [
    {
     "data": {
      "text/latex": [
       "$$\\frac{8 \\, I_{1} d l \\mu v_{x}}{c {\\left(d + 2 \\, x_{a} - 2 \\, x_{q}\\right)} {\\left(d - 2 \\, x_{a} + 2 \\, x_{q}\\right)}}$$"
      ],
      "text/plain": [
       "<IPython.core.display.Math object>"
      ]
     },
     "metadata": {},
     "output_type": "display_data"
    }
   ],
   "source": [
    "display(Math(latex(F)))"
   ]
  },
  {
   "cell_type": "markdown",
   "metadata": {},
   "source": [
    "И приходим к тому же выражению. Таким образом на этом частном примере показано, что закон электромагнитной индукции Фарадея при движении контура в постоянном магнитном поле определяется конвективной компонентой силы Лоренца"
   ]
  },
  {
   "cell_type": "code",
   "execution_count": null,
   "metadata": {},
   "outputs": [],
   "source": []
  }
 ],
 "metadata": {
  "kernelspec": {
   "display_name": "SageMath 9.0",
   "language": "sage",
   "name": "sagemath"
  },
  "language_info": {
   "codemirror_mode": {
    "name": "ipython",
    "version": 3
   },
   "file_extension": ".py",
   "mimetype": "text/x-python",
   "name": "python",
   "nbconvert_exporter": "python",
   "pygments_lexer": "ipython3",
   "version": "3.7.3"
  }
 },
 "nbformat": 4,
 "nbformat_minor": 2
}
