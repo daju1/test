{
 "cells": [
  {
   "cell_type": "code",
   "execution_count": 1,
   "metadata": {},
   "outputs": [],
   "source": [
    "# %display latex"
   ]
  },
  {
   "cell_type": "code",
   "execution_count": 2,
   "metadata": {},
   "outputs": [],
   "source": [
    "from IPython.display import display, Math, Latex"
   ]
  },
  {
   "cell_type": "code",
   "execution_count": 3,
   "metadata": {},
   "outputs": [],
   "source": [
    "kappa = var(\"kappa\")\n",
    "\n",
    "z = var(\"z\")\n",
    "rh = var(\"rho\")\n",
    "ph = var(\"varphi\")\n",
    "\n",
    "c = var(\"c\")\n",
    "omega = var(\"omega\")\n",
    "\n",
    "h = var(\"h\")\n",
    "a = var(\"a\")\n",
    "\n",
    "m = var(\"m\")\n",
    "m_val = 0"
   ]
  },
  {
   "cell_type": "code",
   "execution_count": 4,
   "metadata": {},
   "outputs": [],
   "source": [
    "exec(preparse(\"bessel_J_d = lambda m, x: \" + str(bessel_J(m,x).diff(x)) +\"\"))"
   ]
  },
  {
   "cell_type": "code",
   "execution_count": 5,
   "metadata": {},
   "outputs": [],
   "source": [
    "n_layers = 1"
   ]
  },
  {
   "cell_type": "code",
   "execution_count": 6,
   "metadata": {},
   "outputs": [],
   "source": [
    "mu = []\n",
    "for i in range(n_layers):\n",
    "    exec(\"mu_\" + str(i) + \"= var('mu_\" + str(i) + \"')\")\n",
    "    exec(\"mu += [mu_\" + str(i) +\"]\")"
   ]
  },
  {
   "cell_type": "code",
   "execution_count": 7,
   "metadata": {},
   "outputs": [],
   "source": [
    "epsilon = []\n",
    "for i in range(n_layers):\n",
    "    exec(\"epsilon_\" + str(i) + \"= var('epsilon_\" + str(i) + \"')\")\n",
    "    exec(\"epsilon += [epsilon_\" + str(i) +\"]\")"
   ]
  },
  {
   "cell_type": "code",
   "execution_count": 8,
   "metadata": {},
   "outputs": [],
   "source": [
    "A_z = []\n",
    "for i in range(n_layers):\n",
    "    exec(\"A_z_\" + str(i) + \"= var('A_z_\" + str(i) + \"')\")\n",
    "    exec(\"A_z += [A_z_\" + str(i) +\"]\")"
   ]
  },
  {
   "cell_type": "code",
   "execution_count": 9,
   "metadata": {},
   "outputs": [],
   "source": [
    "A_r = []\n",
    "for i in range(n_layers):\n",
    "    exec(\"A_r_\" + str(i) + \"= var('A_r_\" + str(i) + \"')\")\n",
    "    exec(\"A_r += [A_r_\" + str(i) +\"]\")"
   ]
  },
  {
   "cell_type": "code",
   "execution_count": 10,
   "metadata": {},
   "outputs": [],
   "source": [
    "A_p = []\n",
    "for i in range(n_layers):\n",
    "    exec(\"A_p_\" + str(i) + \"= var('A_phi_\" + str(i) + \"')\")\n",
    "    exec(\"A_p += [A_p_\" + str(i) +\"]\")"
   ]
  },
  {
   "cell_type": "code",
   "execution_count": 11,
   "metadata": {},
   "outputs": [
    {
     "data": {
      "text/plain": [
       "([A_z_0], [A_r_0], [A_phi_0])"
      ]
     },
     "execution_count": 11,
     "metadata": {},
     "output_type": "execute_result"
    }
   ],
   "source": [
    "A_z,A_r,A_p"
   ]
  },
  {
   "cell_type": "code",
   "execution_count": 12,
   "metadata": {},
   "outputs": [],
   "source": [
    "B_z = []\n",
    "for i in range(n_layers):\n",
    "    exec(\"B_z_\" + str(i) + \"= var('B_z_\" + str(i) + \"')\")\n",
    "    exec(\"B_z += [B_z_\" + str(i) +\"]\")"
   ]
  },
  {
   "cell_type": "code",
   "execution_count": 13,
   "metadata": {},
   "outputs": [],
   "source": [
    "B_r = []\n",
    "for i in range(n_layers):\n",
    "    exec(\"B_r_\" + str(i) + \"= var('B_r_\" + str(i) + \"')\")\n",
    "    exec(\"B_r += [B_r_\" + str(i) +\"]\")"
   ]
  },
  {
   "cell_type": "code",
   "execution_count": 14,
   "metadata": {},
   "outputs": [],
   "source": [
    "B_p = []\n",
    "for i in range(n_layers):\n",
    "    exec(\"B_p_\" + str(i) + \"= var('B_phi_\" + str(i) + \"')\")\n",
    "    exec(\"B_p += [B_p_\" + str(i) +\"]\")"
   ]
  },
  {
   "cell_type": "code",
   "execution_count": 15,
   "metadata": {},
   "outputs": [
    {
     "data": {
      "text/plain": [
       "([B_z_0], [B_r_0], [B_phi_0])"
      ]
     },
     "execution_count": 15,
     "metadata": {},
     "output_type": "execute_result"
    }
   ],
   "source": [
    "B_z,B_r,B_p"
   ]
  },
  {
   "cell_type": "code",
   "execution_count": 16,
   "metadata": {},
   "outputs": [],
   "source": [
    "C_z = []\n",
    "for i in range(n_layers):\n",
    "    exec(\"C_z_\" + str(i) + \"= var('C_z_\" + str(i) + \"')\")\n",
    "    exec(\"C_z += [C_z_\" + str(i) +\"]\")"
   ]
  },
  {
   "cell_type": "code",
   "execution_count": 17,
   "metadata": {},
   "outputs": [],
   "source": [
    "C_r = []\n",
    "for i in range(n_layers):\n",
    "    exec(\"C_r_\" + str(i) + \"= var('C_r_\" + str(i) + \"')\")\n",
    "    exec(\"C_r += [C_r_\" + str(i) +\"]\")"
   ]
  },
  {
   "cell_type": "code",
   "execution_count": 18,
   "metadata": {},
   "outputs": [],
   "source": [
    "C_p = []\n",
    "for i in range(n_layers):\n",
    "    exec(\"C_p_\" + str(i) + \"= var('C_p_\" + str(i) + \"')\")\n",
    "    exec(\"C_p += [C_p_\" + str(i) +\"]\")"
   ]
  },
  {
   "cell_type": "code",
   "execution_count": 19,
   "metadata": {},
   "outputs": [],
   "source": [
    "D_z = []\n",
    "for i in range(n_layers):\n",
    "    exec(\"D_z_\" + str(i) + \"= var('D_z_\" + str(i) + \"')\")\n",
    "    exec(\"D_z += [D_z_\" + str(i) +\"]\")"
   ]
  },
  {
   "cell_type": "code",
   "execution_count": 20,
   "metadata": {},
   "outputs": [],
   "source": [
    "D_r = []\n",
    "for i in range(n_layers):\n",
    "    exec(\"D_r_\" + str(i) + \"= var('D_r_\" + str(i) + \"')\")\n",
    "    exec(\"D_r += [D_r_\" + str(i) +\"]\")"
   ]
  },
  {
   "cell_type": "code",
   "execution_count": 21,
   "metadata": {},
   "outputs": [],
   "source": [
    "D_p = []\n",
    "for i in range(n_layers):\n",
    "    exec(\"D_p_\" + str(i) + \"= var('D_p_\" + str(i) + \"')\")\n",
    "    exec(\"D_p += [D_p_\" + str(i) +\"]\")"
   ]
  },
  {
   "cell_type": "code",
   "execution_count": 22,
   "metadata": {},
   "outputs": [],
   "source": [
    "k = []\n",
    "for i in range(n_layers):\n",
    "    exec(\"k_\" + str(i) + \"= var('k_\" + str(i) + \"')\")\n",
    "    exec(\"k += [k_\" + str(i) +\"]\")"
   ]
  },
  {
   "cell_type": "code",
   "execution_count": 23,
   "metadata": {},
   "outputs": [
    {
     "data": {
      "text/latex": [
       "$$\\left[-k_{0}^{2} + \\frac{\\epsilon_{0} \\mu_{0} \\omega^{2}}{c^{2}} = \\kappa^{2}\\right]$$"
      ],
      "text/plain": [
       "<IPython.core.display.Math object>"
      ]
     },
     "metadata": {},
     "output_type": "display_data"
    }
   ],
   "source": [
    "# исходя из вида дифференциальных уравнений для диэлектрика\n",
    "# записываем соотнощения для волнового вектора в виде уравнений\n",
    "eq_kappa = []\n",
    "for i in range(n_layers):\n",
    "    eq_kappa += [mu[i] * epsilon[i] * omega^2 / c^2 - k[i]^2 == kappa^2]\n",
    "\n",
    "display(Math(latex(eq_kappa)))"
   ]
  },
  {
   "cell_type": "code",
   "execution_count": 24,
   "metadata": {},
   "outputs": [],
   "source": [
    "#E_r = []\n",
    "E_r_r = []\n",
    "E_r_p = []\n",
    "for i in range(n_layers):\n",
    "    exec(\"Erh_r_\" + str(i) + \" = function('E_r_r\" + str(i) + \"', nargs=1)\")\n",
    "    exec(\"Erh_p_\" + str(i) + \" = function('E_r_p\" + str(i) + \"', nargs=1)\")\n",
    "    #exec(\"E_r   += [Erh_r_\" + str(i) +\"(rh)*(C_r[i]*cos(m*ph)+D_r[i]*sin(m*ph))]\")\n",
    "    exec(\"E_r_r += [Erh_r_\" + str(i) +\"(rh)]\")\n",
    "    exec(\"E_r_p += [Erh_p_\" + str(i) +\"(ph)]\")"
   ]
  },
  {
   "cell_type": "code",
   "execution_count": 25,
   "metadata": {},
   "outputs": [],
   "source": [
    "#E_p = []\n",
    "E_p_r = []\n",
    "E_p_p = []\n",
    "for i in range(n_layers):\n",
    "    exec(\"Eph_r_\" + str(i) + \" = function('E_p_r\" + str(i) + \"', nargs=1)\")\n",
    "    exec(\"Eph_p_\" + str(i) + \" = function('E_p_p\" + str(i) + \"', nargs=1)\")\n",
    "    #exec(\"E_p   += [Eph_r_\" + str(i) +\"(rh)*(C_p[i]*cos(m*ph)+D_p[i]*sin(m*ph))]\")\n",
    "    exec(\"E_p_r += [Eph_r_\" + str(i) +\"(rh)]\")\n",
    "    exec(\"E_p_p += [Eph_p_\" + str(i) +\"(ph)]\")"
   ]
  },
  {
   "cell_type": "code",
   "execution_count": 26,
   "metadata": {},
   "outputs": [],
   "source": [
    "E_rh = []\n",
    "for i in range(n_layers):\n",
    "    #E_rh += [lambda rh,ph,z, i=i: bessel_J_d(m,kappa*rh)*(B_r[i]*sin(k[i]*z)+A_r[i]*cos(k[i]*z))*(C_r[i]*cos(m*ph)+D_r[i]*sin(m*ph))]\n",
    "    #E_rh += [lambda rh,ph,z, i=i: E_r_r[i](rh=rh)*(B_r[i]*sin(k[i]*z)+A_r[i]*cos(k[i]*z))*(C_r[i]*cos(m*ph)+D_r[i]*sin(m*ph))]\n",
    "    #E_rh += [lambda rh,ph,z, i=i: E_r_r[i](rh=rh)*(A_r[i]*cos(k[i]*z) + B_r[i]*sin(k[i]*z)) * cos(m*ph)]\n",
    "    E_rh += [lambda rh,ph,z, i=i: bessel_J_d(m,kappa*rh)*(B_r[i]*sin(k[i]*z)+A_r[i]*cos(k[i]*z))*cos(m*ph)]\n"
   ]
  },
  {
   "cell_type": "code",
   "execution_count": 27,
   "metadata": {},
   "outputs": [],
   "source": [
    "E_ph = []\n",
    "for i in range(n_layers):\n",
    "    #E_ph += [lambda rh,ph,z, i=i: bessel_J(m,kappa*rh)*(B_p[i]*sin(k[i]*z)+A_p[i]*cos(k[i]*z))*(C_p[i]*cos(m*ph)+D_p[i]*sin(m*ph))]\n",
    "    E_ph += [lambda rh,ph,z, i=i: bessel_J(m,kappa*rh)*(A_p[i]*cos(k[i]*z) + B_p[i]*sin(k[i]*z)) * sin(m*ph)]"
   ]
  },
  {
   "cell_type": "code",
   "execution_count": 28,
   "metadata": {},
   "outputs": [
    {
     "data": {
      "text/plain": [
       "-1/2*(A_r_0*cos(k_0*z) + B_r_0*sin(k_0*z))*(bessel_J(m + 1, kappa*rho) - bessel_J(m - 1, kappa*rho))*cos(m*varphi)"
      ]
     },
     "execution_count": 28,
     "metadata": {},
     "output_type": "execute_result"
    }
   ],
   "source": [
    "E_rh[0](rh,ph,z)"
   ]
  },
  {
   "cell_type": "code",
   "execution_count": 29,
   "metadata": {},
   "outputs": [
    {
     "data": {
      "text/plain": [
       "(A_phi_0*cos(k_0*z) + B_phi_0*sin(k_0*z))*bessel_J(m, kappa*rho)*sin(m*varphi)"
      ]
     },
     "execution_count": 29,
     "metadata": {},
     "output_type": "execute_result"
    }
   ],
   "source": [
    "E_ph[0](rh,ph,z)"
   ]
  },
  {
   "cell_type": "code",
   "execution_count": 30,
   "metadata": {},
   "outputs": [],
   "source": [
    "if 1 < n_layers:\n",
    "    E_rh[1](rh,ph,z)"
   ]
  },
  {
   "cell_type": "code",
   "execution_count": 31,
   "metadata": {},
   "outputs": [],
   "source": [
    "if 1 < n_layers:\n",
    "    E_ph[1](rh,ph,z)"
   ]
  },
  {
   "cell_type": "code",
   "execution_count": 32,
   "metadata": {},
   "outputs": [],
   "source": [
    "E_z = []\n",
    "for i in range(n_layers):\n",
    "    # E_z += [lambda rh,ph,z, i=i: bessel_J(m,kappa*rh)*(A_z[i]*cos(k[i]*z)+B_z[i]*sin(k[i]*z))*(C_z[i]*cos(m*ph)+D_z[i]*sin(m*ph))]\n",
    "    E_z += [lambda rh,ph,z, i=i: bessel_J(m,kappa*rh)*(A_z[i]*cos(k[i]*z) + B_z[i]*sin(k[i]*z)) * cos(m*ph)]"
   ]
  },
  {
   "cell_type": "code",
   "execution_count": 33,
   "metadata": {},
   "outputs": [
    {
     "data": {
      "text/plain": [
       "(A_z_0*cos(k_0*z) + B_z_0*sin(k_0*z))*bessel_J(m, kappa*rho)*cos(m*varphi)"
      ]
     },
     "execution_count": 33,
     "metadata": {},
     "output_type": "execute_result"
    }
   ],
   "source": [
    "E_z[0](rh,ph,z)"
   ]
  },
  {
   "cell_type": "code",
   "execution_count": 34,
   "metadata": {
    "scrolled": true
   },
   "outputs": [],
   "source": [
    "if 1 < n_layers:\n",
    "    E_z[1](rh,ph,z)"
   ]
  },
  {
   "cell_type": "code",
   "execution_count": 35,
   "metadata": {},
   "outputs": [],
   "source": [
    "# print(rot_rot_E.display())\n",
    "# - (rh^2*d^2(E_rho)/dz^2  - rh^2*d^2(E_z)/drhdz  - rh*d^2(E_phi)/drhdph - d(E_phi)/dph         + d^2(E_rho)/dph^2)/rh^2                                        e_rh\n",
    "# - (rh^2*d^2(E_phi)/drh^2 + rh^2*d^2(E_phi)/dz^2 + rh*d(E_phi)/drh      - rh*d^2(E_rho)/drhdph - rh*d^2(E_z)/dphdz     - E_phi(rh, ph, z) + d(E_rho)/dph)/rh^2 e_ph\n",
    "# + (rh^2*d^2(E_rho)/drhdz - rh^2*d^2(E_z)/drh^2  + rh*d^2(E_phi)/dphdz  + rh*d(E_rho)/dz       - rh*d(E_z)/drh         - d^2(E_z)/dph^2)/rh^2                  e_z"
   ]
  },
  {
   "cell_type": "code",
   "execution_count": 36,
   "metadata": {},
   "outputs": [],
   "source": [
    "# - (rh^2*d^2(E_rho)/dz^2  - rh^2*d^2(E_z)/drhdz  - rh*d^2(E_phi)/drhdph - d(E_phi)/dph         + d^2(E_rho)/dph^2)/rh^2                                        e_rh\n",
    "rot_rot_E_rh = - (\n",
    "       rh^2*E_rh[0](rh,ph,z).diff(z).diff(z)\n",
    "     - rh^2*E_z[0](rh,ph,z).diff(rh).diff(z)\n",
    "     - rh*E_ph[0](rh,ph,z).diff(rh).diff(ph)\n",
    "     - E_ph[0](rh,ph,z).diff(ph)\n",
    "     + E_rh[0](rh,ph,z).diff(ph).diff(ph)\n",
    ")/rh^2                                        \n",
    "# e_rh"
   ]
  },
  {
   "cell_type": "code",
   "execution_count": 37,
   "metadata": {},
   "outputs": [],
   "source": [
    "# - (rh^2*d^2(E_phi)/drh^2 + rh^2*d^2(E_phi)/dz^2 + rh*d(E_phi)/drh      - rh*d^2(E_rho)/drhdph - rh*d^2(E_z)/dphdz     - E_phi(rh, ph, z) + d(E_rho)/dph)/rh^2 e_ph\n",
    "rot_rot_E_ph = - (\n",
    "       rh^2*E_ph[0](rh,ph,z).diff(rh).diff(rh)\n",
    "     + rh^2*E_ph[0](rh,ph,z).diff(z).diff(z)\n",
    "     + rh*E_ph[0](rh,ph,z).diff(rh)\n",
    "     - rh*E_rh[0](rh,ph,z).diff(rh).diff(ph)\n",
    "     - rh*E_z[0](rh,ph,z).diff(ph).diff(z)\n",
    "     - E_ph[0](rh, ph, z)\n",
    "     + E_rh[0](rh,ph,z).diff(ph)\n",
    " )/rh^2\n",
    "# e_ph"
   ]
  },
  {
   "cell_type": "code",
   "execution_count": 38,
   "metadata": {},
   "outputs": [],
   "source": [
    "# + (rh^2*d^2(E_rho)/drhdz - rh^2*d^2(E_z)/drh^2  + rh*d^2(E_phi)/dphdz  + rh*d(E_rho)/dz       - rh*d(E_z)/drh         - d^2(E_z)/dph^2)/rh^2                  e_z\n",
    "rot_rot_E_z = + (\n",
    "      rh^2*E_rh[0](rh,ph,z).diff(rh).diff(z)\n",
    "    - rh^2*E_z[0](rh,ph,z).diff(rh).diff(rh)\n",
    "    + rh*E_ph[0](rh,ph,z).diff(ph).diff(z)\n",
    "    + rh*E_rh[0](rh,ph,z).diff(z)\n",
    "    - rh*E_z[0](rh,ph,z).diff(rh)\n",
    "    - E_z[0](rh,ph,z).diff(ph).diff(ph)\n",
    ")/rh^2\n",
    "# e_z"
   ]
  },
  {
   "cell_type": "code",
   "execution_count": 39,
   "metadata": {},
   "outputs": [
    {
     "data": {
      "text/plain": [
       "-1/2*((A_phi_0*cos(k_0*z) + B_phi_0*sin(k_0*z))*kappa*m*rho*(bessel_J(m + 1, kappa*rho) - bessel_J(m - 1, kappa*rho))*cos(m*varphi) + (B_z_0*k_0*cos(k_0*z) - A_z_0*k_0*sin(k_0*z))*kappa*rho^2*(bessel_J(m + 1, kappa*rho) - bessel_J(m - 1, kappa*rho))*cos(m*varphi) + (A_r_0*cos(k_0*z) + B_r_0*sin(k_0*z))*m^2*(bessel_J(m + 1, kappa*rho) - bessel_J(m - 1, kappa*rho))*cos(m*varphi) + (A_r_0*k_0^2*cos(k_0*z) + B_r_0*k_0^2*sin(k_0*z))*rho^2*(bessel_J(m + 1, kappa*rho) - bessel_J(m - 1, kappa*rho))*cos(m*varphi) - 2*(A_phi_0*cos(k_0*z) + B_phi_0*sin(k_0*z))*m*bessel_J(m, kappa*rho)*cos(m*varphi))/rho^2"
      ]
     },
     "execution_count": 39,
     "metadata": {},
     "output_type": "execute_result"
    }
   ],
   "source": [
    "rot_rot_E_rh"
   ]
  },
  {
   "cell_type": "code",
   "execution_count": 40,
   "metadata": {},
   "outputs": [
    {
     "data": {
      "text/plain": [
       "-1/4*((kappa*(bessel_J(m + 2, kappa*rho) - bessel_J(m, kappa*rho)) + kappa*(bessel_J(m - 2, kappa*rho) - bessel_J(m, kappa*rho)))*(A_phi_0*cos(k_0*z) + B_phi_0*sin(k_0*z))*kappa*rho^2*sin(m*varphi) + (kappa*(bessel_J(m + 2, kappa*rho) - bessel_J(m, kappa*rho)) + kappa*(bessel_J(m - 2, kappa*rho) - bessel_J(m, kappa*rho)))*(A_r_0*cos(k_0*z) + B_r_0*sin(k_0*z))*m*rho*sin(m*varphi) - 2*(A_phi_0*cos(k_0*z) + B_phi_0*sin(k_0*z))*kappa*rho*(bessel_J(m + 1, kappa*rho) - bessel_J(m - 1, kappa*rho))*sin(m*varphi) + 4*(B_z_0*k_0*cos(k_0*z) - A_z_0*k_0*sin(k_0*z))*m*rho*bessel_J(m, kappa*rho)*sin(m*varphi) - 4*(A_phi_0*k_0^2*cos(k_0*z) + B_phi_0*k_0^2*sin(k_0*z))*rho^2*bessel_J(m, kappa*rho)*sin(m*varphi) + 2*(A_r_0*cos(k_0*z) + B_r_0*sin(k_0*z))*m*(bessel_J(m + 1, kappa*rho) - bessel_J(m - 1, kappa*rho))*sin(m*varphi) - 4*(A_phi_0*cos(k_0*z) + B_phi_0*sin(k_0*z))*bessel_J(m, kappa*rho)*sin(m*varphi))/rho^2"
      ]
     },
     "execution_count": 40,
     "metadata": {},
     "output_type": "execute_result"
    }
   ],
   "source": [
    "rot_rot_E_ph"
   ]
  },
  {
   "cell_type": "code",
   "execution_count": 41,
   "metadata": {},
   "outputs": [
    {
     "data": {
      "text/plain": [
       "-1/4*((kappa*(bessel_J(m + 2, kappa*rho) - bessel_J(m, kappa*rho)) + kappa*(bessel_J(m - 2, kappa*rho) - bessel_J(m, kappa*rho)))*(A_z_0*cos(k_0*z) + B_z_0*sin(k_0*z))*kappa*rho^2*cos(m*varphi) - (B_r_0*k_0*cos(k_0*z) - A_r_0*k_0*sin(k_0*z))*(kappa*(bessel_J(m + 2, kappa*rho) - bessel_J(m, kappa*rho)) + kappa*(bessel_J(m - 2, kappa*rho) - bessel_J(m, kappa*rho)))*rho^2*cos(m*varphi) - 2*(A_z_0*cos(k_0*z) + B_z_0*sin(k_0*z))*kappa*rho*(bessel_J(m + 1, kappa*rho) - bessel_J(m - 1, kappa*rho))*cos(m*varphi) - 4*(A_z_0*cos(k_0*z) + B_z_0*sin(k_0*z))*m^2*bessel_J(m, kappa*rho)*cos(m*varphi) - 4*(B_phi_0*k_0*cos(k_0*z) - A_phi_0*k_0*sin(k_0*z))*m*rho*bessel_J(m, kappa*rho)*cos(m*varphi) + 2*(B_r_0*k_0*cos(k_0*z) - A_r_0*k_0*sin(k_0*z))*rho*(bessel_J(m + 1, kappa*rho) - bessel_J(m - 1, kappa*rho))*cos(m*varphi))/rho^2"
      ]
     },
     "execution_count": 41,
     "metadata": {},
     "output_type": "execute_result"
    }
   ],
   "source": [
    "rot_rot_E_z"
   ]
  },
  {
   "cell_type": "markdown",
   "metadata": {},
   "source": [
    "$rot\\,rot\\,\\vec{E} = \\mu\\,\\frac{\\omega^2}{c^2} \\epsilon_{\\alpha\\,\\beta} \\vec{E}$"
   ]
  },
  {
   "cell_type": "code",
   "execution_count": 42,
   "metadata": {},
   "outputs": [],
   "source": [
    "rotE_rh = []\n",
    "for i in range(n_layers):\n",
    "    exec(preparse(\"rotE_rh += [lambda rh,ph,z, i=i: \" + str(E_z[i](rh,ph,z).diff(ph)/rh - E_ph[i](rh,ph,z).diff(z)) +\"]\"))"
   ]
  },
  {
   "cell_type": "code",
   "execution_count": 43,
   "metadata": {},
   "outputs": [],
   "source": [
    "rotE_ph = []\n",
    "for i in range(n_layers):\n",
    "    exec(preparse(\"rotE_ph += [lambda rh,ph,z, i=i: \" + str(E_rh[i](rh,ph,z).diff(z)-E_z[i](rh,ph,z).diff(rh)) +\"]\"))"
   ]
  },
  {
   "cell_type": "code",
   "execution_count": 44,
   "metadata": {},
   "outputs": [],
   "source": [
    "rotE_z = []\n",
    "for i in range(n_layers):\n",
    "    exec(preparse(\"rotE_z += [lambda rh,ph,z, i=i: \" + str(((rh*E_ph[i](rh,ph,z)).diff(rh) - E_rh[i](rh,ph,z).diff(ph))/rh) +\"]\"))"
   ]
  },
  {
   "cell_type": "code",
   "execution_count": 45,
   "metadata": {
    "scrolled": true
   },
   "outputs": [
    {
     "data": {
      "text/plain": [
       "1/2*(A_z_0*cos(k_0*z) + B_z_0*sin(k_0*z))*kappa*(bessel_J(m + 1, kappa*rho) - bessel_J(m - 1, kappa*rho))*cos(m*varphi) - 1/2*(B_r_0*k_0*cos(k_0*z) - A_r_0*k_0*sin(k_0*z))*(bessel_J(m + 1, kappa*rho) - bessel_J(m - 1, kappa*rho))*cos(m*varphi)"
      ]
     },
     "execution_count": 45,
     "metadata": {},
     "output_type": "execute_result"
    }
   ],
   "source": [
    "rotE_ph[0](rh,ph,z)"
   ]
  },
  {
   "cell_type": "code",
   "execution_count": 46,
   "metadata": {},
   "outputs": [],
   "source": [
    "if 1 < n_layers:\n",
    "    rotE_ph[1](rh,ph,z)"
   ]
  },
  {
   "cell_type": "code",
   "execution_count": 47,
   "metadata": {},
   "outputs": [
    {
     "data": {
      "text/plain": [
       "-(B_phi_0*k_0*cos(k_0*z) - A_phi_0*k_0*sin(k_0*z))*bessel_J(m, kappa*rho)*sin(m*varphi) - (A_z_0*cos(k_0*z) + B_z_0*sin(k_0*z))*m*bessel_J(m, kappa*rho)*sin(m*varphi)/rho"
      ]
     },
     "execution_count": 47,
     "metadata": {},
     "output_type": "execute_result"
    }
   ],
   "source": [
    "rotE_rh[0](rh,ph,z)"
   ]
  },
  {
   "cell_type": "code",
   "execution_count": 48,
   "metadata": {},
   "outputs": [
    {
     "data": {
      "text/plain": [
       "-1/2*((A_phi_0*cos(k_0*z) + B_phi_0*sin(k_0*z))*kappa*rho*(bessel_J(m + 1, kappa*rho) - bessel_J(m - 1, kappa*rho))*sin(m*varphi) + (A_r_0*cos(k_0*z) + B_r_0*sin(k_0*z))*m*(bessel_J(m + 1, kappa*rho) - bessel_J(m - 1, kappa*rho))*sin(m*varphi) - 2*(A_phi_0*cos(k_0*z) + B_phi_0*sin(k_0*z))*bessel_J(m, kappa*rho)*sin(m*varphi))/rho"
      ]
     },
     "execution_count": 48,
     "metadata": {},
     "output_type": "execute_result"
    }
   ],
   "source": [
    "rotE_z[0](rh,ph,z)"
   ]
  },
  {
   "cell_type": "code",
   "execution_count": 49,
   "metadata": {},
   "outputs": [],
   "source": [
    "H_rh = []\n",
    "for i in range(n_layers):\n",
    "    H_rh += [lambda rh,ph,z, i=i : rotE_rh[i](rh,ph,z)*c/(I*omega *mu[i])]"
   ]
  },
  {
   "cell_type": "code",
   "execution_count": 50,
   "metadata": {},
   "outputs": [],
   "source": [
    "H_ph = []\n",
    "for i in range(n_layers):\n",
    "    H_ph += [lambda rh,ph,z, i=i : rotE_ph[i](rh,ph,z)*c/(I*omega *mu[i])]"
   ]
  },
  {
   "cell_type": "code",
   "execution_count": 51,
   "metadata": {},
   "outputs": [],
   "source": [
    "H_z = []\n",
    "for i in range(n_layers):\n",
    "    H_z += [lambda rh,ph,z, i=i : rotE_z[i](rh,ph,z)*c/(I*omega *mu[i])]"
   ]
  },
  {
   "cell_type": "code",
   "execution_count": 52,
   "metadata": {},
   "outputs": [
    {
     "data": {
      "text/plain": [
       "0"
      ]
     },
     "execution_count": 52,
     "metadata": {},
     "output_type": "execute_result"
    }
   ],
   "source": [
    "H_rh[0](rh,ph,z).subs(m == 0, B_z[0] == 0)"
   ]
  },
  {
   "cell_type": "code",
   "execution_count": 53,
   "metadata": {},
   "outputs": [],
   "source": [
    "if 1 < n_layers:\n",
    "    H_rh[1](rh,ph,z)"
   ]
  },
  {
   "cell_type": "code",
   "execution_count": 54,
   "metadata": {
    "scrolled": true
   },
   "outputs": [
    {
     "data": {
      "text/latex": [
       "$$-\\frac{i \\, {\\left({\\left(A_{z_{0}} \\cos\\left(k_{0} z\\right) + B_{z_{0}} \\sin\\left(k_{0} z\\right)\\right)} \\kappa {\\left(J_{m + 1}(\\kappa \\rho) - J_{m - 1}(\\kappa \\rho)\\right)} \\cos\\left(m \\varphi\\right) - {\\left(B_{r_{0}} k_{0} \\cos\\left(k_{0} z\\right) - A_{r_{0}} k_{0} \\sin\\left(k_{0} z\\right)\\right)} {\\left(J_{m + 1}(\\kappa \\rho) - J_{m - 1}(\\kappa \\rho)\\right)} \\cos\\left(m \\varphi\\right)\\right)} c}{2 \\, \\mu_{0} \\omega}$$"
      ],
      "text/plain": [
       "<IPython.core.display.Math object>"
      ]
     },
     "metadata": {},
     "output_type": "display_data"
    }
   ],
   "source": [
    "display(Math(latex(H_ph[0](rh,ph,z))))"
   ]
  },
  {
   "cell_type": "code",
   "execution_count": 55,
   "metadata": {},
   "outputs": [
    {
     "data": {
      "text/plain": [
       "-1/2*I*(A_z_0*kappa*(bessel_J(1, kappa*rho) - bessel_J(-1, kappa*rho))*cos(k_0*z) - (B_r_0*k_0*cos(k_0*z) - A_r_0*k_0*sin(k_0*z))*(bessel_J(1, kappa*rho) - bessel_J(-1, kappa*rho)))*c/(mu_0*omega)"
      ]
     },
     "execution_count": 55,
     "metadata": {},
     "output_type": "execute_result"
    }
   ],
   "source": [
    "H_ph[0](rh,ph,z).subs(m == 0, B_z[0] == 0)"
   ]
  },
  {
   "cell_type": "code",
   "execution_count": 56,
   "metadata": {},
   "outputs": [],
   "source": [
    "if 1 < n_layers:\n",
    "    H_ph[1](rh,ph,z)"
   ]
  },
  {
   "cell_type": "code",
   "execution_count": 57,
   "metadata": {},
   "outputs": [
    {
     "data": {
      "text/plain": [
       "1/2*I*((A_phi_0*cos(k_0*z) + B_phi_0*sin(k_0*z))*kappa*rho*(bessel_J(m + 1, kappa*rho) - bessel_J(m - 1, kappa*rho))*sin(m*varphi) + (A_r_0*cos(k_0*z) + B_r_0*sin(k_0*z))*m*(bessel_J(m + 1, kappa*rho) - bessel_J(m - 1, kappa*rho))*sin(m*varphi) - 2*(A_phi_0*cos(k_0*z) + B_phi_0*sin(k_0*z))*bessel_J(m, kappa*rho)*sin(m*varphi))*c/(mu_0*omega*rho)"
      ]
     },
     "execution_count": 57,
     "metadata": {},
     "output_type": "execute_result"
    }
   ],
   "source": [
    "H_z[0](rh,ph,z)"
   ]
  },
  {
   "cell_type": "code",
   "execution_count": 58,
   "metadata": {},
   "outputs": [],
   "source": [
    "if 1 < n_layers:\n",
    "    H_z[1](rh,ph,z)"
   ]
  },
  {
   "cell_type": "code",
   "execution_count": 59,
   "metadata": {},
   "outputs": [
    {
     "data": {
      "text/latex": [
       "$$\\left[-\\frac{1}{2} \\, A_{r_{0}} {\\left(J_{m + 1}(\\kappa \\rho) - J_{m - 1}(\\kappa \\rho)\\right)} \\cos\\left(m \\varphi\\right) = 0.000000000000000, -\\frac{1}{2} \\, {\\left(A_{r_{0}} \\cos\\left(h k_{0}\\right) + B_{r_{0}} \\sin\\left(h k_{0}\\right)\\right)} {\\left(J_{m + 1}(\\kappa \\rho) - J_{m - 1}(\\kappa \\rho)\\right)} \\cos\\left(m \\varphi\\right) = 0.000000000000000\\right]$$"
      ],
      "text/plain": [
       "<IPython.core.display.Math object>"
      ]
     },
     "metadata": {},
     "output_type": "display_data"
    },
    {
     "data": {
      "text/latex": [
       "$$\\left[A_{\\phi_{0}} J_{m}(\\kappa \\rho) \\sin\\left(m \\varphi\\right) = 0.000000000000000, {\\left(A_{\\phi_{0}} \\cos\\left(h k_{0}\\right) + B_{\\phi_{0}} \\sin\\left(h k_{0}\\right)\\right)} J_{m}(\\kappa \\rho) \\sin\\left(m \\varphi\\right) = 0.000000000000000\\right]$$"
      ],
      "text/plain": [
       "<IPython.core.display.Math object>"
      ]
     },
     "metadata": {},
     "output_type": "display_data"
    },
    {
     "data": {
      "text/latex": [
       "$$A_{r_{0}} = 0$$"
      ],
      "text/plain": [
       "<IPython.core.display.Math object>"
      ]
     },
     "metadata": {},
     "output_type": "display_data"
    },
    {
     "data": {
      "text/latex": [
       "$$B_{r_{0}} = -\\frac{A_{r_{0}} \\cos\\left(h k_{0}\\right)}{\\sin\\left(h k_{0}\\right)}$$"
      ],
      "text/plain": [
       "<IPython.core.display.Math object>"
      ]
     },
     "metadata": {},
     "output_type": "display_data"
    },
    {
     "data": {
      "text/latex": [
       "$$A_{\\phi_{0}} = 0$$"
      ],
      "text/plain": [
       "<IPython.core.display.Math object>"
      ]
     },
     "metadata": {},
     "output_type": "display_data"
    },
    {
     "data": {
      "text/latex": [
       "$$B_{\\phi_{0}} = -\\frac{A_{\\phi_{0}} \\cos\\left(h k_{0}\\right)}{\\sin\\left(h k_{0}\\right)}$$"
      ],
      "text/plain": [
       "<IPython.core.display.Math object>"
      ]
     },
     "metadata": {},
     "output_type": "display_data"
    },
    {
     "data": {
      "text/latex": [
       "$$\\left[A_{r_{0}} = 0, A_{\\phi_{0}} = 0\\right]$$"
      ],
      "text/plain": [
       "<IPython.core.display.Math object>"
      ]
     },
     "metadata": {},
     "output_type": "display_data"
    }
   ],
   "source": [
    "# граничные условия\n",
    "# тангенциальная компонента электрического поля\n",
    "eq_Erh_superconductor_boundary_conditions = []\n",
    "eq_Erh_superconductor_boundary_conditions += [E_rh[0](rh,ph,0) == 0.0]\n",
    "eq_Erh_superconductor_boundary_conditions += [E_rh[n_layers - 1](rh,ph,h*n_layers) == 0.0]\n",
    "\n",
    "eq_Eph_superconductor_boundary_conditions = []\n",
    "eq_Eph_superconductor_boundary_conditions += [E_ph[0](rh,ph,0) == 0.0]\n",
    "eq_Eph_superconductor_boundary_conditions += [E_ph[n_layers - 1](rh,ph,h*n_layers) == 0.0]\n",
    "\n",
    "display(Math(latex(eq_Erh_superconductor_boundary_conditions)))\n",
    "display(Math(latex(eq_Eph_superconductor_boundary_conditions)))\n",
    "\n",
    "boundary_Erh_subs_begin = solve(eq_Erh_superconductor_boundary_conditions[0], A_r[0])[0]\n",
    "boundary_Erh_subs_end = solve(eq_Erh_superconductor_boundary_conditions[1], B_r[n_layers - 1])[0]\n",
    "\n",
    "boundary_Eph_subs_begin = solve(eq_Eph_superconductor_boundary_conditions[0], A_p[0])[0]\n",
    "boundary_Eph_subs_end = solve(eq_Eph_superconductor_boundary_conditions[1], B_p[n_layers - 1])[0]\n",
    "\n",
    "display(Math(latex(boundary_Erh_subs_begin)))\n",
    "display(Math(latex(boundary_Erh_subs_end)))\n",
    "\n",
    "display(Math(latex(boundary_Eph_subs_begin)))\n",
    "display(Math(latex(boundary_Eph_subs_end)))\n",
    "\n",
    "boundary_conductor = [boundary_Erh_subs_begin]#, boundary_Erh_subs_end]\n",
    "boundary_conductor += [boundary_Eph_subs_begin]#, boundary_Eph_subs_end]\n",
    "display(Math(latex(boundary_conductor)))"
   ]
  },
  {
   "cell_type": "code",
   "execution_count": 68,
   "metadata": {},
   "outputs": [],
   "source": [
    "# exclude_vars = [A_r[0], A_r[n_layers - 1], A_p[0], A_p[n_layers - 1]]\n",
    "# exclude_vars = []\n",
    "\n",
    "exclude_vars = [A_r[0], A_p[0]]"
   ]
  },
  {
   "cell_type": "code",
   "execution_count": 69,
   "metadata": {},
   "outputs": [
    {
     "data": {
      "text/plain": [
       "(A_z_0, B_phi_0, B_r_0, B_z_0, k_0, kappa, m, rho, varphi, z)"
      ]
     },
     "execution_count": 69,
     "metadata": {},
     "output_type": "execute_result"
    }
   ],
   "source": [
    "rot_rot_E_rh.subs(boundary_conductor).variables()"
   ]
  },
  {
   "cell_type": "code",
   "execution_count": 70,
   "metadata": {},
   "outputs": [
    {
     "data": {
      "text/plain": [
       "(A_phi_0, A_r_0, A_z_0, B_phi_0, B_r_0, B_z_0, k_0, kappa, m, rho, varphi, z)"
      ]
     },
     "execution_count": 70,
     "metadata": {},
     "output_type": "execute_result"
    }
   ],
   "source": [
    "rot_rot_E_rh.variables()"
   ]
  },
  {
   "cell_type": "markdown",
   "metadata": {},
   "source": [
    "$rot\\,rot\\,\\vec{E} = \\mu\\,\\frac{\\omega^2}{c^2} \\epsilon_{\\alpha\\,\\beta} \\vec{E}$"
   ]
  },
  {
   "cell_type": "code",
   "execution_count": 71,
   "metadata": {},
   "outputs": [],
   "source": [
    "eq_rot_rot_E_rh = rot_rot_E_rh.subs(boundary_conductor) == mu[0]*epsilon[0]*omega^2/c^2*E_rh[0](rh,ph,z).subs(boundary_conductor)"
   ]
  },
  {
   "cell_type": "code",
   "execution_count": 72,
   "metadata": {},
   "outputs": [],
   "source": [
    "eq_rot_rot_E_ph = rot_rot_E_ph.subs(boundary_conductor) == mu[0]*epsilon[0]*omega^2/c^2*E_ph[0](rh,ph,z).subs(boundary_conductor)"
   ]
  },
  {
   "cell_type": "code",
   "execution_count": 73,
   "metadata": {},
   "outputs": [],
   "source": [
    "eq_rot_rot_E_z = rot_rot_E_z.subs(boundary_conductor) == mu[0]*epsilon[0]*omega^2/c^2*E_z[0](rh,ph,z).subs(boundary_conductor)"
   ]
  },
  {
   "cell_type": "code",
   "execution_count": 79,
   "metadata": {},
   "outputs": [],
   "source": [
    "def rot_rot_E_solve(M_rotH, vars, eq_kappa, k):\n",
    "    # print(\"M_rotH =\")\n",
    "    # display(Math(latex(M_rotH)))\n",
    "\n",
    "    if (M_rotH.ncols() != len(vars)):\n",
    "        return\n",
    "\n",
    "    n = M_rotH.nrows()\n",
    "\n",
    "    xx = vector(SR, vars)\n",
    "    yy = zero_vector(SR, n)\n",
    "    eqns = [(M_rotH*xx)[index] == yy[index] for index in range(n)]\n",
    "    # display(Math(latex(eqns)))\n",
    "    res = []\n",
    "\n",
    "    for index in range(n):\n",
    "        row_M = M_rotH[index]\n",
    "        # print(\"row_M =\")\n",
    "        # display(Math(latex(row_M)))\n",
    "        eq = eqns[index].full_simplify()\n",
    "        #print (\"eq =\")\n",
    "        #display(Math(latex(eq)))\n",
    "        #print (\"\")\n",
    "        \n",
    "        if 0 == eq.lhs() and 0 == eq.rhs():\n",
    "            continue\n",
    "        \n",
    "        for var in vars:\n",
    "            # print (\"var =\")\n",
    "            # display(Math(latex(var)))\n",
    "            sol = solve(eq, var)\n",
    "            if len(sol) > 0:\n",
    "                print(\"sol=\")\n",
    "                display(Math(latex(sol[0].lhs().factor())))\n",
    "                display(Math(latex(sol[0].rhs().factor())))\n",
    "\n",
    "        continue\n",
    "\n",
    "        solved = False\n",
    "\n",
    "        eq2 = (eq / cos(k * z)).full_simplify().expand()\n",
    "        # print (\"eq2 =\")\n",
    "        # display(Math(latex(eq2)))\n",
    "\n",
    "        tg_k_z_coeff = eq2.lhs().coefficient(sin(k * z) / cos(k * z))\n",
    "\n",
    "        if 0 == tg_k_z_coeff:\n",
    "            continue\n",
    "\n",
    "        print (\"tg_k_z_coeff =\")\n",
    "        display(Math(latex(tg_k_z_coeff)))\n",
    "        \n",
    "\n",
    "\n",
    "        eq_tg_k_z_coeff = tg_k_z_coeff == 0\n",
    "        for var in vars:\n",
    "            # print (\"var =\")\n",
    "            # display(Math(latex(var)))\n",
    "            sol_tg_k_z_coeff = solve(eq_tg_k_z_coeff, var)\n",
    "            if len(sol_tg_k_z_coeff) > 0:\n",
    "                #print(\"sol_tg_k_z_coeff=\")\n",
    "                #display(Math(latex(sol_tg_k_z_coeff)))\n",
    "\n",
    "                res += sol_tg_k_z_coeff           \n",
    "\n",
    "                eq4 = eq.subs(sol_tg_k_z_coeff)\n",
    "                # print (\"eq4 =\")\n",
    "                # display(Math(latex(eq4)))\n",
    "\n",
    "                eq4 = eq4.full_simplify()\n",
    "\n",
    "                if 0 == eq4.lhs() and 0 == eq4.rhs():\n",
    "                    solved = True\n",
    "                    continue\n",
    "\n",
    "                #print (\"eq4 =\")\n",
    "                #display(Math(latex(eq4)))\n",
    "                for var in vars:\n",
    "                    if var in eq4.variables():\n",
    "                        # print (\"var =\")\n",
    "                        # display(Math(latex(var)))\n",
    "                        # print (\"\")\n",
    "                        sol = solve(eq4, var)\n",
    "\n",
    "                        # print (\"\")\n",
    "                        if len(sol)>0:\n",
    "                            if z not in sol[0].rhs().variables():\n",
    "                                #print(\"sol=\")\n",
    "                                #display(Math(latex(sol)))\n",
    "                                res += sol\n",
    "                                solved = True\n",
    "\n",
    "        if not solved:\n",
    "            print (\"unsolved eq =\")\n",
    "            print(eq)\n",
    "    # print (\"res=\", res)\n",
    "    return res"
   ]
  },
  {
   "cell_type": "code",
   "execution_count": 80,
   "metadata": {},
   "outputs": [],
   "source": [
    "def GenerateMatrix(equsys, vars):\n",
    "    A=matrix(SR, [[(equ.lhs() - equ.rhs()).coefficient(v) for v in vars] for equ in equsys])\n",
    "    return A"
   ]
  },
  {
   "cell_type": "code",
   "execution_count": 81,
   "metadata": {},
   "outputs": [
    {
     "data": {
      "text/latex": [
       "$$\\left[A_{z_{0}}, B_{r_{0}}, B_{\\phi_{0}}, B_{z_{0}}\\right]$$"
      ],
      "text/plain": [
       "<IPython.core.display.Math object>"
      ]
     },
     "metadata": {},
     "output_type": "display_data"
    },
    {
     "name": "stdout",
     "output_type": "stream",
     "text": [
      "M_rot_rot_E.nrows = 3\n",
      "M_rot_rot_E.ncols = 4\n",
      "M_rot_rot_E.rank = 3\n",
      "sol=\n"
     ]
    },
    {
     "data": {
      "text/latex": [
       "$$A_{z_{0}}$$"
      ],
      "text/plain": [
       "<IPython.core.display.Math object>"
      ]
     },
     "metadata": {},
     "output_type": "display_data"
    },
    {
     "data": {
      "text/latex": [
       "$$\\frac{B_{z_{0}} k_{0} \\kappa \\rho^{2} J_{m + 1}(\\kappa \\rho) \\cos\\left(k_{0} z\\right) - B_{z_{0}} k_{0} \\kappa \\rho^{2} J_{m - 1}(\\kappa \\rho) \\cos\\left(k_{0} z\\right) - B_{r_{0}} \\kappa^{2} \\rho^{2} J_{m + 1}(\\kappa \\rho) \\sin\\left(k_{0} z\\right) + B_{r_{0}} \\kappa^{2} \\rho^{2} J_{m - 1}(\\kappa \\rho) \\sin\\left(k_{0} z\\right) + B_{\\phi_{0}} \\kappa m \\rho J_{m + 1}(\\kappa \\rho) \\sin\\left(k_{0} z\\right) - B_{\\phi_{0}} \\kappa m \\rho J_{m - 1}(\\kappa \\rho) \\sin\\left(k_{0} z\\right) + B_{r_{0}} m^{2} J_{m + 1}(\\kappa \\rho) \\sin\\left(k_{0} z\\right) - B_{r_{0}} m^{2} J_{m - 1}(\\kappa \\rho) \\sin\\left(k_{0} z\\right) - 2 \\, B_{\\phi_{0}} m J_{m}(\\kappa \\rho) \\sin\\left(k_{0} z\\right)}{k_{0} \\kappa \\rho^{2} {\\left(J_{m + 1}(\\kappa \\rho) - J_{m - 1}(\\kappa \\rho)\\right)} \\sin\\left(k_{0} z\\right)}$$"
      ],
      "text/plain": [
       "<IPython.core.display.Math object>"
      ]
     },
     "metadata": {},
     "output_type": "display_data"
    },
    {
     "name": "stdout",
     "output_type": "stream",
     "text": [
      "sol=\n"
     ]
    },
    {
     "data": {
      "text/latex": [
       "$$B_{r_{0}}$$"
      ],
      "text/plain": [
       "<IPython.core.display.Math object>"
      ]
     },
     "metadata": {},
     "output_type": "display_data"
    },
    {
     "data": {
      "text/latex": [
       "$$\\frac{B_{z_{0}} k_{0} \\kappa \\rho^{2} J_{m + 1}(\\kappa \\rho) \\cos\\left(k_{0} z\\right) - B_{z_{0}} k_{0} \\kappa \\rho^{2} J_{m - 1}(\\kappa \\rho) \\cos\\left(k_{0} z\\right) - A_{z_{0}} k_{0} \\kappa \\rho^{2} J_{m + 1}(\\kappa \\rho) \\sin\\left(k_{0} z\\right) + A_{z_{0}} k_{0} \\kappa \\rho^{2} J_{m - 1}(\\kappa \\rho) \\sin\\left(k_{0} z\\right) + B_{\\phi_{0}} \\kappa m \\rho J_{m + 1}(\\kappa \\rho) \\sin\\left(k_{0} z\\right) - B_{\\phi_{0}} \\kappa m \\rho J_{m - 1}(\\kappa \\rho) \\sin\\left(k_{0} z\\right) - 2 \\, B_{\\phi_{0}} m J_{m}(\\kappa \\rho) \\sin\\left(k_{0} z\\right)}{{\\left(\\kappa \\rho + m\\right)} {\\left(\\kappa \\rho - m\\right)} {\\left(J_{m + 1}(\\kappa \\rho) - J_{m - 1}(\\kappa \\rho)\\right)} \\sin\\left(k_{0} z\\right)}$$"
      ],
      "text/plain": [
       "<IPython.core.display.Math object>"
      ]
     },
     "metadata": {},
     "output_type": "display_data"
    },
    {
     "name": "stdout",
     "output_type": "stream",
     "text": [
      "sol=\n"
     ]
    },
    {
     "data": {
      "text/latex": [
       "$$B_{\\phi_{0}}$$"
      ],
      "text/plain": [
       "<IPython.core.display.Math object>"
      ]
     },
     "metadata": {},
     "output_type": "display_data"
    },
    {
     "data": {
      "text/latex": [
       "$$-\\frac{{\\left(B_{z_{0}} k_{0} \\kappa \\rho^{2} \\cos\\left(k_{0} z\\right) - A_{z_{0}} k_{0} \\kappa \\rho^{2} \\sin\\left(k_{0} z\\right) - B_{r_{0}} \\kappa^{2} \\rho^{2} \\sin\\left(k_{0} z\\right) + B_{r_{0}} m^{2} \\sin\\left(k_{0} z\\right)\\right)} {\\left(J_{m + 1}(\\kappa \\rho) - J_{m - 1}(\\kappa \\rho)\\right)}}{{\\left(\\kappa \\rho J_{m + 1}(\\kappa \\rho) - \\kappa \\rho J_{m - 1}(\\kappa \\rho) - 2 \\, J_{m}(\\kappa \\rho)\\right)} m \\sin\\left(k_{0} z\\right)}$$"
      ],
      "text/plain": [
       "<IPython.core.display.Math object>"
      ]
     },
     "metadata": {},
     "output_type": "display_data"
    },
    {
     "name": "stdout",
     "output_type": "stream",
     "text": [
      "sol=\n"
     ]
    },
    {
     "data": {
      "text/latex": [
       "$$B_{z_{0}}$$"
      ],
      "text/plain": [
       "<IPython.core.display.Math object>"
      ]
     },
     "metadata": {},
     "output_type": "display_data"
    },
    {
     "data": {
      "text/latex": [
       "$$\\frac{{\\left(A_{z_{0}} k_{0} \\kappa \\rho^{2} J_{m + 1}(\\kappa \\rho) + B_{r_{0}} \\kappa^{2} \\rho^{2} J_{m + 1}(\\kappa \\rho) - A_{z_{0}} k_{0} \\kappa \\rho^{2} J_{m - 1}(\\kappa \\rho) - B_{r_{0}} \\kappa^{2} \\rho^{2} J_{m - 1}(\\kappa \\rho) - B_{\\phi_{0}} \\kappa m \\rho J_{m + 1}(\\kappa \\rho) + B_{\\phi_{0}} \\kappa m \\rho J_{m - 1}(\\kappa \\rho) - B_{r_{0}} m^{2} J_{m + 1}(\\kappa \\rho) + B_{r_{0}} m^{2} J_{m - 1}(\\kappa \\rho) + 2 \\, B_{\\phi_{0}} m J_{m}(\\kappa \\rho)\\right)} \\sin\\left(k_{0} z\\right)}{k_{0} \\kappa \\rho^{2} {\\left(J_{m + 1}(\\kappa \\rho) - J_{m - 1}(\\kappa \\rho)\\right)} \\cos\\left(k_{0} z\\right)}$$"
      ],
      "text/plain": [
       "<IPython.core.display.Math object>"
      ]
     },
     "metadata": {},
     "output_type": "display_data"
    },
    {
     "name": "stdout",
     "output_type": "stream",
     "text": [
      "sol=\n"
     ]
    },
    {
     "data": {
      "text/latex": [
       "$$A_{z_{0}}$$"
      ],
      "text/plain": [
       "<IPython.core.display.Math object>"
      ]
     },
     "metadata": {},
     "output_type": "display_data"
    },
    {
     "data": {
      "text/latex": [
       "$$\\frac{B_{\\phi_{0}} \\kappa^{2} \\rho^{2} J_{m + 2}(\\kappa \\rho) \\sin\\left(k_{0} z\\right) + B_{\\phi_{0}} \\kappa^{2} \\rho^{2} J_{m - 2}(\\kappa \\rho) \\sin\\left(k_{0} z\\right) + 2 \\, B_{\\phi_{0}} \\kappa^{2} \\rho^{2} J_{m}(\\kappa \\rho) \\sin\\left(k_{0} z\\right) + 4 \\, B_{z_{0}} k_{0} m \\rho J_{m}(\\kappa \\rho) \\cos\\left(k_{0} z\\right) + B_{r_{0}} \\kappa m \\rho J_{m + 2}(\\kappa \\rho) \\sin\\left(k_{0} z\\right) + B_{r_{0}} \\kappa m \\rho J_{m - 2}(\\kappa \\rho) \\sin\\left(k_{0} z\\right) - 2 \\, B_{r_{0}} \\kappa m \\rho J_{m}(\\kappa \\rho) \\sin\\left(k_{0} z\\right) - 2 \\, B_{\\phi_{0}} \\kappa \\rho J_{m + 1}(\\kappa \\rho) \\sin\\left(k_{0} z\\right) + 2 \\, B_{\\phi_{0}} \\kappa \\rho J_{m - 1}(\\kappa \\rho) \\sin\\left(k_{0} z\\right) + 2 \\, B_{r_{0}} m J_{m + 1}(\\kappa \\rho) \\sin\\left(k_{0} z\\right) - 2 \\, B_{r_{0}} m J_{m - 1}(\\kappa \\rho) \\sin\\left(k_{0} z\\right) - 4 \\, B_{\\phi_{0}} J_{m}(\\kappa \\rho) \\sin\\left(k_{0} z\\right)}{4 \\, k_{0} m \\rho J_{m}(\\kappa \\rho) \\sin\\left(k_{0} z\\right)}$$"
      ],
      "text/plain": [
       "<IPython.core.display.Math object>"
      ]
     },
     "metadata": {},
     "output_type": "display_data"
    },
    {
     "name": "stdout",
     "output_type": "stream",
     "text": [
      "sol=\n"
     ]
    },
    {
     "data": {
      "text/latex": [
       "$$B_{r_{0}}$$"
      ],
      "text/plain": [
       "<IPython.core.display.Math object>"
      ]
     },
     "metadata": {},
     "output_type": "display_data"
    },
    {
     "data": {
      "text/latex": [
       "$$-\\frac{B_{\\phi_{0}} \\kappa^{2} \\rho^{2} J_{m + 2}(\\kappa \\rho) \\sin\\left(k_{0} z\\right) + B_{\\phi_{0}} \\kappa^{2} \\rho^{2} J_{m - 2}(\\kappa \\rho) \\sin\\left(k_{0} z\\right) + 2 \\, B_{\\phi_{0}} \\kappa^{2} \\rho^{2} J_{m}(\\kappa \\rho) \\sin\\left(k_{0} z\\right) + 4 \\, B_{z_{0}} k_{0} m \\rho J_{m}(\\kappa \\rho) \\cos\\left(k_{0} z\\right) - 4 \\, A_{z_{0}} k_{0} m \\rho J_{m}(\\kappa \\rho) \\sin\\left(k_{0} z\\right) - 2 \\, B_{\\phi_{0}} \\kappa \\rho J_{m + 1}(\\kappa \\rho) \\sin\\left(k_{0} z\\right) + 2 \\, B_{\\phi_{0}} \\kappa \\rho J_{m - 1}(\\kappa \\rho) \\sin\\left(k_{0} z\\right) - 4 \\, B_{\\phi_{0}} J_{m}(\\kappa \\rho) \\sin\\left(k_{0} z\\right)}{{\\left(\\kappa \\rho J_{m + 2}(\\kappa \\rho) + \\kappa \\rho J_{m - 2}(\\kappa \\rho) - 2 \\, \\kappa \\rho J_{m}(\\kappa \\rho) + 2 \\, J_{m + 1}(\\kappa \\rho) - 2 \\, J_{m - 1}(\\kappa \\rho)\\right)} m \\sin\\left(k_{0} z\\right)}$$"
      ],
      "text/plain": [
       "<IPython.core.display.Math object>"
      ]
     },
     "metadata": {},
     "output_type": "display_data"
    },
    {
     "name": "stdout",
     "output_type": "stream",
     "text": [
      "sol=\n"
     ]
    },
    {
     "data": {
      "text/latex": [
       "$$B_{\\phi_{0}}$$"
      ],
      "text/plain": [
       "<IPython.core.display.Math object>"
      ]
     },
     "metadata": {},
     "output_type": "display_data"
    },
    {
     "data": {
      "text/latex": [
       "$$-\\frac{{\\left(4 \\, B_{z_{0}} k_{0} \\rho J_{m}(\\kappa \\rho) \\cos\\left(k_{0} z\\right) + B_{r_{0}} \\kappa \\rho J_{m + 2}(\\kappa \\rho) \\sin\\left(k_{0} z\\right) + B_{r_{0}} \\kappa \\rho J_{m - 2}(\\kappa \\rho) \\sin\\left(k_{0} z\\right) - 4 \\, A_{z_{0}} k_{0} \\rho J_{m}(\\kappa \\rho) \\sin\\left(k_{0} z\\right) - 2 \\, B_{r_{0}} \\kappa \\rho J_{m}(\\kappa \\rho) \\sin\\left(k_{0} z\\right) + 2 \\, B_{r_{0}} J_{m + 1}(\\kappa \\rho) \\sin\\left(k_{0} z\\right) - 2 \\, B_{r_{0}} J_{m - 1}(\\kappa \\rho) \\sin\\left(k_{0} z\\right)\\right)} m}{{\\left(\\kappa^{2} \\rho^{2} J_{m + 2}(\\kappa \\rho) + \\kappa^{2} \\rho^{2} J_{m - 2}(\\kappa \\rho) + 2 \\, \\kappa^{2} \\rho^{2} J_{m}(\\kappa \\rho) - 2 \\, \\kappa \\rho J_{m + 1}(\\kappa \\rho) + 2 \\, \\kappa \\rho J_{m - 1}(\\kappa \\rho) - 4 \\, J_{m}(\\kappa \\rho)\\right)} \\sin\\left(k_{0} z\\right)}$$"
      ],
      "text/plain": [
       "<IPython.core.display.Math object>"
      ]
     },
     "metadata": {},
     "output_type": "display_data"
    },
    {
     "name": "stdout",
     "output_type": "stream",
     "text": [
      "sol=\n"
     ]
    },
    {
     "data": {
      "text/latex": [
       "$$B_{z_{0}}$$"
      ],
      "text/plain": [
       "<IPython.core.display.Math object>"
      ]
     },
     "metadata": {},
     "output_type": "display_data"
    },
    {
     "data": {
      "text/latex": [
       "$$-\\frac{{\\left(B_{\\phi_{0}} \\kappa^{2} \\rho^{2} J_{m + 2}(\\kappa \\rho) + B_{\\phi_{0}} \\kappa^{2} \\rho^{2} J_{m - 2}(\\kappa \\rho) + 2 \\, B_{\\phi_{0}} \\kappa^{2} \\rho^{2} J_{m}(\\kappa \\rho) + B_{r_{0}} \\kappa m \\rho J_{m + 2}(\\kappa \\rho) + B_{r_{0}} \\kappa m \\rho J_{m - 2}(\\kappa \\rho) - 4 \\, A_{z_{0}} k_{0} m \\rho J_{m}(\\kappa \\rho) - 2 \\, B_{r_{0}} \\kappa m \\rho J_{m}(\\kappa \\rho) - 2 \\, B_{\\phi_{0}} \\kappa \\rho J_{m + 1}(\\kappa \\rho) + 2 \\, B_{\\phi_{0}} \\kappa \\rho J_{m - 1}(\\kappa \\rho) + 2 \\, B_{r_{0}} m J_{m + 1}(\\kappa \\rho) - 2 \\, B_{r_{0}} m J_{m - 1}(\\kappa \\rho) - 4 \\, B_{\\phi_{0}} J_{m}(\\kappa \\rho)\\right)} \\sin\\left(k_{0} z\\right)}{4 \\, k_{0} m \\rho J_{m}(\\kappa \\rho) \\cos\\left(k_{0} z\\right)}$$"
      ],
      "text/plain": [
       "<IPython.core.display.Math object>"
      ]
     },
     "metadata": {},
     "output_type": "display_data"
    },
    {
     "name": "stdout",
     "output_type": "stream",
     "text": [
      "sol=\n"
     ]
    },
    {
     "data": {
      "text/latex": [
       "$$A_{z_{0}}$$"
      ],
      "text/plain": [
       "<IPython.core.display.Math object>"
      ]
     },
     "metadata": {},
     "output_type": "display_data"
    },
    {
     "data": {
      "text/latex": [
       "$$\\frac{B_{r_{0}} k_{0} \\kappa \\rho^{2} J_{m + 2}(\\kappa \\rho) \\cos\\left(k_{0} z\\right) + B_{r_{0}} k_{0} \\kappa \\rho^{2} J_{m - 2}(\\kappa \\rho) \\cos\\left(k_{0} z\\right) - 2 \\, B_{r_{0}} k_{0} \\kappa \\rho^{2} J_{m}(\\kappa \\rho) \\cos\\left(k_{0} z\\right) - B_{z_{0}} \\kappa^{2} \\rho^{2} J_{m + 2}(\\kappa \\rho) \\sin\\left(k_{0} z\\right) - B_{z_{0}} \\kappa^{2} \\rho^{2} J_{m - 2}(\\kappa \\rho) \\sin\\left(k_{0} z\\right) - 4 \\, B_{z_{0}} k_{0}^{2} \\rho^{2} J_{m}(\\kappa \\rho) \\sin\\left(k_{0} z\\right) - 2 \\, B_{z_{0}} \\kappa^{2} \\rho^{2} J_{m}(\\kappa \\rho) \\sin\\left(k_{0} z\\right) + 4 \\, B_{\\phi_{0}} k_{0} m \\rho J_{m}(\\kappa \\rho) \\cos\\left(k_{0} z\\right) - 2 \\, B_{r_{0}} k_{0} \\rho J_{m + 1}(\\kappa \\rho) \\cos\\left(k_{0} z\\right) + 2 \\, B_{r_{0}} k_{0} \\rho J_{m - 1}(\\kappa \\rho) \\cos\\left(k_{0} z\\right) + 2 \\, B_{z_{0}} \\kappa \\rho J_{m + 1}(\\kappa \\rho) \\sin\\left(k_{0} z\\right) - 2 \\, B_{z_{0}} \\kappa \\rho J_{m - 1}(\\kappa \\rho) \\sin\\left(k_{0} z\\right) + 4 \\, B_{z_{0}} m^{2} J_{m}(\\kappa \\rho) \\sin\\left(k_{0} z\\right)}{{\\left(\\kappa^{2} \\rho^{2} J_{m + 2}(\\kappa \\rho) + \\kappa^{2} \\rho^{2} J_{m - 2}(\\kappa \\rho) + 4 \\, k_{0}^{2} \\rho^{2} J_{m}(\\kappa \\rho) + 2 \\, \\kappa^{2} \\rho^{2} J_{m}(\\kappa \\rho) - 2 \\, \\kappa \\rho J_{m + 1}(\\kappa \\rho) + 2 \\, \\kappa \\rho J_{m - 1}(\\kappa \\rho) - 4 \\, m^{2} J_{m}(\\kappa \\rho)\\right)} \\cos\\left(k_{0} z\\right)}$$"
      ],
      "text/plain": [
       "<IPython.core.display.Math object>"
      ]
     },
     "metadata": {},
     "output_type": "display_data"
    },
    {
     "name": "stdout",
     "output_type": "stream",
     "text": [
      "sol=\n"
     ]
    },
    {
     "data": {
      "text/latex": [
       "$$B_{r_{0}}$$"
      ],
      "text/plain": [
       "<IPython.core.display.Math object>"
      ]
     },
     "metadata": {},
     "output_type": "display_data"
    },
    {
     "data": {
      "text/latex": [
       "$$\\frac{A_{z_{0}} \\kappa^{2} \\rho^{2} J_{m + 2}(\\kappa \\rho) \\cos\\left(k_{0} z\\right) + A_{z_{0}} \\kappa^{2} \\rho^{2} J_{m - 2}(\\kappa \\rho) \\cos\\left(k_{0} z\\right) + 4 \\, A_{z_{0}} k_{0}^{2} \\rho^{2} J_{m}(\\kappa \\rho) \\cos\\left(k_{0} z\\right) + 2 \\, A_{z_{0}} \\kappa^{2} \\rho^{2} J_{m}(\\kappa \\rho) \\cos\\left(k_{0} z\\right) + B_{z_{0}} \\kappa^{2} \\rho^{2} J_{m + 2}(\\kappa \\rho) \\sin\\left(k_{0} z\\right) + B_{z_{0}} \\kappa^{2} \\rho^{2} J_{m - 2}(\\kappa \\rho) \\sin\\left(k_{0} z\\right) + 4 \\, B_{z_{0}} k_{0}^{2} \\rho^{2} J_{m}(\\kappa \\rho) \\sin\\left(k_{0} z\\right) + 2 \\, B_{z_{0}} \\kappa^{2} \\rho^{2} J_{m}(\\kappa \\rho) \\sin\\left(k_{0} z\\right) - 4 \\, B_{\\phi_{0}} k_{0} m \\rho J_{m}(\\kappa \\rho) \\cos\\left(k_{0} z\\right) - 2 \\, A_{z_{0}} \\kappa \\rho J_{m + 1}(\\kappa \\rho) \\cos\\left(k_{0} z\\right) + 2 \\, A_{z_{0}} \\kappa \\rho J_{m - 1}(\\kappa \\rho) \\cos\\left(k_{0} z\\right) - 4 \\, A_{z_{0}} m^{2} J_{m}(\\kappa \\rho) \\cos\\left(k_{0} z\\right) - 2 \\, B_{z_{0}} \\kappa \\rho J_{m + 1}(\\kappa \\rho) \\sin\\left(k_{0} z\\right) + 2 \\, B_{z_{0}} \\kappa \\rho J_{m - 1}(\\kappa \\rho) \\sin\\left(k_{0} z\\right) - 4 \\, B_{z_{0}} m^{2} J_{m}(\\kappa \\rho) \\sin\\left(k_{0} z\\right)}{{\\left(\\kappa \\rho J_{m + 2}(\\kappa \\rho) + \\kappa \\rho J_{m - 2}(\\kappa \\rho) - 2 \\, \\kappa \\rho J_{m}(\\kappa \\rho) - 2 \\, J_{m + 1}(\\kappa \\rho) + 2 \\, J_{m - 1}(\\kappa \\rho)\\right)} k_{0} \\rho \\cos\\left(k_{0} z\\right)}$$"
      ],
      "text/plain": [
       "<IPython.core.display.Math object>"
      ]
     },
     "metadata": {},
     "output_type": "display_data"
    },
    {
     "name": "stdout",
     "output_type": "stream",
     "text": [
      "sol=\n"
     ]
    },
    {
     "data": {
      "text/latex": [
       "$$B_{\\phi_{0}}$$"
      ],
      "text/plain": [
       "<IPython.core.display.Math object>"
      ]
     },
     "metadata": {},
     "output_type": "display_data"
    },
    {
     "data": {
      "text/latex": [
       "$$-\\frac{B_{r_{0}} k_{0} \\kappa \\rho^{2} J_{m + 2}(\\kappa \\rho) \\cos\\left(k_{0} z\\right) - A_{z_{0}} \\kappa^{2} \\rho^{2} J_{m + 2}(\\kappa \\rho) \\cos\\left(k_{0} z\\right) + B_{r_{0}} k_{0} \\kappa \\rho^{2} J_{m - 2}(\\kappa \\rho) \\cos\\left(k_{0} z\\right) - A_{z_{0}} \\kappa^{2} \\rho^{2} J_{m - 2}(\\kappa \\rho) \\cos\\left(k_{0} z\\right) - 4 \\, A_{z_{0}} k_{0}^{2} \\rho^{2} J_{m}(\\kappa \\rho) \\cos\\left(k_{0} z\\right) - 2 \\, B_{r_{0}} k_{0} \\kappa \\rho^{2} J_{m}(\\kappa \\rho) \\cos\\left(k_{0} z\\right) - 2 \\, A_{z_{0}} \\kappa^{2} \\rho^{2} J_{m}(\\kappa \\rho) \\cos\\left(k_{0} z\\right) - B_{z_{0}} \\kappa^{2} \\rho^{2} J_{m + 2}(\\kappa \\rho) \\sin\\left(k_{0} z\\right) - B_{z_{0}} \\kappa^{2} \\rho^{2} J_{m - 2}(\\kappa \\rho) \\sin\\left(k_{0} z\\right) - 4 \\, B_{z_{0}} k_{0}^{2} \\rho^{2} J_{m}(\\kappa \\rho) \\sin\\left(k_{0} z\\right) - 2 \\, B_{z_{0}} \\kappa^{2} \\rho^{2} J_{m}(\\kappa \\rho) \\sin\\left(k_{0} z\\right) - 2 \\, B_{r_{0}} k_{0} \\rho J_{m + 1}(\\kappa \\rho) \\cos\\left(k_{0} z\\right) + 2 \\, A_{z_{0}} \\kappa \\rho J_{m + 1}(\\kappa \\rho) \\cos\\left(k_{0} z\\right) + 2 \\, B_{r_{0}} k_{0} \\rho J_{m - 1}(\\kappa \\rho) \\cos\\left(k_{0} z\\right) - 2 \\, A_{z_{0}} \\kappa \\rho J_{m - 1}(\\kappa \\rho) \\cos\\left(k_{0} z\\right) + 4 \\, A_{z_{0}} m^{2} J_{m}(\\kappa \\rho) \\cos\\left(k_{0} z\\right) + 2 \\, B_{z_{0}} \\kappa \\rho J_{m + 1}(\\kappa \\rho) \\sin\\left(k_{0} z\\right) - 2 \\, B_{z_{0}} \\kappa \\rho J_{m - 1}(\\kappa \\rho) \\sin\\left(k_{0} z\\right) + 4 \\, B_{z_{0}} m^{2} J_{m}(\\kappa \\rho) \\sin\\left(k_{0} z\\right)}{4 \\, k_{0} m \\rho J_{m}(\\kappa \\rho) \\cos\\left(k_{0} z\\right)}$$"
      ],
      "text/plain": [
       "<IPython.core.display.Math object>"
      ]
     },
     "metadata": {},
     "output_type": "display_data"
    },
    {
     "name": "stdout",
     "output_type": "stream",
     "text": [
      "sol=\n"
     ]
    },
    {
     "data": {
      "text/latex": [
       "$$B_{z_{0}}$$"
      ],
      "text/plain": [
       "<IPython.core.display.Math object>"
      ]
     },
     "metadata": {},
     "output_type": "display_data"
    },
    {
     "data": {
      "text/latex": [
       "$$\\frac{{\\left(B_{r_{0}} k_{0} \\kappa \\rho^{2} J_{m + 2}(\\kappa \\rho) - A_{z_{0}} \\kappa^{2} \\rho^{2} J_{m + 2}(\\kappa \\rho) + B_{r_{0}} k_{0} \\kappa \\rho^{2} J_{m - 2}(\\kappa \\rho) - A_{z_{0}} \\kappa^{2} \\rho^{2} J_{m - 2}(\\kappa \\rho) - 4 \\, A_{z_{0}} k_{0}^{2} \\rho^{2} J_{m}(\\kappa \\rho) - 2 \\, B_{r_{0}} k_{0} \\kappa \\rho^{2} J_{m}(\\kappa \\rho) - 2 \\, A_{z_{0}} \\kappa^{2} \\rho^{2} J_{m}(\\kappa \\rho) + 4 \\, B_{\\phi_{0}} k_{0} m \\rho J_{m}(\\kappa \\rho) - 2 \\, B_{r_{0}} k_{0} \\rho J_{m + 1}(\\kappa \\rho) + 2 \\, A_{z_{0}} \\kappa \\rho J_{m + 1}(\\kappa \\rho) + 2 \\, B_{r_{0}} k_{0} \\rho J_{m - 1}(\\kappa \\rho) - 2 \\, A_{z_{0}} \\kappa \\rho J_{m - 1}(\\kappa \\rho) + 4 \\, A_{z_{0}} m^{2} J_{m}(\\kappa \\rho)\\right)} \\cos\\left(k_{0} z\\right)}{{\\left(\\kappa^{2} \\rho^{2} J_{m + 2}(\\kappa \\rho) + \\kappa^{2} \\rho^{2} J_{m - 2}(\\kappa \\rho) + 4 \\, k_{0}^{2} \\rho^{2} J_{m}(\\kappa \\rho) + 2 \\, \\kappa^{2} \\rho^{2} J_{m}(\\kappa \\rho) - 2 \\, \\kappa \\rho J_{m + 1}(\\kappa \\rho) + 2 \\, \\kappa \\rho J_{m - 1}(\\kappa \\rho) - 4 \\, m^{2} J_{m}(\\kappa \\rho)\\right)} \\sin\\left(k_{0} z\\right)}$$"
      ],
      "text/plain": [
       "<IPython.core.display.Math object>"
      ]
     },
     "metadata": {},
     "output_type": "display_data"
    }
   ],
   "source": [
    "res_rot_rot_E = []\n",
    "eqs_rot_rot_E = []\n",
    "for i in range(n_layers):\n",
    "    eqs_rot_rotE = [eq_rot_rot_E_rh.subs(solve(eq_kappa[i], omega^2)),#[i], # .subs(solve(eq_kappa[i], omega^2))\n",
    "                eq_rot_rot_E_ph.subs(solve(eq_kappa[i], omega^2)),#[i],\n",
    "                eq_rot_rot_E_z.subs(solve(eq_kappa[i], omega^2))# [i],\n",
    "               ]\n",
    "    eqs_rot_rot_E += eqs_rot_rotE\n",
    "\n",
    "    vars_dielectric = [A_r[i], A_p[i], A_z[i], B_r[i], B_p[i], B_z[i]]\n",
    "\n",
    "    vars_dielectric = [var for var in vars_dielectric if var not in exclude_vars]\n",
    "    display(Math(latex(vars_dielectric)))\n",
    "    M_rot_rot_E = GenerateMatrix(eqs_rot_rotE, vars_dielectric)\n",
    "    #print (\"M_rotH =\")\n",
    "    #display(Math(latex(M_rotH)))\n",
    "    print (\"M_rot_rot_E.nrows =\", M_rot_rot_E.nrows())\n",
    "    print (\"M_rot_rot_E.ncols =\", M_rot_rot_E.ncols())\n",
    "    print (\"M_rot_rot_E.rank =\", M_rot_rot_E.rank())\n",
    "\n",
    "    res_rot_rot_E += rot_rot_E_solve(M_rot_rot_E, vars_dielectric, eq_kappa[i], k[i])"
   ]
  },
  {
   "cell_type": "code",
   "execution_count": null,
   "metadata": {},
   "outputs": [],
   "source": [
    "def my_simplify(v):\n",
    "    print (\"v =\", v)\n",
    "    from sage.symbolic.operators import add_vararg, mul_vararg\n",
    "\n",
    "    operand_list1 = []\n",
    "    operand_list2 = []\n",
    "\n",
    "    if mul_vararg == v.operator():\n",
    "        for operand in v.operands():\n",
    "            op = operand.operator()\n",
    "            if op == add_vararg:\n",
    "                operand_list1 += [(op, operand)]\n",
    "            else:\n",
    "                operand_list2 += [(op, operand)]\n",
    "    res_list = ()\n",
    "    if len(operand_list1) == 1:\n",
    "        for (op1, operand1) in operand_list1:\n",
    "            print (op1, operand1)\n",
    "            print (\"\")\n",
    "            for operand1_operand in operand1.operands():\n",
    "                print(operand1_operand)\n",
    "                res1 = operand1_operand\n",
    "                for (op2, operand2) in operand_list2:\n",
    "                    print (op2, operand2)\n",
    "                    res1 = mul_vararg(res1, operand2)\n",
    "                print (\"\")\n",
    "                print (\"res1 = \", res1)\n",
    "                print (\"\")\n",
    "                res_list += (res1,)\n",
    "    print (res_list)\n",
    "    if len (res_list) > 0:\n",
    "        res = add_vararg(*res_list)\n",
    "    else:\n",
    "        res = v\n",
    "    print(res)\n",
    "    return res\n",
    "    "
   ]
  },
  {
   "cell_type": "code",
   "execution_count": null,
   "metadata": {},
   "outputs": [],
   "source": [
    "def my_simp(i, ml, v):\n",
    "    print (\"v =\", v)\n",
    "    return my_simplify((v / ml).full_simplify() \\\n",
    "             .subs(2*sin(h*k[i])^2 - 1 == sin(h*k[i])^2 - cos(h*k[i])^2) \\\n",
    "             .subs(2*cos(h*k[i])^2 - 1 == cos(h*k[i])^2 - sin(h*k[i])^2)) \\\n",
    "             *ml"
   ]
  },
  {
   "cell_type": "code",
   "execution_count": null,
   "metadata": {},
   "outputs": [],
   "source": [
    "def my_subs(i, ml, lm, v):\n",
    "    print (\"v =\", v)\n",
    "    vv = (v / ml).full_simplify()\n",
    "    vvv = vv.subs(2*sin(h*k[i])^2 - 1 == sin(h*k[i])^2 - cos(h*k[i])^2) \\\n",
    "            .subs(2*cos(h*k[i])^2 - 1 == cos(h*k[i])^2 - sin(h*k[i])^2)\n",
    "    for mm in lm:\n",
    "        vvv = vvv.subs(((2*sin(h*k[i])^2 - 1) * mm).expand() == (sin(h*k[i])^2 - cos(h*k[i])^2) * mm)\n",
    "        vvv = vvv.subs(((2*cos(h*k[i])^2 - 1) * mm).expand() == (cos(h*k[i])^2 - sin(h*k[i])^2) * mm)\n",
    "    return vvv * ml"
   ]
  },
  {
   "cell_type": "code",
   "execution_count": null,
   "metadata": {},
   "outputs": [],
   "source": [
    "rotH_rh = []\n",
    "for i in range(n_layers):\n",
    "    exec(preparse(\"rotH_rh += [lambda rh,ph,z, i=i : \" + str(H_z[i](rh,ph,z).diff(ph)/rh - H_ph[i](rh,ph,z).diff(z)) + \"]\"))"
   ]
  },
  {
   "cell_type": "code",
   "execution_count": null,
   "metadata": {},
   "outputs": [],
   "source": [
    "rotH_ph = []\n",
    "for i in range(n_layers):\n",
    "    exec(preparse(\"rotH_ph += [lambda rh,ph,z, i=i: \" + str(H_rh[i](rh,ph,z).diff(z)-H_z[i](rh,ph,z).diff(rh)) +\"]\"))"
   ]
  },
  {
   "cell_type": "code",
   "execution_count": null,
   "metadata": {},
   "outputs": [],
   "source": [
    "rotH_z = []\n",
    "for i in range(n_layers):\n",
    "    exec(preparse(\"rotH_z += [lambda rh,ph,z, i=i : \"+ str(((rh * H_ph[i](rh,ph,z)).diff(rh) - H_rh[i](rh,ph,z).diff(ph))/rh) + \"]\"))"
   ]
  },
  {
   "cell_type": "code",
   "execution_count": null,
   "metadata": {},
   "outputs": [],
   "source": [
    "eq_rotH_ph = []\n",
    "for i in range(n_layers):\n",
    "    eq_rotH_ph += [rotH_ph[i](rh,ph,z) == -I * omega / c * epsilon[i] * E_ph[i](rh,ph,z) ]"
   ]
  },
  {
   "cell_type": "code",
   "execution_count": null,
   "metadata": {},
   "outputs": [],
   "source": [
    "eq_rotH_rh = []\n",
    "for i in range(n_layers):\n",
    "    eq_rotH_rh += [rotH_rh[i](rh,ph,z) == -I * omega / c * epsilon[i] * E_rh[i](rh,ph,z) ]"
   ]
  },
  {
   "cell_type": "code",
   "execution_count": null,
   "metadata": {},
   "outputs": [],
   "source": [
    "eq_rotH_z = []\n",
    "for i in range(n_layers):\n",
    "    eq_rotH_z += [rotH_z[i](rh,ph,z) - I * omega / c * epsilon[i] * E_z[i](rh,ph,z) == 0]"
   ]
  },
  {
   "cell_type": "code",
   "execution_count": null,
   "metadata": {},
   "outputs": [],
   "source": [
    "rotH_ph[0](rh,ph,z)"
   ]
  },
  {
   "cell_type": "code",
   "execution_count": null,
   "metadata": {},
   "outputs": [],
   "source": [
    "if 1 < n_layers:\n",
    "    rotH_ph[1](rh,ph,z)"
   ]
  },
  {
   "cell_type": "code",
   "execution_count": null,
   "metadata": {},
   "outputs": [],
   "source": [
    "rotH_rh[0](rh,ph,z)"
   ]
  },
  {
   "cell_type": "code",
   "execution_count": null,
   "metadata": {},
   "outputs": [],
   "source": [
    "if 1 < n_layers:\n",
    "    rotH_rh[1](rh,ph,z)"
   ]
  },
  {
   "cell_type": "code",
   "execution_count": null,
   "metadata": {},
   "outputs": [],
   "source": [
    "rotH_z[0](rh,ph,z)"
   ]
  },
  {
   "cell_type": "code",
   "execution_count": null,
   "metadata": {},
   "outputs": [],
   "source": [
    "if 1 < n_layers:\n",
    "    rotH_z[1](rh,ph,z)"
   ]
  },
  {
   "cell_type": "code",
   "execution_count": null,
   "metadata": {},
   "outputs": [],
   "source": [
    "eq_rotH_z"
   ]
  },
  {
   "cell_type": "code",
   "execution_count": null,
   "metadata": {},
   "outputs": [],
   "source": [
    "#E_r_r_s = []\n",
    "#for i in range(n_layers):\n",
    "#    eq_rotH_rh_i = (eq_rotH_rh[i]*(-I)*omega/c).subs(solve(eq_kappa[i], omega^2))\n",
    "#    exec(preparse(\"E_r_r_s += [lambda rh,i=i : \" + str(solve(eq_rotH_rh_i, E_r_r[i](rh))[0].rhs()) +\"]\"))\n",
    "#    print(\"E_r_r_s[i](rh)=\")\n",
    "#    display(Math(latex(E_r_r_s[i](rh))))"
   ]
  },
  {
   "cell_type": "code",
   "execution_count": null,
   "metadata": {},
   "outputs": [],
   "source": [
    "#E_rhs = []\n",
    "#for i in range(n_layers):\n",
    "#    # E_rhs += [lambda rh,ph,z, i=i: E_r_r_s[i](rh=rh)*(B_r[i]*sin(k[i]*z)+A_r[i]*cos(k[i]*z))*(C_r[i]*cos(m*ph)+D_r[i]*sin(m*ph))]\n",
    "#    E_rhs += [lambda rh,ph,z, i=i: E_r_r_s[i](rh=rh)*(A_r[i]*cos(k[i]*z) + B_r[i]*sin(k[i]*z)) * cos(m*ph)]"
   ]
  },
  {
   "cell_type": "code",
   "execution_count": null,
   "metadata": {},
   "outputs": [],
   "source": [
    "E_rho = []\n",
    "for i in range(n_layers):\n",
    "    exec(preparse(\"E_rho += [ lambda rh, ph, z, i=i : \" + str(E_rh[i](rh,ph,z)) +\"]\"))"
   ]
  },
  {
   "cell_type": "code",
   "execution_count": null,
   "metadata": {},
   "outputs": [],
   "source": [
    "E_phi = []\n",
    "for i in range(n_layers):\n",
    "    exec(preparse(\"E_phi += [ lambda rh, ph, z, i=i : \" + str(E_ph[i](rh,ph,z)) +\"]\"))"
   ]
  },
  {
   "cell_type": "code",
   "execution_count": null,
   "metadata": {},
   "outputs": [],
   "source": [
    "E_zz = []\n",
    "for i in range(n_layers):\n",
    "    exec(preparse(\"E_zz += [ lambda rh, ph, z, i=i : \" + str(E_z[i](rh,ph,z)) +\"]\"))"
   ]
  },
  {
   "cell_type": "code",
   "execution_count": null,
   "metadata": {},
   "outputs": [],
   "source": [
    "E_rho[0](rh,ph,z).subs(m == m_val).full_simplify()"
   ]
  },
  {
   "cell_type": "code",
   "execution_count": null,
   "metadata": {},
   "outputs": [],
   "source": [
    "if 1 < n_layers:\n",
    "    E_rho[1](rh,ph,z).subs(m == m_val).full_simplify()"
   ]
  },
  {
   "cell_type": "code",
   "execution_count": null,
   "metadata": {},
   "outputs": [],
   "source": [
    "if 1 < n_layers:\n",
    "    E_rh[1](rh,ph,z).subs(E_r_r[1](rh) == E_r_r_s[1](rh)).subs(m == m_val).full_simplify()"
   ]
  },
  {
   "cell_type": "code",
   "execution_count": null,
   "metadata": {},
   "outputs": [],
   "source": [
    "display(Math(latex(E_phi[0](rh,ph,z))))"
   ]
  },
  {
   "cell_type": "code",
   "execution_count": null,
   "metadata": {
    "scrolled": true
   },
   "outputs": [],
   "source": [
    "if 1 < n_layers:\n",
    "    display(Math(latex(E_phi[1](rh,ph,z))))"
   ]
  },
  {
   "cell_type": "code",
   "execution_count": null,
   "metadata": {},
   "outputs": [],
   "source": [
    "E_phi_s = []\n",
    "for i in range(n_layers):\n",
    "    ml = B_p[i]\n",
    "    lm = [C_p[i], D_p[i]]\n",
    "    exec(preparse(\"E_phi_s += [ lambda rh, ph, z, i=i : \" + str(my_subs(i, ml, lm, E_phi[i](rh,ph,z))) +\"]\"))"
   ]
  },
  {
   "cell_type": "code",
   "execution_count": null,
   "metadata": {},
   "outputs": [],
   "source": [
    "rotE_rho = []\n",
    "for i in range(n_layers):\n",
    "    exec(preparse(\"rotE_rho += [lambda rh,ph,z, i=i: \" + str(E_zz[i](rh,ph,z).diff(ph)/rh - diff(E_phi[i](rh,ph,z),z)) +\"]\"))"
   ]
  },
  {
   "cell_type": "code",
   "execution_count": null,
   "metadata": {},
   "outputs": [],
   "source": [
    "rotE_phi = []\n",
    "for i in range(n_layers):\n",
    "    exec(preparse(\"rotE_phi += [lambda rh,ph,z, i=i: \" + str(E_rho[i](rh,ph,z).diff(z)-E_zz[i](rh,ph,z).diff(rh)) +\"]\"))"
   ]
  },
  {
   "cell_type": "code",
   "execution_count": null,
   "metadata": {},
   "outputs": [],
   "source": [
    "rotE_zz = []\n",
    "for i in range(n_layers):\n",
    "    exec(preparse(\"rotE_zz += [lambda rh,ph,z, i=i: \" + str(((rh*E_phi[i](rh,ph,z)).diff(rh) - E_rho[i](rh,ph,z).diff(ph))/rh) +\"]\"))"
   ]
  },
  {
   "cell_type": "code",
   "execution_count": null,
   "metadata": {},
   "outputs": [],
   "source": [
    "H_rho = []\n",
    "for i in range(n_layers):\n",
    "    H_rho += [lambda rh,ph,z, i=i : rotE_rho[i](rh,ph,z)*c/(I*omega *mu[i])]"
   ]
  },
  {
   "cell_type": "code",
   "execution_count": null,
   "metadata": {},
   "outputs": [],
   "source": [
    "H_phi = []\n",
    "for i in range(n_layers):\n",
    "    H_phi += [lambda rh,ph,z, i=i : rotE_phi[i](rh,ph,z)*c/(I*omega *mu[i])]"
   ]
  },
  {
   "cell_type": "code",
   "execution_count": null,
   "metadata": {},
   "outputs": [],
   "source": [
    "H_zz = []\n",
    "for i in range(n_layers):\n",
    "    H_zz += [lambda rh,ph,z, i=i : rotE_zz[i](rh,ph,z)*c/(I*omega *mu[i])]"
   ]
  },
  {
   "cell_type": "code",
   "execution_count": null,
   "metadata": {},
   "outputs": [],
   "source": [
    "rotH_rho = []\n",
    "for i in range(n_layers):\n",
    "    exec(preparse(\"rotH_rho += [lambda rh,ph,z, i=i : \" + str(H_zz[i](rh,ph,z).diff(ph)/rh - H_phi[i](rh,ph,z).diff(z)) + \"]\"))"
   ]
  },
  {
   "cell_type": "code",
   "execution_count": null,
   "metadata": {},
   "outputs": [],
   "source": [
    "rotH_phi = []\n",
    "for i in range(n_layers):\n",
    "    exec(preparse(\"rotH_phi += [lambda rh,ph,z, i=i: \" + str(H_rho[i](rh,ph,z).diff(z)-H_zz[i](rh,ph,z).diff(rh)) +\"]\"))"
   ]
  },
  {
   "cell_type": "code",
   "execution_count": null,
   "metadata": {},
   "outputs": [],
   "source": [
    "rotH_zz = []\n",
    "for i in range(n_layers):\n",
    "    exec(preparse(\"rotH_zz += [lambda rh,ph,z, i=i : \"+ str(((rh * H_phi[i](rh,ph,z)).diff(rh) - H_rho[i](rh,ph,z).diff(ph))/rh) + \"]\"))"
   ]
  },
  {
   "cell_type": "code",
   "execution_count": null,
   "metadata": {},
   "outputs": [],
   "source": [
    "eq_rotH_phi = []\n",
    "for i in range(n_layers):\n",
    "    eq_rotH_phi += [rotH_phi[i](rh,ph,z) == -I * omega / c * epsilon[i] * E_phi[i](rh,ph,z) ]"
   ]
  },
  {
   "cell_type": "code",
   "execution_count": null,
   "metadata": {},
   "outputs": [],
   "source": [
    "eq_rotH_rho = []\n",
    "for i in range(n_layers):\n",
    "    eq_rotH_rho += [rotH_rho[i](rh,ph,z) == -I * omega / c * epsilon[i] * E_rho[i](rh,ph,z) ]"
   ]
  },
  {
   "cell_type": "code",
   "execution_count": null,
   "metadata": {},
   "outputs": [],
   "source": [
    "eq_rotH_zz = []\n",
    "for i in range(n_layers):\n",
    "    eq_rotH_zz += [rotH_zz[i](rh,ph,z) - I * omega / c * epsilon[i] * E_zz[i](rh,ph,z) == 0]"
   ]
  },
  {
   "cell_type": "code",
   "execution_count": null,
   "metadata": {},
   "outputs": [],
   "source": [
    "if 1 < n_layers:\n",
    "    display(Math(latex(E_rho[1](rh,ph,z))))"
   ]
  },
  {
   "cell_type": "code",
   "execution_count": null,
   "metadata": {},
   "outputs": [],
   "source": [
    "if 1 < n_layers:\n",
    "    display(Math(latex(E_zz[1](rh,ph,z))))"
   ]
  },
  {
   "cell_type": "code",
   "execution_count": null,
   "metadata": {},
   "outputs": [],
   "source": [
    "if 1 < n_layers:\n",
    "    H_rho[1](rh,ph,z)"
   ]
  },
  {
   "cell_type": "code",
   "execution_count": null,
   "metadata": {},
   "outputs": [],
   "source": [
    "if 1 < n_layers:\n",
    "    H_phi[1](rh,ph,z)"
   ]
  },
  {
   "cell_type": "code",
   "execution_count": null,
   "metadata": {},
   "outputs": [],
   "source": [
    "if 1 < n_layers:\n",
    "    H_zz[1](rh,ph,z)"
   ]
  },
  {
   "cell_type": "code",
   "execution_count": null,
   "metadata": {},
   "outputs": [],
   "source": [
    "eq_rotH_phi"
   ]
  },
  {
   "cell_type": "code",
   "execution_count": null,
   "metadata": {},
   "outputs": [],
   "source": [
    "eq_rotH_rho"
   ]
  },
  {
   "cell_type": "code",
   "execution_count": null,
   "metadata": {},
   "outputs": [],
   "source": [
    "eq_rotH_zz"
   ]
  },
  {
   "cell_type": "code",
   "execution_count": null,
   "metadata": {},
   "outputs": [],
   "source": [
    "def rot_H_solve(M_rotH, vars, eq_kappa, k):\n",
    "    # print(\"M_rotH =\")\n",
    "    # display(Math(latex(M_rotH)))\n",
    "\n",
    "    if (M_rotH.ncols() != len(vars)):\n",
    "        return\n",
    "\n",
    "    n = M_rotH.nrows()\n",
    "\n",
    "    xx = vector(SR, vars)\n",
    "    yy = zero_vector(SR, n)\n",
    "    eqns = [(M_rotH*xx)[index] == yy[index] for index in range(n)]\n",
    "    # display(Math(latex(eqns)))\n",
    "    res = []\n",
    "\n",
    "    for index in range(n):\n",
    "        row_M = M_rotH[index]\n",
    "        # print(\"row_M =\")\n",
    "        # display(Math(latex(row_M)))\n",
    "        eq = eqns[index].full_simplify()\n",
    "        #print (\"eq =\")\n",
    "        #display(Math(latex(eq)))\n",
    "        #print (\"\")\n",
    "        \n",
    "        if 0 == eq.lhs() and 0 == eq.rhs():\n",
    "            continue\n",
    "        \n",
    "        for var in vars:\n",
    "            # print (\"var =\")\n",
    "            # display(Math(latex(var)))\n",
    "            sol = solve(eq, var)\n",
    "            if len(sol) > 0:\n",
    "                print(\"sol=\")\n",
    "                display(Math(latex(sol[0])))\n",
    "\n",
    "        #continue\n",
    "\n",
    "        solved = False\n",
    "\n",
    "        eq2 = (eq / cos(k * z)).full_simplify().expand()\n",
    "        # print (\"eq2 =\")\n",
    "        # display(Math(latex(eq2)))\n",
    "\n",
    "        tg_k_z_coeff = eq2.lhs().coefficient(sin(k * z) / cos(k * z))\n",
    "\n",
    "        if 0 == tg_k_z_coeff:\n",
    "            continue\n",
    "\n",
    "        print (\"tg_k_z_coeff =\")\n",
    "        display(Math(latex(tg_k_z_coeff)))\n",
    "        \n",
    "\n",
    "\n",
    "        eq_tg_k_z_coeff = tg_k_z_coeff == 0\n",
    "        for var in vars:\n",
    "            # print (\"var =\")\n",
    "            # display(Math(latex(var)))\n",
    "            sol_tg_k_z_coeff = solve(eq_tg_k_z_coeff, var)\n",
    "            if len(sol_tg_k_z_coeff) > 0:\n",
    "                #print(\"sol_tg_k_z_coeff=\")\n",
    "                #display(Math(latex(sol_tg_k_z_coeff)))\n",
    "\n",
    "                res += sol_tg_k_z_coeff           \n",
    "\n",
    "                eq4 = eq.subs(sol_tg_k_z_coeff)\n",
    "                # print (\"eq4 =\")\n",
    "                # display(Math(latex(eq4)))\n",
    "\n",
    "                eq4 = eq4.full_simplify()\n",
    "\n",
    "                if 0 == eq4.lhs() and 0 == eq4.rhs():\n",
    "                    solved = True\n",
    "                    continue\n",
    "\n",
    "                #print (\"eq4 =\")\n",
    "                #display(Math(latex(eq4)))\n",
    "                for var in vars:\n",
    "                    if var in eq4.variables():\n",
    "                        # print (\"var =\")\n",
    "                        # display(Math(latex(var)))\n",
    "                        # print (\"\")\n",
    "                        sol = solve(eq4, var)\n",
    "\n",
    "                        # print (\"\")\n",
    "                        if len(sol)>0:\n",
    "                            if z not in sol[0].rhs().variables():\n",
    "                                #print(\"sol=\")\n",
    "                                #display(Math(latex(sol)))\n",
    "                                res += sol\n",
    "                                solved = True\n",
    "\n",
    "        if not solved:\n",
    "            print (\"unsolved eq =\")\n",
    "            print(eq)\n",
    "    # print (\"res=\", res)\n",
    "    return res"
   ]
  },
  {
   "cell_type": "code",
   "execution_count": null,
   "metadata": {},
   "outputs": [],
   "source": [
    "def GenerateMatrix(equsys, vars):\n",
    "    A=matrix(SR, [[(equ.lhs() - equ.rhs()).coefficient(v) for v in vars] for equ in equsys])\n",
    "    return A"
   ]
  },
  {
   "cell_type": "code",
   "execution_count": null,
   "metadata": {},
   "outputs": [],
   "source": [
    "res_rot_H = []\n",
    "eqs_rot_H = []\n",
    "for i in range(n_layers):\n",
    "    eqs_rotH = [(eq_rotH_rho[i]*(-I)*omega/c).full_simplify(), # .subs(solve(eq_kappa[i], omega^2))\n",
    "                (eq_rotH_phi[i]*(-I)*omega/c).full_simplify(),\n",
    "                (eq_rotH_zz [i]*(-I)*omega/c).full_simplify(),\n",
    "               ]\n",
    "    eqs_rot_H += eqs_rotH\n",
    "\n",
    "    vars_dielectric = [A_r[i], A_p[i], A_z[i], B_r[i], B_p[i], B_z[i]]\n",
    "\n",
    "    vars_dielectric = [var for var in vars_dielectric if var not in exclude_vars]\n",
    "    display(Math(latex(vars_dielectric)))\n",
    "    M_rotH = GenerateMatrix(eqs_rotH, vars_dielectric)\n",
    "    #print (\"M_rotH =\")\n",
    "    #display(Math(latex(M_rotH)))\n",
    "    print (\"M_rotH.nrows =\", M_rotH.nrows())\n",
    "    print (\"M_rotH.ncols =\", M_rotH.ncols())\n",
    "    print (\"M_rotH.rank =\", M_rotH.rank())\n",
    "\n",
    "    res_rot_H += rot_H_solve(M_rotH, vars_dielectric, eq_kappa[i], k[i])"
   ]
  },
  {
   "cell_type": "code",
   "execution_count": null,
   "metadata": {
    "scrolled": false
   },
   "outputs": [],
   "source": [
    "display(Math(latex(res_rot_H)))"
   ]
  },
  {
   "cell_type": "code",
   "execution_count": null,
   "metadata": {},
   "outputs": [],
   "source": [
    "all_vars = []\n",
    "for i in range(n_layers):\n",
    "    all_vars += [A_r[i], A_p[i], A_z[i], B_r[i], B_p[i], B_z[i]]\n",
    "    \n",
    "all_vars = [var for var in all_vars if var not in exclude_vars]\n",
    "all_vars"
   ]
  },
  {
   "cell_type": "code",
   "execution_count": null,
   "metadata": {},
   "outputs": [],
   "source": [
    "M_res_rot_H = GenerateMatrix(res_rot_H, all_vars)\n",
    "# display(Math(latex(M_res_rot_H)))"
   ]
  },
  {
   "cell_type": "code",
   "execution_count": null,
   "metadata": {},
   "outputs": [],
   "source": [
    "def reduceDependedRows(M):\n",
    "    print (\"\")\n",
    "    print (\"M.nrows()\", M.nrows())\n",
    "    print (\"M.ncols()\", M.ncols())\n",
    "    print (\"M.rank()\", M.rank())\n",
    "\n",
    "    M_pivot_rows = M.pivot_rows()\n",
    "    print (\"M.pivot_rows() =\", M_pivot_rows)\n",
    "\n",
    "    M_rows = M.rows()\n",
    "    #for row in M_rows:\n",
    "    #    print(\"row =\")\n",
    "    #    display(Math(latex(row)))\n",
    "\n",
    "    reduced_list = []\n",
    "    for r in M_pivot_rows:\n",
    "        #print (\"M_rows[\", r, \"] =\")\n",
    "        #display(Math(latex(M_rows[r])))\n",
    "        reduced_list.append(M_rows[r])\n",
    "\n",
    "    reduced_M = matrix(SR, len(M_pivot_rows), M.ncols(), reduced_list)\n",
    "    #if reduced_M.nrows() == reduced_M.ncols():\n",
    "        #reduced_M_det = reduced_M.det()\n",
    "        #print (\"\")\n",
    "        #print (\"reduced_M.det() =\")\n",
    "        #display(Math(latex(reduced_M_det)))\n",
    "    return reduced_M"
   ]
  },
  {
   "cell_type": "code",
   "execution_count": null,
   "metadata": {},
   "outputs": [],
   "source": [
    "reduced_M_res_rot_H = reduceDependedRows(M_res_rot_H)"
   ]
  },
  {
   "cell_type": "code",
   "execution_count": null,
   "metadata": {},
   "outputs": [],
   "source": [
    "reduced_M_res_rot_H.nrows(), reduced_M_res_rot_H.ncols(), reduced_M_res_rot_H.rank()"
   ]
  },
  {
   "cell_type": "code",
   "execution_count": null,
   "metadata": {},
   "outputs": [],
   "source": [
    "# display(Math(latex(reduced_M_res_rot_H)))"
   ]
  },
  {
   "cell_type": "code",
   "execution_count": null,
   "metadata": {},
   "outputs": [],
   "source": [
    "reduced_M_res_rot_H"
   ]
  },
  {
   "cell_type": "code",
   "execution_count": null,
   "metadata": {},
   "outputs": [],
   "source": [
    "def make_eqsys_from_reduced_M(M_rotH, vars):\n",
    "    xx = vector(SR, vars)\n",
    "    # print(\"eqns =\")\n",
    "    eqns = [(M_rotH*xx)[index] == 0 for index in range(M_rotH.nrows())]\n",
    "    # display(Math(latex(eqns)))\n",
    "    return (eqns)"
   ]
  },
  {
   "cell_type": "code",
   "execution_count": null,
   "metadata": {},
   "outputs": [],
   "source": [
    "eqsys_rotH_simplified = make_eqsys_from_reduced_M(reduced_M_res_rot_H, all_vars)"
   ]
  },
  {
   "cell_type": "code",
   "execution_count": null,
   "metadata": {},
   "outputs": [],
   "source": [
    "eqsys_rotH_simplified"
   ]
  },
  {
   "cell_type": "code",
   "execution_count": null,
   "metadata": {},
   "outputs": [],
   "source": [
    "eqsys_rotH_subs = []\n",
    "for eq_rotH_simplified in eqsys_rotH_simplified:\n",
    "    for var in B_z + A_p + B_p:\n",
    "        if var in eq_rotH_simplified.variables():\n",
    "            print(var)\n",
    "            solve_current_var = True\n",
    "            for eqsys_rotH_subs_i in eqsys_rotH_subs:\n",
    "                print(eqsys_rotH_subs_i.lhs().variables())\n",
    "                if var in eqsys_rotH_subs_i.lhs().variables():\n",
    "                    solve_current_var = False\n",
    "            if solve_current_var:\n",
    "                eqsys_rotH_subs += solve (eq_rotH_simplified,var)\n",
    "\n",
    "display(Math(latex(eqsys_rotH_subs)))"
   ]
  },
  {
   "cell_type": "code",
   "execution_count": null,
   "metadata": {},
   "outputs": [],
   "source": [
    "bch = []\n",
    "bc =  []\n",
    "for i  in range (n_layers-1):\n",
    "    bc += [E_rho[i](rh,ph, (i + 1) * h) == E_rho[i+1](rh,ph,(i+1)*h)]\n",
    "    bc += [E_phi[i](rh,ph, (i + 1) * h) == E_phi[i+1](rh,ph,(i+1)*h)]\n",
    "    bc += [epsilon[i] * E_zz[i](rh,ph,(i+1)*h) == epsilon[i+1]*E_zz[i+1](rh,ph,(i+1)*h)]\n",
    "\n",
    "    bch += [H_phi [i](rh,ph,(i+1)*h) == H_phi [i+1](rh,ph,(i+1)*h)]"
   ]
  },
  {
   "cell_type": "code",
   "execution_count": null,
   "metadata": {},
   "outputs": [],
   "source": [
    "bc"
   ]
  },
  {
   "cell_type": "code",
   "execution_count": null,
   "metadata": {
    "scrolled": true
   },
   "outputs": [],
   "source": [
    "bch"
   ]
  },
  {
   "cell_type": "code",
   "execution_count": null,
   "metadata": {},
   "outputs": [],
   "source": [
    "        # + bch \\\n",
    "all_eqs = bc \\\n",
    "        + boundary_conductor \\\n",
    "        + eqsys_rotH_simplified\n",
    "\n",
    "#display(Math(latex(all_eqs)))"
   ]
  },
  {
   "cell_type": "code",
   "execution_count": null,
   "metadata": {},
   "outputs": [],
   "source": [
    "M = GenerateMatrix(all_eqs, all_vars)"
   ]
  },
  {
   "cell_type": "code",
   "execution_count": null,
   "metadata": {},
   "outputs": [],
   "source": [
    "display(Math(latex(M)))"
   ]
  },
  {
   "cell_type": "code",
   "execution_count": null,
   "metadata": {},
   "outputs": [],
   "source": [
    "M.nrows(), M.ncols(), len(all_vars)"
   ]
  },
  {
   "cell_type": "code",
   "execution_count": null,
   "metadata": {},
   "outputs": [],
   "source": [
    "M.rank()"
   ]
  },
  {
   "cell_type": "code",
   "execution_count": null,
   "metadata": {},
   "outputs": [],
   "source": [
    "reduced_M = reduceDependedRows(M)"
   ]
  },
  {
   "cell_type": "code",
   "execution_count": null,
   "metadata": {},
   "outputs": [],
   "source": [
    "reduced_M.nrows(), reduced_M.ncols(),"
   ]
  },
  {
   "cell_type": "code",
   "execution_count": null,
   "metadata": {},
   "outputs": [],
   "source": [
    "reduced_M.pivots()"
   ]
  },
  {
   "cell_type": "code",
   "execution_count": null,
   "metadata": {},
   "outputs": [],
   "source": [
    "def reduceEmptyCols(M, vars):\n",
    "    print (\"\")\n",
    "    print (\"M.nrows()\", M.nrows())\n",
    "    print (\"M.ncols()\", M.ncols())\n",
    "    print (\"M.rank()\", M.rank())\n",
    "    print (\"len(vars)\", len(vars))\n",
    "\n",
    "    M_pivots = M.pivots()\n",
    "    print (\"M.pivots() =\", M_pivots)\n",
    "    \n",
    "    M_transposed = M.transpose()\n",
    "\n",
    "    M_cols = M_transposed.rows()\n",
    "    #for col in M_cols:\n",
    "    #    print(\"col =\")\n",
    "    #    display(Math(latex(col)))\n",
    "\n",
    "    reduced_list = []\n",
    "    reduced_vars = []\n",
    "    for c in M_pivots:\n",
    "        #print (\"M_cols[\", c, \"] =\")\n",
    "        #display(Math(latex(M_cols[c])))\n",
    "        reduced_list.append(M_cols[c])\n",
    "        reduced_vars.append(vars[c])\n",
    "\n",
    "    reduced_M_transposed = matrix(SR, len(M_pivots), M.nrows(), reduced_list)\n",
    "    return reduced_vars, reduced_M_transposed.transpose()"
   ]
  },
  {
   "cell_type": "code",
   "execution_count": null,
   "metadata": {},
   "outputs": [],
   "source": [
    "reduced_vars, reduced_reduced_M = reduceEmptyCols(reduced_M, all_vars)"
   ]
  },
  {
   "cell_type": "code",
   "execution_count": null,
   "metadata": {},
   "outputs": [],
   "source": [
    "reduced_reduced_M.nrows(), reduced_reduced_M.ncols(), len(reduced_vars)"
   ]
  },
  {
   "cell_type": "code",
   "execution_count": null,
   "metadata": {},
   "outputs": [],
   "source": [
    "reduced_vars"
   ]
  },
  {
   "cell_type": "code",
   "execution_count": null,
   "metadata": {},
   "outputs": [],
   "source": [
    "display(Math(latex(reduced_reduced_M)))"
   ]
  },
  {
   "cell_type": "code",
   "execution_count": null,
   "metadata": {},
   "outputs": [],
   "source": [
    "reduced_reduced_M_det = reduced_reduced_M.det()"
   ]
  },
  {
   "cell_type": "code",
   "execution_count": null,
   "metadata": {},
   "outputs": [],
   "source": [
    "reduced_reduced_M_det"
   ]
  },
  {
   "cell_type": "code",
   "execution_count": null,
   "metadata": {},
   "outputs": [],
   "source": [
    "M_det  = reduced_reduced_M_det.subs(eqsys_rotH_subs)"
   ]
  },
  {
   "cell_type": "code",
   "execution_count": null,
   "metadata": {},
   "outputs": [],
   "source": []
  },
  {
   "cell_type": "code",
   "execution_count": null,
   "metadata": {},
   "outputs": [],
   "source": [
    "M_det"
   ]
  },
  {
   "cell_type": "code",
   "execution_count": null,
   "metadata": {},
   "outputs": [],
   "source": [
    "# display(Math(latex(M_det)))"
   ]
  },
  {
   "cell_type": "code",
   "execution_count": null,
   "metadata": {},
   "outputs": [],
   "source": [
    "M_det_num = M_det.numerator()"
   ]
  },
  {
   "cell_type": "code",
   "execution_count": null,
   "metadata": {},
   "outputs": [],
   "source": [
    "M_det_num"
   ]
  },
  {
   "cell_type": "code",
   "execution_count": null,
   "metadata": {},
   "outputs": [],
   "source": [
    "M_det_num.variables()"
   ]
  },
  {
   "cell_type": "code",
   "execution_count": null,
   "metadata": {},
   "outputs": [],
   "source": [
    "M_det.full_simplify().numerator()"
   ]
  },
  {
   "cell_type": "code",
   "execution_count": null,
   "metadata": {},
   "outputs": [],
   "source": [
    "M_det_num_expand = M_det_num.expand()"
   ]
  },
  {
   "cell_type": "code",
   "execution_count": null,
   "metadata": {},
   "outputs": [],
   "source": [
    "M_det_num_expand.operator()"
   ]
  },
  {
   "cell_type": "code",
   "execution_count": null,
   "metadata": {},
   "outputs": [],
   "source": [
    "for operand in M_det_num_expand.operands():\n",
    "    print (operand)\n",
    "    print (\"\")"
   ]
  },
  {
   "cell_type": "markdown",
   "metadata": {},
   "source": [
    "for md in [0,1]:\n",
    "    M_det_num = (M_det_num/bessel_J(md,kappa * rh)).full_simplify().expand()"
   ]
  },
  {
   "cell_type": "code",
   "execution_count": null,
   "metadata": {},
   "outputs": [],
   "source": [
    "M_det_num"
   ]
  },
  {
   "cell_type": "code",
   "execution_count": null,
   "metadata": {},
   "outputs": [],
   "source": [
    "M_det_num.variables()"
   ]
  },
  {
   "cell_type": "code",
   "execution_count": null,
   "metadata": {},
   "outputs": [],
   "source": [
    "for i in range(n_layers):\n",
    "    M_det_num = (M_det_num/(k [i]*cos(h*k[i]))).full_simplify().expand()"
   ]
  },
  {
   "cell_type": "code",
   "execution_count": null,
   "metadata": {},
   "outputs": [],
   "source": [
    "M_det_num"
   ]
  },
  {
   "cell_type": "code",
   "execution_count": null,
   "metadata": {},
   "outputs": [],
   "source": [
    "disp_eq = M_det_num == 0"
   ]
  },
  {
   "cell_type": "code",
   "execution_count": null,
   "metadata": {},
   "outputs": [],
   "source": [
    "display(Math(latex(disp_eq)))"
   ]
  },
  {
   "cell_type": "code",
   "execution_count": null,
   "metadata": {},
   "outputs": [],
   "source": [
    "bch"
   ]
  },
  {
   "cell_type": "code",
   "execution_count": null,
   "metadata": {},
   "outputs": [],
   "source": [
    "bchs = []\n",
    "for i in range(n_layers-1):\n",
    "    bchs +=  [solve (bch, B_z[i+1])[0].full_simplify ().expand () ]"
   ]
  },
  {
   "cell_type": "code",
   "execution_count": null,
   "metadata": {},
   "outputs": [],
   "source": [
    "display(Math(latex(bchs)))"
   ]
  },
  {
   "cell_type": "code",
   "execution_count": null,
   "metadata": {},
   "outputs": [],
   "source": []
  },
  {
   "cell_type": "code",
   "execution_count": null,
   "metadata": {},
   "outputs": [],
   "source": [
    "E_rho_s = []\n",
    "for i in range(n_layers):\n",
    "    E_rho_s += [ lambda rh, ph, z, i=i : E_rho[i](rh,ph,z).subs(bchs) ]"
   ]
  },
  {
   "cell_type": "code",
   "execution_count": null,
   "metadata": {},
   "outputs": [],
   "source": [
    "E_zz_s = []\n",
    "for i in range(n_layers):\n",
    "    E_zz_s += [ lambda rh, ph, z, i=i : E_zz[i](rh,ph,z).subs(bchs) ]"
   ]
  },
  {
   "cell_type": "code",
   "execution_count": null,
   "metadata": {},
   "outputs": [],
   "source": [
    "H_phi_s = []\n",
    "for i in range(n_layers):\n",
    "    H_phi_s += [ lambda rh, ph, z, i=i : H_phi[i](rh,ph,z).subs(bchs) ]\n"
   ]
  },
  {
   "cell_type": "code",
   "execution_count": null,
   "metadata": {},
   "outputs": [],
   "source": [
    "if 1 < n_layers:\n",
    "    E_rho_s [1](rh,ph,z)"
   ]
  },
  {
   "cell_type": "code",
   "execution_count": null,
   "metadata": {},
   "outputs": [],
   "source": [
    "if 1 < n_layers:\n",
    "    E_zz_s[1](rh,ph,z)"
   ]
  },
  {
   "cell_type": "code",
   "execution_count": null,
   "metadata": {},
   "outputs": [],
   "source": [
    "if 1 < n_layers:\n",
    "    H_phi_s[1](rh,ph,z)"
   ]
  },
  {
   "cell_type": "code",
   "execution_count": null,
   "metadata": {},
   "outputs": [],
   "source": [
    "eq_kappa"
   ]
  },
  {
   "cell_type": "code",
   "execution_count": null,
   "metadata": {},
   "outputs": [],
   "source": [
    "disp_eq"
   ]
  },
  {
   "cell_type": "code",
   "execution_count": null,
   "metadata": {},
   "outputs": [],
   "source": [
    "bessel_root_1 = find_root (bessel_J(0,x),  0, pi)"
   ]
  },
  {
   "cell_type": "code",
   "execution_count": null,
   "metadata": {},
   "outputs": [],
   "source": [
    "bessel_root_2 =  find_root (bessel_J(0,x),  pi, pi*2)"
   ]
  },
  {
   "cell_type": "code",
   "execution_count": null,
   "metadata": {
    "scrolled": true
   },
   "outputs": [],
   "source": [
    "kappa_d1 = bessel_root_1/a"
   ]
  },
  {
   "cell_type": "code",
   "execution_count": null,
   "metadata": {},
   "outputs": [],
   "source": [
    "#sgs\n",
    "lambda_d = 632*100*10^-9\n",
    "# 632 nm\n",
    "digit_values = [m == m_val, a == 12, mu[0] == 1,  epsilon[0] == 2.468^2]\n",
    "if 1 < n_layers:\n",
    "    digit_values = [mu[1] == 1, epsilon[1] == 1.67^2]\n",
    "c_value  = [ c == 299792458 * 100]\n",
    "\n",
    "omega_value = [ omega  == ((2*pi * c)/ lambda_d).subs (c_value) ]"
   ]
  },
  {
   "cell_type": "code",
   "execution_count": null,
   "metadata": {},
   "outputs": [],
   "source": [
    "epsilon_d = []\n",
    "for i in range(n_layers):\n",
    "    epsilon_d += [epsilon[i].subs(digit_values)]"
   ]
  },
  {
   "cell_type": "code",
   "execution_count": null,
   "metadata": {},
   "outputs": [],
   "source": [
    "eq_kappa_d = []\n",
    "for i in range(n_layers):\n",
    "    eq_kappa_d += [eq_kappa[i].subs(kappa == kappa_d1).subs(digit_values).subs (c_value).subs(omega_value)]"
   ]
  },
  {
   "cell_type": "code",
   "execution_count": null,
   "metadata": {
    "scrolled": true
   },
   "outputs": [],
   "source": [
    "eq_kappa_d"
   ]
  },
  {
   "cell_type": "code",
   "execution_count": null,
   "metadata": {},
   "outputs": [],
   "source": [
    "disp_eq_d = disp_eq.subs(digit_values).subs (c_value)"
   ]
  },
  {
   "cell_type": "code",
   "execution_count": null,
   "metadata": {},
   "outputs": [],
   "source": [
    "disp_eq_d"
   ]
  },
  {
   "cell_type": "code",
   "execution_count": null,
   "metadata": {},
   "outputs": [],
   "source": [
    "k_values = []\n",
    "for i in range(n_layers):\n",
    "    assume (k [i] > 0)\n",
    "    k_values += solve (eq_kappa_d[i], k[i])"
   ]
  },
  {
   "cell_type": "code",
   "execution_count": null,
   "metadata": {},
   "outputs": [],
   "source": [
    "k_values"
   ]
  },
  {
   "cell_type": "code",
   "execution_count": null,
   "metadata": {},
   "outputs": [],
   "source": [
    "k_values_d = []\n",
    "for i in range(n_layers):\n",
    "    k_values_d += [k_values [i].lhs() == k_values [i].rhs().n() ]"
   ]
  },
  {
   "cell_type": "code",
   "execution_count": null,
   "metadata": {},
   "outputs": [],
   "source": [
    "k_values_d"
   ]
  },
  {
   "cell_type": "code",
   "execution_count": null,
   "metadata": {},
   "outputs": [],
   "source": [
    "disp_eq_s = disp_eq_d.subs(k_values_d)"
   ]
  },
  {
   "cell_type": "code",
   "execution_count": null,
   "metadata": {},
   "outputs": [],
   "source": [
    "disp_eq_s"
   ]
  },
  {
   "cell_type": "code",
   "execution_count": null,
   "metadata": {},
   "outputs": [],
   "source": [
    "disp_eq_brakes = []\n",
    "for i in range(n_layers):\n",
    "    disp_eq_brake = find_root( cos(k_values_d[i].rhs()*x) == 0, lambda_d/32, lambda_d/4)\n",
    "    for j in range (3):\n",
    "        disp_eq_brakes += [ j * pi / k_values_d [i].rhs() + disp_eq_brake]"
   ]
  },
  {
   "cell_type": "code",
   "execution_count": null,
   "metadata": {},
   "outputs": [],
   "source": [
    "disp_eq_brakes"
   ]
  },
  {
   "cell_type": "code",
   "execution_count": null,
   "metadata": {},
   "outputs": [],
   "source": []
  },
  {
   "cell_type": "code",
   "execution_count": null,
   "metadata": {},
   "outputs": [],
   "source": []
  },
  {
   "cell_type": "code",
   "execution_count": null,
   "metadata": {},
   "outputs": [],
   "source": [
    "p = sage.plot.graphics.Graphics()\n",
    "for i in range(n_layers):\n",
    "    p += plot ( cos(k_values_d[i].rhs()* x), lambda_d/32, lambda_d/4)\n",
    "\n",
    "p.show()"
   ]
  },
  {
   "cell_type": "code",
   "execution_count": null,
   "metadata": {
    "scrolled": true
   },
   "outputs": [],
   "source": [
    "disp_eq_brakes"
   ]
  },
  {
   "cell_type": "code",
   "execution_count": null,
   "metadata": {},
   "outputs": [],
   "source": [
    "disp_eq_brakes.sort()"
   ]
  },
  {
   "cell_type": "code",
   "execution_count": null,
   "metadata": {
    "scrolled": true
   },
   "outputs": [],
   "source": [
    "for i in range(len(disp_eq_brakes)):\n",
    "    display(Math(latex(disp_eq_brakes [i].n())))"
   ]
  },
  {
   "cell_type": "code",
   "execution_count": null,
   "metadata": {},
   "outputs": [],
   "source": [
    "disp_eq_s.lhs ().subs(h  == disp_eq_brakes [0] + lambda_d/64)"
   ]
  },
  {
   "cell_type": "code",
   "execution_count": null,
   "metadata": {},
   "outputs": [],
   "source": [
    "p = sage.plot.graphics.Graphics()\n",
    "ylim = 5*10^-5\n",
    "xeps = lambda_d/1024\n",
    "p += plot(disp_eq_s.lhs(), xeps, disp_eq_brakes[0])\n",
    "for i in range(len(disp_eq_brakes)-1):\n",
    "    p += plot (disp_eq_s.lhs(), disp_eq_brakes[i] + xeps, disp_eq_brakes[i+1] - xeps, ymin = -ylim, ymax = ylim)\n",
    "\n",
    "p.show()"
   ]
  },
  {
   "cell_type": "code",
   "execution_count": null,
   "metadata": {},
   "outputs": [],
   "source": [
    "h_lst = []\n",
    "\n",
    "xeps = lambda_d/1024\n",
    "for i in range(len(disp_eq_brakes)-1):\n",
    "    try:\n",
    "        \n",
    "        h_lst += [find_root (disp_eq_s.lhs(), disp_eq_brakes[i] + xeps, disp_eq_brakes[i+1] - xeps)]\n",
    "    except  Exception as ex:\n",
    "        print(str(ex))\n",
    "        print(disp_eq_brakes[i].n())\n",
    "        print(disp_eq_brakes [i+1].n())"
   ]
  },
  {
   "cell_type": "code",
   "execution_count": null,
   "metadata": {},
   "outputs": [],
   "source": [
    "h_lst "
   ]
  },
  {
   "cell_type": "code",
   "execution_count": null,
   "metadata": {},
   "outputs": [],
   "source": [
    "def find_newton_root(f,x,a,b):\n",
    "    df = f.diff(x)\n",
    "    NewtonIt(x)=x-(f/df)(x)\n",
    "    \n",
    "    xn=(a+b)/2;                      # initial guess\n",
    "\n",
    "    print (xn)\n",
    "    for i in range(10):\n",
    "        xn=N(NewtonIt(xn),digits=20)\n",
    "\n",
    "        \n",
    "        print (xn)\n",
    "\n",
    "    return xn"
   ]
  },
  {
   "cell_type": "code",
   "execution_count": null,
   "metadata": {},
   "outputs": [],
   "source": [
    "h_lst =[]\n",
    "\n",
    "xeps = lambda_d/1024\n",
    "for i in range(len(disp_eq_brakes)-1):\n",
    "    try:\n",
    "        h_lst += [find_newton_root (disp_eq_s.lhs(),h,disp_eq_brakes[i] + xeps, disp_eq_brakes[i+1] - xeps)]\n",
    "    except  Exception as ex:\n",
    "        print(str(ex))\n",
    "        print(disp_eq_brakes[i].n())\n",
    "        print(disp_eq_brakes [i+1].n())\n",
    "\n"
   ]
  },
  {
   "cell_type": "code",
   "execution_count": null,
   "metadata": {},
   "outputs": [],
   "source": [
    "h_lst"
   ]
  },
  {
   "cell_type": "code",
   "execution_count": null,
   "metadata": {},
   "outputs": [],
   "source": [
    "h_sol = h_lst[0]"
   ]
  },
  {
   "cell_type": "code",
   "execution_count": null,
   "metadata": {},
   "outputs": [],
   "source": [
    "h_sol"
   ]
  },
  {
   "cell_type": "code",
   "execution_count": null,
   "metadata": {},
   "outputs": [],
   "source": [
    "E_rho_sol = []\n",
    "for i in range(n_layers):\n",
    "    E_rho_sol += [lambda rh,ph,z,  i=i: E_rho_s[i](rh,ph,z).subs(digit_values).subs(h == h_sol).subs(omega_value).subs(kappa == kappa_d1).subs(c_value).subs(k_values_d).subs(B_z[0] == 1).subs (digit_values)]"
   ]
  },
  {
   "cell_type": "code",
   "execution_count": null,
   "metadata": {},
   "outputs": [],
   "source": [
    "E_z_sol = []\n",
    "for i in range(n_layers):\n",
    "    E_z_sol += [lambda rh,ph,z,  i=i: E_zz_s[i](rh,ph,z).subs(digit_values).subs(h == h_sol).subs(omega_value).subs(kappa == kappa_d1).subs(c_value).subs(k_values_d).subs(B_z[0] == 1).subs (digit_values)]"
   ]
  },
  {
   "cell_type": "code",
   "execution_count": null,
   "metadata": {},
   "outputs": [],
   "source": [
    "H_phi_sol = []\n",
    "for i in range(n_layers):\n",
    "    H_phi_sol += [lambda rh,ph,z,  i=i: H_phi_s[i](rh,ph,z).subs(digit_values).subs(h == h_sol).subs(omega_value).subs(kappa == kappa_d1).subs(c_value).subs(k_values_d).subs(B_z[0] == 1).subs (digit_values)]"
   ]
  },
  {
   "cell_type": "code",
   "execution_count": null,
   "metadata": {},
   "outputs": [],
   "source": [
    "[E_rho_sol [1](rho,ph,z) for rho in [0..12]]"
   ]
  },
  {
   "cell_type": "code",
   "execution_count": null,
   "metadata": {},
   "outputs": [],
   "source": []
  },
  {
   "cell_type": "code",
   "execution_count": null,
   "metadata": {},
   "outputs": [],
   "source": []
  },
  {
   "cell_type": "code",
   "execution_count": null,
   "metadata": {},
   "outputs": [],
   "source": [
    "p = sage.plot.graphics.Graphics()\n",
    "\n",
    "for i in range(n_layers):\n",
    "    p += plot ([E_rho_sol[i](rh,ph,z).subs(rh == rho) for rho in [0..12]],(z, i*h_sol, (i+1)*h_sol))\n",
    "p.show ()\n"
   ]
  },
  {
   "cell_type": "code",
   "execution_count": null,
   "metadata": {},
   "outputs": [],
   "source": [
    "p = sage.plot.graphics.Graphics()\n",
    "\n",
    "for i in range(n_layers):\n",
    "    p += plot ([E_z_sol[i](rh,ph,z).subs(rh == rho) for rho in [0..12]],(z, i*h_sol, (i+1)*h_sol))\n",
    "p.show ()\n"
   ]
  },
  {
   "cell_type": "code",
   "execution_count": null,
   "metadata": {},
   "outputs": [],
   "source": [
    "p = sage.plot.graphics.Graphics()\n",
    "\n",
    "for i in range(n_layers):\n",
    "    p += plot ([epsilon_d[i]*E_z_sol[i](rh,ph,z).subs(rh == rho) for rho in [0..12]],(z, i*h_sol, (i+1)*h_sol))\n",
    "p.show ()"
   ]
  },
  {
   "cell_type": "code",
   "execution_count": null,
   "metadata": {},
   "outputs": [],
   "source": [
    "p = sage.plot.graphics.Graphics()\n",
    "\n",
    "for i in range(n_layers):\n",
    "    p += plot ([H_phi_sol[i](rh,ph,z).subs(rh == rho).imag_part() for rho in [0..12]],(z, i*h_sol, (i+1)*h_sol))\n",
    "p.show ()\n"
   ]
  },
  {
   "cell_type": "code",
   "execution_count": null,
   "metadata": {},
   "outputs": [],
   "source": []
  },
  {
   "cell_type": "code",
   "execution_count": null,
   "metadata": {},
   "outputs": [],
   "source": []
  }
 ],
 "metadata": {
  "kernelspec": {
   "display_name": "SageMath 9.0",
   "language": "sage",
   "name": "sagemath"
  },
  "language_info": {
   "codemirror_mode": {
    "name": "ipython",
    "version": 3
   },
   "file_extension": ".py",
   "mimetype": "text/x-python",
   "name": "python",
   "nbconvert_exporter": "python",
   "pygments_lexer": "ipython3",
   "version": "3.7.3"
  }
 },
 "nbformat": 4,
 "nbformat_minor": 4
}
