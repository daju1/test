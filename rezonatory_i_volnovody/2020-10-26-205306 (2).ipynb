{
 "cells": [
  {
   "cell_type": "code",
   "execution_count": 1,
   "metadata": {
    "collapsed": false
   },
   "outputs": [
   ],
   "source": [
    "%display latex"
   ]
  },
  {
   "cell_type": "code",
   "execution_count": 2,
   "metadata": {
    "collapsed": false
   },
   "outputs": [
   ],
   "source": [
    "from IPython.display import display, Math, Latex"
   ]
  },
  {
   "cell_type": "code",
   "execution_count": 3,
   "metadata": {
    "collapsed": false
   },
   "outputs": [
   ],
   "source": [
    "kappa = var(\"kappa\")\n",
    "\n",
    "z = var(\"z\")\n",
    "rh = var(\"rho\")\n",
    "ph = var(\"varphi\")\n",
    "\n",
    "c = var(\"c\")\n",
    "omega = var(\"omega\")\n",
    "\n",
    "h = var(\"h\")\n",
    "a = var(\"a\")"
   ]
  },
  {
   "cell_type": "code",
   "execution_count": 4,
   "metadata": {
    "collapsed": false
   },
   "outputs": [
   ],
   "source": [
    "n_layers = 2"
   ]
  },
  {
   "cell_type": "code",
   "execution_count": 5,
   "metadata": {
    "collapsed": false
   },
   "outputs": [
   ],
   "source": [
    "mu = []\n",
    "for i in range(n_layers):\n",
    "    exec(\"mu_\" + str(i) + \"= var('mu_\" + str(i) + \"')\")\n",
    "    exec(\"mu += [mu_\" + str(i) +\"]\")"
   ]
  },
  {
   "cell_type": "code",
   "execution_count": 6,
   "metadata": {
    "collapsed": false
   },
   "outputs": [
   ],
   "source": [
    "epsilon = []\n",
    "for i in range(n_layers):\n",
    "    exec(\"epsilon_\" + str(i) + \"= var('epsilon_\" + str(i) + \"')\")\n",
    "    exec(\"epsilon += [epsilon_\" + str(i) +\"]\")"
   ]
  },
  {
   "cell_type": "code",
   "execution_count": 7,
   "metadata": {
    "collapsed": false
   },
   "outputs": [
   ],
   "source": [
    "    A_z = []\n",
    "for i in range(n_layers):\n",
    "    exec(\"A_z_\" + str(i) + \"= var('A_z_\" + str(i) + \"')\")\n",
    "    exec(\"A_z += [A_z_\" + str(i) +\"]\")"
   ]
  },
  {
   "cell_type": "code",
   "execution_count": 8,
   "metadata": {
    "collapsed": false
   },
   "outputs": [
   ],
   "source": [
    "    A_r = []\n",
    "for i in range(n_layers):\n",
    "    exec(\"A_r_\" + str(i) + \"= var('A_r_\" + str(i) + \"')\")\n",
    "    exec(\"A_r += [A_r_\" + str(i) +\"]\")"
   ]
  },
  {
   "cell_type": "code",
   "execution_count": 9,
   "metadata": {
    "collapsed": false
   },
   "outputs": [
    {
     "data": {
      "text/html": [
       "<html><script type=\"math/tex; mode=display\">\\newcommand{\\Bold}[1]{\\mathbf{#1}}\\left(\\left[A_{z_{0}}, A_{z_{1}}\\right], \\left[A_{r_{0}}, A_{r_{1}}\\right]\\right)</script></html>"
      ],
      "text/plain": [
       "([A_z_0, A_z_1], [A_r_0, A_r_1])"
      ]
     },
     "execution_count": 9,
     "metadata": {
     },
     "output_type": "execute_result"
    }
   ],
   "source": [
    "A_z,A_r"
   ]
  },
  {
   "cell_type": "code",
   "execution_count": 10,
   "metadata": {
    "collapsed": false
   },
   "outputs": [
   ],
   "source": [
    "B_z = []\n",
    "for i in range(n_layers):\n",
    "    exec(\"B_z_\" + str(i) + \"= var('B_z_\" + str(i) + \"')\")\n",
    "    exec(\"B_z += [B_z_\" + str(i) +\"]\")"
   ]
  },
  {
   "cell_type": "code",
   "execution_count": 11,
   "metadata": {
    "collapsed": false
   },
   "outputs": [
   ],
   "source": [
    "B_r = []\n",
    "for i in range(n_layers):\n",
    "    exec(\"B_r_\" + str(i) + \"= var('B_r_\" + str(i) + \"')\")\n",
    "    exec(\"B_r += [B_r_\" + str(i) +\"]\")"
   ]
  },
  {
   "cell_type": "code",
   "execution_count": 12,
   "metadata": {
    "collapsed": false
   },
   "outputs": [
    {
     "data": {
      "text/html": [
       "<html><script type=\"math/tex; mode=display\">\\newcommand{\\Bold}[1]{\\mathbf{#1}}\\left(\\left[B_{z_{0}}, B_{z_{1}}\\right], \\left[B_{r_{0}}, B_{r_{1}}\\right]\\right)</script></html>"
      ],
      "text/plain": [
       "([B_z_0, B_z_1], [B_r_0, B_r_1])"
      ]
     },
     "execution_count": 12,
     "metadata": {
     },
     "output_type": "execute_result"
    }
   ],
   "source": [
    "B_z,B_r"
   ]
  },
  {
   "cell_type": "code",
   "execution_count": 13,
   "metadata": {
    "collapsed": false
   },
   "outputs": [
   ],
   "source": [
    "k = []\n",
    "for i in range(n_layers):\n",
    "    exec(\"k_\" + str(i) + \"= var('k_\" + str(i) + \"')\")\n",
    "    exec(\"k += [k_\" + str(i) +\"]\")"
   ]
  },
  {
   "cell_type": "code",
   "execution_count": 14,
   "metadata": {
    "collapsed": false
   },
   "outputs": [
    {
     "data": {
      "text/latex": [
       "$$\\left[-k_{0}^{2} + \\frac{\\epsilon_{0} \\mu_{0} \\omega^{2}}{c^{2}} = \\kappa^{2}, -k_{1}^{2} + \\frac{\\epsilon_{1} \\mu_{1} \\omega^{2}}{c^{2}} = \\kappa^{2}\\right]$$"
      ],
      "text/plain": [
       "<IPython.core.display.Math object>"
      ]
     },
     "execution_count": 14,
     "metadata": {
     },
     "output_type": "execute_result"
    }
   ],
   "source": [
    "# исходя из вида дифференциальных уравнений для диэлектрика\n",
    "# записываем соотнощения для волнового вектора в виде уравнений\n",
    "eq_kappa = []\n",
    "for i in range(n_layers):\n",
    "    eq_kappa += [mu[i] * epsilon[i] * omega^2 / c^2 -k[i]^2 == kappa^2]\n",
    "\n",
    "display(Math(latex(eq_kappa)))"
   ]
  },
  {
   "cell_type": "code",
   "execution_count": 15,
   "metadata": {
    "collapsed": false
   },
   "outputs": [
   ],
   "source": [
    "E_r = []\n",
    "for i in range(n_layers):\n",
    "    exec(\"Erh_\" + str(i) + \" = function('E_r_\" + str(i) + \"', nargs=2)\")\n",
    "    exec(\"E_r += [Erh_\" + str(i) +\"]\")"
   ]
  },
  {
   "cell_type": "code",
   "execution_count": 16,
   "metadata": {
    "collapsed": false
   },
   "outputs": [
    {
     "data": {
      "text/html": [
       "<html><script type=\"math/tex; mode=display\">\\newcommand{\\Bold}[1]{\\mathbf{#1}}E_{r_{0}}\\left(\\rho, \\varphi\\right)</script></html>"
      ],
      "text/plain": [
       "E_r_0(rho, varphi)"
      ]
     },
     "execution_count": 16,
     "metadata": {
     },
     "output_type": "execute_result"
    }
   ],
   "source": [
    "E_r[0](rh,ph)"
   ]
  },
  {
   "cell_type": "code",
   "execution_count": 17,
   "metadata": {
    "collapsed": false
   },
   "outputs": [
   ],
   "source": [
    "E_rh = []\n",
    "for i in range(n_layers):\n",
    "    E_rh += [lambda rh,ph,z, i=i: E_r[i](rh,ph)*(B_r[i]*sin(k[i]*z)+A_r[i]*cos(k[i]*z))]"
   ]
  },
  {
   "cell_type": "code",
   "execution_count": 18,
   "metadata": {
    "collapsed": false
   },
   "outputs": [
    {
     "data": {
      "text/html": [
       "<html><script type=\"math/tex; mode=display\">\\newcommand{\\Bold}[1]{\\mathbf{#1}}{\\left(A_{r_{0}} \\cos\\left(k_{0} z\\right) + B_{r_{0}} \\sin\\left(k_{0} z\\right)\\right)} E_{r_{0}}\\left(\\rho, \\varphi\\right)</script></html>"
      ],
      "text/plain": [
       "(A_r_0*cos(k_0*z) + B_r_0*sin(k_0*z))*E_r_0(rho, varphi)"
      ]
     },
     "execution_count": 18,
     "metadata": {
     },
     "output_type": "execute_result"
    }
   ],
   "source": [
    "E_rh[0](rh,ph,z)"
   ]
  },
  {
   "cell_type": "code",
   "execution_count": 19,
   "metadata": {
    "collapsed": false
   },
   "outputs": [
    {
     "data": {
      "text/html": [
       "<html><script type=\"math/tex; mode=display\">\\newcommand{\\Bold}[1]{\\mathbf{#1}}{\\left(A_{r_{1}} \\cos\\left(k_{1} z\\right) + B_{r_{1}} \\sin\\left(k_{1} z\\right)\\right)} E_{r_{1}}\\left(\\rho, \\varphi\\right)</script></html>"
      ],
      "text/plain": [
       "(A_r_1*cos(k_1*z) + B_r_1*sin(k_1*z))*E_r_1(rho, varphi)"
      ]
     },
     "execution_count": 19,
     "metadata": {
     },
     "output_type": "execute_result"
    }
   ],
   "source": [
    "E_rh[1](rh,ph,z)"
   ]
  },
  {
   "cell_type": "code",
   "execution_count": 20,
   "metadata": {
    "collapsed": false
   },
   "outputs": [
   ],
   "source": [
    "E_z = []\n",
    "for i in range(n_layers):\n",
    "    E_z += [lambda rh,ph,z, i=i: bessel_J(0,kappa*rh)*(B_z[i]*sin(k[i]*z)+A_z[i]*cos(k[i]*z))]"
   ]
  },
  {
   "cell_type": "code",
   "execution_count": 21,
   "metadata": {
    "collapsed": false
   },
   "outputs": [
    {
     "data": {
      "text/html": [
       "<html><script type=\"math/tex; mode=display\">\\newcommand{\\Bold}[1]{\\mathbf{#1}}{\\left(A_{z_{0}} \\cos\\left(k_{0} z\\right) + B_{z_{0}} \\sin\\left(k_{0} z\\right)\\right)} J_{0}(\\kappa \\rho)</script></html>"
      ],
      "text/plain": [
       "(A_z_0*cos(k_0*z) + B_z_0*sin(k_0*z))*bessel_J(0, kappa*rho)"
      ]
     },
     "execution_count": 21,
     "metadata": {
     },
     "output_type": "execute_result"
    }
   ],
   "source": [
    "E_z[0](rh,ph,z)"
   ]
  },
  {
   "cell_type": "code",
   "execution_count": 22,
   "metadata": {
    "collapsed": false
   },
   "outputs": [
    {
     "data": {
      "text/html": [
       "<html><script type=\"math/tex; mode=display\">\\newcommand{\\Bold}[1]{\\mathbf{#1}}{\\left(A_{z_{1}} \\cos\\left(k_{1} z\\right) + B_{z_{1}} \\sin\\left(k_{1} z\\right)\\right)} J_{0}(\\kappa \\rho)</script></html>"
      ],
      "text/plain": [
       "(A_z_1*cos(k_1*z) + B_z_1*sin(k_1*z))*bessel_J(0, kappa*rho)"
      ]
     },
     "execution_count": 22,
     "metadata": {
     },
     "output_type": "execute_result"
    }
   ],
   "source": [
    "E_z[1](rh,ph,z)"
   ]
  },
  {
   "cell_type": "code",
   "execution_count": 23,
   "metadata": {
    "collapsed": false
   },
   "outputs": [
   ],
   "source": [
    "rotE_ph =[]\n",
    "for i in range(n_layers):\n",
    "    exec(preparse(\"rotE_ph += [lambda rh,ph,z, i=i: \" + str(E_rh[i](rh,ph,z).diff(z)-E_z[i](rh,ph,z).diff(rh)) +\"]\"))"
   ]
  },
  {
   "cell_type": "code",
   "execution_count": 24,
   "metadata": {
    "collapsed": false,
    "scrolled": true
   },
   "outputs": [
    {
     "data": {
      "text/html": [
       "<html><script type=\"math/tex; mode=display\">\\newcommand{\\Bold}[1]{\\mathbf{#1}}\\frac{1}{2} \\, {\\left(A_{z_{0}} \\cos\\left(k_{0} z\\right) + B_{z_{0}} \\sin\\left(k_{0} z\\right)\\right)} \\kappa {\\left(J_{1}(\\kappa \\rho) - J_{-1}(\\kappa \\rho)\\right)} + {\\left(B_{r_{0}} k_{0} \\cos\\left(k_{0} z\\right) - A_{r_{0}} k_{0} \\sin\\left(k_{0} z\\right)\\right)} E_{r_{0}}\\left(\\rho, \\varphi\\right)</script></html>"
      ],
      "text/plain": [
       "1/2*(A_z_0*cos(k_0*z) + B_z_0*sin(k_0*z))*kappa*(bessel_J(1, kappa*rho) - bessel_J(-1, kappa*rho)) + (B_r_0*k_0*cos(k_0*z) - A_r_0*k_0*sin(k_0*z))*E_r_0(rho, varphi)"
      ]
     },
     "execution_count": 24,
     "metadata": {
     },
     "output_type": "execute_result"
    }
   ],
   "source": [
    "rotE_ph[0](rh,ph,z)"
   ]
  },
  {
   "cell_type": "code",
   "execution_count": 25,
   "metadata": {
    "collapsed": false
   },
   "outputs": [
    {
     "data": {
      "text/html": [
       "<html><script type=\"math/tex; mode=display\">\\newcommand{\\Bold}[1]{\\mathbf{#1}}\\frac{1}{2} \\, {\\left(A_{z_{1}} \\cos\\left(k_{1} z\\right) + B_{z_{1}} \\sin\\left(k_{1} z\\right)\\right)} \\kappa {\\left(J_{1}(\\kappa \\rho) - J_{-1}(\\kappa \\rho)\\right)} + {\\left(B_{r_{1}} k_{1} \\cos\\left(k_{1} z\\right) - A_{r_{1}} k_{1} \\sin\\left(k_{1} z\\right)\\right)} E_{r_{1}}\\left(\\rho, \\varphi\\right)</script></html>"
      ],
      "text/plain": [
       "1/2*(A_z_1*cos(k_1*z) + B_z_1*sin(k_1*z))*kappa*(bessel_J(1, kappa*rho) - bessel_J(-1, kappa*rho)) + (B_r_1*k_1*cos(k_1*z) - A_r_1*k_1*sin(k_1*z))*E_r_1(rho, varphi)"
      ]
     },
     "execution_count": 25,
     "metadata": {
     },
     "output_type": "execute_result"
    }
   ],
   "source": [
    "rotE_ph[1](rh,ph,z)"
   ]
  },
  {
   "cell_type": "code",
   "execution_count": 26,
   "metadata": {
    "collapsed": false
   },
   "outputs": [
   ],
   "source": [
    "H_ph = []\n",
    "for i in range(n_layers):\n",
    "    H_ph += [lambda rh,ph,z, i=i : rotE_ph[i](rh,ph,z)*c/(I*omega *mu[i])]"
   ]
  },
  {
   "cell_type": "code",
   "execution_count": 27,
   "metadata": {
    "collapsed": false,
    "scrolled": true
   },
   "outputs": [
    {
     "data": {
      "text/html": [
       "<html><script type=\"math/tex; mode=display\">\\newcommand{\\Bold}[1]{\\mathbf{#1}}-\\frac{i \\, {\\left({\\left(A_{z_{0}} \\cos\\left(k_{0} z\\right) + B_{z_{0}} \\sin\\left(k_{0} z\\right)\\right)} \\kappa {\\left(J_{1}(\\kappa \\rho) - J_{-1}(\\kappa \\rho)\\right)} + 2 \\, {\\left(B_{r_{0}} k_{0} \\cos\\left(k_{0} z\\right) - A_{r_{0}} k_{0} \\sin\\left(k_{0} z\\right)\\right)} E_{r_{0}}\\left(\\rho, \\varphi\\right)\\right)} c}{2 \\, \\mu_{0} \\omega}</script></html>"
      ],
      "text/plain": [
       "-1/2*I*((A_z_0*cos(k_0*z) + B_z_0*sin(k_0*z))*kappa*(bessel_J(1, kappa*rho) - bessel_J(-1, kappa*rho)) + 2*(B_r_0*k_0*cos(k_0*z) - A_r_0*k_0*sin(k_0*z))*E_r_0(rho, varphi))*c/(mu_0*omega)"
      ]
     },
     "execution_count": 27,
     "metadata": {
     },
     "output_type": "execute_result"
    }
   ],
   "source": [
    "H_ph[0](rh,ph,z)"
   ]
  },
  {
   "cell_type": "code",
   "execution_count": 28,
   "metadata": {
    "collapsed": false
   },
   "outputs": [
    {
     "data": {
      "text/html": [
       "<html><script type=\"math/tex; mode=display\">\\newcommand{\\Bold}[1]{\\mathbf{#1}}-\\frac{i \\, {\\left({\\left(A_{z_{1}} \\cos\\left(k_{1} z\\right) + B_{z_{1}} \\sin\\left(k_{1} z\\right)\\right)} \\kappa {\\left(J_{1}(\\kappa \\rho) - J_{-1}(\\kappa \\rho)\\right)} + 2 \\, {\\left(B_{r_{1}} k_{1} \\cos\\left(k_{1} z\\right) - A_{r_{1}} k_{1} \\sin\\left(k_{1} z\\right)\\right)} E_{r_{1}}\\left(\\rho, \\varphi\\right)\\right)} c}{2 \\, \\mu_{1} \\omega}</script></html>"
      ],
      "text/plain": [
       "-1/2*I*((A_z_1*cos(k_1*z) + B_z_1*sin(k_1*z))*kappa*(bessel_J(1, kappa*rho) - bessel_J(-1, kappa*rho)) + 2*(B_r_1*k_1*cos(k_1*z) - A_r_1*k_1*sin(k_1*z))*E_r_1(rho, varphi))*c/(mu_1*omega)"
      ]
     },
     "execution_count": 28,
     "metadata": {
     },
     "output_type": "execute_result"
    }
   ],
   "source": [
    "H_ph[1](rh,ph,z)"
   ]
  },
  {
   "cell_type": "code",
   "execution_count": 29,
   "metadata": {
    "collapsed": false
   },
   "outputs": [
   ],
   "source": [
    "rotH_rh = []\n",
    "for i in range(n_layers):\n",
    "    exec(preparse(\"rotH_rh += [lambda rh,ph,z, i=i : \" + str(- H_ph[i](rh,ph,z).diff(z)) + \"]\"))"
   ]
  },
  {
   "cell_type": "code",
   "execution_count": 30,
   "metadata": {
    "collapsed": false
   },
   "outputs": [
    {
     "data": {
      "text/html": [
       "<html><script type=\"math/tex; mode=display\">\\newcommand{\\Bold}[1]{\\mathbf{#1}}-\\frac{{\\left(-i \\, {\\left(B_{z_{0}} k_{0} \\cos\\left(k_{0} z\\right) - A_{z_{0}} k_{0} \\sin\\left(k_{0} z\\right)\\right)} \\kappa {\\left(J_{1}(\\kappa \\rho) - J_{-1}(\\kappa \\rho)\\right)} + 2 i \\, {\\left(A_{r_{0}} k_{0}^{2} \\cos\\left(k_{0} z\\right) + B_{r_{0}} k_{0}^{2} \\sin\\left(k_{0} z\\right)\\right)} E_{r_{0}}\\left(\\rho, \\varphi\\right)\\right)} c}{2 \\, \\mu_{0} \\omega}</script></html>"
      ],
      "text/plain": [
       "-1/2*(-I*(B_z_0*k_0*cos(k_0*z) - A_z_0*k_0*sin(k_0*z))*kappa*(bessel_J(1, kappa*rho) - bessel_J(-1, kappa*rho)) + 2*I*(A_r_0*k_0^2*cos(k_0*z) + B_r_0*k_0^2*sin(k_0*z))*E_r_0(rho, varphi))*c/(mu_0*omega)"
      ]
     },
     "execution_count": 30,
     "metadata": {
     },
     "output_type": "execute_result"
    }
   ],
   "source": [
    "rotH_rh[0](rh,ph,z)"
   ]
  },
  {
   "cell_type": "code",
   "execution_count": 31,
   "metadata": {
    "collapsed": false,
    "scrolled": true
   },
   "outputs": [
    {
     "data": {
      "text/html": [
       "<html><script type=\"math/tex; mode=display\">\\newcommand{\\Bold}[1]{\\mathbf{#1}}-\\frac{{\\left(-i \\, {\\left(B_{z_{1}} k_{1} \\cos\\left(k_{1} z\\right) - A_{z_{1}} k_{1} \\sin\\left(k_{1} z\\right)\\right)} \\kappa {\\left(J_{1}(\\kappa \\rho) - J_{-1}(\\kappa \\rho)\\right)} + 2 i \\, {\\left(A_{r_{1}} k_{1}^{2} \\cos\\left(k_{1} z\\right) + B_{r_{1}} k_{1}^{2} \\sin\\left(k_{1} z\\right)\\right)} E_{r_{1}}\\left(\\rho, \\varphi\\right)\\right)} c}{2 \\, \\mu_{1} \\omega}</script></html>"
      ],
      "text/plain": [
       "-1/2*(-I*(B_z_1*k_1*cos(k_1*z) - A_z_1*k_1*sin(k_1*z))*kappa*(bessel_J(1, kappa*rho) - bessel_J(-1, kappa*rho)) + 2*I*(A_r_1*k_1^2*cos(k_1*z) + B_r_1*k_1^2*sin(k_1*z))*E_r_1(rho, varphi))*c/(mu_1*omega)"
      ]
     },
     "execution_count": 31,
     "metadata": {
     },
     "output_type": "execute_result"
    }
   ],
   "source": [
    "rotH_rh[1](rh,ph,z)"
   ]
  },
  {
   "cell_type": "code",
   "execution_count": 32,
   "metadata": {
    "collapsed": false
   },
   "outputs": [
   ],
   "source": [
    "eqE_rh =[]\n",
    "for i in range(n_layers):\n",
    "    eqE_rh += [rotH_rh[i](rh,ph,z) == -I * omega / c * epsilon[i] * E_rh[i](rh,ph,z) ]"
   ]
  },
  {
   "cell_type": "code",
   "execution_count": 33,
   "metadata": {
    "collapsed": false
   },
   "outputs": [
    {
     "data": {
      "text/html": [
       "<html><script type=\"math/tex; mode=display\">\\newcommand{\\Bold}[1]{\\mathbf{#1}}-\\frac{{\\left(-i \\, {\\left(B_{z_{0}} k_{0} \\cos\\left(k_{0} z\\right) - A_{z_{0}} k_{0} \\sin\\left(k_{0} z\\right)\\right)} \\kappa {\\left(J_{1}(\\kappa \\rho) - J_{-1}(\\kappa \\rho)\\right)} + 2 i \\, {\\left(A_{r_{0}} k_{0}^{2} \\cos\\left(k_{0} z\\right) + B_{r_{0}} k_{0}^{2} \\sin\\left(k_{0} z\\right)\\right)} E_{r_{0}}\\left(\\rho, \\varphi\\right)\\right)} c}{2 \\, \\mu_{0} \\omega} = -\\frac{i \\, {\\left(A_{r_{0}} \\cos\\left(k_{0} z\\right) + B_{r_{0}} \\sin\\left(k_{0} z\\right)\\right)} \\epsilon_{0} \\omega E_{r_{0}}\\left(\\rho, \\varphi\\right)}{c}</script></html>"
      ],
      "text/plain": [
       "-1/2*(-I*(B_z_0*k_0*cos(k_0*z) - A_z_0*k_0*sin(k_0*z))*kappa*(bessel_J(1, kappa*rho) - bessel_J(-1, kappa*rho)) + 2*I*(A_r_0*k_0^2*cos(k_0*z) + B_r_0*k_0^2*sin(k_0*z))*E_r_0(rho, varphi))*c/(mu_0*omega) == -I*(A_r_0*cos(k_0*z) + B_r_0*sin(k_0*z))*epsilon_0*omega*E_r_0(rho, varphi)/c"
      ]
     },
     "execution_count": 33,
     "metadata": {
     },
     "output_type": "execute_result"
    }
   ],
   "source": [
    "eqE_rh[0]"
   ]
  },
  {
   "cell_type": "code",
   "execution_count": 34,
   "metadata": {
    "collapsed": false
   },
   "outputs": [
    {
     "data": {
      "text/html": [
       "<html><script type=\"math/tex; mode=display\">\\newcommand{\\Bold}[1]{\\mathbf{#1}}-\\frac{{\\left(-i \\, {\\left(B_{z_{1}} k_{1} \\cos\\left(k_{1} z\\right) - A_{z_{1}} k_{1} \\sin\\left(k_{1} z\\right)\\right)} \\kappa {\\left(J_{1}(\\kappa \\rho) - J_{-1}(\\kappa \\rho)\\right)} + 2 i \\, {\\left(A_{r_{1}} k_{1}^{2} \\cos\\left(k_{1} z\\right) + B_{r_{1}} k_{1}^{2} \\sin\\left(k_{1} z\\right)\\right)} E_{r_{1}}\\left(\\rho, \\varphi\\right)\\right)} c}{2 \\, \\mu_{1} \\omega} = -\\frac{i \\, {\\left(A_{r_{1}} \\cos\\left(k_{1} z\\right) + B_{r_{1}} \\sin\\left(k_{1} z\\right)\\right)} \\epsilon_{1} \\omega E_{r_{1}}\\left(\\rho, \\varphi\\right)}{c}</script></html>"
      ],
      "text/plain": [
       "-1/2*(-I*(B_z_1*k_1*cos(k_1*z) - A_z_1*k_1*sin(k_1*z))*kappa*(bessel_J(1, kappa*rho) - bessel_J(-1, kappa*rho)) + 2*I*(A_r_1*k_1^2*cos(k_1*z) + B_r_1*k_1^2*sin(k_1*z))*E_r_1(rho, varphi))*c/(mu_1*omega) == -I*(A_r_1*cos(k_1*z) + B_r_1*sin(k_1*z))*epsilon_1*omega*E_r_1(rho, varphi)/c"
      ]
     },
     "execution_count": 34,
     "metadata": {
     },
     "output_type": "execute_result"
    }
   ],
   "source": [
    "eqE_rh[1]"
   ]
  },
  {
   "cell_type": "code",
   "execution_count": 35,
   "metadata": {
    "collapsed": false
   },
   "outputs": [
   ],
   "source": [
    "E_rs = []\n",
    "for i in range(n_layers):\n",
    "    exec(preparse(\"E_rs += [lambda rh,ph,i=i : \" + str(solve(eqE_rh[i], E_r[i](rh,ph))[0].rhs()) +\"]\"))"
   ]
  },
  {
   "cell_type": "code",
   "execution_count": 36,
   "metadata": {
    "collapsed": false,
    "scrolled": true
   },
   "outputs": [
    {
     "data": {
      "text/html": [
       "<html><script type=\"math/tex; mode=display\">\\newcommand{\\Bold}[1]{\\mathbf{#1}}\\frac{B_{z_{0}} c^{2} k_{0} \\kappa J_{1}(\\kappa \\rho) \\cos\\left(k_{0} z\\right) - A_{z_{0}} c^{2} k_{0} \\kappa J_{1}(\\kappa \\rho) \\sin\\left(k_{0} z\\right)}{{\\left(A_{r_{0}} c^{2} k_{0}^{2} - A_{r_{0}} \\epsilon_{0} \\mu_{0} \\omega^{2}\\right)} \\cos\\left(k_{0} z\\right) + {\\left(B_{r_{0}} c^{2} k_{0}^{2} - B_{r_{0}} \\epsilon_{0} \\mu_{0} \\omega^{2}\\right)} \\sin\\left(k_{0} z\\right)}</script></html>"
      ],
      "text/plain": [
       "(B_z_0*c^2*k_0*kappa*bessel_J(1, kappa*rho)*cos(k_0*z) - A_z_0*c^2*k_0*kappa*bessel_J(1, kappa*rho)*sin(k_0*z))/((A_r_0*c^2*k_0^2 - A_r_0*epsilon_0*mu_0*omega^2)*cos(k_0*z) + (B_r_0*c^2*k_0^2 - B_r_0*epsilon_0*mu_0*omega^2)*sin(k_0*z))"
      ]
     },
     "execution_count": 36,
     "metadata": {
     },
     "output_type": "execute_result"
    }
   ],
   "source": [
    "E_rs[0](rh,ph)"
   ]
  },
  {
   "cell_type": "code",
   "execution_count": 37,
   "metadata": {
    "collapsed": false
   },
   "outputs": [
    {
     "data": {
      "text/html": [
       "<html><script type=\"math/tex; mode=display\">\\newcommand{\\Bold}[1]{\\mathbf{#1}}\\frac{B_{z_{1}} c^{2} k_{1} \\kappa J_{1}(\\kappa \\rho) \\cos\\left(k_{1} z\\right) - A_{z_{1}} c^{2} k_{1} \\kappa J_{1}(\\kappa \\rho) \\sin\\left(k_{1} z\\right)}{{\\left(A_{r_{1}} c^{2} k_{1}^{2} - A_{r_{1}} \\epsilon_{1} \\mu_{1} \\omega^{2}\\right)} \\cos\\left(k_{1} z\\right) + {\\left(B_{r_{1}} c^{2} k_{1}^{2} - B_{r_{1}} \\epsilon_{1} \\mu_{1} \\omega^{2}\\right)} \\sin\\left(k_{1} z\\right)}</script></html>"
      ],
      "text/plain": [
       "(B_z_1*c^2*k_1*kappa*bessel_J(1, kappa*rho)*cos(k_1*z) - A_z_1*c^2*k_1*kappa*bessel_J(1, kappa*rho)*sin(k_1*z))/((A_r_1*c^2*k_1^2 - A_r_1*epsilon_1*mu_1*omega^2)*cos(k_1*z) + (B_r_1*c^2*k_1^2 - B_r_1*epsilon_1*mu_1*omega^2)*sin(k_1*z))"
      ]
     },
     "execution_count": 37,
     "metadata": {
     },
     "output_type": "execute_result"
    }
   ],
   "source": [
    "E_rs[1](rh,ph)"
   ]
  },
  {
   "cell_type": "code",
   "execution_count": 38,
   "metadata": {
    "collapsed": false
   },
   "outputs": [
   ],
   "source": [
    "E_rs = []\n",
    "for i in range(n_layers):\n",
    "    exec(preparse(\"E_rs += [lambda rh,ph,i=i : \" + str(solve(eqE_rh[i], E_r[i](rh,ph))[0].rhs().subs(solve(eq_kappa[i],omega^2)).full_simplify()) +\"]\"))"
   ]
  },
  {
   "cell_type": "code",
   "execution_count": 39,
   "metadata": {
    "collapsed": false
   },
   "outputs": [
    {
     "data": {
      "text/html": [
       "<html><script type=\"math/tex; mode=display\">\\newcommand{\\Bold}[1]{\\mathbf{#1}}-\\frac{B_{z_{0}} k_{0} J_{1}(\\kappa \\rho) \\cos\\left(k_{0} z\\right) - A_{z_{0}} k_{0} J_{1}(\\kappa \\rho) \\sin\\left(k_{0} z\\right)}{A_{r_{0}} \\kappa \\cos\\left(k_{0} z\\right) + B_{r_{0}} \\kappa \\sin\\left(k_{0} z\\right)}</script></html>"
      ],
      "text/plain": [
       "-(B_z_0*k_0*bessel_J(1, kappa*rho)*cos(k_0*z) - A_z_0*k_0*bessel_J(1, kappa*rho)*sin(k_0*z))/(A_r_0*kappa*cos(k_0*z) + B_r_0*kappa*sin(k_0*z))"
      ]
     },
     "execution_count": 39,
     "metadata": {
     },
     "output_type": "execute_result"
    }
   ],
   "source": [
    "E_rs[0](rh,ph)"
   ]
  },
  {
   "cell_type": "code",
   "execution_count": 40,
   "metadata": {
    "collapsed": false,
    "scrolled": true
   },
   "outputs": [
    {
     "data": {
      "text/html": [
       "<html><script type=\"math/tex; mode=display\">\\newcommand{\\Bold}[1]{\\mathbf{#1}}-\\frac{B_{z_{1}} k_{1} J_{1}(\\kappa \\rho) \\cos\\left(k_{1} z\\right) - A_{z_{1}} k_{1} J_{1}(\\kappa \\rho) \\sin\\left(k_{1} z\\right)}{A_{r_{1}} \\kappa \\cos\\left(k_{1} z\\right) + B_{r_{1}} \\kappa \\sin\\left(k_{1} z\\right)}</script></html>"
      ],
      "text/plain": [
       "-(B_z_1*k_1*bessel_J(1, kappa*rho)*cos(k_1*z) - A_z_1*k_1*bessel_J(1, kappa*rho)*sin(k_1*z))/(A_r_1*kappa*cos(k_1*z) + B_r_1*kappa*sin(k_1*z))"
      ]
     },
     "execution_count": 40,
     "metadata": {
     },
     "output_type": "execute_result"
    }
   ],
   "source": [
    "E_rs[1](rh,ph)"
   ]
  },
  {
   "cell_type": "code",
   "execution_count": 0,
   "metadata": {
    "collapsed": false
   },
   "outputs": [
   ],
   "source": [
   ]
  },
  {
   "cell_type": "code",
   "execution_count": 41,
   "metadata": {
    "collapsed": false
   },
   "outputs": [
   ],
   "source": [
    "E_rhs = []\n",
    "for i in range(n_layers):\n",
    "    E_rhs += [lambda rh,ph,z, i=i: E_rs[i](rh,ph)*(B_r[i]*sin(k[i]*z)+A_r[i]*cos(k[i]*z))]"
   ]
  },
  {
   "cell_type": "code",
   "execution_count": 42,
   "metadata": {
    "collapsed": false
   },
   "outputs": [
    {
     "data": {
      "text/html": [
       "<html><script type=\"math/tex; mode=display\">\\newcommand{\\Bold}[1]{\\mathbf{#1}}-\\frac{{\\left(B_{z_{0}} k_{0} J_{1}(\\kappa \\rho) \\cos\\left(k_{0} z\\right) - A_{z_{0}} k_{0} J_{1}(\\kappa \\rho) \\sin\\left(k_{0} z\\right)\\right)} {\\left(A_{r_{0}} \\cos\\left(k_{0} z\\right) + B_{r_{0}} \\sin\\left(k_{0} z\\right)\\right)}}{A_{r_{0}} \\kappa \\cos\\left(k_{0} z\\right) + B_{r_{0}} \\kappa \\sin\\left(k_{0} z\\right)}</script></html>"
      ],
      "text/plain": [
       "-(B_z_0*k_0*bessel_J(1, kappa*rho)*cos(k_0*z) - A_z_0*k_0*bessel_J(1, kappa*rho)*sin(k_0*z))*(A_r_0*cos(k_0*z) + B_r_0*sin(k_0*z))/(A_r_0*kappa*cos(k_0*z) + B_r_0*kappa*sin(k_0*z))"
      ]
     },
     "execution_count": 42,
     "metadata": {
     },
     "output_type": "execute_result"
    }
   ],
   "source": [
    "E_rhs[0](rh,ph,z)"
   ]
  },
  {
   "cell_type": "code",
   "execution_count": 43,
   "metadata": {
    "collapsed": false
   },
   "outputs": [
   ],
   "source": [
    "eqE_rhs =[]\n",
    "for i in range(n_layers):\n",
    "    eqE_rhs +=[eqE_rh[i].subs(E_r [i](rh,ph) == E_rs[i](rh,ph))]"
   ]
  },
  {
   "cell_type": "code",
   "execution_count": 44,
   "metadata": {
    "collapsed": false
   },
   "outputs": [
    {
     "data": {
      "text/html": [
       "<html><script type=\"math/tex; mode=display\">\\newcommand{\\Bold}[1]{\\mathbf{#1}}-\\frac{{\\left(-i \\, {\\left(B_{z_{0}} k_{0} \\cos\\left(k_{0} z\\right) - A_{z_{0}} k_{0} \\sin\\left(k_{0} z\\right)\\right)} \\kappa {\\left(J_{1}(\\kappa \\rho) - J_{-1}(\\kappa \\rho)\\right)} - \\frac{2 i \\, {\\left(A_{r_{0}} k_{0}^{2} \\cos\\left(k_{0} z\\right) + B_{r_{0}} k_{0}^{2} \\sin\\left(k_{0} z\\right)\\right)} {\\left(B_{z_{0}} k_{0} J_{1}(\\kappa \\rho) \\cos\\left(k_{0} z\\right) - A_{z_{0}} k_{0} J_{1}(\\kappa \\rho) \\sin\\left(k_{0} z\\right)\\right)}}{A_{r_{0}} \\kappa \\cos\\left(k_{0} z\\right) + B_{r_{0}} \\kappa \\sin\\left(k_{0} z\\right)}\\right)} c}{2 \\, \\mu_{0} \\omega} = \\frac{i \\, {\\left(B_{z_{0}} k_{0} J_{1}(\\kappa \\rho) \\cos\\left(k_{0} z\\right) - A_{z_{0}} k_{0} J_{1}(\\kappa \\rho) \\sin\\left(k_{0} z\\right)\\right)} {\\left(A_{r_{0}} \\cos\\left(k_{0} z\\right) + B_{r_{0}} \\sin\\left(k_{0} z\\right)\\right)} \\epsilon_{0} \\omega}{{\\left(A_{r_{0}} \\kappa \\cos\\left(k_{0} z\\right) + B_{r_{0}} \\kappa \\sin\\left(k_{0} z\\right)\\right)} c}</script></html>"
      ],
      "text/plain": [
       "-1/2*(-I*(B_z_0*k_0*cos(k_0*z) - A_z_0*k_0*sin(k_0*z))*kappa*(bessel_J(1, kappa*rho) - bessel_J(-1, kappa*rho)) - 2*I*(A_r_0*k_0^2*cos(k_0*z) + B_r_0*k_0^2*sin(k_0*z))*(B_z_0*k_0*bessel_J(1, kappa*rho)*cos(k_0*z) - A_z_0*k_0*bessel_J(1, kappa*rho)*sin(k_0*z))/(A_r_0*kappa*cos(k_0*z) + B_r_0*kappa*sin(k_0*z)))*c/(mu_0*omega) == I*(B_z_0*k_0*bessel_J(1, kappa*rho)*cos(k_0*z) - A_z_0*k_0*bessel_J(1, kappa*rho)*sin(k_0*z))*(A_r_0*cos(k_0*z) + B_r_0*sin(k_0*z))*epsilon_0*omega/((A_r_0*kappa*cos(k_0*z) + B_r_0*kappa*sin(k_0*z))*c)"
      ]
     },
     "execution_count": 44,
     "metadata": {
     },
     "output_type": "execute_result"
    }
   ],
   "source": [
    "eqE_rhs[0]"
   ]
  },
  {
   "cell_type": "code",
   "execution_count": 45,
   "metadata": {
    "collapsed": false
   },
   "outputs": [
    {
     "data": {
      "text/html": [
       "<html><script type=\"math/tex; mode=display\">\\newcommand{\\Bold}[1]{\\mathbf{#1}}-\\frac{{\\left(-i \\, {\\left(B_{z_{1}} k_{1} \\cos\\left(k_{1} z\\right) - A_{z_{1}} k_{1} \\sin\\left(k_{1} z\\right)\\right)} \\kappa {\\left(J_{1}(\\kappa \\rho) - J_{-1}(\\kappa \\rho)\\right)} - \\frac{2 i \\, {\\left(A_{r_{1}} k_{1}^{2} \\cos\\left(k_{1} z\\right) + B_{r_{1}} k_{1}^{2} \\sin\\left(k_{1} z\\right)\\right)} {\\left(B_{z_{1}} k_{1} J_{1}(\\kappa \\rho) \\cos\\left(k_{1} z\\right) - A_{z_{1}} k_{1} J_{1}(\\kappa \\rho) \\sin\\left(k_{1} z\\right)\\right)}}{A_{r_{1}} \\kappa \\cos\\left(k_{1} z\\right) + B_{r_{1}} \\kappa \\sin\\left(k_{1} z\\right)}\\right)} c}{2 \\, \\mu_{1} \\omega} = \\frac{i \\, {\\left(B_{z_{1}} k_{1} J_{1}(\\kappa \\rho) \\cos\\left(k_{1} z\\right) - A_{z_{1}} k_{1} J_{1}(\\kappa \\rho) \\sin\\left(k_{1} z\\right)\\right)} {\\left(A_{r_{1}} \\cos\\left(k_{1} z\\right) + B_{r_{1}} \\sin\\left(k_{1} z\\right)\\right)} \\epsilon_{1} \\omega}{{\\left(A_{r_{1}} \\kappa \\cos\\left(k_{1} z\\right) + B_{r_{1}} \\kappa \\sin\\left(k_{1} z\\right)\\right)} c}</script></html>"
      ],
      "text/plain": [
       "-1/2*(-I*(B_z_1*k_1*cos(k_1*z) - A_z_1*k_1*sin(k_1*z))*kappa*(bessel_J(1, kappa*rho) - bessel_J(-1, kappa*rho)) - 2*I*(A_r_1*k_1^2*cos(k_1*z) + B_r_1*k_1^2*sin(k_1*z))*(B_z_1*k_1*bessel_J(1, kappa*rho)*cos(k_1*z) - A_z_1*k_1*bessel_J(1, kappa*rho)*sin(k_1*z))/(A_r_1*kappa*cos(k_1*z) + B_r_1*kappa*sin(k_1*z)))*c/(mu_1*omega) == I*(B_z_1*k_1*bessel_J(1, kappa*rho)*cos(k_1*z) - A_z_1*k_1*bessel_J(1, kappa*rho)*sin(k_1*z))*(A_r_1*cos(k_1*z) + B_r_1*sin(k_1*z))*epsilon_1*omega/((A_r_1*kappa*cos(k_1*z) + B_r_1*kappa*sin(k_1*z))*c)"
      ]
     },
     "execution_count": 45,
     "metadata": {
     },
     "output_type": "execute_result"
    }
   ],
   "source": [
    "eqE_rhs [1]"
   ]
  },
  {
   "cell_type": "code",
   "execution_count": 0,
   "metadata": {
    "collapsed": false
   },
   "outputs": [
   ],
   "source": [
   ]
  },
  {
   "cell_type": "code",
   "execution_count": 0,
   "metadata": {
    "collapsed": false
   },
   "outputs": [
   ],
   "source": [
   ]
  },
  {
   "cell_type": "code",
   "execution_count": 46,
   "metadata": {
    "collapsed": false,
    "scrolled": true
   },
   "outputs": [
   ],
   "source": [
    "H_phs = []\n",
    "for i in range(n_layers):    exec(preparse(\"H_phs += [ lambda rh,ph,z, i=i: \" + str(H_ph[i](rh,ph,z).subs(E_r[i](rh,ph) == E_rs[i](rh,ph)).full_simplify ())+ \"]\"))\n"
   ]
  },
  {
   "cell_type": "code",
   "execution_count": 47,
   "metadata": {
    "collapsed": false
   },
   "outputs": [
    {
     "data": {
      "text/html": [
       "<html><script type=\"math/tex; mode=display\">\\newcommand{\\Bold}[1]{\\mathbf{#1}}-\\frac{{\\left(-i \\, B_{r_{0}} B_{z_{0}} c k_{0}^{2} J_{1}(\\kappa \\rho) + i \\, A_{r_{0}} A_{z_{0}} c \\kappa^{2} J_{1}(\\kappa \\rho)\\right)} \\cos\\left(k_{0} z\\right)^{2} + {\\left({\\left(i \\, A_{z_{0}} B_{r_{0}} J_{1}(\\kappa \\rho) + i \\, A_{r_{0}} B_{z_{0}} J_{1}(\\kappa \\rho)\\right)} c k_{0}^{2} + {\\left(i \\, A_{z_{0}} B_{r_{0}} J_{1}(\\kappa \\rho) + i \\, A_{r_{0}} B_{z_{0}} J_{1}(\\kappa \\rho)\\right)} c \\kappa^{2}\\right)} \\cos\\left(k_{0} z\\right) \\sin\\left(k_{0} z\\right) + {\\left(-i \\, A_{r_{0}} A_{z_{0}} c k_{0}^{2} J_{1}(\\kappa \\rho) + i \\, B_{r_{0}} B_{z_{0}} c \\kappa^{2} J_{1}(\\kappa \\rho)\\right)} \\sin\\left(k_{0} z\\right)^{2}}{A_{r_{0}} \\kappa \\mu_{0} \\omega \\cos\\left(k_{0} z\\right) + B_{r_{0}} \\kappa \\mu_{0} \\omega \\sin\\left(k_{0} z\\right)}</script></html>"
      ],
      "text/plain": [
       "-((-I*B_r_0*B_z_0*c*k_0^2*bessel_J(1, kappa*rho) + I*A_r_0*A_z_0*c*kappa^2*bessel_J(1, kappa*rho))*cos(k_0*z)^2 + ((I*A_z_0*B_r_0*bessel_J(1, kappa*rho) + I*A_r_0*B_z_0*bessel_J(1, kappa*rho))*c*k_0^2 + (I*A_z_0*B_r_0*bessel_J(1, kappa*rho) + I*A_r_0*B_z_0*bessel_J(1, kappa*rho))*c*kappa^2)*cos(k_0*z)*sin(k_0*z) + (-I*A_r_0*A_z_0*c*k_0^2*bessel_J(1, kappa*rho) + I*B_r_0*B_z_0*c*kappa^2*bessel_J(1, kappa*rho))*sin(k_0*z)^2)/(A_r_0*kappa*mu_0*omega*cos(k_0*z) + B_r_0*kappa*mu_0*omega*sin(k_0*z))"
      ]
     },
     "execution_count": 47,
     "metadata": {
     },
     "output_type": "execute_result"
    }
   ],
   "source": [
    "H_phs[0](rh,ph,z)"
   ]
  },
  {
   "cell_type": "code",
   "execution_count": 48,
   "metadata": {
    "collapsed": false,
    "scrolled": true
   },
   "outputs": [
   ],
   "source": [
    "rotH_z = []\n",
    "for i in range(n_layers):\n",
    "    exec(preparse(\"rotH_z += [lambda rh,ph,z, i=i : \"+ str((rh * H_phs[i](rh,ph,z)).diff(rh).full_simplify()) + \"]\"))"
   ]
  },
  {
   "cell_type": "code",
   "execution_count": 49,
   "metadata": {
    "collapsed": false
   },
   "outputs": [
    {
     "data": {
      "text/html": [
       "<html><script type=\"math/tex; mode=display\">\\newcommand{\\Bold}[1]{\\mathbf{#1}}\\frac{{\\left(2 i \\, B_{r_{0}} B_{z_{0}} c k_{0}^{2} J_{1}(\\kappa \\rho) - 2 i \\, A_{r_{0}} A_{z_{0}} c \\kappa^{2} J_{1}(\\kappa \\rho) + {\\left(A_{r_{0}} A_{z_{0}} c \\kappa^{3} {\\left(i \\, J_{2}(\\kappa \\rho) - i \\, J_{0}(\\kappa \\rho)\\right)} + B_{r_{0}} B_{z_{0}} c k_{0}^{2} \\kappa {\\left(-i \\, J_{2}(\\kappa \\rho) + i \\, J_{0}(\\kappa \\rho)\\right)}\\right)} \\rho\\right)} \\cos\\left(k_{0} z\\right)^{2} + {\\left({\\left(-2 i \\, A_{z_{0}} B_{r_{0}} J_{1}(\\kappa \\rho) - 2 i \\, A_{r_{0}} B_{z_{0}} J_{1}(\\kappa \\rho)\\right)} c k_{0}^{2} + {\\left(-2 i \\, A_{z_{0}} B_{r_{0}} J_{1}(\\kappa \\rho) - 2 i \\, A_{r_{0}} B_{z_{0}} J_{1}(\\kappa \\rho)\\right)} c \\kappa^{2} + {\\left({\\left(A_{z_{0}} B_{r_{0}} {\\left(i \\, J_{2}(\\kappa \\rho) - i \\, J_{0}(\\kappa \\rho)\\right)} + A_{r_{0}} B_{z_{0}} {\\left(i \\, J_{2}(\\kappa \\rho) - i \\, J_{0}(\\kappa \\rho)\\right)}\\right)} c k_{0}^{2} \\kappa + {\\left(A_{z_{0}} B_{r_{0}} {\\left(i \\, J_{2}(\\kappa \\rho) - i \\, J_{0}(\\kappa \\rho)\\right)} + A_{r_{0}} B_{z_{0}} {\\left(i \\, J_{2}(\\kappa \\rho) - i \\, J_{0}(\\kappa \\rho)\\right)}\\right)} c \\kappa^{3}\\right)} \\rho\\right)} \\cos\\left(k_{0} z\\right) \\sin\\left(k_{0} z\\right) + {\\left(2 i \\, A_{r_{0}} A_{z_{0}} c k_{0}^{2} J_{1}(\\kappa \\rho) - 2 i \\, B_{r_{0}} B_{z_{0}} c \\kappa^{2} J_{1}(\\kappa \\rho) + {\\left(B_{r_{0}} B_{z_{0}} c \\kappa^{3} {\\left(i \\, J_{2}(\\kappa \\rho) - i \\, J_{0}(\\kappa \\rho)\\right)} + A_{r_{0}} A_{z_{0}} c k_{0}^{2} \\kappa {\\left(-i \\, J_{2}(\\kappa \\rho) + i \\, J_{0}(\\kappa \\rho)\\right)}\\right)} \\rho\\right)} \\sin\\left(k_{0} z\\right)^{2}}{2 \\, {\\left(A_{r_{0}} \\kappa \\mu_{0} \\omega \\cos\\left(k_{0} z\\right) + B_{r_{0}} \\kappa \\mu_{0} \\omega \\sin\\left(k_{0} z\\right)\\right)}}</script></html>"
      ],
      "text/plain": [
       "1/2*((2*I*B_r_0*B_z_0*c*k_0^2*bessel_J(1, kappa*rho) - 2*I*A_r_0*A_z_0*c*kappa^2*bessel_J(1, kappa*rho) + (A_r_0*A_z_0*c*kappa^3*(I*bessel_J(2, kappa*rho) - I*bessel_J(0, kappa*rho)) + B_r_0*B_z_0*c*k_0^2*kappa*(-I*bessel_J(2, kappa*rho) + I*bessel_J(0, kappa*rho)))*rho)*cos(k_0*z)^2 + ((-2*I*A_z_0*B_r_0*bessel_J(1, kappa*rho) - 2*I*A_r_0*B_z_0*bessel_J(1, kappa*rho))*c*k_0^2 + (-2*I*A_z_0*B_r_0*bessel_J(1, kappa*rho) - 2*I*A_r_0*B_z_0*bessel_J(1, kappa*rho))*c*kappa^2 + ((A_z_0*B_r_0*(I*bessel_J(2, kappa*rho) - I*bessel_J(0, kappa*rho)) + A_r_0*B_z_0*(I*bessel_J(2, kappa*rho) - I*bessel_J(0, kappa*rho)))*c*k_0^2*kappa + (A_z_0*B_r_0*(I*bessel_J(2, kappa*rho) - I*bessel_J(0, kappa*rho)) + A_r_0*B_z_0*(I*bessel_J(2, kappa*rho) - I*bessel_J(0, kappa*rho)))*c*kappa^3)*rho)*cos(k_0*z)*sin(k_0*z) + (2*I*A_r_0*A_z_0*c*k_0^2*bessel_J(1, kappa*rho) - 2*I*B_r_0*B_z_0*c*kappa^2*bessel_J(1, kappa*rho) + (B_r_0*B_z_0*c*kappa^3*(I*bessel_J(2, kappa*rho) - I*bessel_J(0, kappa*rho)) + A_r_0*A_z_0*c*k_0^2*kappa*(-I*bessel_J(2, kappa*rho) + I*bessel_J(0, kappa*rho)))*rho)*sin(k_0*z)^2)/(A_r_0*kappa*mu_0*omega*cos(k_0*z) + B_r_0*kappa*mu_0*omega*sin(k_0*z))"
      ]
     },
     "execution_count": 49,
     "metadata": {
     },
     "output_type": "execute_result"
    }
   ],
   "source": [
    "rotH_z[0](rh,ph,z)"
   ]
  },
  {
   "cell_type": "code",
   "execution_count": 50,
   "metadata": {
    "collapsed": false
   },
   "outputs": [
    {
     "data": {
      "text/html": [
       "<html><script type=\"math/tex; mode=display\">\\newcommand{\\Bold}[1]{\\mathbf{#1}}\\frac{{\\left(2 i \\, B_{r_{1}} B_{z_{1}} c k_{1}^{2} J_{1}(\\kappa \\rho) - 2 i \\, A_{r_{1}} A_{z_{1}} c \\kappa^{2} J_{1}(\\kappa \\rho) + {\\left(A_{r_{1}} A_{z_{1}} c \\kappa^{3} {\\left(i \\, J_{2}(\\kappa \\rho) - i \\, J_{0}(\\kappa \\rho)\\right)} + B_{r_{1}} B_{z_{1}} c k_{1}^{2} \\kappa {\\left(-i \\, J_{2}(\\kappa \\rho) + i \\, J_{0}(\\kappa \\rho)\\right)}\\right)} \\rho\\right)} \\cos\\left(k_{1} z\\right)^{2} + {\\left({\\left(-2 i \\, A_{z_{1}} B_{r_{1}} J_{1}(\\kappa \\rho) - 2 i \\, A_{r_{1}} B_{z_{1}} J_{1}(\\kappa \\rho)\\right)} c k_{1}^{2} + {\\left(-2 i \\, A_{z_{1}} B_{r_{1}} J_{1}(\\kappa \\rho) - 2 i \\, A_{r_{1}} B_{z_{1}} J_{1}(\\kappa \\rho)\\right)} c \\kappa^{2} + {\\left({\\left(A_{z_{1}} B_{r_{1}} {\\left(i \\, J_{2}(\\kappa \\rho) - i \\, J_{0}(\\kappa \\rho)\\right)} + A_{r_{1}} B_{z_{1}} {\\left(i \\, J_{2}(\\kappa \\rho) - i \\, J_{0}(\\kappa \\rho)\\right)}\\right)} c k_{1}^{2} \\kappa + {\\left(A_{z_{1}} B_{r_{1}} {\\left(i \\, J_{2}(\\kappa \\rho) - i \\, J_{0}(\\kappa \\rho)\\right)} + A_{r_{1}} B_{z_{1}} {\\left(i \\, J_{2}(\\kappa \\rho) - i \\, J_{0}(\\kappa \\rho)\\right)}\\right)} c \\kappa^{3}\\right)} \\rho\\right)} \\cos\\left(k_{1} z\\right) \\sin\\left(k_{1} z\\right) + {\\left(2 i \\, A_{r_{1}} A_{z_{1}} c k_{1}^{2} J_{1}(\\kappa \\rho) - 2 i \\, B_{r_{1}} B_{z_{1}} c \\kappa^{2} J_{1}(\\kappa \\rho) + {\\left(B_{r_{1}} B_{z_{1}} c \\kappa^{3} {\\left(i \\, J_{2}(\\kappa \\rho) - i \\, J_{0}(\\kappa \\rho)\\right)} + A_{r_{1}} A_{z_{1}} c k_{1}^{2} \\kappa {\\left(-i \\, J_{2}(\\kappa \\rho) + i \\, J_{0}(\\kappa \\rho)\\right)}\\right)} \\rho\\right)} \\sin\\left(k_{1} z\\right)^{2}}{2 \\, {\\left(A_{r_{1}} \\kappa \\mu_{1} \\omega \\cos\\left(k_{1} z\\right) + B_{r_{1}} \\kappa \\mu_{1} \\omega \\sin\\left(k_{1} z\\right)\\right)}}</script></html>"
      ],
      "text/plain": [
       "1/2*((2*I*B_r_1*B_z_1*c*k_1^2*bessel_J(1, kappa*rho) - 2*I*A_r_1*A_z_1*c*kappa^2*bessel_J(1, kappa*rho) + (A_r_1*A_z_1*c*kappa^3*(I*bessel_J(2, kappa*rho) - I*bessel_J(0, kappa*rho)) + B_r_1*B_z_1*c*k_1^2*kappa*(-I*bessel_J(2, kappa*rho) + I*bessel_J(0, kappa*rho)))*rho)*cos(k_1*z)^2 + ((-2*I*A_z_1*B_r_1*bessel_J(1, kappa*rho) - 2*I*A_r_1*B_z_1*bessel_J(1, kappa*rho))*c*k_1^2 + (-2*I*A_z_1*B_r_1*bessel_J(1, kappa*rho) - 2*I*A_r_1*B_z_1*bessel_J(1, kappa*rho))*c*kappa^2 + ((A_z_1*B_r_1*(I*bessel_J(2, kappa*rho) - I*bessel_J(0, kappa*rho)) + A_r_1*B_z_1*(I*bessel_J(2, kappa*rho) - I*bessel_J(0, kappa*rho)))*c*k_1^2*kappa + (A_z_1*B_r_1*(I*bessel_J(2, kappa*rho) - I*bessel_J(0, kappa*rho)) + A_r_1*B_z_1*(I*bessel_J(2, kappa*rho) - I*bessel_J(0, kappa*rho)))*c*kappa^3)*rho)*cos(k_1*z)*sin(k_1*z) + (2*I*A_r_1*A_z_1*c*k_1^2*bessel_J(1, kappa*rho) - 2*I*B_r_1*B_z_1*c*kappa^2*bessel_J(1, kappa*rho) + (B_r_1*B_z_1*c*kappa^3*(I*bessel_J(2, kappa*rho) - I*bessel_J(0, kappa*rho)) + A_r_1*A_z_1*c*k_1^2*kappa*(-I*bessel_J(2, kappa*rho) + I*bessel_J(0, kappa*rho)))*rho)*sin(k_1*z)^2)/(A_r_1*kappa*mu_1*omega*cos(k_1*z) + B_r_1*kappa*mu_1*omega*sin(k_1*z))"
      ]
     },
     "execution_count": 50,
     "metadata": {
     },
     "output_type": "execute_result"
    }
   ],
   "source": [
    "rotH_z[1](rh,ph,z)"
   ]
  },
  {
   "cell_type": "code",
   "execution_count": 51,
   "metadata": {
    "collapsed": false
   },
   "outputs": [
   ],
   "source": [
    "eqE_z = []\n",
    "for i in range(n_layers):\n",
    "    eqE_z += [rotH_z[i](rh,ph,z) - I * omega / c * epsilon[i] * E_z[i](rh,ph,z) == 0]"
   ]
  },
  {
   "cell_type": "code",
   "execution_count": 52,
   "metadata": {
    "collapsed": false
   },
   "outputs": [
    {
     "data": {
      "text/html": [
       "<html><script type=\"math/tex; mode=display\">\\newcommand{\\Bold}[1]{\\mathbf{#1}}-\\frac{i \\, B_{r_{0}} B_{z_{0}} c^{2} k_{0}^{2} \\kappa \\rho J_{2}(\\kappa \\rho) \\cos\\left(k_{0} z\\right)^{2}}{2 \\, {\\left(A_{r_{0}} c \\kappa \\mu_{0} \\omega \\cos\\left(k_{0} z\\right) + B_{r_{0}} c \\kappa \\mu_{0} \\omega \\sin\\left(k_{0} z\\right)\\right)}} + \\frac{i \\, A_{r_{0}} A_{z_{0}} c^{2} \\kappa^{3} \\rho J_{2}(\\kappa \\rho) \\cos\\left(k_{0} z\\right)^{2}}{2 \\, {\\left(A_{r_{0}} c \\kappa \\mu_{0} \\omega \\cos\\left(k_{0} z\\right) + B_{r_{0}} c \\kappa \\mu_{0} \\omega \\sin\\left(k_{0} z\\right)\\right)}} + \\frac{i \\, B_{r_{0}} B_{z_{0}} c^{2} k_{0}^{2} \\kappa \\rho J_{0}(\\kappa \\rho) \\cos\\left(k_{0} z\\right)^{2}}{2 \\, {\\left(A_{r_{0}} c \\kappa \\mu_{0} \\omega \\cos\\left(k_{0} z\\right) + B_{r_{0}} c \\kappa \\mu_{0} \\omega \\sin\\left(k_{0} z\\right)\\right)}} - \\frac{i \\, A_{r_{0}} A_{z_{0}} c^{2} \\kappa^{3} \\rho J_{0}(\\kappa \\rho) \\cos\\left(k_{0} z\\right)^{2}}{2 \\, {\\left(A_{r_{0}} c \\kappa \\mu_{0} \\omega \\cos\\left(k_{0} z\\right) + B_{r_{0}} c \\kappa \\mu_{0} \\omega \\sin\\left(k_{0} z\\right)\\right)}} + \\frac{i \\, A_{z_{0}} B_{r_{0}} c^{2} k_{0}^{2} \\kappa \\rho J_{2}(\\kappa \\rho) \\cos\\left(k_{0} z\\right) \\sin\\left(k_{0} z\\right)}{2 \\, {\\left(A_{r_{0}} c \\kappa \\mu_{0} \\omega \\cos\\left(k_{0} z\\right) + B_{r_{0}} c \\kappa \\mu_{0} \\omega \\sin\\left(k_{0} z\\right)\\right)}} + \\frac{i \\, A_{r_{0}} B_{z_{0}} c^{2} k_{0}^{2} \\kappa \\rho J_{2}(\\kappa \\rho) \\cos\\left(k_{0} z\\right) \\sin\\left(k_{0} z\\right)}{2 \\, {\\left(A_{r_{0}} c \\kappa \\mu_{0} \\omega \\cos\\left(k_{0} z\\right) + B_{r_{0}} c \\kappa \\mu_{0} \\omega \\sin\\left(k_{0} z\\right)\\right)}} + \\frac{i \\, A_{z_{0}} B_{r_{0}} c^{2} \\kappa^{3} \\rho J_{2}(\\kappa \\rho) \\cos\\left(k_{0} z\\right) \\sin\\left(k_{0} z\\right)}{2 \\, {\\left(A_{r_{0}} c \\kappa \\mu_{0} \\omega \\cos\\left(k_{0} z\\right) + B_{r_{0}} c \\kappa \\mu_{0} \\omega \\sin\\left(k_{0} z\\right)\\right)}} + \\frac{i \\, A_{r_{0}} B_{z_{0}} c^{2} \\kappa^{3} \\rho J_{2}(\\kappa \\rho) \\cos\\left(k_{0} z\\right) \\sin\\left(k_{0} z\\right)}{2 \\, {\\left(A_{r_{0}} c \\kappa \\mu_{0} \\omega \\cos\\left(k_{0} z\\right) + B_{r_{0}} c \\kappa \\mu_{0} \\omega \\sin\\left(k_{0} z\\right)\\right)}} - \\frac{i \\, A_{z_{0}} B_{r_{0}} c^{2} k_{0}^{2} \\kappa \\rho J_{0}(\\kappa \\rho) \\cos\\left(k_{0} z\\right) \\sin\\left(k_{0} z\\right)}{2 \\, {\\left(A_{r_{0}} c \\kappa \\mu_{0} \\omega \\cos\\left(k_{0} z\\right) + B_{r_{0}} c \\kappa \\mu_{0} \\omega \\sin\\left(k_{0} z\\right)\\right)}} - \\frac{i \\, A_{r_{0}} B_{z_{0}} c^{2} k_{0}^{2} \\kappa \\rho J_{0}(\\kappa \\rho) \\cos\\left(k_{0} z\\right) \\sin\\left(k_{0} z\\right)}{2 \\, {\\left(A_{r_{0}} c \\kappa \\mu_{0} \\omega \\cos\\left(k_{0} z\\right) + B_{r_{0}} c \\kappa \\mu_{0} \\omega \\sin\\left(k_{0} z\\right)\\right)}} - \\frac{i \\, A_{z_{0}} B_{r_{0}} c^{2} \\kappa^{3} \\rho J_{0}(\\kappa \\rho) \\cos\\left(k_{0} z\\right) \\sin\\left(k_{0} z\\right)}{2 \\, {\\left(A_{r_{0}} c \\kappa \\mu_{0} \\omega \\cos\\left(k_{0} z\\right) + B_{r_{0}} c \\kappa \\mu_{0} \\omega \\sin\\left(k_{0} z\\right)\\right)}} - \\frac{i \\, A_{r_{0}} B_{z_{0}} c^{2} \\kappa^{3} \\rho J_{0}(\\kappa \\rho) \\cos\\left(k_{0} z\\right) \\sin\\left(k_{0} z\\right)}{2 \\, {\\left(A_{r_{0}} c \\kappa \\mu_{0} \\omega \\cos\\left(k_{0} z\\right) + B_{r_{0}} c \\kappa \\mu_{0} \\omega \\sin\\left(k_{0} z\\right)\\right)}} - \\frac{i \\, A_{r_{0}} A_{z_{0}} c^{2} k_{0}^{2} \\kappa \\rho J_{2}(\\kappa \\rho) \\sin\\left(k_{0} z\\right)^{2}}{2 \\, {\\left(A_{r_{0}} c \\kappa \\mu_{0} \\omega \\cos\\left(k_{0} z\\right) + B_{r_{0}} c \\kappa \\mu_{0} \\omega \\sin\\left(k_{0} z\\right)\\right)}} + \\frac{i \\, B_{r_{0}} B_{z_{0}} c^{2} \\kappa^{3} \\rho J_{2}(\\kappa \\rho) \\sin\\left(k_{0} z\\right)^{2}}{2 \\, {\\left(A_{r_{0}} c \\kappa \\mu_{0} \\omega \\cos\\left(k_{0} z\\right) + B_{r_{0}} c \\kappa \\mu_{0} \\omega \\sin\\left(k_{0} z\\right)\\right)}} + \\frac{i \\, A_{r_{0}} A_{z_{0}} c^{2} k_{0}^{2} \\kappa \\rho J_{0}(\\kappa \\rho) \\sin\\left(k_{0} z\\right)^{2}}{2 \\, {\\left(A_{r_{0}} c \\kappa \\mu_{0} \\omega \\cos\\left(k_{0} z\\right) + B_{r_{0}} c \\kappa \\mu_{0} \\omega \\sin\\left(k_{0} z\\right)\\right)}} - \\frac{i \\, B_{r_{0}} B_{z_{0}} c^{2} \\kappa^{3} \\rho J_{0}(\\kappa \\rho) \\sin\\left(k_{0} z\\right)^{2}}{2 \\, {\\left(A_{r_{0}} c \\kappa \\mu_{0} \\omega \\cos\\left(k_{0} z\\right) + B_{r_{0}} c \\kappa \\mu_{0} \\omega \\sin\\left(k_{0} z\\right)\\right)}} - \\frac{i \\, A_{r_{0}} A_{z_{0}} \\epsilon_{0} \\kappa \\mu_{0} \\omega^{2} J_{0}(\\kappa \\rho) \\cos\\left(k_{0} z\\right)^{2}}{A_{r_{0}} c \\kappa \\mu_{0} \\omega \\cos\\left(k_{0} z\\right) + B_{r_{0}} c \\kappa \\mu_{0} \\omega \\sin\\left(k_{0} z\\right)} - \\frac{i \\, A_{z_{0}} B_{r_{0}} \\epsilon_{0} \\kappa \\mu_{0} \\omega^{2} J_{0}(\\kappa \\rho) \\cos\\left(k_{0} z\\right) \\sin\\left(k_{0} z\\right)}{A_{r_{0}} c \\kappa \\mu_{0} \\omega \\cos\\left(k_{0} z\\right) + B_{r_{0}} c \\kappa \\mu_{0} \\omega \\sin\\left(k_{0} z\\right)} - \\frac{i \\, A_{r_{0}} B_{z_{0}} \\epsilon_{0} \\kappa \\mu_{0} \\omega^{2} J_{0}(\\kappa \\rho) \\cos\\left(k_{0} z\\right) \\sin\\left(k_{0} z\\right)}{A_{r_{0}} c \\kappa \\mu_{0} \\omega \\cos\\left(k_{0} z\\right) + B_{r_{0}} c \\kappa \\mu_{0} \\omega \\sin\\left(k_{0} z\\right)} - \\frac{i \\, B_{r_{0}} B_{z_{0}} \\epsilon_{0} \\kappa \\mu_{0} \\omega^{2} J_{0}(\\kappa \\rho) \\sin\\left(k_{0} z\\right)^{2}}{A_{r_{0}} c \\kappa \\mu_{0} \\omega \\cos\\left(k_{0} z\\right) + B_{r_{0}} c \\kappa \\mu_{0} \\omega \\sin\\left(k_{0} z\\right)} + \\frac{i \\, B_{r_{0}} B_{z_{0}} c^{2} k_{0}^{2} J_{1}(\\kappa \\rho) \\cos\\left(k_{0} z\\right)^{2}}{A_{r_{0}} c \\kappa \\mu_{0} \\omega \\cos\\left(k_{0} z\\right) + B_{r_{0}} c \\kappa \\mu_{0} \\omega \\sin\\left(k_{0} z\\right)} - \\frac{i \\, A_{r_{0}} A_{z_{0}} c^{2} \\kappa^{2} J_{1}(\\kappa \\rho) \\cos\\left(k_{0} z\\right)^{2}}{A_{r_{0}} c \\kappa \\mu_{0} \\omega \\cos\\left(k_{0} z\\right) + B_{r_{0}} c \\kappa \\mu_{0} \\omega \\sin\\left(k_{0} z\\right)} - \\frac{i \\, A_{z_{0}} B_{r_{0}} c^{2} k_{0}^{2} J_{1}(\\kappa \\rho) \\cos\\left(k_{0} z\\right) \\sin\\left(k_{0} z\\right)}{A_{r_{0}} c \\kappa \\mu_{0} \\omega \\cos\\left(k_{0} z\\right) + B_{r_{0}} c \\kappa \\mu_{0} \\omega \\sin\\left(k_{0} z\\right)} - \\frac{i \\, A_{r_{0}} B_{z_{0}} c^{2} k_{0}^{2} J_{1}(\\kappa \\rho) \\cos\\left(k_{0} z\\right) \\sin\\left(k_{0} z\\right)}{A_{r_{0}} c \\kappa \\mu_{0} \\omega \\cos\\left(k_{0} z\\right) + B_{r_{0}} c \\kappa \\mu_{0} \\omega \\sin\\left(k_{0} z\\right)} - \\frac{i \\, A_{z_{0}} B_{r_{0}} c^{2} \\kappa^{2} J_{1}(\\kappa \\rho) \\cos\\left(k_{0} z\\right) \\sin\\left(k_{0} z\\right)}{A_{r_{0}} c \\kappa \\mu_{0} \\omega \\cos\\left(k_{0} z\\right) + B_{r_{0}} c \\kappa \\mu_{0} \\omega \\sin\\left(k_{0} z\\right)} - \\frac{i \\, A_{r_{0}} B_{z_{0}} c^{2} \\kappa^{2} J_{1}(\\kappa \\rho) \\cos\\left(k_{0} z\\right) \\sin\\left(k_{0} z\\right)}{A_{r_{0}} c \\kappa \\mu_{0} \\omega \\cos\\left(k_{0} z\\right) + B_{r_{0}} c \\kappa \\mu_{0} \\omega \\sin\\left(k_{0} z\\right)} + \\frac{i \\, A_{r_{0}} A_{z_{0}} c^{2} k_{0}^{2} J_{1}(\\kappa \\rho) \\sin\\left(k_{0} z\\right)^{2}}{A_{r_{0}} c \\kappa \\mu_{0} \\omega \\cos\\left(k_{0} z\\right) + B_{r_{0}} c \\kappa \\mu_{0} \\omega \\sin\\left(k_{0} z\\right)} - \\frac{i \\, B_{r_{0}} B_{z_{0}} c^{2} \\kappa^{2} J_{1}(\\kappa \\rho) \\sin\\left(k_{0} z\\right)^{2}}{A_{r_{0}} c \\kappa \\mu_{0} \\omega \\cos\\left(k_{0} z\\right) + B_{r_{0}} c \\kappa \\mu_{0} \\omega \\sin\\left(k_{0} z\\right)} = 0</script></html>"
      ],
      "text/plain": [
       "-1/2*I*B_r_0*B_z_0*c^2*k_0^2*kappa*rho*bessel_J(2, kappa*rho)*cos(k_0*z)^2/(A_r_0*c*kappa*mu_0*omega*cos(k_0*z) + B_r_0*c*kappa*mu_0*omega*sin(k_0*z)) + 1/2*I*A_r_0*A_z_0*c^2*kappa^3*rho*bessel_J(2, kappa*rho)*cos(k_0*z)^2/(A_r_0*c*kappa*mu_0*omega*cos(k_0*z) + B_r_0*c*kappa*mu_0*omega*sin(k_0*z)) + 1/2*I*B_r_0*B_z_0*c^2*k_0^2*kappa*rho*bessel_J(0, kappa*rho)*cos(k_0*z)^2/(A_r_0*c*kappa*mu_0*omega*cos(k_0*z) + B_r_0*c*kappa*mu_0*omega*sin(k_0*z)) - 1/2*I*A_r_0*A_z_0*c^2*kappa^3*rho*bessel_J(0, kappa*rho)*cos(k_0*z)^2/(A_r_0*c*kappa*mu_0*omega*cos(k_0*z) + B_r_0*c*kappa*mu_0*omega*sin(k_0*z)) + 1/2*I*A_z_0*B_r_0*c^2*k_0^2*kappa*rho*bessel_J(2, kappa*rho)*cos(k_0*z)*sin(k_0*z)/(A_r_0*c*kappa*mu_0*omega*cos(k_0*z) + B_r_0*c*kappa*mu_0*omega*sin(k_0*z)) + 1/2*I*A_r_0*B_z_0*c^2*k_0^2*kappa*rho*bessel_J(2, kappa*rho)*cos(k_0*z)*sin(k_0*z)/(A_r_0*c*kappa*mu_0*omega*cos(k_0*z) + B_r_0*c*kappa*mu_0*omega*sin(k_0*z)) + 1/2*I*A_z_0*B_r_0*c^2*kappa^3*rho*bessel_J(2, kappa*rho)*cos(k_0*z)*sin(k_0*z)/(A_r_0*c*kappa*mu_0*omega*cos(k_0*z) + B_r_0*c*kappa*mu_0*omega*sin(k_0*z)) + 1/2*I*A_r_0*B_z_0*c^2*kappa^3*rho*bessel_J(2, kappa*rho)*cos(k_0*z)*sin(k_0*z)/(A_r_0*c*kappa*mu_0*omega*cos(k_0*z) + B_r_0*c*kappa*mu_0*omega*sin(k_0*z)) - 1/2*I*A_z_0*B_r_0*c^2*k_0^2*kappa*rho*bessel_J(0, kappa*rho)*cos(k_0*z)*sin(k_0*z)/(A_r_0*c*kappa*mu_0*omega*cos(k_0*z) + B_r_0*c*kappa*mu_0*omega*sin(k_0*z)) - 1/2*I*A_r_0*B_z_0*c^2*k_0^2*kappa*rho*bessel_J(0, kappa*rho)*cos(k_0*z)*sin(k_0*z)/(A_r_0*c*kappa*mu_0*omega*cos(k_0*z) + B_r_0*c*kappa*mu_0*omega*sin(k_0*z)) - 1/2*I*A_z_0*B_r_0*c^2*kappa^3*rho*bessel_J(0, kappa*rho)*cos(k_0*z)*sin(k_0*z)/(A_r_0*c*kappa*mu_0*omega*cos(k_0*z) + B_r_0*c*kappa*mu_0*omega*sin(k_0*z)) - 1/2*I*A_r_0*B_z_0*c^2*kappa^3*rho*bessel_J(0, kappa*rho)*cos(k_0*z)*sin(k_0*z)/(A_r_0*c*kappa*mu_0*omega*cos(k_0*z) + B_r_0*c*kappa*mu_0*omega*sin(k_0*z)) - 1/2*I*A_r_0*A_z_0*c^2*k_0^2*kappa*rho*bessel_J(2, kappa*rho)*sin(k_0*z)^2/(A_r_0*c*kappa*mu_0*omega*cos(k_0*z) + B_r_0*c*kappa*mu_0*omega*sin(k_0*z)) + 1/2*I*B_r_0*B_z_0*c^2*kappa^3*rho*bessel_J(2, kappa*rho)*sin(k_0*z)^2/(A_r_0*c*kappa*mu_0*omega*cos(k_0*z) + B_r_0*c*kappa*mu_0*omega*sin(k_0*z)) + 1/2*I*A_r_0*A_z_0*c^2*k_0^2*kappa*rho*bessel_J(0, kappa*rho)*sin(k_0*z)^2/(A_r_0*c*kappa*mu_0*omega*cos(k_0*z) + B_r_0*c*kappa*mu_0*omega*sin(k_0*z)) - 1/2*I*B_r_0*B_z_0*c^2*kappa^3*rho*bessel_J(0, kappa*rho)*sin(k_0*z)^2/(A_r_0*c*kappa*mu_0*omega*cos(k_0*z) + B_r_0*c*kappa*mu_0*omega*sin(k_0*z)) - I*A_r_0*A_z_0*epsilon_0*kappa*mu_0*omega^2*bessel_J(0, kappa*rho)*cos(k_0*z)^2/(A_r_0*c*kappa*mu_0*omega*cos(k_0*z) + B_r_0*c*kappa*mu_0*omega*sin(k_0*z)) - I*A_z_0*B_r_0*epsilon_0*kappa*mu_0*omega^2*bessel_J(0, kappa*rho)*cos(k_0*z)*sin(k_0*z)/(A_r_0*c*kappa*mu_0*omega*cos(k_0*z) + B_r_0*c*kappa*mu_0*omega*sin(k_0*z)) - I*A_r_0*B_z_0*epsilon_0*kappa*mu_0*omega^2*bessel_J(0, kappa*rho)*cos(k_0*z)*sin(k_0*z)/(A_r_0*c*kappa*mu_0*omega*cos(k_0*z) + B_r_0*c*kappa*mu_0*omega*sin(k_0*z)) - I*B_r_0*B_z_0*epsilon_0*kappa*mu_0*omega^2*bessel_J(0, kappa*rho)*sin(k_0*z)^2/(A_r_0*c*kappa*mu_0*omega*cos(k_0*z) + B_r_0*c*kappa*mu_0*omega*sin(k_0*z)) + I*B_r_0*B_z_0*c^2*k_0^2*bessel_J(1, kappa*rho)*cos(k_0*z)^2/(A_r_0*c*kappa*mu_0*omega*cos(k_0*z) + B_r_0*c*kappa*mu_0*omega*sin(k_0*z)) - I*A_r_0*A_z_0*c^2*kappa^2*bessel_J(1, kappa*rho)*cos(k_0*z)^2/(A_r_0*c*kappa*mu_0*omega*cos(k_0*z) + B_r_0*c*kappa*mu_0*omega*sin(k_0*z)) - I*A_z_0*B_r_0*c^2*k_0^2*bessel_J(1, kappa*rho)*cos(k_0*z)*sin(k_0*z)/(A_r_0*c*kappa*mu_0*omega*cos(k_0*z) + B_r_0*c*kappa*mu_0*omega*sin(k_0*z)) - I*A_r_0*B_z_0*c^2*k_0^2*bessel_J(1, kappa*rho)*cos(k_0*z)*sin(k_0*z)/(A_r_0*c*kappa*mu_0*omega*cos(k_0*z) + B_r_0*c*kappa*mu_0*omega*sin(k_0*z)) - I*A_z_0*B_r_0*c^2*kappa^2*bessel_J(1, kappa*rho)*cos(k_0*z)*sin(k_0*z)/(A_r_0*c*kappa*mu_0*omega*cos(k_0*z) + B_r_0*c*kappa*mu_0*omega*sin(k_0*z)) - I*A_r_0*B_z_0*c^2*kappa^2*bessel_J(1, kappa*rho)*cos(k_0*z)*sin(k_0*z)/(A_r_0*c*kappa*mu_0*omega*cos(k_0*z) + B_r_0*c*kappa*mu_0*omega*sin(k_0*z)) + I*A_r_0*A_z_0*c^2*k_0^2*bessel_J(1, kappa*rho)*sin(k_0*z)^2/(A_r_0*c*kappa*mu_0*omega*cos(k_0*z) + B_r_0*c*kappa*mu_0*omega*sin(k_0*z)) - I*B_r_0*B_z_0*c^2*kappa^2*bessel_J(1, kappa*rho)*sin(k_0*z)^2/(A_r_0*c*kappa*mu_0*omega*cos(k_0*z) + B_r_0*c*kappa*mu_0*omega*sin(k_0*z)) == 0"
      ]
     },
     "execution_count": 52,
     "metadata": {
     },
     "output_type": "execute_result"
    }
   ],
   "source": [
    "eqE_z[0].full_simplify().expand ()"
   ]
  },
  {
   "cell_type": "code",
   "execution_count": 53,
   "metadata": {
    "collapsed": false
   },
   "outputs": [
    {
     "data": {
      "text/html": [
       "<html><script type=\"math/tex; mode=display\">\\newcommand{\\Bold}[1]{\\mathbf{#1}}-\\frac{i \\, {\\left(A_{z_{1}} \\cos\\left(k_{1} z\\right) + B_{z_{1}} \\sin\\left(k_{1} z\\right)\\right)} \\epsilon_{1} \\omega J_{0}(\\kappa \\rho)}{c} + \\frac{{\\left(2 i \\, B_{r_{1}} B_{z_{1}} c k_{1}^{2} J_{1}(\\kappa \\rho) - 2 i \\, A_{r_{1}} A_{z_{1}} c \\kappa^{2} J_{1}(\\kappa \\rho) + {\\left(A_{r_{1}} A_{z_{1}} c \\kappa^{3} {\\left(i \\, J_{2}(\\kappa \\rho) - i \\, J_{0}(\\kappa \\rho)\\right)} + B_{r_{1}} B_{z_{1}} c k_{1}^{2} \\kappa {\\left(-i \\, J_{2}(\\kappa \\rho) + i \\, J_{0}(\\kappa \\rho)\\right)}\\right)} \\rho\\right)} \\cos\\left(k_{1} z\\right)^{2} + {\\left({\\left(-2 i \\, A_{z_{1}} B_{r_{1}} J_{1}(\\kappa \\rho) - 2 i \\, A_{r_{1}} B_{z_{1}} J_{1}(\\kappa \\rho)\\right)} c k_{1}^{2} + {\\left(-2 i \\, A_{z_{1}} B_{r_{1}} J_{1}(\\kappa \\rho) - 2 i \\, A_{r_{1}} B_{z_{1}} J_{1}(\\kappa \\rho)\\right)} c \\kappa^{2} + {\\left({\\left(A_{z_{1}} B_{r_{1}} {\\left(i \\, J_{2}(\\kappa \\rho) - i \\, J_{0}(\\kappa \\rho)\\right)} + A_{r_{1}} B_{z_{1}} {\\left(i \\, J_{2}(\\kappa \\rho) - i \\, J_{0}(\\kappa \\rho)\\right)}\\right)} c k_{1}^{2} \\kappa + {\\left(A_{z_{1}} B_{r_{1}} {\\left(i \\, J_{2}(\\kappa \\rho) - i \\, J_{0}(\\kappa \\rho)\\right)} + A_{r_{1}} B_{z_{1}} {\\left(i \\, J_{2}(\\kappa \\rho) - i \\, J_{0}(\\kappa \\rho)\\right)}\\right)} c \\kappa^{3}\\right)} \\rho\\right)} \\cos\\left(k_{1} z\\right) \\sin\\left(k_{1} z\\right) + {\\left(2 i \\, A_{r_{1}} A_{z_{1}} c k_{1}^{2} J_{1}(\\kappa \\rho) - 2 i \\, B_{r_{1}} B_{z_{1}} c \\kappa^{2} J_{1}(\\kappa \\rho) + {\\left(B_{r_{1}} B_{z_{1}} c \\kappa^{3} {\\left(i \\, J_{2}(\\kappa \\rho) - i \\, J_{0}(\\kappa \\rho)\\right)} + A_{r_{1}} A_{z_{1}} c k_{1}^{2} \\kappa {\\left(-i \\, J_{2}(\\kappa \\rho) + i \\, J_{0}(\\kappa \\rho)\\right)}\\right)} \\rho\\right)} \\sin\\left(k_{1} z\\right)^{2}}{2 \\, {\\left(A_{r_{1}} \\kappa \\mu_{1} \\omega \\cos\\left(k_{1} z\\right) + B_{r_{1}} \\kappa \\mu_{1} \\omega \\sin\\left(k_{1} z\\right)\\right)}} = 0</script></html>"
      ],
      "text/plain": [
       "-I*(A_z_1*cos(k_1*z) + B_z_1*sin(k_1*z))*epsilon_1*omega*bessel_J(0, kappa*rho)/c + 1/2*((2*I*B_r_1*B_z_1*c*k_1^2*bessel_J(1, kappa*rho) - 2*I*A_r_1*A_z_1*c*kappa^2*bessel_J(1, kappa*rho) + (A_r_1*A_z_1*c*kappa^3*(I*bessel_J(2, kappa*rho) - I*bessel_J(0, kappa*rho)) + B_r_1*B_z_1*c*k_1^2*kappa*(-I*bessel_J(2, kappa*rho) + I*bessel_J(0, kappa*rho)))*rho)*cos(k_1*z)^2 + ((-2*I*A_z_1*B_r_1*bessel_J(1, kappa*rho) - 2*I*A_r_1*B_z_1*bessel_J(1, kappa*rho))*c*k_1^2 + (-2*I*A_z_1*B_r_1*bessel_J(1, kappa*rho) - 2*I*A_r_1*B_z_1*bessel_J(1, kappa*rho))*c*kappa^2 + ((A_z_1*B_r_1*(I*bessel_J(2, kappa*rho) - I*bessel_J(0, kappa*rho)) + A_r_1*B_z_1*(I*bessel_J(2, kappa*rho) - I*bessel_J(0, kappa*rho)))*c*k_1^2*kappa + (A_z_1*B_r_1*(I*bessel_J(2, kappa*rho) - I*bessel_J(0, kappa*rho)) + A_r_1*B_z_1*(I*bessel_J(2, kappa*rho) - I*bessel_J(0, kappa*rho)))*c*kappa^3)*rho)*cos(k_1*z)*sin(k_1*z) + (2*I*A_r_1*A_z_1*c*k_1^2*bessel_J(1, kappa*rho) - 2*I*B_r_1*B_z_1*c*kappa^2*bessel_J(1, kappa*rho) + (B_r_1*B_z_1*c*kappa^3*(I*bessel_J(2, kappa*rho) - I*bessel_J(0, kappa*rho)) + A_r_1*A_z_1*c*k_1^2*kappa*(-I*bessel_J(2, kappa*rho) + I*bessel_J(0, kappa*rho)))*rho)*sin(k_1*z)^2)/(A_r_1*kappa*mu_1*omega*cos(k_1*z) + B_r_1*kappa*mu_1*omega*sin(k_1*z)) == 0"
      ]
     },
     "execution_count": 53,
     "metadata": {
     },
     "output_type": "execute_result"
    }
   ],
   "source": [
    "eqE_z[1]"
   ]
  },
  {
   "cell_type": "code",
   "execution_count": 54,
   "metadata": {
    "collapsed": false
   },
   "outputs": [
    {
     "data": {
      "text/latex": [
       "$$\\left[-\\frac{{\\left(B_{z_{0}} k_{0} J_{1}(\\kappa \\rho) \\cos\\left(k_{0} z\\right) - A_{z_{0}} k_{0} J_{1}(\\kappa \\rho) \\sin\\left(k_{0} z\\right)\\right)} A_{r_{0}}}{A_{r_{0}} \\kappa \\cos\\left(k_{0} z\\right) + B_{r_{0}} \\kappa \\sin\\left(k_{0} z\\right)} = 0.000000000000000, -\\frac{{\\left(B_{z_{1}} k_{1} J_{1}(\\kappa \\rho) \\cos\\left(k_{1} z\\right) - A_{z_{1}} k_{1} J_{1}(\\kappa \\rho) \\sin\\left(k_{1} z\\right)\\right)} {\\left(A_{r_{1}} \\cos\\left(2 \\, h k_{1}\\right) + B_{r_{1}} \\sin\\left(2 \\, h k_{1}\\right)\\right)}}{A_{r_{1}} \\kappa \\cos\\left(k_{1} z\\right) + B_{r_{1}} \\kappa \\sin\\left(k_{1} z\\right)} = 0.000000000000000\\right]$$"
      ],
      "text/plain": [
       "<IPython.core.display.Math object>"
      ]
     },
     "execution_count": 54,
     "metadata": {
     },
     "output_type": "execute_result"
    },
    {
     "data": {
      "text/latex": [
       "$$A_{r_{0}} = 0$$"
      ],
      "text/plain": [
       "<IPython.core.display.Math object>"
      ]
     },
     "execution_count": 54,
     "metadata": {
     },
     "output_type": "execute_result"
    },
    {
     "data": {
      "text/latex": [
       "$$A_{r_{1}} = -\\frac{B_{r_{1}} \\sin\\left(2 \\, h k_{1}\\right)}{\\cos\\left(2 \\, h k_{1}\\right)}$$"
      ],
      "text/plain": [
       "<IPython.core.display.Math object>"
      ]
     },
     "execution_count": 54,
     "metadata": {
     },
     "output_type": "execute_result"
    },
    {
     "data": {
      "text/latex": [
       "$$\\left[A_{r_{0}} = 0, A_{r_{1}} = -\\frac{B_{r_{1}} \\sin\\left(2 \\, h k_{1}\\right)}{\\cos\\left(2 \\, h k_{1}\\right)}\\right]$$"
      ],
      "text/plain": [
       "<IPython.core.display.Math object>"
      ]
     },
     "execution_count": 54,
     "metadata": {
     },
     "output_type": "execute_result"
    }
   ],
   "source": [
    "# граничные условия\n",
    "# тангенциальная компонента электрического поля\n",
    "eq_Erh_superconductor_boundary_conditions = []\n",
    "eq_Erh_superconductor_boundary_conditions += [E_rhs[0](rh,ph,0) == 0.0]\n",
    "eq_Erh_superconductor_boundary_conditions += [E_rhs[n_layers - 1](rh,ph,h*n_layers) == 0.0]\n",
    "\n",
    "display(Math(latex(eq_Erh_superconductor_boundary_conditions)))\n",
    "\n",
    "boundary_subs_begin = solve(eq_Erh_superconductor_boundary_conditions[0], A_r[0])[0]\n",
    "boundary_subs_end = solve(eq_Erh_superconductor_boundary_conditions[1], A_r[n_layers - 1])[0]\n",
    "\n",
    "display(Math(latex(boundary_subs_begin)))\n",
    "display(Math(latex(boundary_subs_end)))\n",
    "\n",
    "boundary_subs = [boundary_subs_begin, boundary_subs_end]\n",
    "display(Math(latex(boundary_subs)))"
   ]
  },
  {
   "cell_type": "code",
   "execution_count": 55,
   "metadata": {
    "collapsed": false
   },
   "outputs": [
   ],
   "source": [
    "exclude_vars = []"
   ]
  },
  {
   "cell_type": "code",
   "execution_count": 0,
   "metadata": {
    "collapsed": false
   },
   "outputs": [
   ],
   "source": [
   ]
  },
  {
   "cell_type": "code",
   "execution_count": 56,
   "metadata": {
    "collapsed": false
   },
   "outputs": [
   ],
   "source": [
    "E_rho = []\n",
    "for i in range(n_layers):       E_rho += [ lambda rh, ph, z, i=i : E_rhs[i](rh,ph,z).subs(boundary_subs) ]"
   ]
  },
  {
   "cell_type": "code",
   "execution_count": 57,
   "metadata": {
    "collapsed": false
   },
   "outputs": [
    {
     "data": {
      "text/html": [
       "<html><script type=\"math/tex; mode=display\">\\newcommand{\\Bold}[1]{\\mathbf{#1}}-\\frac{B_{z_{0}} k_{0} J_{1}(\\kappa \\rho) \\cos\\left(k_{0} z\\right) - A_{z_{0}} k_{0} J_{1}(\\kappa \\rho) \\sin\\left(k_{0} z\\right)}{\\kappa}</script></html>"
      ],
      "text/plain": [
       "-(B_z_0*k_0*bessel_J(1, kappa*rho)*cos(k_0*z) - A_z_0*k_0*bessel_J(1, kappa*rho)*sin(k_0*z))/kappa"
      ]
     },
     "execution_count": 57,
     "metadata": {
     },
     "output_type": "execute_result"
    }
   ],
   "source": [
    "E_rho[0](rh,ph,z)"
   ]
  },
  {
   "cell_type": "code",
   "execution_count": 58,
   "metadata": {
    "collapsed": false
   },
   "outputs": [
    {
     "data": {
      "text/html": [
       "<html><script type=\"math/tex; mode=display\">\\newcommand{\\Bold}[1]{\\mathbf{#1}}-\\frac{{\\left(B_{z_{1}} k_{1} J_{1}(\\kappa \\rho) \\cos\\left(k_{1} z\\right) - A_{z_{1}} k_{1} J_{1}(\\kappa \\rho) \\sin\\left(k_{1} z\\right)\\right)} {\\left(\\frac{B_{r_{1}} \\cos\\left(k_{1} z\\right) \\sin\\left(2 \\, h k_{1}\\right)}{\\cos\\left(2 \\, h k_{1}\\right)} - B_{r_{1}} \\sin\\left(k_{1} z\\right)\\right)}}{\\frac{B_{r_{1}} \\kappa \\cos\\left(k_{1} z\\right) \\sin\\left(2 \\, h k_{1}\\right)}{\\cos\\left(2 \\, h k_{1}\\right)} - B_{r_{1}} \\kappa \\sin\\left(k_{1} z\\right)}</script></html>"
      ],
      "text/plain": [
       "-(B_z_1*k_1*bessel_J(1, kappa*rho)*cos(k_1*z) - A_z_1*k_1*bessel_J(1, kappa*rho)*sin(k_1*z))*(B_r_1*cos(k_1*z)*sin(2*h*k_1)/cos(2*h*k_1) - B_r_1*sin(k_1*z))/(B_r_1*kappa*cos(k_1*z)*sin(2*h*k_1)/cos(2*h*k_1) - B_r_1*kappa*sin(k_1*z))"
      ]
     },
     "execution_count": 58,
     "metadata": {
     },
     "output_type": "execute_result"
    }
   ],
   "source": [
    "E_rho[1](rh,ph,z)"
   ]
  },
  {
   "cell_type": "code",
   "execution_count": 59,
   "metadata": {
    "collapsed": false
   },
   "outputs": [
   ],
   "source": [
    "E_zz = []\n",
    "for i in range(n_layers):       E_zz += [ lambda rh, ph, z, i=i : E_z[i](rh,ph,z).subs(boundary_subs) ]\n"
   ]
  },
  {
   "cell_type": "code",
   "execution_count": 60,
   "metadata": {
    "collapsed": false
   },
   "outputs": [
    {
     "data": {
      "text/html": [
       "<html><script type=\"math/tex; mode=display\">\\newcommand{\\Bold}[1]{\\mathbf{#1}}{\\left(A_{z_{0}} \\cos\\left(k_{0} z\\right) + B_{z_{0}} \\sin\\left(k_{0} z\\right)\\right)} J_{0}(\\kappa \\rho)</script></html>"
      ],
      "text/plain": [
       "(A_z_0*cos(k_0*z) + B_z_0*sin(k_0*z))*bessel_J(0, kappa*rho)"
      ]
     },
     "execution_count": 60,
     "metadata": {
     },
     "output_type": "execute_result"
    }
   ],
   "source": [
    "E_zz[0](rh,ph,z)"
   ]
  },
  {
   "cell_type": "code",
   "execution_count": 61,
   "metadata": {
    "collapsed": false
   },
   "outputs": [
    {
     "data": {
      "text/html": [
       "<html><script type=\"math/tex; mode=display\">\\newcommand{\\Bold}[1]{\\mathbf{#1}}{\\left(A_{z_{1}} \\cos\\left(k_{1} z\\right) + B_{z_{1}} \\sin\\left(k_{1} z\\right)\\right)} J_{0}(\\kappa \\rho)</script></html>"
      ],
      "text/plain": [
       "(A_z_1*cos(k_1*z) + B_z_1*sin(k_1*z))*bessel_J(0, kappa*rho)"
      ]
     },
     "execution_count": 61,
     "metadata": {
     },
     "output_type": "execute_result"
    }
   ],
   "source": [
    "E_zz[1](rh,ph,z)"
   ]
  },
  {
   "cell_type": "code",
   "execution_count": 62,
   "metadata": {
    "collapsed": false
   },
   "outputs": [
   ],
   "source": [
    "H_phi = []\n",
    "for i in range(n_layers):       H_phi += [ lambda rh, ph, z, i=i : H_phs[i](rh,ph,z).subs(boundary_subs) ]"
   ]
  },
  {
   "cell_type": "code",
   "execution_count": 63,
   "metadata": {
    "collapsed": false
   },
   "outputs": [
    {
     "data": {
      "text/html": [
       "<html><script type=\"math/tex; mode=display\">\\newcommand{\\Bold}[1]{\\mathbf{#1}}-\\frac{-i \\, B_{r_{0}} B_{z_{0}} c k_{0}^{2} J_{1}(\\kappa \\rho) \\cos\\left(k_{0} z\\right)^{2} + i \\, B_{r_{0}} B_{z_{0}} c \\kappa^{2} J_{1}(\\kappa \\rho) \\sin\\left(k_{0} z\\right)^{2} + {\\left(i \\, A_{z_{0}} B_{r_{0}} c k_{0}^{2} J_{1}(\\kappa \\rho) + i \\, A_{z_{0}} B_{r_{0}} c \\kappa^{2} J_{1}(\\kappa \\rho)\\right)} \\cos\\left(k_{0} z\\right) \\sin\\left(k_{0} z\\right)}{B_{r_{0}} \\kappa \\mu_{0} \\omega \\sin\\left(k_{0} z\\right)}</script></html>"
      ],
      "text/plain": [
       "-(-I*B_r_0*B_z_0*c*k_0^2*bessel_J(1, kappa*rho)*cos(k_0*z)^2 + I*B_r_0*B_z_0*c*kappa^2*bessel_J(1, kappa*rho)*sin(k_0*z)^2 + (I*A_z_0*B_r_0*c*k_0^2*bessel_J(1, kappa*rho) + I*A_z_0*B_r_0*c*kappa^2*bessel_J(1, kappa*rho))*cos(k_0*z)*sin(k_0*z))/(B_r_0*kappa*mu_0*omega*sin(k_0*z))"
      ]
     },
     "execution_count": 63,
     "metadata": {
     },
     "output_type": "execute_result"
    }
   ],
   "source": [
    "H_phi[0](rh,ph,z)"
   ]
  },
  {
   "cell_type": "code",
   "execution_count": 64,
   "metadata": {
    "collapsed": false
   },
   "outputs": [
    {
     "data": {
      "text/html": [
       "<html><script type=\"math/tex; mode=display\">\\newcommand{\\Bold}[1]{\\mathbf{#1}}\\frac{{\\left(-i \\, B_{r_{1}} B_{z_{1}} c k_{1}^{2} J_{1}(\\kappa \\rho) - \\frac{i \\, A_{z_{1}} B_{r_{1}} c \\kappa^{2} J_{1}(\\kappa \\rho) \\sin\\left(2 \\, h k_{1}\\right)}{\\cos\\left(2 \\, h k_{1}\\right)}\\right)} \\cos\\left(k_{1} z\\right)^{2} + {\\left({\\left(i \\, A_{z_{1}} B_{r_{1}} J_{1}(\\kappa \\rho) - \\frac{i \\, B_{r_{1}} B_{z_{1}} J_{1}(\\kappa \\rho) \\sin\\left(2 \\, h k_{1}\\right)}{\\cos\\left(2 \\, h k_{1}\\right)}\\right)} c k_{1}^{2} + {\\left(i \\, A_{z_{1}} B_{r_{1}} J_{1}(\\kappa \\rho) - \\frac{i \\, B_{r_{1}} B_{z_{1}} J_{1}(\\kappa \\rho) \\sin\\left(2 \\, h k_{1}\\right)}{\\cos\\left(2 \\, h k_{1}\\right)}\\right)} c \\kappa^{2}\\right)} \\cos\\left(k_{1} z\\right) \\sin\\left(k_{1} z\\right) + {\\left(i \\, B_{r_{1}} B_{z_{1}} c \\kappa^{2} J_{1}(\\kappa \\rho) + \\frac{i \\, A_{z_{1}} B_{r_{1}} c k_{1}^{2} J_{1}(\\kappa \\rho) \\sin\\left(2 \\, h k_{1}\\right)}{\\cos\\left(2 \\, h k_{1}\\right)}\\right)} \\sin\\left(k_{1} z\\right)^{2}}{\\frac{B_{r_{1}} \\kappa \\mu_{1} \\omega \\cos\\left(k_{1} z\\right) \\sin\\left(2 \\, h k_{1}\\right)}{\\cos\\left(2 \\, h k_{1}\\right)} - B_{r_{1}} \\kappa \\mu_{1} \\omega \\sin\\left(k_{1} z\\right)}</script></html>"
      ],
      "text/plain": [
       "((-I*B_r_1*B_z_1*c*k_1^2*bessel_J(1, kappa*rho) - I*A_z_1*B_r_1*c*kappa^2*bessel_J(1, kappa*rho)*sin(2*h*k_1)/cos(2*h*k_1))*cos(k_1*z)^2 + ((I*A_z_1*B_r_1*bessel_J(1, kappa*rho) - I*B_r_1*B_z_1*bessel_J(1, kappa*rho)*sin(2*h*k_1)/cos(2*h*k_1))*c*k_1^2 + (I*A_z_1*B_r_1*bessel_J(1, kappa*rho) - I*B_r_1*B_z_1*bessel_J(1, kappa*rho)*sin(2*h*k_1)/cos(2*h*k_1))*c*kappa^2)*cos(k_1*z)*sin(k_1*z) + (I*B_r_1*B_z_1*c*kappa^2*bessel_J(1, kappa*rho) + I*A_z_1*B_r_1*c*k_1^2*bessel_J(1, kappa*rho)*sin(2*h*k_1)/cos(2*h*k_1))*sin(k_1*z)^2)/(B_r_1*kappa*mu_1*omega*cos(k_1*z)*sin(2*h*k_1)/cos(2*h*k_1) - B_r_1*kappa*mu_1*omega*sin(k_1*z))"
      ]
     },
     "execution_count": 64,
     "metadata": {
     },
     "output_type": "execute_result"
    }
   ],
   "source": [
    "H_phi[1](rh,ph,z)"
   ]
  },
  {
   "cell_type": "code",
   "execution_count": 65,
   "metadata": {
    "collapsed": false
   },
   "outputs": [
   ],
   "source": [
    "bch = []\n",
    "bc =  []\n",
    "for i  in range (n_layers-1):\n",
    "    bc += [E_rho[i](rh,ph, (i + 1) * h) == E_rho[i+1](rh,ph,(i+1)*h)]\n",
    "\n",
    "    bc += [epsilon[i] * E_zz[i](rh,ph,(i+1)*h) == epsilon[i+1]*E_zz[i+1](rh,ph,(i+1)*h)]\n",
    "\n",
    "    bch += [H_phi [i](rh,ph,(i+1)*h) == H_phi [i+1](rh,ph,(i+1)*h)]"
   ]
  },
  {
   "cell_type": "code",
   "execution_count": 66,
   "metadata": {
    "collapsed": false
   },
   "outputs": [
    {
     "data": {
      "text/html": [
       "<html><script type=\"math/tex; mode=display\">\\newcommand{\\Bold}[1]{\\mathbf{#1}}\\left[-\\frac{{\\left(B_{z_{0}} k_{0} J_{1}(\\kappa \\rho) \\cos\\left(k_{0} z\\right) - A_{z_{0}} k_{0} J_{1}(\\kappa \\rho) \\sin\\left(k_{0} z\\right)\\right)} \\sin\\left(h k_{0}\\right)}{\\kappa \\sin\\left(k_{0} z\\right)} = -\\frac{{\\left(B_{z_{1}} k_{1} J_{1}(\\kappa \\rho) \\cos\\left(k_{1} z\\right) - A_{z_{1}} k_{1} J_{1}(\\kappa \\rho) \\sin\\left(k_{1} z\\right)\\right)} {\\left(\\frac{B_{r_{1}} \\cos\\left(h k_{1}\\right) \\sin\\left(2 \\, h k_{1}\\right)}{\\cos\\left(2 \\, h k_{1}\\right)} - B_{r_{1}} \\sin\\left(h k_{1}\\right)\\right)}}{\\frac{B_{r_{1}} \\kappa \\cos\\left(k_{1} z\\right) \\sin\\left(2 \\, h k_{1}\\right)}{\\cos\\left(2 \\, h k_{1}\\right)} - B_{r_{1}} \\kappa \\sin\\left(k_{1} z\\right)}, {\\left(A_{z_{0}} \\cos\\left(h k_{0}\\right) + B_{z_{0}} \\sin\\left(h k_{0}\\right)\\right)} \\epsilon_{0} J_{0}(\\kappa \\rho) = {\\left(A_{z_{1}} \\cos\\left(h k_{1}\\right) + B_{z_{1}} \\sin\\left(h k_{1}\\right)\\right)} \\epsilon_{1} J_{0}(\\kappa \\rho)\\right]</script></html>"
      ],
      "text/plain": [
       "[-(B_z_0*k_0*bessel_J(1, kappa*rho)*cos(k_0*z) - A_z_0*k_0*bessel_J(1, kappa*rho)*sin(k_0*z))*sin(h*k_0)/(kappa*sin(k_0*z)) == -(B_z_1*k_1*bessel_J(1, kappa*rho)*cos(k_1*z) - A_z_1*k_1*bessel_J(1, kappa*rho)*sin(k_1*z))*(B_r_1*cos(h*k_1)*sin(2*h*k_1)/cos(2*h*k_1) - B_r_1*sin(h*k_1))/(B_r_1*kappa*cos(k_1*z)*sin(2*h*k_1)/cos(2*h*k_1) - B_r_1*kappa*sin(k_1*z)),\n",
       " (A_z_0*cos(h*k_0) + B_z_0*sin(h*k_0))*epsilon_0*bessel_J(0, kappa*rho) == (A_z_1*cos(h*k_1) + B_z_1*sin(h*k_1))*epsilon_1*bessel_J(0, kappa*rho)]"
      ]
     },
     "execution_count": 66,
     "metadata": {
     },
     "output_type": "execute_result"
    }
   ],
   "source": [
    "bc"
   ]
  },
  {
   "cell_type": "code",
   "execution_count": 67,
   "metadata": {
    "collapsed": false
   },
   "outputs": [
    {
     "data": {
      "text/html": [
       "<html><script type=\"math/tex; mode=display\">\\newcommand{\\Bold}[1]{\\mathbf{#1}}\\left[-\\frac{-i \\, B_{r_{0}} B_{z_{0}} c k_{0}^{2} J_{1}(\\kappa \\rho) \\cos\\left(h k_{0}\\right)^{2} + i \\, B_{r_{0}} B_{z_{0}} c \\kappa^{2} J_{1}(\\kappa \\rho) \\sin\\left(h k_{0}\\right)^{2} + {\\left(i \\, A_{z_{0}} B_{r_{0}} c k_{0}^{2} J_{1}(\\kappa \\rho) + i \\, A_{z_{0}} B_{r_{0}} c \\kappa^{2} J_{1}(\\kappa \\rho)\\right)} \\cos\\left(h k_{0}\\right) \\sin\\left(h k_{0}\\right)}{B_{r_{0}} \\kappa \\mu_{0} \\omega \\sin\\left(h k_{0}\\right)} = \\frac{{\\left(-i \\, B_{r_{1}} B_{z_{1}} c k_{1}^{2} J_{1}(\\kappa \\rho) - \\frac{i \\, A_{z_{1}} B_{r_{1}} c \\kappa^{2} J_{1}(\\kappa \\rho) \\sin\\left(2 \\, h k_{1}\\right)}{\\cos\\left(2 \\, h k_{1}\\right)}\\right)} \\cos\\left(h k_{1}\\right)^{2} + {\\left({\\left(i \\, A_{z_{1}} B_{r_{1}} J_{1}(\\kappa \\rho) - \\frac{i \\, B_{r_{1}} B_{z_{1}} J_{1}(\\kappa \\rho) \\sin\\left(2 \\, h k_{1}\\right)}{\\cos\\left(2 \\, h k_{1}\\right)}\\right)} c k_{1}^{2} + {\\left(i \\, A_{z_{1}} B_{r_{1}} J_{1}(\\kappa \\rho) - \\frac{i \\, B_{r_{1}} B_{z_{1}} J_{1}(\\kappa \\rho) \\sin\\left(2 \\, h k_{1}\\right)}{\\cos\\left(2 \\, h k_{1}\\right)}\\right)} c \\kappa^{2}\\right)} \\cos\\left(h k_{1}\\right) \\sin\\left(h k_{1}\\right) + {\\left(i \\, B_{r_{1}} B_{z_{1}} c \\kappa^{2} J_{1}(\\kappa \\rho) + \\frac{i \\, A_{z_{1}} B_{r_{1}} c k_{1}^{2} J_{1}(\\kappa \\rho) \\sin\\left(2 \\, h k_{1}\\right)}{\\cos\\left(2 \\, h k_{1}\\right)}\\right)} \\sin\\left(h k_{1}\\right)^{2}}{\\frac{B_{r_{1}} \\kappa \\mu_{1} \\omega \\cos\\left(h k_{1}\\right) \\sin\\left(2 \\, h k_{1}\\right)}{\\cos\\left(2 \\, h k_{1}\\right)} - B_{r_{1}} \\kappa \\mu_{1} \\omega \\sin\\left(h k_{1}\\right)}\\right]</script></html>"
      ],
      "text/plain": [
       "[-(-I*B_r_0*B_z_0*c*k_0^2*bessel_J(1, kappa*rho)*cos(h*k_0)^2 + I*B_r_0*B_z_0*c*kappa^2*bessel_J(1, kappa*rho)*sin(h*k_0)^2 + (I*A_z_0*B_r_0*c*k_0^2*bessel_J(1, kappa*rho) + I*A_z_0*B_r_0*c*kappa^2*bessel_J(1, kappa*rho))*cos(h*k_0)*sin(h*k_0))/(B_r_0*kappa*mu_0*omega*sin(h*k_0)) == ((-I*B_r_1*B_z_1*c*k_1^2*bessel_J(1, kappa*rho) - I*A_z_1*B_r_1*c*kappa^2*bessel_J(1, kappa*rho)*sin(2*h*k_1)/cos(2*h*k_1))*cos(h*k_1)^2 + ((I*A_z_1*B_r_1*bessel_J(1, kappa*rho) - I*B_r_1*B_z_1*bessel_J(1, kappa*rho)*sin(2*h*k_1)/cos(2*h*k_1))*c*k_1^2 + (I*A_z_1*B_r_1*bessel_J(1, kappa*rho) - I*B_r_1*B_z_1*bessel_J(1, kappa*rho)*sin(2*h*k_1)/cos(2*h*k_1))*c*kappa^2)*cos(h*k_1)*sin(h*k_1) + (I*B_r_1*B_z_1*c*kappa^2*bessel_J(1, kappa*rho) + I*A_z_1*B_r_1*c*k_1^2*bessel_J(1, kappa*rho)*sin(2*h*k_1)/cos(2*h*k_1))*sin(h*k_1)^2)/(B_r_1*kappa*mu_1*omega*cos(h*k_1)*sin(2*h*k_1)/cos(2*h*k_1) - B_r_1*kappa*mu_1*omega*sin(h*k_1))]"
      ]
     },
     "execution_count": 67,
     "metadata": {
     },
     "output_type": "execute_result"
    }
   ],
   "source": [
    "bch"
   ]
  },
  {
   "cell_type": "code",
   "execution_count": 68,
   "metadata": {
    "collapsed": false
   },
   "outputs": [
   ],
   "source": [
    "def GenerateMatrix(equsys, vars):\n",
    "    A=matrix(SR, [[(equ.lhs() - equ.rhs()).coefficient(v) for v in vars] for equ in equsys])\n",
    "    return A\n",
    "\n",
    "def GenerateMatrixMult(equsys, vars):\n",
    "    A=matrix(SR, [[(equ.lhs() - equ.rhs()).coefficient(v) * v for v in vars] for equ in equsys])\n",
    "    return A\n",
    "\n",
    "def reduceDependedRows(M):\n",
    "    print (\"\")\n",
    "    print (\"M.nrows()\", M.nrows())\n",
    "    print (\"M.ncols()\", M.ncols())\n",
    "    print (\"M.rank()\", M.rank())\n",
    "\n",
    "    M_pivot_rows = M.pivot_rows()\n",
    "    print (\"M.pivot_rows() =\", M_pivot_rows)\n",
    "\n",
    "    M_rows = M.rows()\n",
    "    for row in M_rows:\n",
    "        print(\"row =\")\n",
    "        display(Math(latex(row)))\n",
    "\n",
    "    reduced_list = []\n",
    "    for r in M_pivot_rows:\n",
    "        print (\"M_rows[\", r, \"] =\")\n",
    "        display(Math(latex(M_rows[r])))\n",
    "        reduced_list.append(M_rows[r])\n",
    "\n",
    "    reduced_M = matrix(SR, len(M_pivot_rows), M.ncols(), reduced_list)\n",
    "    if reduced_M.nrows() == reduced_M.ncols():\n",
    "        reduced_M_det = reduced_M.det()\n",
    "        print (\"\")\n",
    "        print (\"reduced_M.det() =\")\n",
    "        display(Math(latex(reduced_M_det)))\n",
    "    return reduced_M"
   ]
  },
  {
   "cell_type": "code",
   "execution_count": 69,
   "metadata": {
    "collapsed": false
   },
   "outputs": [
   ],
   "source": [
    "def rot_H_solve(M_rotH, vars, eq_kappa, k):\n",
    "    if (M_rotH.nrows() != 2):\n",
    "        return\n",
    "    if (M_rotH.ncols() != len(vars)):\n",
    "        return\n",
    "    xx = vector(SR, vars)\n",
    "    yy = vector(SR, [0, 0])\n",
    "    print(\"eqns =\")\n",
    "    eqns = [(M_rotH*xx)[index] == yy[index] for index in [0,1]]\n",
    "    display(Math(latex(eqns)))\n",
    "    res = []\n",
    "\n",
    "    for index in [0,1]:\n",
    "        row_M = M_rotH[index]\n",
    "        print(\"row_M =\")\n",
    "        display(Math(latex(row_M)))\n",
    "        eq = eqns[index].full_simplify()\n",
    "        print (\"eq =\")\n",
    "        display(Math(latex(eq)))\n",
    "        print (\"\")\n",
    "\n",
    "        eq2 = (eq / cos(k * z)).full_simplify().expand()\n",
    "        print (\"eq2 =\")\n",
    "        display(Math(latex(eq2)))\n",
    "\n",
    "        tg_kappa_x_coeff = eq2.lhs().coefficient(sin(k * z) / cos(k * z))\n",
    "        print (\"tg_kappa_x_coeff =\")\n",
    "        display(Math(latex(tg_kappa_x_coeff)))\n",
    "\n",
    "        eq_tg_kappa_x_coeff = tg_kappa_x_coeff == 0\n",
    "        for var in vars:\n",
    "            print (\"var =\")\n",
    "            display(Math(latex(var)))\n",
    "            sol_tg_kappa_x_coeff = solve(eq_tg_kappa_x_coeff, var)\n",
    "            print(\"sol_tg_kappa_x_coeff=\")\n",
    "            display(Math(latex(sol_tg_kappa_x_coeff)))\n",
    "            if len(sol_tg_kappa_x_coeff) > 0:\n",
    "                res += sol_tg_kappa_x_coeff\n",
    "\n",
    "                eq4 = eq.subs(sol_tg_kappa_x_coeff)\n",
    "                print (\"eq4 =\")\n",
    "                display(Math(latex(eq4)))\n",
    "\n",
    "                eq4 = eq4.full_simplify()\n",
    "                print (\"eq4 =\")\n",
    "                display(Math(latex(eq4)))\n",
    "\n",
    "                for var in vars:\n",
    "                    print (\"var =\")\n",
    "                    display(Math(latex(var)))\n",
    "                    print (\"\")\n",
    "                    sol = solve(eq4, var)\n",
    "                    print(\"sol=\")\n",
    "                    display(Math(latex(sol)))\n",
    "                    print (\"\")\n",
    "                    res += sol\n",
    "    return res"
   ]
  },
  {
   "cell_type": "code",
   "execution_count": 70,
   "metadata": {
    "collapsed": false
   },
   "outputs": [
   ],
   "source": [
    "exclude_vars  =[]"
   ]
  },
  {
   "cell_type": "code",
   "execution_count": 71,
   "metadata": {
    "collapsed": false,
    "scrolled": true
   },
   "outputs": [
    {
     "name": "stdout",
     "output_type": "stream",
     "text": [
      "eq_rot_H_z = \n"
     ]
    },
    {
     "data": {
      "text/latex": [
       "$$-\\frac{{\\left(B_{z_{0}} c^{2} k_{0}^{2} \\kappa \\rho {\\left(J_{2}(\\kappa \\rho) - J_{0}(\\kappa \\rho)\\right)} - 2 \\, B_{z_{0}} c^{2} k_{0}^{2} J_{1}(\\kappa \\rho)\\right)} \\cos\\left(k_{0} z\\right)^{2} + {\\left(2 \\, A_{z_{0}} \\epsilon_{0} \\kappa \\mu_{0} \\omega^{2} J_{0}(\\kappa \\rho) + 2 \\, A_{z_{0}} c^{2} k_{0}^{2} J_{1}(\\kappa \\rho) + 2 \\, A_{z_{0}} c^{2} \\kappa^{2} J_{1}(\\kappa \\rho) - {\\left(A_{z_{0}} c^{2} k_{0}^{2} \\kappa {\\left(J_{2}(\\kappa \\rho) - J_{0}(\\kappa \\rho)\\right)} + A_{z_{0}} c^{2} \\kappa^{3} {\\left(J_{2}(\\kappa \\rho) - J_{0}(\\kappa \\rho)\\right)}\\right)} \\rho\\right)} \\cos\\left(k_{0} z\\right) \\sin\\left(k_{0} z\\right) - {\\left(B_{z_{0}} c^{2} \\kappa^{3} \\rho {\\left(J_{2}(\\kappa \\rho) - J_{0}(\\kappa \\rho)\\right)} - 2 \\, B_{z_{0}} \\epsilon_{0} \\kappa \\mu_{0} \\omega^{2} J_{0}(\\kappa \\rho) - 2 \\, B_{z_{0}} c^{2} \\kappa^{2} J_{1}(\\kappa \\rho)\\right)} \\sin\\left(k_{0} z\\right)^{2}}{2 \\, c^{2} \\kappa \\mu_{0} \\sin\\left(k_{0} z\\right)} = 0$$"
      ],
      "text/plain": [
       "<IPython.core.display.Math object>"
      ]
     },
     "execution_count": 71,
     "metadata": {
     },
     "output_type": "execute_result"
    },
    {
     "name": "stdout",
     "output_type": "stream",
     "text": [
      "eq_rot_H_rh = \n"
     ]
    },
    {
     "data": {
      "text/latex": [
       "$$\\frac{{\\left(B_{z_{0}} k_{0}^{3} J_{1}(\\kappa \\rho) + B_{z_{0}} k_{0} \\kappa^{2} J_{1}(\\kappa \\rho)\\right)} \\cos\\left(k_{0} z\\right) - {\\left(A_{z_{0}} k_{0}^{3} J_{1}(\\kappa \\rho) + A_{z_{0}} k_{0} \\kappa^{2} J_{1}(\\kappa \\rho)\\right)} \\sin\\left(k_{0} z\\right)}{\\kappa \\mu_{0}} = \\frac{{\\left(B_{z_{0}} k_{0}^{3} J_{1}(\\kappa \\rho) + B_{z_{0}} k_{0} \\kappa^{2} J_{1}(\\kappa \\rho)\\right)} \\cos\\left(k_{0} z\\right) - {\\left(A_{z_{0}} k_{0}^{3} J_{1}(\\kappa \\rho) + A_{z_{0}} k_{0} \\kappa^{2} J_{1}(\\kappa \\rho)\\right)} \\sin\\left(k_{0} z\\right)}{\\kappa \\mu_{0}}$$"
      ],
      "text/plain": [
       "<IPython.core.display.Math object>"
      ]
     },
     "execution_count": 71,
     "metadata": {
     },
     "output_type": "execute_result"
    },
    {
     "name": "stdout",
     "output_type": "stream",
     "text": [
      "\n"
     ]
    },
    {
     "data": {
      "text/latex": [
       "$$\\left[A_{z_{0}}, B_{z_{0}}, A_{r_{0}}, B_{r_{0}}\\right]$$"
      ],
      "text/plain": [
       "<IPython.core.display.Math object>"
      ]
     },
     "execution_count": 71,
     "metadata": {
     },
     "output_type": "execute_result"
    },
    {
     "name": "stdout",
     "output_type": "stream",
     "text": [
      "M_rotH =\n"
     ]
    },
    {
     "data": {
      "text/latex": [
       "$$\\left(\\begin{array}{rrrr}\n",
       "-\\frac{{\\left(2 \\, \\epsilon_{0} \\kappa \\mu_{0} \\omega^{2} J_{0}(\\kappa \\rho) + 2 \\, c^{2} k_{0}^{2} J_{1}(\\kappa \\rho) + 2 \\, c^{2} \\kappa^{2} J_{1}(\\kappa \\rho) - {\\left(c^{2} k_{0}^{2} \\kappa {\\left(J_{2}(\\kappa \\rho) - J_{0}(\\kappa \\rho)\\right)} + c^{2} \\kappa^{3} {\\left(J_{2}(\\kappa \\rho) - J_{0}(\\kappa \\rho)\\right)}\\right)} \\rho\\right)} \\cos\\left(k_{0} z\\right)}{2 \\, c^{2} \\kappa \\mu_{0}} & -\\frac{{\\left(c^{2} k_{0}^{2} \\kappa \\rho {\\left(J_{2}(\\kappa \\rho) - J_{0}(\\kappa \\rho)\\right)} - 2 \\, c^{2} k_{0}^{2} J_{1}(\\kappa \\rho)\\right)} \\cos\\left(k_{0} z\\right)^{2} - {\\left(c^{2} \\kappa^{3} \\rho {\\left(J_{2}(\\kappa \\rho) - J_{0}(\\kappa \\rho)\\right)} - 2 \\, \\epsilon_{0} \\kappa \\mu_{0} \\omega^{2} J_{0}(\\kappa \\rho) - 2 \\, c^{2} \\kappa^{2} J_{1}(\\kappa \\rho)\\right)} \\sin\\left(k_{0} z\\right)^{2}}{2 \\, c^{2} \\kappa \\mu_{0} \\sin\\left(k_{0} z\\right)} & 0 & 0 \\\\\n",
       "0 & 0 & 0 & 0\n",
       "\\end{array}\\right)$$"
      ],
      "text/plain": [
       "<IPython.core.display.Math object>"
      ]
     },
     "execution_count": 71,
     "metadata": {
     },
     "output_type": "execute_result"
    },
    {
     "name": "stdout",
     "output_type": "stream",
     "text": [
      "M_rotH.nrows = 2\n",
      "M_rotH.ncols = 4\n",
      "M_rotH.rank = 1\n",
      "eqns =\n"
     ]
    },
    {
     "data": {
      "text/latex": [
       "$$\\left[-\\frac{{\\left(2 \\, \\epsilon_{0} \\kappa \\mu_{0} \\omega^{2} J_{0}(\\kappa \\rho) + 2 \\, c^{2} k_{0}^{2} J_{1}(\\kappa \\rho) + 2 \\, c^{2} \\kappa^{2} J_{1}(\\kappa \\rho) - {\\left(c^{2} k_{0}^{2} \\kappa {\\left(J_{2}(\\kappa \\rho) - J_{0}(\\kappa \\rho)\\right)} + c^{2} \\kappa^{3} {\\left(J_{2}(\\kappa \\rho) - J_{0}(\\kappa \\rho)\\right)}\\right)} \\rho\\right)} A_{z_{0}} \\cos\\left(k_{0} z\\right)}{2 \\, c^{2} \\kappa \\mu_{0}} - \\frac{{\\left({\\left(c^{2} k_{0}^{2} \\kappa \\rho {\\left(J_{2}(\\kappa \\rho) - J_{0}(\\kappa \\rho)\\right)} - 2 \\, c^{2} k_{0}^{2} J_{1}(\\kappa \\rho)\\right)} \\cos\\left(k_{0} z\\right)^{2} - {\\left(c^{2} \\kappa^{3} \\rho {\\left(J_{2}(\\kappa \\rho) - J_{0}(\\kappa \\rho)\\right)} - 2 \\, \\epsilon_{0} \\kappa \\mu_{0} \\omega^{2} J_{0}(\\kappa \\rho) - 2 \\, c^{2} \\kappa^{2} J_{1}(\\kappa \\rho)\\right)} \\sin\\left(k_{0} z\\right)^{2}\\right)} B_{z_{0}}}{2 \\, c^{2} \\kappa \\mu_{0} \\sin\\left(k_{0} z\\right)} = 0, 0 = 0\\right]$$"
      ],
      "text/plain": [
       "<IPython.core.display.Math object>"
      ]
     },
     "execution_count": 71,
     "metadata": {
     },
     "output_type": "execute_result"
    },
    {
     "name": "stdout",
     "output_type": "stream",
     "text": [
      "row_M =\n"
     ]
    },
    {
     "data": {
      "text/latex": [
       "$$\\left(-\\frac{{\\left(2 \\, \\epsilon_{0} \\kappa \\mu_{0} \\omega^{2} J_{0}(\\kappa \\rho) + 2 \\, c^{2} k_{0}^{2} J_{1}(\\kappa \\rho) + 2 \\, c^{2} \\kappa^{2} J_{1}(\\kappa \\rho) - {\\left(c^{2} k_{0}^{2} \\kappa {\\left(J_{2}(\\kappa \\rho) - J_{0}(\\kappa \\rho)\\right)} + c^{2} \\kappa^{3} {\\left(J_{2}(\\kappa \\rho) - J_{0}(\\kappa \\rho)\\right)}\\right)} \\rho\\right)} \\cos\\left(k_{0} z\\right)}{2 \\, c^{2} \\kappa \\mu_{0}},\\,-\\frac{{\\left(c^{2} k_{0}^{2} \\kappa \\rho {\\left(J_{2}(\\kappa \\rho) - J_{0}(\\kappa \\rho)\\right)} - 2 \\, c^{2} k_{0}^{2} J_{1}(\\kappa \\rho)\\right)} \\cos\\left(k_{0} z\\right)^{2} - {\\left(c^{2} \\kappa^{3} \\rho {\\left(J_{2}(\\kappa \\rho) - J_{0}(\\kappa \\rho)\\right)} - 2 \\, \\epsilon_{0} \\kappa \\mu_{0} \\omega^{2} J_{0}(\\kappa \\rho) - 2 \\, c^{2} \\kappa^{2} J_{1}(\\kappa \\rho)\\right)} \\sin\\left(k_{0} z\\right)^{2}}{2 \\, c^{2} \\kappa \\mu_{0} \\sin\\left(k_{0} z\\right)},\\,0,\\,0\\right)$$"
      ],
      "text/plain": [
       "<IPython.core.display.Math object>"
      ]
     },
     "execution_count": 71,
     "metadata": {
     },
     "output_type": "execute_result"
    },
    {
     "name": "stdout",
     "output_type": "stream",
     "text": [
      "eq =\n"
     ]
    },
    {
     "data": {
      "text/latex": [
       "$$-\\frac{{\\left(B_{z_{0}} c^{2} k_{0}^{2} \\kappa \\rho {\\left(J_{2}(\\kappa \\rho) - J_{0}(\\kappa \\rho)\\right)} - 2 \\, B_{z_{0}} c^{2} k_{0}^{2} J_{1}(\\kappa \\rho)\\right)} \\cos\\left(k_{0} z\\right)^{2} + {\\left(2 \\, A_{z_{0}} \\epsilon_{0} \\kappa \\mu_{0} \\omega^{2} J_{0}(\\kappa \\rho) + 2 \\, A_{z_{0}} c^{2} k_{0}^{2} J_{1}(\\kappa \\rho) + 2 \\, A_{z_{0}} c^{2} \\kappa^{2} J_{1}(\\kappa \\rho) - {\\left(A_{z_{0}} c^{2} k_{0}^{2} \\kappa {\\left(J_{2}(\\kappa \\rho) - J_{0}(\\kappa \\rho)\\right)} + A_{z_{0}} c^{2} \\kappa^{3} {\\left(J_{2}(\\kappa \\rho) - J_{0}(\\kappa \\rho)\\right)}\\right)} \\rho\\right)} \\cos\\left(k_{0} z\\right) \\sin\\left(k_{0} z\\right) - {\\left(B_{z_{0}} c^{2} \\kappa^{3} \\rho {\\left(J_{2}(\\kappa \\rho) - J_{0}(\\kappa \\rho)\\right)} - 2 \\, B_{z_{0}} \\epsilon_{0} \\kappa \\mu_{0} \\omega^{2} J_{0}(\\kappa \\rho) - 2 \\, B_{z_{0}} c^{2} \\kappa^{2} J_{1}(\\kappa \\rho)\\right)} \\sin\\left(k_{0} z\\right)^{2}}{2 \\, c^{2} \\kappa \\mu_{0} \\sin\\left(k_{0} z\\right)} = 0$$"
      ],
      "text/plain": [
       "<IPython.core.display.Math object>"
      ]
     },
     "execution_count": 71,
     "metadata": {
     },
     "output_type": "execute_result"
    },
    {
     "name": "stdout",
     "output_type": "stream",
     "text": [
      "\n"
     ]
    },
    {
     "name": "stdout",
     "output_type": "stream",
     "text": [
      "eq2 =\n"
     ]
    },
    {
     "data": {
      "text/latex": [
       "$$\\frac{A_{z_{0}} k_{0}^{2} \\rho J_{2}(\\kappa \\rho)}{2 \\, \\mu_{0}} + \\frac{A_{z_{0}} \\kappa^{2} \\rho J_{2}(\\kappa \\rho)}{2 \\, \\mu_{0}} - \\frac{A_{z_{0}} k_{0}^{2} \\rho J_{0}(\\kappa \\rho)}{2 \\, \\mu_{0}} - \\frac{A_{z_{0}} \\kappa^{2} \\rho J_{0}(\\kappa \\rho)}{2 \\, \\mu_{0}} - \\frac{B_{z_{0}} k_{0}^{2} \\rho J_{2}(\\kappa \\rho) \\cos\\left(k_{0} z\\right)}{2 \\, \\mu_{0} \\sin\\left(k_{0} z\\right)} + \\frac{B_{z_{0}} k_{0}^{2} \\rho J_{0}(\\kappa \\rho) \\cos\\left(k_{0} z\\right)}{2 \\, \\mu_{0} \\sin\\left(k_{0} z\\right)} + \\frac{B_{z_{0}} \\kappa^{2} \\rho J_{2}(\\kappa \\rho) \\sin\\left(k_{0} z\\right)}{2 \\, \\mu_{0} \\cos\\left(k_{0} z\\right)} - \\frac{B_{z_{0}} \\kappa^{2} \\rho J_{0}(\\kappa \\rho) \\sin\\left(k_{0} z\\right)}{2 \\, \\mu_{0} \\cos\\left(k_{0} z\\right)} - \\frac{A_{z_{0}} \\epsilon_{0} \\omega^{2} J_{0}(\\kappa \\rho)}{c^{2}} - \\frac{B_{z_{0}} \\epsilon_{0} \\omega^{2} J_{0}(\\kappa \\rho) \\sin\\left(k_{0} z\\right)}{c^{2} \\cos\\left(k_{0} z\\right)} - \\frac{A_{z_{0}} k_{0}^{2} J_{1}(\\kappa \\rho)}{\\kappa \\mu_{0}} - \\frac{A_{z_{0}} \\kappa J_{1}(\\kappa \\rho)}{\\mu_{0}} + \\frac{B_{z_{0}} k_{0}^{2} J_{1}(\\kappa \\rho) \\cos\\left(k_{0} z\\right)}{\\kappa \\mu_{0} \\sin\\left(k_{0} z\\right)} - \\frac{B_{z_{0}} \\kappa J_{1}(\\kappa \\rho) \\sin\\left(k_{0} z\\right)}{\\mu_{0} \\cos\\left(k_{0} z\\right)} = 0$$"
      ],
      "text/plain": [
       "<IPython.core.display.Math object>"
      ]
     },
     "execution_count": 71,
     "metadata": {
     },
     "output_type": "execute_result"
    },
    {
     "name": "stdout",
     "output_type": "stream",
     "text": [
      "tg_kappa_x_coeff =\n"
     ]
    },
    {
     "data": {
      "text/latex": [
       "$$\\frac{B_{z_{0}} \\kappa^{2} \\rho J_{2}(\\kappa \\rho)}{2 \\, \\mu_{0}} - \\frac{B_{z_{0}} \\kappa^{2} \\rho J_{0}(\\kappa \\rho)}{2 \\, \\mu_{0}} - \\frac{B_{z_{0}} \\epsilon_{0} \\omega^{2} J_{0}(\\kappa \\rho)}{c^{2}} - \\frac{B_{z_{0}} \\kappa J_{1}(\\kappa \\rho)}{\\mu_{0}}$$"
      ],
      "text/plain": [
       "<IPython.core.display.Math object>"
      ]
     },
     "execution_count": 71,
     "metadata": {
     },
     "output_type": "execute_result"
    },
    {
     "name": "stdout",
     "output_type": "stream",
     "text": [
      "var =\n"
     ]
    },
    {
     "data": {
      "text/latex": [
       "$$A_{z_{0}}$$"
      ],
      "text/plain": [
       "<IPython.core.display.Math object>"
      ]
     },
     "execution_count": 71,
     "metadata": {
     },
     "output_type": "execute_result"
    },
    {
     "name": "stdout",
     "output_type": "stream",
     "text": [
      "sol_tg_kappa_x_coeff=\n"
     ]
    },
    {
     "data": {
      "text/latex": [
       "$$\\left[\\right]$$"
      ],
      "text/plain": [
       "<IPython.core.display.Math object>"
      ]
     },
     "execution_count": 71,
     "metadata": {
     },
     "output_type": "execute_result"
    },
    {
     "name": "stdout",
     "output_type": "stream",
     "text": [
      "var =\n"
     ]
    },
    {
     "data": {
      "text/latex": [
       "$$B_{z_{0}}$$"
      ],
      "text/plain": [
       "<IPython.core.display.Math object>"
      ]
     },
     "execution_count": 71,
     "metadata": {
     },
     "output_type": "execute_result"
    },
    {
     "name": "stdout",
     "output_type": "stream",
     "text": [
      "sol_tg_kappa_x_coeff=\n"
     ]
    },
    {
     "data": {
      "text/latex": [
       "$$\\left[B_{z_{0}} = 0\\right]$$"
      ],
      "text/plain": [
       "<IPython.core.display.Math object>"
      ]
     },
     "execution_count": 71,
     "metadata": {
     },
     "output_type": "execute_result"
    },
    {
     "name": "stdout",
     "output_type": "stream",
     "text": [
      "eq4 =\n"
     ]
    },
    {
     "data": {
      "text/latex": [
       "$$-\\frac{{\\left(2 \\, A_{z_{0}} \\epsilon_{0} \\kappa \\mu_{0} \\omega^{2} J_{0}(\\kappa \\rho) + 2 \\, A_{z_{0}} c^{2} k_{0}^{2} J_{1}(\\kappa \\rho) + 2 \\, A_{z_{0}} c^{2} \\kappa^{2} J_{1}(\\kappa \\rho) - {\\left(A_{z_{0}} c^{2} k_{0}^{2} \\kappa {\\left(J_{2}(\\kappa \\rho) - J_{0}(\\kappa \\rho)\\right)} + A_{z_{0}} c^{2} \\kappa^{3} {\\left(J_{2}(\\kappa \\rho) - J_{0}(\\kappa \\rho)\\right)}\\right)} \\rho\\right)} \\cos\\left(k_{0} z\\right)}{2 \\, c^{2} \\kappa \\mu_{0}} = 0$$"
      ],
      "text/plain": [
       "<IPython.core.display.Math object>"
      ]
     },
     "execution_count": 71,
     "metadata": {
     },
     "output_type": "execute_result"
    },
    {
     "name": "stdout",
     "output_type": "stream",
     "text": [
      "eq4 =\n"
     ]
    },
    {
     "data": {
      "text/latex": [
       "$$-\\frac{{\\left(2 \\, A_{z_{0}} \\epsilon_{0} \\kappa \\mu_{0} \\omega^{2} J_{0}(\\kappa \\rho) + 2 \\, A_{z_{0}} c^{2} k_{0}^{2} J_{1}(\\kappa \\rho) + 2 \\, A_{z_{0}} c^{2} \\kappa^{2} J_{1}(\\kappa \\rho) - {\\left(A_{z_{0}} c^{2} k_{0}^{2} \\kappa {\\left(J_{2}(\\kappa \\rho) - J_{0}(\\kappa \\rho)\\right)} + A_{z_{0}} c^{2} \\kappa^{3} {\\left(J_{2}(\\kappa \\rho) - J_{0}(\\kappa \\rho)\\right)}\\right)} \\rho\\right)} \\cos\\left(k_{0} z\\right)}{2 \\, c^{2} \\kappa \\mu_{0}} = 0$$"
      ],
      "text/plain": [
       "<IPython.core.display.Math object>"
      ]
     },
     "execution_count": 71,
     "metadata": {
     },
     "output_type": "execute_result"
    },
    {
     "name": "stdout",
     "output_type": "stream",
     "text": [
      "var =\n"
     ]
    },
    {
     "data": {
      "text/latex": [
       "$$A_{z_{0}}$$"
      ],
      "text/plain": [
       "<IPython.core.display.Math object>"
      ]
     },
     "execution_count": 71,
     "metadata": {
     },
     "output_type": "execute_result"
    },
    {
     "name": "stdout",
     "output_type": "stream",
     "text": [
      "\n"
     ]
    },
    {
     "name": "stdout",
     "output_type": "stream",
     "text": [
      "sol=\n"
     ]
    },
    {
     "data": {
      "text/latex": [
       "$$\\left[A_{z_{0}} = 0\\right]$$"
      ],
      "text/plain": [
       "<IPython.core.display.Math object>"
      ]
     },
     "execution_count": 71,
     "metadata": {
     },
     "output_type": "execute_result"
    },
    {
     "name": "stdout",
     "output_type": "stream",
     "text": [
      "\n",
      "var =\n"
     ]
    },
    {
     "data": {
      "text/latex": [
       "$$B_{z_{0}}$$"
      ],
      "text/plain": [
       "<IPython.core.display.Math object>"
      ]
     },
     "execution_count": 71,
     "metadata": {
     },
     "output_type": "execute_result"
    },
    {
     "name": "stdout",
     "output_type": "stream",
     "text": [
      "\n",
      "sol=\n"
     ]
    },
    {
     "data": {
      "text/latex": [
       "$$\\left[\\right]$$"
      ],
      "text/plain": [
       "<IPython.core.display.Math object>"
      ]
     },
     "execution_count": 71,
     "metadata": {
     },
     "output_type": "execute_result"
    },
    {
     "name": "stdout",
     "output_type": "stream",
     "text": [
      "\n",
      "var =\n"
     ]
    },
    {
     "data": {
      "text/latex": [
       "$$A_{r_{0}}$$"
      ],
      "text/plain": [
       "<IPython.core.display.Math object>"
      ]
     },
     "execution_count": 71,
     "metadata": {
     },
     "output_type": "execute_result"
    },
    {
     "name": "stdout",
     "output_type": "stream",
     "text": [
      "\n",
      "sol=\n"
     ]
    },
    {
     "data": {
      "text/latex": [
       "$$\\left[\\right]$$"
      ],
      "text/plain": [
       "<IPython.core.display.Math object>"
      ]
     },
     "execution_count": 71,
     "metadata": {
     },
     "output_type": "execute_result"
    },
    {
     "name": "stdout",
     "output_type": "stream",
     "text": [
      "\n",
      "var =\n"
     ]
    },
    {
     "data": {
      "text/latex": [
       "$$B_{r_{0}}$$"
      ],
      "text/plain": [
       "<IPython.core.display.Math object>"
      ]
     },
     "execution_count": 71,
     "metadata": {
     },
     "output_type": "execute_result"
    },
    {
     "name": "stdout",
     "output_type": "stream",
     "text": [
      "\n",
      "sol=\n"
     ]
    },
    {
     "data": {
      "text/latex": [
       "$$\\left[\\right]$$"
      ],
      "text/plain": [
       "<IPython.core.display.Math object>"
      ]
     },
     "execution_count": 71,
     "metadata": {
     },
     "output_type": "execute_result"
    },
    {
     "name": "stdout",
     "output_type": "stream",
     "text": [
      "\n",
      "var =\n"
     ]
    },
    {
     "data": {
      "text/latex": [
       "$$A_{r_{0}}$$"
      ],
      "text/plain": [
       "<IPython.core.display.Math object>"
      ]
     },
     "execution_count": 71,
     "metadata": {
     },
     "output_type": "execute_result"
    },
    {
     "name": "stdout",
     "output_type": "stream",
     "text": [
      "sol_tg_kappa_x_coeff=\n"
     ]
    },
    {
     "data": {
      "text/latex": [
       "$$\\left[\\right]$$"
      ],
      "text/plain": [
       "<IPython.core.display.Math object>"
      ]
     },
     "execution_count": 71,
     "metadata": {
     },
     "output_type": "execute_result"
    },
    {
     "name": "stdout",
     "output_type": "stream",
     "text": [
      "var =\n"
     ]
    },
    {
     "data": {
      "text/latex": [
       "$$B_{r_{0}}$$"
      ],
      "text/plain": [
       "<IPython.core.display.Math object>"
      ]
     },
     "execution_count": 71,
     "metadata": {
     },
     "output_type": "execute_result"
    },
    {
     "name": "stdout",
     "output_type": "stream",
     "text": [
      "sol_tg_kappa_x_coeff=\n"
     ]
    },
    {
     "data": {
      "text/latex": [
       "$$\\left[\\right]$$"
      ],
      "text/plain": [
       "<IPython.core.display.Math object>"
      ]
     },
     "execution_count": 71,
     "metadata": {
     },
     "output_type": "execute_result"
    },
    {
     "name": "stdout",
     "output_type": "stream",
     "text": [
      "row_M =\n"
     ]
    },
    {
     "data": {
      "text/latex": [
       "$$\\left(0,\\,0,\\,0,\\,0\\right)$$"
      ],
      "text/plain": [
       "<IPython.core.display.Math object>"
      ]
     },
     "execution_count": 71,
     "metadata": {
     },
     "output_type": "execute_result"
    },
    {
     "name": "stdout",
     "output_type": "stream",
     "text": [
      "eq =\n"
     ]
    },
    {
     "data": {
      "text/latex": [
       "$$0 = 0$$"
      ],
      "text/plain": [
       "<IPython.core.display.Math object>"
      ]
     },
     "execution_count": 71,
     "metadata": {
     },
     "output_type": "execute_result"
    },
    {
     "name": "stdout",
     "output_type": "stream",
     "text": [
      "\n"
     ]
    },
    {
     "name": "stdout",
     "output_type": "stream",
     "text": [
      "eq2 =\n"
     ]
    },
    {
     "data": {
      "text/latex": [
       "$$0 = 0$$"
      ],
      "text/plain": [
       "<IPython.core.display.Math object>"
      ]
     },
     "execution_count": 71,
     "metadata": {
     },
     "output_type": "execute_result"
    },
    {
     "name": "stdout",
     "output_type": "stream",
     "text": [
      "tg_kappa_x_coeff =\n"
     ]
    },
    {
     "data": {
      "text/latex": [
       "$$0$$"
      ],
      "text/plain": [
       "<IPython.core.display.Math object>"
      ]
     },
     "execution_count": 71,
     "metadata": {
     },
     "output_type": "execute_result"
    },
    {
     "name": "stdout",
     "output_type": "stream",
     "text": [
      "var =\n"
     ]
    },
    {
     "data": {
      "text/latex": [
       "$$A_{z_{0}}$$"
      ],
      "text/plain": [
       "<IPython.core.display.Math object>"
      ]
     },
     "execution_count": 71,
     "metadata": {
     },
     "output_type": "execute_result"
    },
    {
     "name": "stdout",
     "output_type": "stream",
     "text": [
      "sol_tg_kappa_x_coeff=\n"
     ]
    },
    {
     "data": {
      "text/latex": [
       "$$\\left[A_{z_{0}} = r_{1}\\right]$$"
      ],
      "text/plain": [
       "<IPython.core.display.Math object>"
      ]
     },
     "execution_count": 71,
     "metadata": {
     },
     "output_type": "execute_result"
    },
    {
     "name": "stdout",
     "output_type": "stream",
     "text": [
      "eq4 =\n"
     ]
    },
    {
     "data": {
      "text/latex": [
       "$$0 = 0$$"
      ],
      "text/plain": [
       "<IPython.core.display.Math object>"
      ]
     },
     "execution_count": 71,
     "metadata": {
     },
     "output_type": "execute_result"
    },
    {
     "name": "stdout",
     "output_type": "stream",
     "text": [
      "eq4 =\n"
     ]
    },
    {
     "data": {
      "text/latex": [
       "$$0 = 0$$"
      ],
      "text/plain": [
       "<IPython.core.display.Math object>"
      ]
     },
     "execution_count": 71,
     "metadata": {
     },
     "output_type": "execute_result"
    },
    {
     "name": "stdout",
     "output_type": "stream",
     "text": [
      "var =\n"
     ]
    },
    {
     "data": {
      "text/latex": [
       "$$A_{z_{0}}$$"
      ],
      "text/plain": [
       "<IPython.core.display.Math object>"
      ]
     },
     "execution_count": 71,
     "metadata": {
     },
     "output_type": "execute_result"
    },
    {
     "name": "stdout",
     "output_type": "stream",
     "text": [
      "\n",
      "sol=\n"
     ]
    },
    {
     "data": {
      "text/latex": [
       "$$\\left[A_{z_{0}} = r_{1}\\right]$$"
      ],
      "text/plain": [
       "<IPython.core.display.Math object>"
      ]
     },
     "execution_count": 71,
     "metadata": {
     },
     "output_type": "execute_result"
    },
    {
     "name": "stdout",
     "output_type": "stream",
     "text": [
      "\n",
      "var =\n"
     ]
    },
    {
     "data": {
      "text/latex": [
       "$$B_{z_{0}}$$"
      ],
      "text/plain": [
       "<IPython.core.display.Math object>"
      ]
     },
     "execution_count": 71,
     "metadata": {
     },
     "output_type": "execute_result"
    },
    {
     "name": "stdout",
     "output_type": "stream",
     "text": [
      "\n",
      "sol=\n"
     ]
    },
    {
     "data": {
      "text/latex": [
       "$$\\left[B_{z_{0}} = r_{1}\\right]$$"
      ],
      "text/plain": [
       "<IPython.core.display.Math object>"
      ]
     },
     "execution_count": 71,
     "metadata": {
     },
     "output_type": "execute_result"
    },
    {
     "name": "stdout",
     "output_type": "stream",
     "text": [
      "\n",
      "var =\n"
     ]
    },
    {
     "data": {
      "text/latex": [
       "$$A_{r_{0}}$$"
      ],
      "text/plain": [
       "<IPython.core.display.Math object>"
      ]
     },
     "execution_count": 71,
     "metadata": {
     },
     "output_type": "execute_result"
    },
    {
     "name": "stdout",
     "output_type": "stream",
     "text": [
      "\n"
     ]
    },
    {
     "name": "stdout",
     "output_type": "stream",
     "text": [
      "sol=\n"
     ]
    },
    {
     "data": {
      "text/latex": [
       "$$\\left[A_{r_{0}} = r_{1}\\right]$$"
      ],
      "text/plain": [
       "<IPython.core.display.Math object>"
      ]
     },
     "execution_count": 71,
     "metadata": {
     },
     "output_type": "execute_result"
    },
    {
     "name": "stdout",
     "output_type": "stream",
     "text": [
      "\n",
      "var =\n"
     ]
    },
    {
     "data": {
      "text/latex": [
       "$$B_{r_{0}}$$"
      ],
      "text/plain": [
       "<IPython.core.display.Math object>"
      ]
     },
     "execution_count": 71,
     "metadata": {
     },
     "output_type": "execute_result"
    },
    {
     "name": "stdout",
     "output_type": "stream",
     "text": [
      "\n",
      "sol=\n"
     ]
    },
    {
     "data": {
      "text/latex": [
       "$$\\left[B_{r_{0}} = r_{1}\\right]$$"
      ],
      "text/plain": [
       "<IPython.core.display.Math object>"
      ]
     },
     "execution_count": 71,
     "metadata": {
     },
     "output_type": "execute_result"
    },
    {
     "name": "stdout",
     "output_type": "stream",
     "text": [
      "\n",
      "var =\n"
     ]
    },
    {
     "data": {
      "text/latex": [
       "$$B_{z_{0}}$$"
      ],
      "text/plain": [
       "<IPython.core.display.Math object>"
      ]
     },
     "execution_count": 71,
     "metadata": {
     },
     "output_type": "execute_result"
    },
    {
     "name": "stdout",
     "output_type": "stream",
     "text": [
      "sol_tg_kappa_x_coeff=\n"
     ]
    },
    {
     "data": {
      "text/latex": [
       "$$\\left[B_{z_{0}} = r_{1}\\right]$$"
      ],
      "text/plain": [
       "<IPython.core.display.Math object>"
      ]
     },
     "execution_count": 71,
     "metadata": {
     },
     "output_type": "execute_result"
    },
    {
     "name": "stdout",
     "output_type": "stream",
     "text": [
      "eq4 =\n"
     ]
    },
    {
     "data": {
      "text/latex": [
       "$$0 = 0$$"
      ],
      "text/plain": [
       "<IPython.core.display.Math object>"
      ]
     },
     "execution_count": 71,
     "metadata": {
     },
     "output_type": "execute_result"
    },
    {
     "name": "stdout",
     "output_type": "stream",
     "text": [
      "eq4 =\n"
     ]
    },
    {
     "data": {
      "text/latex": [
       "$$0 = 0$$"
      ],
      "text/plain": [
       "<IPython.core.display.Math object>"
      ]
     },
     "execution_count": 71,
     "metadata": {
     },
     "output_type": "execute_result"
    },
    {
     "name": "stdout",
     "output_type": "stream",
     "text": [
      "var =\n"
     ]
    },
    {
     "data": {
      "text/latex": [
       "$$A_{z_{0}}$$"
      ],
      "text/plain": [
       "<IPython.core.display.Math object>"
      ]
     },
     "execution_count": 71,
     "metadata": {
     },
     "output_type": "execute_result"
    },
    {
     "name": "stdout",
     "output_type": "stream",
     "text": [
      "\n",
      "sol=\n"
     ]
    },
    {
     "data": {
      "text/latex": [
       "$$\\left[A_{z_{0}} = r_{1}\\right]$$"
      ],
      "text/plain": [
       "<IPython.core.display.Math object>"
      ]
     },
     "execution_count": 71,
     "metadata": {
     },
     "output_type": "execute_result"
    },
    {
     "name": "stdout",
     "output_type": "stream",
     "text": [
      "\n",
      "var =\n"
     ]
    },
    {
     "data": {
      "text/latex": [
       "$$B_{z_{0}}$$"
      ],
      "text/plain": [
       "<IPython.core.display.Math object>"
      ]
     },
     "execution_count": 71,
     "metadata": {
     },
     "output_type": "execute_result"
    },
    {
     "name": "stdout",
     "output_type": "stream",
     "text": [
      "\n",
      "sol=\n"
     ]
    },
    {
     "data": {
      "text/latex": [
       "$$\\left[B_{z_{0}} = r_{1}\\right]$$"
      ],
      "text/plain": [
       "<IPython.core.display.Math object>"
      ]
     },
     "execution_count": 71,
     "metadata": {
     },
     "output_type": "execute_result"
    },
    {
     "name": "stdout",
     "output_type": "stream",
     "text": [
      "\n",
      "var =\n"
     ]
    },
    {
     "data": {
      "text/latex": [
       "$$A_{r_{0}}$$"
      ],
      "text/plain": [
       "<IPython.core.display.Math object>"
      ]
     },
     "execution_count": 71,
     "metadata": {
     },
     "output_type": "execute_result"
    },
    {
     "name": "stdout",
     "output_type": "stream",
     "text": [
      "\n",
      "sol=\n"
     ]
    },
    {
     "data": {
      "text/latex": [
       "$$\\left[A_{r_{0}} = r_{1}\\right]$$"
      ],
      "text/plain": [
       "<IPython.core.display.Math object>"
      ]
     },
     "execution_count": 71,
     "metadata": {
     },
     "output_type": "execute_result"
    },
    {
     "name": "stdout",
     "output_type": "stream",
     "text": [
      "\n",
      "var =\n"
     ]
    },
    {
     "data": {
      "text/latex": [
       "$$B_{r_{0}}$$"
      ],
      "text/plain": [
       "<IPython.core.display.Math object>"
      ]
     },
     "execution_count": 71,
     "metadata": {
     },
     "output_type": "execute_result"
    },
    {
     "name": "stdout",
     "output_type": "stream",
     "text": [
      "\n",
      "sol=\n"
     ]
    },
    {
     "data": {
      "text/latex": [
       "$$\\left[B_{r_{0}} = r_{1}\\right]$$"
      ],
      "text/plain": [
       "<IPython.core.display.Math object>"
      ]
     },
     "execution_count": 71,
     "metadata": {
     },
     "output_type": "execute_result"
    },
    {
     "name": "stdout",
     "output_type": "stream",
     "text": [
      "\n",
      "var =\n"
     ]
    },
    {
     "data": {
      "text/latex": [
       "$$A_{r_{0}}$$"
      ],
      "text/plain": [
       "<IPython.core.display.Math object>"
      ]
     },
     "execution_count": 71,
     "metadata": {
     },
     "output_type": "execute_result"
    },
    {
     "name": "stdout",
     "output_type": "stream",
     "text": [
      "sol_tg_kappa_x_coeff=\n"
     ]
    },
    {
     "data": {
      "text/latex": [
       "$$\\left[A_{r_{0}} = r_{1}\\right]$$"
      ],
      "text/plain": [
       "<IPython.core.display.Math object>"
      ]
     },
     "execution_count": 71,
     "metadata": {
     },
     "output_type": "execute_result"
    },
    {
     "name": "stdout",
     "output_type": "stream",
     "text": [
      "eq4 =\n"
     ]
    },
    {
     "data": {
      "text/latex": [
       "$$0 = 0$$"
      ],
      "text/plain": [
       "<IPython.core.display.Math object>"
      ]
     },
     "execution_count": 71,
     "metadata": {
     },
     "output_type": "execute_result"
    },
    {
     "name": "stdout",
     "output_type": "stream",
     "text": [
      "eq4 =\n"
     ]
    },
    {
     "data": {
      "text/latex": [
       "$$0 = 0$$"
      ],
      "text/plain": [
       "<IPython.core.display.Math object>"
      ]
     },
     "execution_count": 71,
     "metadata": {
     },
     "output_type": "execute_result"
    },
    {
     "name": "stdout",
     "output_type": "stream",
     "text": [
      "var =\n"
     ]
    },
    {
     "data": {
      "text/latex": [
       "$$A_{z_{0}}$$"
      ],
      "text/plain": [
       "<IPython.core.display.Math object>"
      ]
     },
     "execution_count": 71,
     "metadata": {
     },
     "output_type": "execute_result"
    },
    {
     "name": "stdout",
     "output_type": "stream",
     "text": [
      "\n"
     ]
    },
    {
     "name": "stdout",
     "output_type": "stream",
     "text": [
      "sol=\n"
     ]
    },
    {
     "data": {
      "text/latex": [
       "$$\\left[A_{z_{0}} = r_{1}\\right]$$"
      ],
      "text/plain": [
       "<IPython.core.display.Math object>"
      ]
     },
     "execution_count": 71,
     "metadata": {
     },
     "output_type": "execute_result"
    },
    {
     "name": "stdout",
     "output_type": "stream",
     "text": [
      "\n",
      "var =\n"
     ]
    },
    {
     "data": {
      "text/latex": [
       "$$B_{z_{0}}$$"
      ],
      "text/plain": [
       "<IPython.core.display.Math object>"
      ]
     },
     "execution_count": 71,
     "metadata": {
     },
     "output_type": "execute_result"
    },
    {
     "name": "stdout",
     "output_type": "stream",
     "text": [
      "\n",
      "sol=\n"
     ]
    },
    {
     "data": {
      "text/latex": [
       "$$\\left[B_{z_{0}} = r_{1}\\right]$$"
      ],
      "text/plain": [
       "<IPython.core.display.Math object>"
      ]
     },
     "execution_count": 71,
     "metadata": {
     },
     "output_type": "execute_result"
    },
    {
     "name": "stdout",
     "output_type": "stream",
     "text": [
      "\n",
      "var =\n"
     ]
    },
    {
     "data": {
      "text/latex": [
       "$$A_{r_{0}}$$"
      ],
      "text/plain": [
       "<IPython.core.display.Math object>"
      ]
     },
     "execution_count": 71,
     "metadata": {
     },
     "output_type": "execute_result"
    },
    {
     "name": "stdout",
     "output_type": "stream",
     "text": [
      "\n",
      "sol=\n"
     ]
    },
    {
     "data": {
      "text/latex": [
       "$$\\left[A_{r_{0}} = r_{1}\\right]$$"
      ],
      "text/plain": [
       "<IPython.core.display.Math object>"
      ]
     },
     "execution_count": 71,
     "metadata": {
     },
     "output_type": "execute_result"
    },
    {
     "name": "stdout",
     "output_type": "stream",
     "text": [
      "\n",
      "var =\n"
     ]
    },
    {
     "data": {
      "text/latex": [
       "$$B_{r_{0}}$$"
      ],
      "text/plain": [
       "<IPython.core.display.Math object>"
      ]
     },
     "execution_count": 71,
     "metadata": {
     },
     "output_type": "execute_result"
    },
    {
     "name": "stdout",
     "output_type": "stream",
     "text": [
      "\n",
      "sol=\n"
     ]
    },
    {
     "data": {
      "text/latex": [
       "$$\\left[B_{r_{0}} = r_{1}\\right]$$"
      ],
      "text/plain": [
       "<IPython.core.display.Math object>"
      ]
     },
     "execution_count": 71,
     "metadata": {
     },
     "output_type": "execute_result"
    },
    {
     "name": "stdout",
     "output_type": "stream",
     "text": [
      "\n",
      "var =\n"
     ]
    },
    {
     "data": {
      "text/latex": [
       "$$B_{r_{0}}$$"
      ],
      "text/plain": [
       "<IPython.core.display.Math object>"
      ]
     },
     "execution_count": 71,
     "metadata": {
     },
     "output_type": "execute_result"
    },
    {
     "name": "stdout",
     "output_type": "stream",
     "text": [
      "sol_tg_kappa_x_coeff=\n"
     ]
    },
    {
     "data": {
      "text/latex": [
       "$$\\left[B_{r_{0}} = r_{1}\\right]$$"
      ],
      "text/plain": [
       "<IPython.core.display.Math object>"
      ]
     },
     "execution_count": 71,
     "metadata": {
     },
     "output_type": "execute_result"
    },
    {
     "name": "stdout",
     "output_type": "stream",
     "text": [
      "eq4 =\n"
     ]
    },
    {
     "data": {
      "text/latex": [
       "$$0 = 0$$"
      ],
      "text/plain": [
       "<IPython.core.display.Math object>"
      ]
     },
     "execution_count": 71,
     "metadata": {
     },
     "output_type": "execute_result"
    },
    {
     "name": "stdout",
     "output_type": "stream",
     "text": [
      "eq4 =\n"
     ]
    },
    {
     "data": {
      "text/latex": [
       "$$0 = 0$$"
      ],
      "text/plain": [
       "<IPython.core.display.Math object>"
      ]
     },
     "execution_count": 71,
     "metadata": {
     },
     "output_type": "execute_result"
    },
    {
     "name": "stdout",
     "output_type": "stream",
     "text": [
      "var =\n"
     ]
    },
    {
     "data": {
      "text/latex": [
       "$$A_{z_{0}}$$"
      ],
      "text/plain": [
       "<IPython.core.display.Math object>"
      ]
     },
     "execution_count": 71,
     "metadata": {
     },
     "output_type": "execute_result"
    },
    {
     "name": "stdout",
     "output_type": "stream",
     "text": [
      "\n",
      "sol=\n"
     ]
    },
    {
     "data": {
      "text/latex": [
       "$$\\left[A_{z_{0}} = r_{1}\\right]$$"
      ],
      "text/plain": [
       "<IPython.core.display.Math object>"
      ]
     },
     "execution_count": 71,
     "metadata": {
     },
     "output_type": "execute_result"
    },
    {
     "name": "stdout",
     "output_type": "stream",
     "text": [
      "\n",
      "var =\n"
     ]
    },
    {
     "data": {
      "text/latex": [
       "$$B_{z_{0}}$$"
      ],
      "text/plain": [
       "<IPython.core.display.Math object>"
      ]
     },
     "execution_count": 71,
     "metadata": {
     },
     "output_type": "execute_result"
    },
    {
     "name": "stdout",
     "output_type": "stream",
     "text": [
      "\n",
      "sol=\n"
     ]
    },
    {
     "data": {
      "text/latex": [
       "$$\\left[B_{z_{0}} = r_{1}\\right]$$"
      ],
      "text/plain": [
       "<IPython.core.display.Math object>"
      ]
     },
     "execution_count": 71,
     "metadata": {
     },
     "output_type": "execute_result"
    },
    {
     "name": "stdout",
     "output_type": "stream",
     "text": [
      "\n",
      "var =\n"
     ]
    },
    {
     "data": {
      "text/latex": [
       "$$A_{r_{0}}$$"
      ],
      "text/plain": [
       "<IPython.core.display.Math object>"
      ]
     },
     "execution_count": 71,
     "metadata": {
     },
     "output_type": "execute_result"
    },
    {
     "name": "stdout",
     "output_type": "stream",
     "text": [
      "\n",
      "sol=\n"
     ]
    },
    {
     "data": {
      "text/latex": [
       "$$\\left[A_{r_{0}} = r_{1}\\right]$$"
      ],
      "text/plain": [
       "<IPython.core.display.Math object>"
      ]
     },
     "execution_count": 71,
     "metadata": {
     },
     "output_type": "execute_result"
    },
    {
     "name": "stdout",
     "output_type": "stream",
     "text": [
      "\n",
      "var =\n"
     ]
    },
    {
     "data": {
      "text/latex": [
       "$$B_{r_{0}}$$"
      ],
      "text/plain": [
       "<IPython.core.display.Math object>"
      ]
     },
     "execution_count": 71,
     "metadata": {
     },
     "output_type": "execute_result"
    },
    {
     "name": "stdout",
     "output_type": "stream",
     "text": [
      "\n",
      "sol="
     ]
    },
    {
     "name": "stdout",
     "output_type": "stream",
     "text": [
      "\n"
     ]
    },
    {
     "data": {
      "text/latex": [
       "$$\\left[B_{r_{0}} = r_{1}\\right]$$"
      ],
      "text/plain": [
       "<IPython.core.display.Math object>"
      ]
     },
     "execution_count": 71,
     "metadata": {
     },
     "output_type": "execute_result"
    },
    {
     "name": "stdout",
     "output_type": "stream",
     "text": [
      "\n"
     ]
    },
    {
     "name": "stdout",
     "output_type": "stream",
     "text": [
      "eq_rot_H_z = \n"
     ]
    },
    {
     "data": {
      "text/latex": [
       "$$-\\frac{{\\left(4 \\, A_{z_{1}} \\epsilon_{1} \\kappa \\mu_{1} \\omega^{2} J_{0}(\\kappa \\rho) \\cos\\left(h k_{1}\\right) \\sin\\left(h k_{1}\\right) + 4 \\, B_{z_{1}} c^{2} k_{1}^{2} J_{1}(\\kappa \\rho) \\cos\\left(h k_{1}\\right)^{2} + 4 \\, A_{z_{1}} c^{2} \\kappa^{2} J_{1}(\\kappa \\rho) \\cos\\left(h k_{1}\\right) \\sin\\left(h k_{1}\\right) - 2 \\, B_{z_{1}} c^{2} k_{1}^{2} J_{1}(\\kappa \\rho) - {\\left(2 \\, A_{z_{1}} c^{2} \\kappa^{3} {\\left(J_{2}(\\kappa \\rho) - J_{0}(\\kappa \\rho)\\right)} \\cos\\left(h k_{1}\\right) \\sin\\left(h k_{1}\\right) + {\\left(2 \\, B_{z_{1}} c^{2} k_{1}^{2} {\\left(J_{2}(\\kappa \\rho) - J_{0}(\\kappa \\rho)\\right)} \\cos\\left(h k_{1}\\right)^{2} - B_{z_{1}} c^{2} k_{1}^{2} {\\left(J_{2}(\\kappa \\rho) - J_{0}(\\kappa \\rho)\\right)}\\right)} \\kappa\\right)} \\rho\\right)} \\cos\\left(k_{1} z\\right)^{2} - {\\left(4 \\, A_{z_{1}} c^{2} k_{1}^{2} J_{1}(\\kappa \\rho) \\cos\\left(h k_{1}\\right)^{2} - 4 \\, B_{z_{1}} c^{2} k_{1}^{2} J_{1}(\\kappa \\rho) \\cos\\left(h k_{1}\\right) \\sin\\left(h k_{1}\\right) - 2 \\, A_{z_{1}} c^{2} k_{1}^{2} J_{1}(\\kappa \\rho) + 2 \\, {\\left(2 \\, A_{z_{1}} \\epsilon_{1} J_{0}(\\kappa \\rho) \\cos\\left(h k_{1}\\right)^{2} - 2 \\, B_{z_{1}} \\epsilon_{1} J_{0}(\\kappa \\rho) \\cos\\left(h k_{1}\\right) \\sin\\left(h k_{1}\\right) - A_{z_{1}} \\epsilon_{1} J_{0}(\\kappa \\rho)\\right)} \\kappa \\mu_{1} \\omega^{2} + 2 \\, {\\left(2 \\, A_{z_{1}} c^{2} J_{1}(\\kappa \\rho) \\cos\\left(h k_{1}\\right)^{2} - 2 \\, B_{z_{1}} c^{2} J_{1}(\\kappa \\rho) \\cos\\left(h k_{1}\\right) \\sin\\left(h k_{1}\\right) - A_{z_{1}} c^{2} J_{1}(\\kappa \\rho)\\right)} \\kappa^{2} - {\\left({\\left(2 \\, A_{z_{1}} c^{2} {\\left(J_{2}(\\kappa \\rho) - J_{0}(\\kappa \\rho)\\right)} \\cos\\left(h k_{1}\\right)^{2} - 2 \\, B_{z_{1}} c^{2} {\\left(J_{2}(\\kappa \\rho) - J_{0}(\\kappa \\rho)\\right)} \\cos\\left(h k_{1}\\right) \\sin\\left(h k_{1}\\right) - A_{z_{1}} c^{2} {\\left(J_{2}(\\kappa \\rho) - J_{0}(\\kappa \\rho)\\right)}\\right)} \\kappa^{3} + {\\left(2 \\, A_{z_{1}} c^{2} k_{1}^{2} {\\left(J_{2}(\\kappa \\rho) - J_{0}(\\kappa \\rho)\\right)} \\cos\\left(h k_{1}\\right)^{2} - 2 \\, B_{z_{1}} c^{2} k_{1}^{2} {\\left(J_{2}(\\kappa \\rho) - J_{0}(\\kappa \\rho)\\right)} \\cos\\left(h k_{1}\\right) \\sin\\left(h k_{1}\\right) - A_{z_{1}} c^{2} k_{1}^{2} {\\left(J_{2}(\\kappa \\rho) - J_{0}(\\kappa \\rho)\\right)}\\right)} \\kappa\\right)} \\rho\\right)} \\cos\\left(k_{1} z\\right) \\sin\\left(k_{1} z\\right) - {\\left(4 \\, A_{z_{1}} c^{2} k_{1}^{2} J_{1}(\\kappa \\rho) \\cos\\left(h k_{1}\\right) \\sin\\left(h k_{1}\\right) + 2 \\, {\\left(2 \\, B_{z_{1}} \\epsilon_{1} J_{0}(\\kappa \\rho) \\cos\\left(h k_{1}\\right)^{2} - B_{z_{1}} \\epsilon_{1} J_{0}(\\kappa \\rho)\\right)} \\kappa \\mu_{1} \\omega^{2} + 2 \\, {\\left(2 \\, B_{z_{1}} c^{2} J_{1}(\\kappa \\rho) \\cos\\left(h k_{1}\\right)^{2} - B_{z_{1}} c^{2} J_{1}(\\kappa \\rho)\\right)} \\kappa^{2} - {\\left(2 \\, A_{z_{1}} c^{2} k_{1}^{2} \\kappa {\\left(J_{2}(\\kappa \\rho) - J_{0}(\\kappa \\rho)\\right)} \\cos\\left(h k_{1}\\right) \\sin\\left(h k_{1}\\right) + {\\left(2 \\, B_{z_{1}} c^{2} {\\left(J_{2}(\\kappa \\rho) - J_{0}(\\kappa \\rho)\\right)} \\cos\\left(h k_{1}\\right)^{2} - B_{z_{1}} c^{2} {\\left(J_{2}(\\kappa \\rho) - J_{0}(\\kappa \\rho)\\right)}\\right)} \\kappa^{3}\\right)} \\rho\\right)} \\sin\\left(k_{1} z\\right)^{2}}{2 \\, {\\left(2 \\, c^{2} \\kappa \\mu_{1} \\cos\\left(h k_{1}\\right) \\cos\\left(k_{1} z\\right) \\sin\\left(h k_{1}\\right) - {\\left(2 \\, c^{2} \\cos\\left(h k_{1}\\right)^{2} - c^{2}\\right)} \\kappa \\mu_{1} \\sin\\left(k_{1} z\\right)\\right)}} = 0$$"
      ],
      "text/plain": [
       "<IPython.core.display.Math object>"
      ]
     },
     "execution_count": 71,
     "metadata": {
     },
     "output_type": "execute_result"
    },
    {
     "name": "stdout",
     "output_type": "stream",
     "text": [
      "eq_rot_H_rh = \n"
     ]
    },
    {
     "data": {
      "text/latex": [
       "$$\\frac{{\\left(B_{z_{1}} k_{1}^{3} J_{1}(\\kappa \\rho) + B_{z_{1}} k_{1} \\kappa^{2} J_{1}(\\kappa \\rho)\\right)} \\cos\\left(k_{1} z\\right) - {\\left(A_{z_{1}} k_{1}^{3} J_{1}(\\kappa \\rho) + A_{z_{1}} k_{1} \\kappa^{2} J_{1}(\\kappa \\rho)\\right)} \\sin\\left(k_{1} z\\right)}{\\kappa \\mu_{1}} = \\frac{{\\left(B_{z_{1}} k_{1}^{3} J_{1}(\\kappa \\rho) + B_{z_{1}} k_{1} \\kappa^{2} J_{1}(\\kappa \\rho)\\right)} \\cos\\left(k_{1} z\\right) - {\\left(A_{z_{1}} k_{1}^{3} J_{1}(\\kappa \\rho) + A_{z_{1}} k_{1} \\kappa^{2} J_{1}(\\kappa \\rho)\\right)} \\sin\\left(k_{1} z\\right)}{\\kappa \\mu_{1}}$$"
      ],
      "text/plain": [
       "<IPython.core.display.Math object>"
      ]
     },
     "execution_count": 71,
     "metadata": {
     },
     "output_type": "execute_result"
    },
    {
     "name": "stdout",
     "output_type": "stream",
     "text": [
      "\n"
     ]
    },
    {
     "data": {
      "text/latex": [
       "$$\\left[A_{z_{1}}, B_{z_{1}}, A_{r_{1}}, B_{r_{1}}\\right]$$"
      ],
      "text/plain": [
       "<IPython.core.display.Math object>"
      ]
     },
     "execution_count": 71,
     "metadata": {
     },
     "output_type": "execute_result"
    },
    {
     "name": "stdout",
     "output_type": "stream",
     "text": [
      "M_rotH =\n"
     ]
    },
    {
     "data": {
      "text/latex": [
       "$$\\left(\\begin{array}{rrrr}\n",
       "\\frac{2 \\, {\\left(c^{2} \\kappa^{3} \\rho {\\left(J_{2}(\\kappa \\rho) - J_{0}(\\kappa \\rho)\\right)} \\cos\\left(h k_{1}\\right) \\sin\\left(h k_{1}\\right) - 2 \\, \\epsilon_{1} \\kappa \\mu_{1} \\omega^{2} J_{0}(\\kappa \\rho) \\cos\\left(h k_{1}\\right) \\sin\\left(h k_{1}\\right) - 2 \\, c^{2} \\kappa^{2} J_{1}(\\kappa \\rho) \\cos\\left(h k_{1}\\right) \\sin\\left(h k_{1}\\right)\\right)} \\cos\\left(k_{1} z\\right)^{2} + {\\left(4 \\, c^{2} k_{1}^{2} J_{1}(\\kappa \\rho) \\cos\\left(h k_{1}\\right)^{2} + 2 \\, {\\left(2 \\, \\epsilon_{1} J_{0}(\\kappa \\rho) \\cos\\left(h k_{1}\\right)^{2} - \\epsilon_{1} J_{0}(\\kappa \\rho)\\right)} \\kappa \\mu_{1} \\omega^{2} - 2 \\, c^{2} k_{1}^{2} J_{1}(\\kappa \\rho) + 2 \\, {\\left(2 \\, c^{2} J_{1}(\\kappa \\rho) \\cos\\left(h k_{1}\\right)^{2} - c^{2} J_{1}(\\kappa \\rho)\\right)} \\kappa^{2} - {\\left({\\left(2 \\, c^{2} {\\left(J_{2}(\\kappa \\rho) - J_{0}(\\kappa \\rho)\\right)} \\cos\\left(h k_{1}\\right)^{2} - c^{2} {\\left(J_{2}(\\kappa \\rho) - J_{0}(\\kappa \\rho)\\right)}\\right)} \\kappa^{3} + {\\left(2 \\, c^{2} k_{1}^{2} {\\left(J_{2}(\\kappa \\rho) - J_{0}(\\kappa \\rho)\\right)} \\cos\\left(h k_{1}\\right)^{2} - c^{2} k_{1}^{2} {\\left(J_{2}(\\kappa \\rho) - J_{0}(\\kappa \\rho)\\right)}\\right)} \\kappa\\right)} \\rho\\right)} \\cos\\left(k_{1} z\\right) \\sin\\left(k_{1} z\\right) - 2 \\, {\\left(c^{2} k_{1}^{2} \\kappa \\rho {\\left(J_{2}(\\kappa \\rho) - J_{0}(\\kappa \\rho)\\right)} \\cos\\left(h k_{1}\\right) \\sin\\left(h k_{1}\\right) - 2 \\, c^{2} k_{1}^{2} J_{1}(\\kappa \\rho) \\cos\\left(h k_{1}\\right) \\sin\\left(h k_{1}\\right)\\right)} \\sin\\left(k_{1} z\\right)^{2}}{2 \\, {\\left(2 \\, c^{2} \\kappa \\mu_{1} \\cos\\left(h k_{1}\\right) \\cos\\left(k_{1} z\\right) \\sin\\left(h k_{1}\\right) - {\\left(2 \\, c^{2} \\cos\\left(h k_{1}\\right)^{2} - c^{2}\\right)} \\kappa \\mu_{1} \\sin\\left(k_{1} z\\right)\\right)}} & -\\frac{{\\left(4 \\, c^{2} k_{1}^{2} J_{1}(\\kappa \\rho) \\cos\\left(h k_{1}\\right)^{2} - 2 \\, c^{2} k_{1}^{2} J_{1}(\\kappa \\rho) - {\\left(2 \\, c^{2} k_{1}^{2} {\\left(J_{2}(\\kappa \\rho) - J_{0}(\\kappa \\rho)\\right)} \\cos\\left(h k_{1}\\right)^{2} - c^{2} k_{1}^{2} {\\left(J_{2}(\\kappa \\rho) - J_{0}(\\kappa \\rho)\\right)}\\right)} \\kappa \\rho\\right)} \\cos\\left(k_{1} z\\right)^{2} + 2 \\, {\\left(2 \\, \\epsilon_{1} \\kappa \\mu_{1} \\omega^{2} J_{0}(\\kappa \\rho) \\cos\\left(h k_{1}\\right) \\sin\\left(h k_{1}\\right) + 2 \\, c^{2} k_{1}^{2} J_{1}(\\kappa \\rho) \\cos\\left(h k_{1}\\right) \\sin\\left(h k_{1}\\right) + 2 \\, c^{2} \\kappa^{2} J_{1}(\\kappa \\rho) \\cos\\left(h k_{1}\\right) \\sin\\left(h k_{1}\\right) - {\\left(c^{2} k_{1}^{2} \\kappa {\\left(J_{2}(\\kappa \\rho) - J_{0}(\\kappa \\rho)\\right)} \\cos\\left(h k_{1}\\right) \\sin\\left(h k_{1}\\right) + c^{2} \\kappa^{3} {\\left(J_{2}(\\kappa \\rho) - J_{0}(\\kappa \\rho)\\right)} \\cos\\left(h k_{1}\\right) \\sin\\left(h k_{1}\\right)\\right)} \\rho\\right)} \\cos\\left(k_{1} z\\right) \\sin\\left(k_{1} z\\right) - {\\left(2 \\, {\\left(2 \\, \\epsilon_{1} J_{0}(\\kappa \\rho) \\cos\\left(h k_{1}\\right)^{2} - \\epsilon_{1} J_{0}(\\kappa \\rho)\\right)} \\kappa \\mu_{1} \\omega^{2} - {\\left(2 \\, c^{2} {\\left(J_{2}(\\kappa \\rho) - J_{0}(\\kappa \\rho)\\right)} \\cos\\left(h k_{1}\\right)^{2} - c^{2} {\\left(J_{2}(\\kappa \\rho) - J_{0}(\\kappa \\rho)\\right)}\\right)} \\kappa^{3} \\rho + 2 \\, {\\left(2 \\, c^{2} J_{1}(\\kappa \\rho) \\cos\\left(h k_{1}\\right)^{2} - c^{2} J_{1}(\\kappa \\rho)\\right)} \\kappa^{2}\\right)} \\sin\\left(k_{1} z\\right)^{2}}{2 \\, {\\left(2 \\, c^{2} \\kappa \\mu_{1} \\cos\\left(h k_{1}\\right) \\cos\\left(k_{1} z\\right) \\sin\\left(h k_{1}\\right) - {\\left(2 \\, c^{2} \\cos\\left(h k_{1}\\right)^{2} - c^{2}\\right)} \\kappa \\mu_{1} \\sin\\left(k_{1} z\\right)\\right)}} & 0 & 0 \\\\\n",
       "0 & 0 & 0 & 0\n",
       "\\end{array}\\right)$$"
      ],
      "text/plain": [
       "<IPython.core.display.Math object>"
      ]
     },
     "execution_count": 71,
     "metadata": {
     },
     "output_type": "execute_result"
    },
    {
     "name": "stdout",
     "output_type": "stream",
     "text": [
      "M_rotH.nrows = 2\n",
      "M_rotH.ncols = 4\n",
      "M_rotH.rank = 1\n",
      "eqns =\n"
     ]
    },
    {
     "data": {
      "text/latex": [
       "$$\\left[\\frac{{\\left(2 \\, {\\left(c^{2} \\kappa^{3} \\rho {\\left(J_{2}(\\kappa \\rho) - J_{0}(\\kappa \\rho)\\right)} \\cos\\left(h k_{1}\\right) \\sin\\left(h k_{1}\\right) - 2 \\, \\epsilon_{1} \\kappa \\mu_{1} \\omega^{2} J_{0}(\\kappa \\rho) \\cos\\left(h k_{1}\\right) \\sin\\left(h k_{1}\\right) - 2 \\, c^{2} \\kappa^{2} J_{1}(\\kappa \\rho) \\cos\\left(h k_{1}\\right) \\sin\\left(h k_{1}\\right)\\right)} \\cos\\left(k_{1} z\\right)^{2} + {\\left(4 \\, c^{2} k_{1}^{2} J_{1}(\\kappa \\rho) \\cos\\left(h k_{1}\\right)^{2} + 2 \\, {\\left(2 \\, \\epsilon_{1} J_{0}(\\kappa \\rho) \\cos\\left(h k_{1}\\right)^{2} - \\epsilon_{1} J_{0}(\\kappa \\rho)\\right)} \\kappa \\mu_{1} \\omega^{2} - 2 \\, c^{2} k_{1}^{2} J_{1}(\\kappa \\rho) + 2 \\, {\\left(2 \\, c^{2} J_{1}(\\kappa \\rho) \\cos\\left(h k_{1}\\right)^{2} - c^{2} J_{1}(\\kappa \\rho)\\right)} \\kappa^{2} - {\\left({\\left(2 \\, c^{2} {\\left(J_{2}(\\kappa \\rho) - J_{0}(\\kappa \\rho)\\right)} \\cos\\left(h k_{1}\\right)^{2} - c^{2} {\\left(J_{2}(\\kappa \\rho) - J_{0}(\\kappa \\rho)\\right)}\\right)} \\kappa^{3} + {\\left(2 \\, c^{2} k_{1}^{2} {\\left(J_{2}(\\kappa \\rho) - J_{0}(\\kappa \\rho)\\right)} \\cos\\left(h k_{1}\\right)^{2} - c^{2} k_{1}^{2} {\\left(J_{2}(\\kappa \\rho) - J_{0}(\\kappa \\rho)\\right)}\\right)} \\kappa\\right)} \\rho\\right)} \\cos\\left(k_{1} z\\right) \\sin\\left(k_{1} z\\right) - 2 \\, {\\left(c^{2} k_{1}^{2} \\kappa \\rho {\\left(J_{2}(\\kappa \\rho) - J_{0}(\\kappa \\rho)\\right)} \\cos\\left(h k_{1}\\right) \\sin\\left(h k_{1}\\right) - 2 \\, c^{2} k_{1}^{2} J_{1}(\\kappa \\rho) \\cos\\left(h k_{1}\\right) \\sin\\left(h k_{1}\\right)\\right)} \\sin\\left(k_{1} z\\right)^{2}\\right)} A_{z_{1}}}{2 \\, {\\left(2 \\, c^{2} \\kappa \\mu_{1} \\cos\\left(h k_{1}\\right) \\cos\\left(k_{1} z\\right) \\sin\\left(h k_{1}\\right) - {\\left(2 \\, c^{2} \\cos\\left(h k_{1}\\right)^{2} - c^{2}\\right)} \\kappa \\mu_{1} \\sin\\left(k_{1} z\\right)\\right)}} - \\frac{{\\left({\\left(4 \\, c^{2} k_{1}^{2} J_{1}(\\kappa \\rho) \\cos\\left(h k_{1}\\right)^{2} - 2 \\, c^{2} k_{1}^{2} J_{1}(\\kappa \\rho) - {\\left(2 \\, c^{2} k_{1}^{2} {\\left(J_{2}(\\kappa \\rho) - J_{0}(\\kappa \\rho)\\right)} \\cos\\left(h k_{1}\\right)^{2} - c^{2} k_{1}^{2} {\\left(J_{2}(\\kappa \\rho) - J_{0}(\\kappa \\rho)\\right)}\\right)} \\kappa \\rho\\right)} \\cos\\left(k_{1} z\\right)^{2} + 2 \\, {\\left(2 \\, \\epsilon_{1} \\kappa \\mu_{1} \\omega^{2} J_{0}(\\kappa \\rho) \\cos\\left(h k_{1}\\right) \\sin\\left(h k_{1}\\right) + 2 \\, c^{2} k_{1}^{2} J_{1}(\\kappa \\rho) \\cos\\left(h k_{1}\\right) \\sin\\left(h k_{1}\\right) + 2 \\, c^{2} \\kappa^{2} J_{1}(\\kappa \\rho) \\cos\\left(h k_{1}\\right) \\sin\\left(h k_{1}\\right) - {\\left(c^{2} k_{1}^{2} \\kappa {\\left(J_{2}(\\kappa \\rho) - J_{0}(\\kappa \\rho)\\right)} \\cos\\left(h k_{1}\\right) \\sin\\left(h k_{1}\\right) + c^{2} \\kappa^{3} {\\left(J_{2}(\\kappa \\rho) - J_{0}(\\kappa \\rho)\\right)} \\cos\\left(h k_{1}\\right) \\sin\\left(h k_{1}\\right)\\right)} \\rho\\right)} \\cos\\left(k_{1} z\\right) \\sin\\left(k_{1} z\\right) - {\\left(2 \\, {\\left(2 \\, \\epsilon_{1} J_{0}(\\kappa \\rho) \\cos\\left(h k_{1}\\right)^{2} - \\epsilon_{1} J_{0}(\\kappa \\rho)\\right)} \\kappa \\mu_{1} \\omega^{2} - {\\left(2 \\, c^{2} {\\left(J_{2}(\\kappa \\rho) - J_{0}(\\kappa \\rho)\\right)} \\cos\\left(h k_{1}\\right)^{2} - c^{2} {\\left(J_{2}(\\kappa \\rho) - J_{0}(\\kappa \\rho)\\right)}\\right)} \\kappa^{3} \\rho + 2 \\, {\\left(2 \\, c^{2} J_{1}(\\kappa \\rho) \\cos\\left(h k_{1}\\right)^{2} - c^{2} J_{1}(\\kappa \\rho)\\right)} \\kappa^{2}\\right)} \\sin\\left(k_{1} z\\right)^{2}\\right)} B_{z_{1}}}{2 \\, {\\left(2 \\, c^{2} \\kappa \\mu_{1} \\cos\\left(h k_{1}\\right) \\cos\\left(k_{1} z\\right) \\sin\\left(h k_{1}\\right) - {\\left(2 \\, c^{2} \\cos\\left(h k_{1}\\right)^{2} - c^{2}\\right)} \\kappa \\mu_{1} \\sin\\left(k_{1} z\\right)\\right)}} = 0, 0 = 0\\right]$$"
      ],
      "text/plain": [
       "<IPython.core.display.Math object>"
      ]
     },
     "execution_count": 71,
     "metadata": {
     },
     "output_type": "execute_result"
    },
    {
     "name": "stdout",
     "output_type": "stream",
     "text": [
      "row_M =\n"
     ]
    },
    {
     "data": {
      "text/latex": [
       "$$\\left(\\frac{2 \\, {\\left(c^{2} \\kappa^{3} \\rho {\\left(J_{2}(\\kappa \\rho) - J_{0}(\\kappa \\rho)\\right)} \\cos\\left(h k_{1}\\right) \\sin\\left(h k_{1}\\right) - 2 \\, \\epsilon_{1} \\kappa \\mu_{1} \\omega^{2} J_{0}(\\kappa \\rho) \\cos\\left(h k_{1}\\right) \\sin\\left(h k_{1}\\right) - 2 \\, c^{2} \\kappa^{2} J_{1}(\\kappa \\rho) \\cos\\left(h k_{1}\\right) \\sin\\left(h k_{1}\\right)\\right)} \\cos\\left(k_{1} z\\right)^{2} + {\\left(4 \\, c^{2} k_{1}^{2} J_{1}(\\kappa \\rho) \\cos\\left(h k_{1}\\right)^{2} + 2 \\, {\\left(2 \\, \\epsilon_{1} J_{0}(\\kappa \\rho) \\cos\\left(h k_{1}\\right)^{2} - \\epsilon_{1} J_{0}(\\kappa \\rho)\\right)} \\kappa \\mu_{1} \\omega^{2} - 2 \\, c^{2} k_{1}^{2} J_{1}(\\kappa \\rho) + 2 \\, {\\left(2 \\, c^{2} J_{1}(\\kappa \\rho) \\cos\\left(h k_{1}\\right)^{2} - c^{2} J_{1}(\\kappa \\rho)\\right)} \\kappa^{2} - {\\left({\\left(2 \\, c^{2} {\\left(J_{2}(\\kappa \\rho) - J_{0}(\\kappa \\rho)\\right)} \\cos\\left(h k_{1}\\right)^{2} - c^{2} {\\left(J_{2}(\\kappa \\rho) - J_{0}(\\kappa \\rho)\\right)}\\right)} \\kappa^{3} + {\\left(2 \\, c^{2} k_{1}^{2} {\\left(J_{2}(\\kappa \\rho) - J_{0}(\\kappa \\rho)\\right)} \\cos\\left(h k_{1}\\right)^{2} - c^{2} k_{1}^{2} {\\left(J_{2}(\\kappa \\rho) - J_{0}(\\kappa \\rho)\\right)}\\right)} \\kappa\\right)} \\rho\\right)} \\cos\\left(k_{1} z\\right) \\sin\\left(k_{1} z\\right) - 2 \\, {\\left(c^{2} k_{1}^{2} \\kappa \\rho {\\left(J_{2}(\\kappa \\rho) - J_{0}(\\kappa \\rho)\\right)} \\cos\\left(h k_{1}\\right) \\sin\\left(h k_{1}\\right) - 2 \\, c^{2} k_{1}^{2} J_{1}(\\kappa \\rho) \\cos\\left(h k_{1}\\right) \\sin\\left(h k_{1}\\right)\\right)} \\sin\\left(k_{1} z\\right)^{2}}{2 \\, {\\left(2 \\, c^{2} \\kappa \\mu_{1} \\cos\\left(h k_{1}\\right) \\cos\\left(k_{1} z\\right) \\sin\\left(h k_{1}\\right) - {\\left(2 \\, c^{2} \\cos\\left(h k_{1}\\right)^{2} - c^{2}\\right)} \\kappa \\mu_{1} \\sin\\left(k_{1} z\\right)\\right)}},\\,-\\frac{{\\left(4 \\, c^{2} k_{1}^{2} J_{1}(\\kappa \\rho) \\cos\\left(h k_{1}\\right)^{2} - 2 \\, c^{2} k_{1}^{2} J_{1}(\\kappa \\rho) - {\\left(2 \\, c^{2} k_{1}^{2} {\\left(J_{2}(\\kappa \\rho) - J_{0}(\\kappa \\rho)\\right)} \\cos\\left(h k_{1}\\right)^{2} - c^{2} k_{1}^{2} {\\left(J_{2}(\\kappa \\rho) - J_{0}(\\kappa \\rho)\\right)}\\right)} \\kappa \\rho\\right)} \\cos\\left(k_{1} z\\right)^{2} + 2 \\, {\\left(2 \\, \\epsilon_{1} \\kappa \\mu_{1} \\omega^{2} J_{0}(\\kappa \\rho) \\cos\\left(h k_{1}\\right) \\sin\\left(h k_{1}\\right) + 2 \\, c^{2} k_{1}^{2} J_{1}(\\kappa \\rho) \\cos\\left(h k_{1}\\right) \\sin\\left(h k_{1}\\right) + 2 \\, c^{2} \\kappa^{2} J_{1}(\\kappa \\rho) \\cos\\left(h k_{1}\\right) \\sin\\left(h k_{1}\\right) - {\\left(c^{2} k_{1}^{2} \\kappa {\\left(J_{2}(\\kappa \\rho) - J_{0}(\\kappa \\rho)\\right)} \\cos\\left(h k_{1}\\right) \\sin\\left(h k_{1}\\right) + c^{2} \\kappa^{3} {\\left(J_{2}(\\kappa \\rho) - J_{0}(\\kappa \\rho)\\right)} \\cos\\left(h k_{1}\\right) \\sin\\left(h k_{1}\\right)\\right)} \\rho\\right)} \\cos\\left(k_{1} z\\right) \\sin\\left(k_{1} z\\right) - {\\left(2 \\, {\\left(2 \\, \\epsilon_{1} J_{0}(\\kappa \\rho) \\cos\\left(h k_{1}\\right)^{2} - \\epsilon_{1} J_{0}(\\kappa \\rho)\\right)} \\kappa \\mu_{1} \\omega^{2} - {\\left(2 \\, c^{2} {\\left(J_{2}(\\kappa \\rho) - J_{0}(\\kappa \\rho)\\right)} \\cos\\left(h k_{1}\\right)^{2} - c^{2} {\\left(J_{2}(\\kappa \\rho) - J_{0}(\\kappa \\rho)\\right)}\\right)} \\kappa^{3} \\rho + 2 \\, {\\left(2 \\, c^{2} J_{1}(\\kappa \\rho) \\cos\\left(h k_{1}\\right)^{2} - c^{2} J_{1}(\\kappa \\rho)\\right)} \\kappa^{2}\\right)} \\sin\\left(k_{1} z\\right)^{2}}{2 \\, {\\left(2 \\, c^{2} \\kappa \\mu_{1} \\cos\\left(h k_{1}\\right) \\cos\\left(k_{1} z\\right) \\sin\\left(h k_{1}\\right) - {\\left(2 \\, c^{2} \\cos\\left(h k_{1}\\right)^{2} - c^{2}\\right)} \\kappa \\mu_{1} \\sin\\left(k_{1} z\\right)\\right)}},\\,0,\\,0\\right)$$"
      ],
      "text/plain": [
       "<IPython.core.display.Math object>"
      ]
     },
     "execution_count": 71,
     "metadata": {
     },
     "output_type": "execute_result"
    },
    {
     "name": "stdout",
     "output_type": "stream",
     "text": [
      "eq =\n"
     ]
    },
    {
     "data": {
      "text/latex": [
       "$$-\\frac{{\\left(4 \\, A_{z_{1}} \\epsilon_{1} \\kappa \\mu_{1} \\omega^{2} J_{0}(\\kappa \\rho) \\cos\\left(h k_{1}\\right) \\sin\\left(h k_{1}\\right) + 4 \\, B_{z_{1}} c^{2} k_{1}^{2} J_{1}(\\kappa \\rho) \\cos\\left(h k_{1}\\right)^{2} + 4 \\, A_{z_{1}} c^{2} \\kappa^{2} J_{1}(\\kappa \\rho) \\cos\\left(h k_{1}\\right) \\sin\\left(h k_{1}\\right) - 2 \\, B_{z_{1}} c^{2} k_{1}^{2} J_{1}(\\kappa \\rho) - {\\left(2 \\, A_{z_{1}} c^{2} \\kappa^{3} {\\left(J_{2}(\\kappa \\rho) - J_{0}(\\kappa \\rho)\\right)} \\cos\\left(h k_{1}\\right) \\sin\\left(h k_{1}\\right) + {\\left(2 \\, B_{z_{1}} c^{2} k_{1}^{2} {\\left(J_{2}(\\kappa \\rho) - J_{0}(\\kappa \\rho)\\right)} \\cos\\left(h k_{1}\\right)^{2} - B_{z_{1}} c^{2} k_{1}^{2} {\\left(J_{2}(\\kappa \\rho) - J_{0}(\\kappa \\rho)\\right)}\\right)} \\kappa\\right)} \\rho\\right)} \\cos\\left(k_{1} z\\right)^{2} - {\\left(4 \\, A_{z_{1}} c^{2} k_{1}^{2} J_{1}(\\kappa \\rho) \\cos\\left(h k_{1}\\right)^{2} - 4 \\, B_{z_{1}} c^{2} k_{1}^{2} J_{1}(\\kappa \\rho) \\cos\\left(h k_{1}\\right) \\sin\\left(h k_{1}\\right) - 2 \\, A_{z_{1}} c^{2} k_{1}^{2} J_{1}(\\kappa \\rho) + 2 \\, {\\left(2 \\, A_{z_{1}} \\epsilon_{1} J_{0}(\\kappa \\rho) \\cos\\left(h k_{1}\\right)^{2} - 2 \\, B_{z_{1}} \\epsilon_{1} J_{0}(\\kappa \\rho) \\cos\\left(h k_{1}\\right) \\sin\\left(h k_{1}\\right) - A_{z_{1}} \\epsilon_{1} J_{0}(\\kappa \\rho)\\right)} \\kappa \\mu_{1} \\omega^{2} + 2 \\, {\\left(2 \\, A_{z_{1}} c^{2} J_{1}(\\kappa \\rho) \\cos\\left(h k_{1}\\right)^{2} - 2 \\, B_{z_{1}} c^{2} J_{1}(\\kappa \\rho) \\cos\\left(h k_{1}\\right) \\sin\\left(h k_{1}\\right) - A_{z_{1}} c^{2} J_{1}(\\kappa \\rho)\\right)} \\kappa^{2} - {\\left({\\left(2 \\, A_{z_{1}} c^{2} {\\left(J_{2}(\\kappa \\rho) - J_{0}(\\kappa \\rho)\\right)} \\cos\\left(h k_{1}\\right)^{2} - 2 \\, B_{z_{1}} c^{2} {\\left(J_{2}(\\kappa \\rho) - J_{0}(\\kappa \\rho)\\right)} \\cos\\left(h k_{1}\\right) \\sin\\left(h k_{1}\\right) - A_{z_{1}} c^{2} {\\left(J_{2}(\\kappa \\rho) - J_{0}(\\kappa \\rho)\\right)}\\right)} \\kappa^{3} + {\\left(2 \\, A_{z_{1}} c^{2} k_{1}^{2} {\\left(J_{2}(\\kappa \\rho) - J_{0}(\\kappa \\rho)\\right)} \\cos\\left(h k_{1}\\right)^{2} - 2 \\, B_{z_{1}} c^{2} k_{1}^{2} {\\left(J_{2}(\\kappa \\rho) - J_{0}(\\kappa \\rho)\\right)} \\cos\\left(h k_{1}\\right) \\sin\\left(h k_{1}\\right) - A_{z_{1}} c^{2} k_{1}^{2} {\\left(J_{2}(\\kappa \\rho) - J_{0}(\\kappa \\rho)\\right)}\\right)} \\kappa\\right)} \\rho\\right)} \\cos\\left(k_{1} z\\right) \\sin\\left(k_{1} z\\right) - {\\left(4 \\, A_{z_{1}} c^{2} k_{1}^{2} J_{1}(\\kappa \\rho) \\cos\\left(h k_{1}\\right) \\sin\\left(h k_{1}\\right) + 2 \\, {\\left(2 \\, B_{z_{1}} \\epsilon_{1} J_{0}(\\kappa \\rho) \\cos\\left(h k_{1}\\right)^{2} - B_{z_{1}} \\epsilon_{1} J_{0}(\\kappa \\rho)\\right)} \\kappa \\mu_{1} \\omega^{2} + 2 \\, {\\left(2 \\, B_{z_{1}} c^{2} J_{1}(\\kappa \\rho) \\cos\\left(h k_{1}\\right)^{2} - B_{z_{1}} c^{2} J_{1}(\\kappa \\rho)\\right)} \\kappa^{2} - {\\left(2 \\, A_{z_{1}} c^{2} k_{1}^{2} \\kappa {\\left(J_{2}(\\kappa \\rho) - J_{0}(\\kappa \\rho)\\right)} \\cos\\left(h k_{1}\\right) \\sin\\left(h k_{1}\\right) + {\\left(2 \\, B_{z_{1}} c^{2} {\\left(J_{2}(\\kappa \\rho) - J_{0}(\\kappa \\rho)\\right)} \\cos\\left(h k_{1}\\right)^{2} - B_{z_{1}} c^{2} {\\left(J_{2}(\\kappa \\rho) - J_{0}(\\kappa \\rho)\\right)}\\right)} \\kappa^{3}\\right)} \\rho\\right)} \\sin\\left(k_{1} z\\right)^{2}}{2 \\, {\\left(2 \\, c^{2} \\kappa \\mu_{1} \\cos\\left(h k_{1}\\right) \\cos\\left(k_{1} z\\right) \\sin\\left(h k_{1}\\right) - {\\left(2 \\, c^{2} \\cos\\left(h k_{1}\\right)^{2} - c^{2}\\right)} \\kappa \\mu_{1} \\sin\\left(k_{1} z\\right)\\right)}} = 0$$"
      ],
      "text/plain": [
       "<IPython.core.display.Math object>"
      ]
     },
     "execution_count": 71,
     "metadata": {
     },
     "output_type": "execute_result"
    },
    {
     "name": "stdout",
     "output_type": "stream",
     "text": [
      "\n"
     ]
    },
    {
     "name": "stdout",
     "output_type": "stream",
     "text": [
      "eq2 =\n"
     ]
    },
    {
     "data": {
      "text/latex": [
       "$$\\frac{B_{z_{1}} c^{2} k_{1}^{2} \\kappa \\rho J_{2}(\\kappa \\rho) \\cos\\left(h k_{1}\\right)^{2} \\cos\\left(k_{1} z\\right)^{2}}{2 \\, c^{2} \\kappa \\mu_{1} \\cos\\left(h k_{1}\\right) \\cos\\left(k_{1} z\\right)^{2} \\sin\\left(h k_{1}\\right) - 2 \\, c^{2} \\kappa \\mu_{1} \\cos\\left(h k_{1}\\right)^{2} \\cos\\left(k_{1} z\\right) \\sin\\left(k_{1} z\\right) + c^{2} \\kappa \\mu_{1} \\cos\\left(k_{1} z\\right) \\sin\\left(k_{1} z\\right)} - \\frac{B_{z_{1}} c^{2} k_{1}^{2} \\kappa \\rho J_{0}(\\kappa \\rho) \\cos\\left(h k_{1}\\right)^{2} \\cos\\left(k_{1} z\\right)^{2}}{2 \\, c^{2} \\kappa \\mu_{1} \\cos\\left(h k_{1}\\right) \\cos\\left(k_{1} z\\right)^{2} \\sin\\left(h k_{1}\\right) - 2 \\, c^{2} \\kappa \\mu_{1} \\cos\\left(h k_{1}\\right)^{2} \\cos\\left(k_{1} z\\right) \\sin\\left(k_{1} z\\right) + c^{2} \\kappa \\mu_{1} \\cos\\left(k_{1} z\\right) \\sin\\left(k_{1} z\\right)} + \\frac{A_{z_{1}} c^{2} \\kappa^{3} \\rho J_{2}(\\kappa \\rho) \\cos\\left(h k_{1}\\right) \\cos\\left(k_{1} z\\right)^{2} \\sin\\left(h k_{1}\\right)}{2 \\, c^{2} \\kappa \\mu_{1} \\cos\\left(h k_{1}\\right) \\cos\\left(k_{1} z\\right)^{2} \\sin\\left(h k_{1}\\right) - 2 \\, c^{2} \\kappa \\mu_{1} \\cos\\left(h k_{1}\\right)^{2} \\cos\\left(k_{1} z\\right) \\sin\\left(k_{1} z\\right) + c^{2} \\kappa \\mu_{1} \\cos\\left(k_{1} z\\right) \\sin\\left(k_{1} z\\right)} - \\frac{A_{z_{1}} c^{2} \\kappa^{3} \\rho J_{0}(\\kappa \\rho) \\cos\\left(h k_{1}\\right) \\cos\\left(k_{1} z\\right)^{2} \\sin\\left(h k_{1}\\right)}{2 \\, c^{2} \\kappa \\mu_{1} \\cos\\left(h k_{1}\\right) \\cos\\left(k_{1} z\\right)^{2} \\sin\\left(h k_{1}\\right) - 2 \\, c^{2} \\kappa \\mu_{1} \\cos\\left(h k_{1}\\right)^{2} \\cos\\left(k_{1} z\\right) \\sin\\left(k_{1} z\\right) + c^{2} \\kappa \\mu_{1} \\cos\\left(k_{1} z\\right) \\sin\\left(k_{1} z\\right)} - \\frac{A_{z_{1}} c^{2} k_{1}^{2} \\kappa \\rho J_{2}(\\kappa \\rho) \\cos\\left(h k_{1}\\right)^{2} \\cos\\left(k_{1} z\\right) \\sin\\left(k_{1} z\\right)}{2 \\, c^{2} \\kappa \\mu_{1} \\cos\\left(h k_{1}\\right) \\cos\\left(k_{1} z\\right)^{2} \\sin\\left(h k_{1}\\right) - 2 \\, c^{2} \\kappa \\mu_{1} \\cos\\left(h k_{1}\\right)^{2} \\cos\\left(k_{1} z\\right) \\sin\\left(k_{1} z\\right) + c^{2} \\kappa \\mu_{1} \\cos\\left(k_{1} z\\right) \\sin\\left(k_{1} z\\right)} - \\frac{A_{z_{1}} c^{2} \\kappa^{3} \\rho J_{2}(\\kappa \\rho) \\cos\\left(h k_{1}\\right)^{2} \\cos\\left(k_{1} z\\right) \\sin\\left(k_{1} z\\right)}{2 \\, c^{2} \\kappa \\mu_{1} \\cos\\left(h k_{1}\\right) \\cos\\left(k_{1} z\\right)^{2} \\sin\\left(h k_{1}\\right) - 2 \\, c^{2} \\kappa \\mu_{1} \\cos\\left(h k_{1}\\right)^{2} \\cos\\left(k_{1} z\\right) \\sin\\left(k_{1} z\\right) + c^{2} \\kappa \\mu_{1} \\cos\\left(k_{1} z\\right) \\sin\\left(k_{1} z\\right)} + \\frac{A_{z_{1}} c^{2} k_{1}^{2} \\kappa \\rho J_{0}(\\kappa \\rho) \\cos\\left(h k_{1}\\right)^{2} \\cos\\left(k_{1} z\\right) \\sin\\left(k_{1} z\\right)}{2 \\, c^{2} \\kappa \\mu_{1} \\cos\\left(h k_{1}\\right) \\cos\\left(k_{1} z\\right)^{2} \\sin\\left(h k_{1}\\right) - 2 \\, c^{2} \\kappa \\mu_{1} \\cos\\left(h k_{1}\\right)^{2} \\cos\\left(k_{1} z\\right) \\sin\\left(k_{1} z\\right) + c^{2} \\kappa \\mu_{1} \\cos\\left(k_{1} z\\right) \\sin\\left(k_{1} z\\right)} + \\frac{A_{z_{1}} c^{2} \\kappa^{3} \\rho J_{0}(\\kappa \\rho) \\cos\\left(h k_{1}\\right)^{2} \\cos\\left(k_{1} z\\right) \\sin\\left(k_{1} z\\right)}{2 \\, c^{2} \\kappa \\mu_{1} \\cos\\left(h k_{1}\\right) \\cos\\left(k_{1} z\\right)^{2} \\sin\\left(h k_{1}\\right) - 2 \\, c^{2} \\kappa \\mu_{1} \\cos\\left(h k_{1}\\right)^{2} \\cos\\left(k_{1} z\\right) \\sin\\left(k_{1} z\\right) + c^{2} \\kappa \\mu_{1} \\cos\\left(k_{1} z\\right) \\sin\\left(k_{1} z\\right)} + \\frac{B_{z_{1}} c^{2} k_{1}^{2} \\kappa \\rho J_{2}(\\kappa \\rho) \\cos\\left(h k_{1}\\right) \\cos\\left(k_{1} z\\right) \\sin\\left(h k_{1}\\right) \\sin\\left(k_{1} z\\right)}{2 \\, c^{2} \\kappa \\mu_{1} \\cos\\left(h k_{1}\\right) \\cos\\left(k_{1} z\\right)^{2} \\sin\\left(h k_{1}\\right) - 2 \\, c^{2} \\kappa \\mu_{1} \\cos\\left(h k_{1}\\right)^{2} \\cos\\left(k_{1} z\\right) \\sin\\left(k_{1} z\\right) + c^{2} \\kappa \\mu_{1} \\cos\\left(k_{1} z\\right) \\sin\\left(k_{1} z\\right)} + \\frac{B_{z_{1}} c^{2} \\kappa^{3} \\rho J_{2}(\\kappa \\rho) \\cos\\left(h k_{1}\\right) \\cos\\left(k_{1} z\\right) \\sin\\left(h k_{1}\\right) \\sin\\left(k_{1} z\\right)}{2 \\, c^{2} \\kappa \\mu_{1} \\cos\\left(h k_{1}\\right) \\cos\\left(k_{1} z\\right)^{2} \\sin\\left(h k_{1}\\right) - 2 \\, c^{2} \\kappa \\mu_{1} \\cos\\left(h k_{1}\\right)^{2} \\cos\\left(k_{1} z\\right) \\sin\\left(k_{1} z\\right) + c^{2} \\kappa \\mu_{1} \\cos\\left(k_{1} z\\right) \\sin\\left(k_{1} z\\right)} - \\frac{B_{z_{1}} c^{2} k_{1}^{2} \\kappa \\rho J_{0}(\\kappa \\rho) \\cos\\left(h k_{1}\\right) \\cos\\left(k_{1} z\\right) \\sin\\left(h k_{1}\\right) \\sin\\left(k_{1} z\\right)}{2 \\, c^{2} \\kappa \\mu_{1} \\cos\\left(h k_{1}\\right) \\cos\\left(k_{1} z\\right)^{2} \\sin\\left(h k_{1}\\right) - 2 \\, c^{2} \\kappa \\mu_{1} \\cos\\left(h k_{1}\\right)^{2} \\cos\\left(k_{1} z\\right) \\sin\\left(k_{1} z\\right) + c^{2} \\kappa \\mu_{1} \\cos\\left(k_{1} z\\right) \\sin\\left(k_{1} z\\right)} - \\frac{B_{z_{1}} c^{2} \\kappa^{3} \\rho J_{0}(\\kappa \\rho) \\cos\\left(h k_{1}\\right) \\cos\\left(k_{1} z\\right) \\sin\\left(h k_{1}\\right) \\sin\\left(k_{1} z\\right)}{2 \\, c^{2} \\kappa \\mu_{1} \\cos\\left(h k_{1}\\right) \\cos\\left(k_{1} z\\right)^{2} \\sin\\left(h k_{1}\\right) - 2 \\, c^{2} \\kappa \\mu_{1} \\cos\\left(h k_{1}\\right)^{2} \\cos\\left(k_{1} z\\right) \\sin\\left(k_{1} z\\right) + c^{2} \\kappa \\mu_{1} \\cos\\left(k_{1} z\\right) \\sin\\left(k_{1} z\\right)} - \\frac{B_{z_{1}} c^{2} \\kappa^{3} \\rho J_{2}(\\kappa \\rho) \\cos\\left(h k_{1}\\right)^{2} \\sin\\left(k_{1} z\\right)^{2}}{2 \\, c^{2} \\kappa \\mu_{1} \\cos\\left(h k_{1}\\right) \\cos\\left(k_{1} z\\right)^{2} \\sin\\left(h k_{1}\\right) - 2 \\, c^{2} \\kappa \\mu_{1} \\cos\\left(h k_{1}\\right)^{2} \\cos\\left(k_{1} z\\right) \\sin\\left(k_{1} z\\right) + c^{2} \\kappa \\mu_{1} \\cos\\left(k_{1} z\\right) \\sin\\left(k_{1} z\\right)} + \\frac{B_{z_{1}} c^{2} \\kappa^{3} \\rho J_{0}(\\kappa \\rho) \\cos\\left(h k_{1}\\right)^{2} \\sin\\left(k_{1} z\\right)^{2}}{2 \\, c^{2} \\kappa \\mu_{1} \\cos\\left(h k_{1}\\right) \\cos\\left(k_{1} z\\right)^{2} \\sin\\left(h k_{1}\\right) - 2 \\, c^{2} \\kappa \\mu_{1} \\cos\\left(h k_{1}\\right)^{2} \\cos\\left(k_{1} z\\right) \\sin\\left(k_{1} z\\right) + c^{2} \\kappa \\mu_{1} \\cos\\left(k_{1} z\\right) \\sin\\left(k_{1} z\\right)} - \\frac{A_{z_{1}} c^{2} k_{1}^{2} \\kappa \\rho J_{2}(\\kappa \\rho) \\cos\\left(h k_{1}\\right) \\sin\\left(h k_{1}\\right) \\sin\\left(k_{1} z\\right)^{2}}{2 \\, c^{2} \\kappa \\mu_{1} \\cos\\left(h k_{1}\\right) \\cos\\left(k_{1} z\\right)^{2} \\sin\\left(h k_{1}\\right) - 2 \\, c^{2} \\kappa \\mu_{1} \\cos\\left(h k_{1}\\right)^{2} \\cos\\left(k_{1} z\\right) \\sin\\left(k_{1} z\\right) + c^{2} \\kappa \\mu_{1} \\cos\\left(k_{1} z\\right) \\sin\\left(k_{1} z\\right)} + \\frac{A_{z_{1}} c^{2} k_{1}^{2} \\kappa \\rho J_{0}(\\kappa \\rho) \\cos\\left(h k_{1}\\right) \\sin\\left(h k_{1}\\right) \\sin\\left(k_{1} z\\right)^{2}}{2 \\, c^{2} \\kappa \\mu_{1} \\cos\\left(h k_{1}\\right) \\cos\\left(k_{1} z\\right)^{2} \\sin\\left(h k_{1}\\right) - 2 \\, c^{2} \\kappa \\mu_{1} \\cos\\left(h k_{1}\\right)^{2} \\cos\\left(k_{1} z\\right) \\sin\\left(k_{1} z\\right) + c^{2} \\kappa \\mu_{1} \\cos\\left(k_{1} z\\right) \\sin\\left(k_{1} z\\right)} - \\frac{2 \\, A_{z_{1}} \\epsilon_{1} \\kappa \\mu_{1} \\omega^{2} J_{0}(\\kappa \\rho) \\cos\\left(h k_{1}\\right) \\cos\\left(k_{1} z\\right)^{2} \\sin\\left(h k_{1}\\right)}{2 \\, c^{2} \\kappa \\mu_{1} \\cos\\left(h k_{1}\\right) \\cos\\left(k_{1} z\\right)^{2} \\sin\\left(h k_{1}\\right) - 2 \\, c^{2} \\kappa \\mu_{1} \\cos\\left(h k_{1}\\right)^{2} \\cos\\left(k_{1} z\\right) \\sin\\left(k_{1} z\\right) + c^{2} \\kappa \\mu_{1} \\cos\\left(k_{1} z\\right) \\sin\\left(k_{1} z\\right)} + \\frac{2 \\, A_{z_{1}} \\epsilon_{1} \\kappa \\mu_{1} \\omega^{2} J_{0}(\\kappa \\rho) \\cos\\left(h k_{1}\\right)^{2} \\cos\\left(k_{1} z\\right) \\sin\\left(k_{1} z\\right)}{2 \\, c^{2} \\kappa \\mu_{1} \\cos\\left(h k_{1}\\right) \\cos\\left(k_{1} z\\right)^{2} \\sin\\left(h k_{1}\\right) - 2 \\, c^{2} \\kappa \\mu_{1} \\cos\\left(h k_{1}\\right)^{2} \\cos\\left(k_{1} z\\right) \\sin\\left(k_{1} z\\right) + c^{2} \\kappa \\mu_{1} \\cos\\left(k_{1} z\\right) \\sin\\left(k_{1} z\\right)} - \\frac{2 \\, B_{z_{1}} \\epsilon_{1} \\kappa \\mu_{1} \\omega^{2} J_{0}(\\kappa \\rho) \\cos\\left(h k_{1}\\right) \\cos\\left(k_{1} z\\right) \\sin\\left(h k_{1}\\right) \\sin\\left(k_{1} z\\right)}{2 \\, c^{2} \\kappa \\mu_{1} \\cos\\left(h k_{1}\\right) \\cos\\left(k_{1} z\\right)^{2} \\sin\\left(h k_{1}\\right) - 2 \\, c^{2} \\kappa \\mu_{1} \\cos\\left(h k_{1}\\right)^{2} \\cos\\left(k_{1} z\\right) \\sin\\left(k_{1} z\\right) + c^{2} \\kappa \\mu_{1} \\cos\\left(k_{1} z\\right) \\sin\\left(k_{1} z\\right)} + \\frac{2 \\, B_{z_{1}} \\epsilon_{1} \\kappa \\mu_{1} \\omega^{2} J_{0}(\\kappa \\rho) \\cos\\left(h k_{1}\\right)^{2} \\sin\\left(k_{1} z\\right)^{2}}{2 \\, c^{2} \\kappa \\mu_{1} \\cos\\left(h k_{1}\\right) \\cos\\left(k_{1} z\\right)^{2} \\sin\\left(h k_{1}\\right) - 2 \\, c^{2} \\kappa \\mu_{1} \\cos\\left(h k_{1}\\right)^{2} \\cos\\left(k_{1} z\\right) \\sin\\left(k_{1} z\\right) + c^{2} \\kappa \\mu_{1} \\cos\\left(k_{1} z\\right) \\sin\\left(k_{1} z\\right)} - \\frac{B_{z_{1}} c^{2} k_{1}^{2} \\kappa \\rho J_{2}(\\kappa \\rho) \\cos\\left(k_{1} z\\right)^{2}}{2 \\, {\\left(2 \\, c^{2} \\kappa \\mu_{1} \\cos\\left(h k_{1}\\right) \\cos\\left(k_{1} z\\right)^{2} \\sin\\left(h k_{1}\\right) - 2 \\, c^{2} \\kappa \\mu_{1} \\cos\\left(h k_{1}\\right)^{2} \\cos\\left(k_{1} z\\right) \\sin\\left(k_{1} z\\right) + c^{2} \\kappa \\mu_{1} \\cos\\left(k_{1} z\\right) \\sin\\left(k_{1} z\\right)\\right)}} + \\frac{B_{z_{1}} c^{2} k_{1}^{2} \\kappa \\rho J_{0}(\\kappa \\rho) \\cos\\left(k_{1} z\\right)^{2}}{2 \\, {\\left(2 \\, c^{2} \\kappa \\mu_{1} \\cos\\left(h k_{1}\\right) \\cos\\left(k_{1} z\\right)^{2} \\sin\\left(h k_{1}\\right) - 2 \\, c^{2} \\kappa \\mu_{1} \\cos\\left(h k_{1}\\right)^{2} \\cos\\left(k_{1} z\\right) \\sin\\left(k_{1} z\\right) + c^{2} \\kappa \\mu_{1} \\cos\\left(k_{1} z\\right) \\sin\\left(k_{1} z\\right)\\right)}} - \\frac{2 \\, B_{z_{1}} c^{2} k_{1}^{2} J_{1}(\\kappa \\rho) \\cos\\left(h k_{1}\\right)^{2} \\cos\\left(k_{1} z\\right)^{2}}{2 \\, c^{2} \\kappa \\mu_{1} \\cos\\left(h k_{1}\\right) \\cos\\left(k_{1} z\\right)^{2} \\sin\\left(h k_{1}\\right) - 2 \\, c^{2} \\kappa \\mu_{1} \\cos\\left(h k_{1}\\right)^{2} \\cos\\left(k_{1} z\\right) \\sin\\left(k_{1} z\\right) + c^{2} \\kappa \\mu_{1} \\cos\\left(k_{1} z\\right) \\sin\\left(k_{1} z\\right)} - \\frac{2 \\, A_{z_{1}} c^{2} \\kappa^{2} J_{1}(\\kappa \\rho) \\cos\\left(h k_{1}\\right) \\cos\\left(k_{1} z\\right)^{2} \\sin\\left(h k_{1}\\right)}{2 \\, c^{2} \\kappa \\mu_{1} \\cos\\left(h k_{1}\\right) \\cos\\left(k_{1} z\\right)^{2} \\sin\\left(h k_{1}\\right) - 2 \\, c^{2} \\kappa \\mu_{1} \\cos\\left(h k_{1}\\right)^{2} \\cos\\left(k_{1} z\\right) \\sin\\left(k_{1} z\\right) + c^{2} \\kappa \\mu_{1} \\cos\\left(k_{1} z\\right) \\sin\\left(k_{1} z\\right)} + \\frac{A_{z_{1}} c^{2} k_{1}^{2} \\kappa \\rho J_{2}(\\kappa \\rho) \\cos\\left(k_{1} z\\right) \\sin\\left(k_{1} z\\right)}{2 \\, {\\left(2 \\, c^{2} \\kappa \\mu_{1} \\cos\\left(h k_{1}\\right) \\cos\\left(k_{1} z\\right)^{2} \\sin\\left(h k_{1}\\right) - 2 \\, c^{2} \\kappa \\mu_{1} \\cos\\left(h k_{1}\\right)^{2} \\cos\\left(k_{1} z\\right) \\sin\\left(k_{1} z\\right) + c^{2} \\kappa \\mu_{1} \\cos\\left(k_{1} z\\right) \\sin\\left(k_{1} z\\right)\\right)}} + \\frac{A_{z_{1}} c^{2} \\kappa^{3} \\rho J_{2}(\\kappa \\rho) \\cos\\left(k_{1} z\\right) \\sin\\left(k_{1} z\\right)}{2 \\, {\\left(2 \\, c^{2} \\kappa \\mu_{1} \\cos\\left(h k_{1}\\right) \\cos\\left(k_{1} z\\right)^{2} \\sin\\left(h k_{1}\\right) - 2 \\, c^{2} \\kappa \\mu_{1} \\cos\\left(h k_{1}\\right)^{2} \\cos\\left(k_{1} z\\right) \\sin\\left(k_{1} z\\right) + c^{2} \\kappa \\mu_{1} \\cos\\left(k_{1} z\\right) \\sin\\left(k_{1} z\\right)\\right)}} - \\frac{A_{z_{1}} c^{2} k_{1}^{2} \\kappa \\rho J_{0}(\\kappa \\rho) \\cos\\left(k_{1} z\\right) \\sin\\left(k_{1} z\\right)}{2 \\, {\\left(2 \\, c^{2} \\kappa \\mu_{1} \\cos\\left(h k_{1}\\right) \\cos\\left(k_{1} z\\right)^{2} \\sin\\left(h k_{1}\\right) - 2 \\, c^{2} \\kappa \\mu_{1} \\cos\\left(h k_{1}\\right)^{2} \\cos\\left(k_{1} z\\right) \\sin\\left(k_{1} z\\right) + c^{2} \\kappa \\mu_{1} \\cos\\left(k_{1} z\\right) \\sin\\left(k_{1} z\\right)\\right)}} - \\frac{A_{z_{1}} c^{2} \\kappa^{3} \\rho J_{0}(\\kappa \\rho) \\cos\\left(k_{1} z\\right) \\sin\\left(k_{1} z\\right)}{2 \\, {\\left(2 \\, c^{2} \\kappa \\mu_{1} \\cos\\left(h k_{1}\\right) \\cos\\left(k_{1} z\\right)^{2} \\sin\\left(h k_{1}\\right) - 2 \\, c^{2} \\kappa \\mu_{1} \\cos\\left(h k_{1}\\right)^{2} \\cos\\left(k_{1} z\\right) \\sin\\left(k_{1} z\\right) + c^{2} \\kappa \\mu_{1} \\cos\\left(k_{1} z\\right) \\sin\\left(k_{1} z\\right)\\right)}} + \\frac{2 \\, A_{z_{1}} c^{2} k_{1}^{2} J_{1}(\\kappa \\rho) \\cos\\left(h k_{1}\\right)^{2} \\cos\\left(k_{1} z\\right) \\sin\\left(k_{1} z\\right)}{2 \\, c^{2} \\kappa \\mu_{1} \\cos\\left(h k_{1}\\right) \\cos\\left(k_{1} z\\right)^{2} \\sin\\left(h k_{1}\\right) - 2 \\, c^{2} \\kappa \\mu_{1} \\cos\\left(h k_{1}\\right)^{2} \\cos\\left(k_{1} z\\right) \\sin\\left(k_{1} z\\right) + c^{2} \\kappa \\mu_{1} \\cos\\left(k_{1} z\\right) \\sin\\left(k_{1} z\\right)} + \\frac{2 \\, A_{z_{1}} c^{2} \\kappa^{2} J_{1}(\\kappa \\rho) \\cos\\left(h k_{1}\\right)^{2} \\cos\\left(k_{1} z\\right) \\sin\\left(k_{1} z\\right)}{2 \\, c^{2} \\kappa \\mu_{1} \\cos\\left(h k_{1}\\right) \\cos\\left(k_{1} z\\right)^{2} \\sin\\left(h k_{1}\\right) - 2 \\, c^{2} \\kappa \\mu_{1} \\cos\\left(h k_{1}\\right)^{2} \\cos\\left(k_{1} z\\right) \\sin\\left(k_{1} z\\right) + c^{2} \\kappa \\mu_{1} \\cos\\left(k_{1} z\\right) \\sin\\left(k_{1} z\\right)} - \\frac{2 \\, B_{z_{1}} c^{2} k_{1}^{2} J_{1}(\\kappa \\rho) \\cos\\left(h k_{1}\\right) \\cos\\left(k_{1} z\\right) \\sin\\left(h k_{1}\\right) \\sin\\left(k_{1} z\\right)}{2 \\, c^{2} \\kappa \\mu_{1} \\cos\\left(h k_{1}\\right) \\cos\\left(k_{1} z\\right)^{2} \\sin\\left(h k_{1}\\right) - 2 \\, c^{2} \\kappa \\mu_{1} \\cos\\left(h k_{1}\\right)^{2} \\cos\\left(k_{1} z\\right) \\sin\\left(k_{1} z\\right) + c^{2} \\kappa \\mu_{1} \\cos\\left(k_{1} z\\right) \\sin\\left(k_{1} z\\right)} - \\frac{2 \\, B_{z_{1}} c^{2} \\kappa^{2} J_{1}(\\kappa \\rho) \\cos\\left(h k_{1}\\right) \\cos\\left(k_{1} z\\right) \\sin\\left(h k_{1}\\right) \\sin\\left(k_{1} z\\right)}{2 \\, c^{2} \\kappa \\mu_{1} \\cos\\left(h k_{1}\\right) \\cos\\left(k_{1} z\\right)^{2} \\sin\\left(h k_{1}\\right) - 2 \\, c^{2} \\kappa \\mu_{1} \\cos\\left(h k_{1}\\right)^{2} \\cos\\left(k_{1} z\\right) \\sin\\left(k_{1} z\\right) + c^{2} \\kappa \\mu_{1} \\cos\\left(k_{1} z\\right) \\sin\\left(k_{1} z\\right)} + \\frac{B_{z_{1}} c^{2} \\kappa^{3} \\rho J_{2}(\\kappa \\rho) \\sin\\left(k_{1} z\\right)^{2}}{2 \\, {\\left(2 \\, c^{2} \\kappa \\mu_{1} \\cos\\left(h k_{1}\\right) \\cos\\left(k_{1} z\\right)^{2} \\sin\\left(h k_{1}\\right) - 2 \\, c^{2} \\kappa \\mu_{1} \\cos\\left(h k_{1}\\right)^{2} \\cos\\left(k_{1} z\\right) \\sin\\left(k_{1} z\\right) + c^{2} \\kappa \\mu_{1} \\cos\\left(k_{1} z\\right) \\sin\\left(k_{1} z\\right)\\right)}} - \\frac{B_{z_{1}} c^{2} \\kappa^{3} \\rho J_{0}(\\kappa \\rho) \\sin\\left(k_{1} z\\right)^{2}}{2 \\, {\\left(2 \\, c^{2} \\kappa \\mu_{1} \\cos\\left(h k_{1}\\right) \\cos\\left(k_{1} z\\right)^{2} \\sin\\left(h k_{1}\\right) - 2 \\, c^{2} \\kappa \\mu_{1} \\cos\\left(h k_{1}\\right)^{2} \\cos\\left(k_{1} z\\right) \\sin\\left(k_{1} z\\right) + c^{2} \\kappa \\mu_{1} \\cos\\left(k_{1} z\\right) \\sin\\left(k_{1} z\\right)\\right)}} + \\frac{2 \\, B_{z_{1}} c^{2} \\kappa^{2} J_{1}(\\kappa \\rho) \\cos\\left(h k_{1}\\right)^{2} \\sin\\left(k_{1} z\\right)^{2}}{2 \\, c^{2} \\kappa \\mu_{1} \\cos\\left(h k_{1}\\right) \\cos\\left(k_{1} z\\right)^{2} \\sin\\left(h k_{1}\\right) - 2 \\, c^{2} \\kappa \\mu_{1} \\cos\\left(h k_{1}\\right)^{2} \\cos\\left(k_{1} z\\right) \\sin\\left(k_{1} z\\right) + c^{2} \\kappa \\mu_{1} \\cos\\left(k_{1} z\\right) \\sin\\left(k_{1} z\\right)} + \\frac{2 \\, A_{z_{1}} c^{2} k_{1}^{2} J_{1}(\\kappa \\rho) \\cos\\left(h k_{1}\\right) \\sin\\left(h k_{1}\\right) \\sin\\left(k_{1} z\\right)^{2}}{2 \\, c^{2} \\kappa \\mu_{1} \\cos\\left(h k_{1}\\right) \\cos\\left(k_{1} z\\right)^{2} \\sin\\left(h k_{1}\\right) - 2 \\, c^{2} \\kappa \\mu_{1} \\cos\\left(h k_{1}\\right)^{2} \\cos\\left(k_{1} z\\right) \\sin\\left(k_{1} z\\right) + c^{2} \\kappa \\mu_{1} \\cos\\left(k_{1} z\\right) \\sin\\left(k_{1} z\\right)} - \\frac{A_{z_{1}} \\epsilon_{1} \\kappa \\mu_{1} \\omega^{2} J_{0}(\\kappa \\rho) \\cos\\left(k_{1} z\\right) \\sin\\left(k_{1} z\\right)}{2 \\, c^{2} \\kappa \\mu_{1} \\cos\\left(h k_{1}\\right) \\cos\\left(k_{1} z\\right)^{2} \\sin\\left(h k_{1}\\right) - 2 \\, c^{2} \\kappa \\mu_{1} \\cos\\left(h k_{1}\\right)^{2} \\cos\\left(k_{1} z\\right) \\sin\\left(k_{1} z\\right) + c^{2} \\kappa \\mu_{1} \\cos\\left(k_{1} z\\right) \\sin\\left(k_{1} z\\right)} - \\frac{B_{z_{1}} \\epsilon_{1} \\kappa \\mu_{1} \\omega^{2} J_{0}(\\kappa \\rho) \\sin\\left(k_{1} z\\right)^{2}}{2 \\, c^{2} \\kappa \\mu_{1} \\cos\\left(h k_{1}\\right) \\cos\\left(k_{1} z\\right)^{2} \\sin\\left(h k_{1}\\right) - 2 \\, c^{2} \\kappa \\mu_{1} \\cos\\left(h k_{1}\\right)^{2} \\cos\\left(k_{1} z\\right) \\sin\\left(k_{1} z\\right) + c^{2} \\kappa \\mu_{1} \\cos\\left(k_{1} z\\right) \\sin\\left(k_{1} z\\right)} + \\frac{B_{z_{1}} c^{2} k_{1}^{2} J_{1}(\\kappa \\rho) \\cos\\left(k_{1} z\\right)^{2}}{2 \\, c^{2} \\kappa \\mu_{1} \\cos\\left(h k_{1}\\right) \\cos\\left(k_{1} z\\right)^{2} \\sin\\left(h k_{1}\\right) - 2 \\, c^{2} \\kappa \\mu_{1} \\cos\\left(h k_{1}\\right)^{2} \\cos\\left(k_{1} z\\right) \\sin\\left(k_{1} z\\right) + c^{2} \\kappa \\mu_{1} \\cos\\left(k_{1} z\\right) \\sin\\left(k_{1} z\\right)} - \\frac{A_{z_{1}} c^{2} k_{1}^{2} J_{1}(\\kappa \\rho) \\cos\\left(k_{1} z\\right) \\sin\\left(k_{1} z\\right)}{2 \\, c^{2} \\kappa \\mu_{1} \\cos\\left(h k_{1}\\right) \\cos\\left(k_{1} z\\right)^{2} \\sin\\left(h k_{1}\\right) - 2 \\, c^{2} \\kappa \\mu_{1} \\cos\\left(h k_{1}\\right)^{2} \\cos\\left(k_{1} z\\right) \\sin\\left(k_{1} z\\right) + c^{2} \\kappa \\mu_{1} \\cos\\left(k_{1} z\\right) \\sin\\left(k_{1} z\\right)} - \\frac{A_{z_{1}} c^{2} \\kappa^{2} J_{1}(\\kappa \\rho) \\cos\\left(k_{1} z\\right) \\sin\\left(k_{1} z\\right)}{2 \\, c^{2} \\kappa \\mu_{1} \\cos\\left(h k_{1}\\right) \\cos\\left(k_{1} z\\right)^{2} \\sin\\left(h k_{1}\\right) - 2 \\, c^{2} \\kappa \\mu_{1} \\cos\\left(h k_{1}\\right)^{2} \\cos\\left(k_{1} z\\right) \\sin\\left(k_{1} z\\right) + c^{2} \\kappa \\mu_{1} \\cos\\left(k_{1} z\\right) \\sin\\left(k_{1} z\\right)} - \\frac{B_{z_{1}} c^{2} \\kappa^{2} J_{1}(\\kappa \\rho) \\sin\\left(k_{1} z\\right)^{2}}{2 \\, c^{2} \\kappa \\mu_{1} \\cos\\left(h k_{1}\\right) \\cos\\left(k_{1} z\\right)^{2} \\sin\\left(h k_{1}\\right) - 2 \\, c^{2} \\kappa \\mu_{1} \\cos\\left(h k_{1}\\right)^{2} \\cos\\left(k_{1} z\\right) \\sin\\left(k_{1} z\\right) + c^{2} \\kappa \\mu_{1} \\cos\\left(k_{1} z\\right) \\sin\\left(k_{1} z\\right)} = 0$$"
      ],
      "text/plain": [
       "<IPython.core.display.Math object>"
      ]
     },
     "execution_count": 71,
     "metadata": {
     },
     "output_type": "execute_result"
    },
    {
     "name": "stdout",
     "output_type": "stream",
     "text": [
      "tg_kappa_x_coeff =\n"
     ]
    },
    {
     "data": {
      "text/latex": [
       "$$0$$"
      ],
      "text/plain": [
       "<IPython.core.display.Math object>"
      ]
     },
     "execution_count": 71,
     "metadata": {
     },
     "output_type": "execute_result"
    },
    {
     "name": "stdout",
     "output_type": "stream",
     "text": [
      "var =\n"
     ]
    },
    {
     "data": {
      "text/latex": [
       "$$A_{z_{1}}$$"
      ],
      "text/plain": [
       "<IPython.core.display.Math object>"
      ]
     },
     "execution_count": 71,
     "metadata": {
     },
     "output_type": "execute_result"
    },
    {
     "name": "stdout",
     "output_type": "stream",
     "text": [
      "sol_tg_kappa_x_coeff=\n"
     ]
    },
    {
     "data": {
      "text/latex": [
       "$$\\left[A_{z_{1}} = r_{1}\\right]$$"
      ],
      "text/plain": [
       "<IPython.core.display.Math object>"
      ]
     },
     "execution_count": 71,
     "metadata": {
     },
     "output_type": "execute_result"
    },
    {
     "name": "stdout",
     "output_type": "stream",
     "text": [
      "eq4 =\n"
     ]
    },
    {
     "data": {
      "text/latex": [
       "$$-\\frac{{\\left(4 \\, \\epsilon_{1} \\kappa \\mu_{1} \\omega^{2} r_{1} J_{0}(\\kappa \\rho) \\cos\\left(h k_{1}\\right) \\sin\\left(h k_{1}\\right) + 4 \\, B_{z_{1}} c^{2} k_{1}^{2} J_{1}(\\kappa \\rho) \\cos\\left(h k_{1}\\right)^{2} + 4 \\, c^{2} \\kappa^{2} r_{1} J_{1}(\\kappa \\rho) \\cos\\left(h k_{1}\\right) \\sin\\left(h k_{1}\\right) - 2 \\, B_{z_{1}} c^{2} k_{1}^{2} J_{1}(\\kappa \\rho) - {\\left(2 \\, c^{2} \\kappa^{3} r_{1} {\\left(J_{2}(\\kappa \\rho) - J_{0}(\\kappa \\rho)\\right)} \\cos\\left(h k_{1}\\right) \\sin\\left(h k_{1}\\right) + {\\left(2 \\, B_{z_{1}} c^{2} k_{1}^{2} {\\left(J_{2}(\\kappa \\rho) - J_{0}(\\kappa \\rho)\\right)} \\cos\\left(h k_{1}\\right)^{2} - B_{z_{1}} c^{2} k_{1}^{2} {\\left(J_{2}(\\kappa \\rho) - J_{0}(\\kappa \\rho)\\right)}\\right)} \\kappa\\right)} \\rho\\right)} \\cos\\left(k_{1} z\\right)^{2} - {\\left(4 \\, c^{2} k_{1}^{2} r_{1} J_{1}(\\kappa \\rho) \\cos\\left(h k_{1}\\right)^{2} - 4 \\, B_{z_{1}} c^{2} k_{1}^{2} J_{1}(\\kappa \\rho) \\cos\\left(h k_{1}\\right) \\sin\\left(h k_{1}\\right) - 2 \\, c^{2} k_{1}^{2} r_{1} J_{1}(\\kappa \\rho) + 2 \\, {\\left(2 \\, \\epsilon_{1} r_{1} J_{0}(\\kappa \\rho) \\cos\\left(h k_{1}\\right)^{2} - 2 \\, B_{z_{1}} \\epsilon_{1} J_{0}(\\kappa \\rho) \\cos\\left(h k_{1}\\right) \\sin\\left(h k_{1}\\right) - \\epsilon_{1} r_{1} J_{0}(\\kappa \\rho)\\right)} \\kappa \\mu_{1} \\omega^{2} + 2 \\, {\\left(2 \\, c^{2} r_{1} J_{1}(\\kappa \\rho) \\cos\\left(h k_{1}\\right)^{2} - 2 \\, B_{z_{1}} c^{2} J_{1}(\\kappa \\rho) \\cos\\left(h k_{1}\\right) \\sin\\left(h k_{1}\\right) - c^{2} r_{1} J_{1}(\\kappa \\rho)\\right)} \\kappa^{2} - {\\left({\\left(2 \\, c^{2} r_{1} {\\left(J_{2}(\\kappa \\rho) - J_{0}(\\kappa \\rho)\\right)} \\cos\\left(h k_{1}\\right)^{2} - 2 \\, B_{z_{1}} c^{2} {\\left(J_{2}(\\kappa \\rho) - J_{0}(\\kappa \\rho)\\right)} \\cos\\left(h k_{1}\\right) \\sin\\left(h k_{1}\\right) - c^{2} r_{1} {\\left(J_{2}(\\kappa \\rho) - J_{0}(\\kappa \\rho)\\right)}\\right)} \\kappa^{3} + {\\left(2 \\, c^{2} k_{1}^{2} r_{1} {\\left(J_{2}(\\kappa \\rho) - J_{0}(\\kappa \\rho)\\right)} \\cos\\left(h k_{1}\\right)^{2} - 2 \\, B_{z_{1}} c^{2} k_{1}^{2} {\\left(J_{2}(\\kappa \\rho) - J_{0}(\\kappa \\rho)\\right)} \\cos\\left(h k_{1}\\right) \\sin\\left(h k_{1}\\right) - c^{2} k_{1}^{2} r_{1} {\\left(J_{2}(\\kappa \\rho) - J_{0}(\\kappa \\rho)\\right)}\\right)} \\kappa\\right)} \\rho\\right)} \\cos\\left(k_{1} z\\right) \\sin\\left(k_{1} z\\right) - {\\left(4 \\, c^{2} k_{1}^{2} r_{1} J_{1}(\\kappa \\rho) \\cos\\left(h k_{1}\\right) \\sin\\left(h k_{1}\\right) + 2 \\, {\\left(2 \\, B_{z_{1}} \\epsilon_{1} J_{0}(\\kappa \\rho) \\cos\\left(h k_{1}\\right)^{2} - B_{z_{1}} \\epsilon_{1} J_{0}(\\kappa \\rho)\\right)} \\kappa \\mu_{1} \\omega^{2} + 2 \\, {\\left(2 \\, B_{z_{1}} c^{2} J_{1}(\\kappa \\rho) \\cos\\left(h k_{1}\\right)^{2} - B_{z_{1}} c^{2} J_{1}(\\kappa \\rho)\\right)} \\kappa^{2} - {\\left(2 \\, c^{2} k_{1}^{2} \\kappa r_{1} {\\left(J_{2}(\\kappa \\rho) - J_{0}(\\kappa \\rho)\\right)} \\cos\\left(h k_{1}\\right) \\sin\\left(h k_{1}\\right) + {\\left(2 \\, B_{z_{1}} c^{2} {\\left(J_{2}(\\kappa \\rho) - J_{0}(\\kappa \\rho)\\right)} \\cos\\left(h k_{1}\\right)^{2} - B_{z_{1}} c^{2} {\\left(J_{2}(\\kappa \\rho) - J_{0}(\\kappa \\rho)\\right)}\\right)} \\kappa^{3}\\right)} \\rho\\right)} \\sin\\left(k_{1} z\\right)^{2}}{2 \\, {\\left(2 \\, c^{2} \\kappa \\mu_{1} \\cos\\left(h k_{1}\\right) \\cos\\left(k_{1} z\\right) \\sin\\left(h k_{1}\\right) - {\\left(2 \\, c^{2} \\cos\\left(h k_{1}\\right)^{2} - c^{2}\\right)} \\kappa \\mu_{1} \\sin\\left(k_{1} z\\right)\\right)}} = 0$$"
      ],
      "text/plain": [
       "<IPython.core.display.Math object>"
      ]
     },
     "execution_count": 71,
     "metadata": {
     },
     "output_type": "execute_result"
    },
    {
     "name": "stdout",
     "output_type": "stream",
     "text": [
      "eq4 =\n"
     ]
    },
    {
     "data": {
      "text/latex": [
       "$$-\\frac{{\\left(4 \\, B_{z_{1}} c^{2} k_{1}^{2} J_{1}(\\kappa \\rho) \\cos\\left(h k_{1}\\right)^{2} - 2 \\, B_{z_{1}} c^{2} k_{1}^{2} J_{1}(\\kappa \\rho) + 4 \\, {\\left(\\epsilon_{1} \\kappa \\mu_{1} \\omega^{2} J_{0}(\\kappa \\rho) \\cos\\left(h k_{1}\\right) \\sin\\left(h k_{1}\\right) + c^{2} \\kappa^{2} J_{1}(\\kappa \\rho) \\cos\\left(h k_{1}\\right) \\sin\\left(h k_{1}\\right)\\right)} r_{1} - {\\left(2 \\, c^{2} \\kappa^{3} r_{1} {\\left(J_{2}(\\kappa \\rho) - J_{0}(\\kappa \\rho)\\right)} \\cos\\left(h k_{1}\\right) \\sin\\left(h k_{1}\\right) + {\\left(2 \\, B_{z_{1}} c^{2} k_{1}^{2} {\\left(J_{2}(\\kappa \\rho) - J_{0}(\\kappa \\rho)\\right)} \\cos\\left(h k_{1}\\right)^{2} - B_{z_{1}} c^{2} k_{1}^{2} {\\left(J_{2}(\\kappa \\rho) - J_{0}(\\kappa \\rho)\\right)}\\right)} \\kappa\\right)} \\rho\\right)} \\cos\\left(k_{1} z\\right)^{2} + {\\left(4 \\, B_{z_{1}} \\epsilon_{1} \\kappa \\mu_{1} \\omega^{2} J_{0}(\\kappa \\rho) \\cos\\left(h k_{1}\\right) \\sin\\left(h k_{1}\\right) + 4 \\, B_{z_{1}} c^{2} k_{1}^{2} J_{1}(\\kappa \\rho) \\cos\\left(h k_{1}\\right) \\sin\\left(h k_{1}\\right) + 4 \\, B_{z_{1}} c^{2} \\kappa^{2} J_{1}(\\kappa \\rho) \\cos\\left(h k_{1}\\right) \\sin\\left(h k_{1}\\right) - 2 \\, {\\left(2 \\, c^{2} k_{1}^{2} J_{1}(\\kappa \\rho) \\cos\\left(h k_{1}\\right)^{2} + {\\left(2 \\, \\epsilon_{1} J_{0}(\\kappa \\rho) \\cos\\left(h k_{1}\\right)^{2} - \\epsilon_{1} J_{0}(\\kappa \\rho)\\right)} \\kappa \\mu_{1} \\omega^{2} - c^{2} k_{1}^{2} J_{1}(\\kappa \\rho) + {\\left(2 \\, c^{2} J_{1}(\\kappa \\rho) \\cos\\left(h k_{1}\\right)^{2} - c^{2} J_{1}(\\kappa \\rho)\\right)} \\kappa^{2}\\right)} r_{1} - {\\left(2 \\, B_{z_{1}} c^{2} k_{1}^{2} \\kappa {\\left(J_{2}(\\kappa \\rho) - J_{0}(\\kappa \\rho)\\right)} \\cos\\left(h k_{1}\\right) \\sin\\left(h k_{1}\\right) + 2 \\, B_{z_{1}} c^{2} \\kappa^{3} {\\left(J_{2}(\\kappa \\rho) - J_{0}(\\kappa \\rho)\\right)} \\cos\\left(h k_{1}\\right) \\sin\\left(h k_{1}\\right) - {\\left({\\left(2 \\, c^{2} {\\left(J_{2}(\\kappa \\rho) - J_{0}(\\kappa \\rho)\\right)} \\cos\\left(h k_{1}\\right)^{2} - c^{2} {\\left(J_{2}(\\kappa \\rho) - J_{0}(\\kappa \\rho)\\right)}\\right)} \\kappa^{3} + {\\left(2 \\, c^{2} k_{1}^{2} {\\left(J_{2}(\\kappa \\rho) - J_{0}(\\kappa \\rho)\\right)} \\cos\\left(h k_{1}\\right)^{2} - c^{2} k_{1}^{2} {\\left(J_{2}(\\kappa \\rho) - J_{0}(\\kappa \\rho)\\right)}\\right)} \\kappa\\right)} r_{1}\\right)} \\rho\\right)} \\cos\\left(k_{1} z\\right) \\sin\\left(k_{1} z\\right) - {\\left(4 \\, c^{2} k_{1}^{2} r_{1} J_{1}(\\kappa \\rho) \\cos\\left(h k_{1}\\right) \\sin\\left(h k_{1}\\right) + 2 \\, {\\left(2 \\, B_{z_{1}} \\epsilon_{1} J_{0}(\\kappa \\rho) \\cos\\left(h k_{1}\\right)^{2} - B_{z_{1}} \\epsilon_{1} J_{0}(\\kappa \\rho)\\right)} \\kappa \\mu_{1} \\omega^{2} + 2 \\, {\\left(2 \\, B_{z_{1}} c^{2} J_{1}(\\kappa \\rho) \\cos\\left(h k_{1}\\right)^{2} - B_{z_{1}} c^{2} J_{1}(\\kappa \\rho)\\right)} \\kappa^{2} - {\\left(2 \\, c^{2} k_{1}^{2} \\kappa r_{1} {\\left(J_{2}(\\kappa \\rho) - J_{0}(\\kappa \\rho)\\right)} \\cos\\left(h k_{1}\\right) \\sin\\left(h k_{1}\\right) + {\\left(2 \\, B_{z_{1}} c^{2} {\\left(J_{2}(\\kappa \\rho) - J_{0}(\\kappa \\rho)\\right)} \\cos\\left(h k_{1}\\right)^{2} - B_{z_{1}} c^{2} {\\left(J_{2}(\\kappa \\rho) - J_{0}(\\kappa \\rho)\\right)}\\right)} \\kappa^{3}\\right)} \\rho\\right)} \\sin\\left(k_{1} z\\right)^{2}}{2 \\, {\\left(2 \\, c^{2} \\kappa \\mu_{1} \\cos\\left(h k_{1}\\right) \\cos\\left(k_{1} z\\right) \\sin\\left(h k_{1}\\right) - {\\left(2 \\, c^{2} \\cos\\left(h k_{1}\\right)^{2} - c^{2}\\right)} \\kappa \\mu_{1} \\sin\\left(k_{1} z\\right)\\right)}} = 0$$"
      ],
      "text/plain": [
       "<IPython.core.display.Math object>"
      ]
     },
     "execution_count": 71,
     "metadata": {
     },
     "output_type": "execute_result"
    },
    {
     "name": "stdout",
     "output_type": "stream",
     "text": [
      "var =\n"
     ]
    },
    {
     "data": {
      "text/latex": [
       "$$A_{z_{1}}$$"
      ],
      "text/plain": [
       "<IPython.core.display.Math object>"
      ]
     },
     "execution_count": 71,
     "metadata": {
     },
     "output_type": "execute_result"
    },
    {
     "name": "stdout",
     "output_type": "stream",
     "text": [
      "\n"
     ]
    },
    {
     "name": "stdout",
     "output_type": "stream",
     "text": [
      "sol=\n"
     ]
    },
    {
     "data": {
      "text/latex": [
       "$$\\left[\\right]$$"
      ],
      "text/plain": [
       "<IPython.core.display.Math object>"
      ]
     },
     "execution_count": 71,
     "metadata": {
     },
     "output_type": "execute_result"
    },
    {
     "name": "stdout",
     "output_type": "stream",
     "text": [
      "\n",
      "var =\n"
     ]
    },
    {
     "data": {
      "text/latex": [
       "$$B_{z_{1}}$$"
      ],
      "text/plain": [
       "<IPython.core.display.Math object>"
      ]
     },
     "execution_count": 71,
     "metadata": {
     },
     "output_type": "execute_result"
    },
    {
     "name": "stdout",
     "output_type": "stream",
     "text": [
      "\n"
     ]
    },
    {
     "name": "stdout",
     "output_type": "stream",
     "text": [
      "sol=\n"
     ]
    },
    {
     "data": {
      "text/latex": [
       "$$\\left[B_{z_{1}} = \\frac{2 \\, {\\left(c^{2} \\kappa^{3} r_{1} \\rho {\\left(J_{2}(\\kappa \\rho) - J_{0}(\\kappa \\rho)\\right)} \\cos\\left(h k_{1}\\right) \\sin\\left(h k_{1}\\right) - 2 \\, {\\left(\\epsilon_{1} \\kappa \\mu_{1} \\omega^{2} J_{0}(\\kappa \\rho) \\cos\\left(h k_{1}\\right) \\sin\\left(h k_{1}\\right) + c^{2} \\kappa^{2} J_{1}(\\kappa \\rho) \\cos\\left(h k_{1}\\right) \\sin\\left(h k_{1}\\right)\\right)} r_{1}\\right)} \\cos\\left(k_{1} z\\right)^{2} - {\\left({\\left({\\left(2 \\, c^{2} {\\left(J_{2}(\\kappa \\rho) - J_{0}(\\kappa \\rho)\\right)} \\cos\\left(h k_{1}\\right)^{2} - c^{2} {\\left(J_{2}(\\kappa \\rho) - J_{0}(\\kappa \\rho)\\right)}\\right)} \\kappa^{3} + {\\left(2 \\, c^{2} k_{1}^{2} {\\left(J_{2}(\\kappa \\rho) - J_{0}(\\kappa \\rho)\\right)} \\cos\\left(h k_{1}\\right)^{2} - c^{2} k_{1}^{2} {\\left(J_{2}(\\kappa \\rho) - J_{0}(\\kappa \\rho)\\right)}\\right)} \\kappa\\right)} r_{1} \\rho - 2 \\, {\\left(2 \\, c^{2} k_{1}^{2} J_{1}(\\kappa \\rho) \\cos\\left(h k_{1}\\right)^{2} + {\\left(2 \\, \\epsilon_{1} J_{0}(\\kappa \\rho) \\cos\\left(h k_{1}\\right)^{2} - \\epsilon_{1} J_{0}(\\kappa \\rho)\\right)} \\kappa \\mu_{1} \\omega^{2} - c^{2} k_{1}^{2} J_{1}(\\kappa \\rho) + {\\left(2 \\, c^{2} J_{1}(\\kappa \\rho) \\cos\\left(h k_{1}\\right)^{2} - c^{2} J_{1}(\\kappa \\rho)\\right)} \\kappa^{2}\\right)} r_{1}\\right)} \\cos\\left(k_{1} z\\right) \\sin\\left(k_{1} z\\right) - 2 \\, {\\left(c^{2} k_{1}^{2} \\kappa r_{1} \\rho {\\left(J_{2}(\\kappa \\rho) - J_{0}(\\kappa \\rho)\\right)} \\cos\\left(h k_{1}\\right) \\sin\\left(h k_{1}\\right) - 2 \\, c^{2} k_{1}^{2} r_{1} J_{1}(\\kappa \\rho) \\cos\\left(h k_{1}\\right) \\sin\\left(h k_{1}\\right)\\right)} \\sin\\left(k_{1} z\\right)^{2}}{{\\left(4 \\, c^{2} k_{1}^{2} J_{1}(\\kappa \\rho) \\cos\\left(h k_{1}\\right)^{2} - 2 \\, c^{2} k_{1}^{2} J_{1}(\\kappa \\rho) - {\\left(2 \\, c^{2} k_{1}^{2} {\\left(J_{2}(\\kappa \\rho) - J_{0}(\\kappa \\rho)\\right)} \\cos\\left(h k_{1}\\right)^{2} - c^{2} k_{1}^{2} {\\left(J_{2}(\\kappa \\rho) - J_{0}(\\kappa \\rho)\\right)}\\right)} \\kappa \\rho\\right)} \\cos\\left(k_{1} z\\right)^{2} + 2 \\, {\\left(2 \\, \\epsilon_{1} \\kappa \\mu_{1} \\omega^{2} J_{0}(\\kappa \\rho) \\cos\\left(h k_{1}\\right) \\sin\\left(h k_{1}\\right) + 2 \\, c^{2} k_{1}^{2} J_{1}(\\kappa \\rho) \\cos\\left(h k_{1}\\right) \\sin\\left(h k_{1}\\right) + 2 \\, c^{2} \\kappa^{2} J_{1}(\\kappa \\rho) \\cos\\left(h k_{1}\\right) \\sin\\left(h k_{1}\\right) - {\\left(c^{2} k_{1}^{2} \\kappa {\\left(J_{2}(\\kappa \\rho) - J_{0}(\\kappa \\rho)\\right)} \\cos\\left(h k_{1}\\right) \\sin\\left(h k_{1}\\right) + c^{2} \\kappa^{3} {\\left(J_{2}(\\kappa \\rho) - J_{0}(\\kappa \\rho)\\right)} \\cos\\left(h k_{1}\\right) \\sin\\left(h k_{1}\\right)\\right)} \\rho\\right)} \\cos\\left(k_{1} z\\right) \\sin\\left(k_{1} z\\right) - {\\left(2 \\, {\\left(2 \\, \\epsilon_{1} J_{0}(\\kappa \\rho) \\cos\\left(h k_{1}\\right)^{2} - \\epsilon_{1} J_{0}(\\kappa \\rho)\\right)} \\kappa \\mu_{1} \\omega^{2} - {\\left(2 \\, c^{2} {\\left(J_{2}(\\kappa \\rho) - J_{0}(\\kappa \\rho)\\right)} \\cos\\left(h k_{1}\\right)^{2} - c^{2} {\\left(J_{2}(\\kappa \\rho) - J_{0}(\\kappa \\rho)\\right)}\\right)} \\kappa^{3} \\rho + 2 \\, {\\left(2 \\, c^{2} J_{1}(\\kappa \\rho) \\cos\\left(h k_{1}\\right)^{2} - c^{2} J_{1}(\\kappa \\rho)\\right)} \\kappa^{2}\\right)} \\sin\\left(k_{1} z\\right)^{2}}\\right]$$"
      ],
      "text/plain": [
       "<IPython.core.display.Math object>"
      ]
     },
     "execution_count": 71,
     "metadata": {
     },
     "output_type": "execute_result"
    },
    {
     "name": "stdout",
     "output_type": "stream",
     "text": [
      "\n",
      "var =\n"
     ]
    },
    {
     "data": {
      "text/latex": [
       "$$A_{r_{1}}$$"
      ],
      "text/plain": [
       "<IPython.core.display.Math object>"
      ]
     },
     "execution_count": 71,
     "metadata": {
     },
     "output_type": "execute_result"
    },
    {
     "name": "stdout",
     "output_type": "stream",
     "text": [
      "\n"
     ]
    },
    {
     "name": "stdout",
     "output_type": "stream",
     "text": [
      "sol=\n"
     ]
    },
    {
     "data": {
      "text/latex": [
       "$$\\left[\\right]$$"
      ],
      "text/plain": [
       "<IPython.core.display.Math object>"
      ]
     },
     "execution_count": 71,
     "metadata": {
     },
     "output_type": "execute_result"
    },
    {
     "name": "stdout",
     "output_type": "stream",
     "text": [
      "\n",
      "var =\n"
     ]
    },
    {
     "data": {
      "text/latex": [
       "$$B_{r_{1}}$$"
      ],
      "text/plain": [
       "<IPython.core.display.Math object>"
      ]
     },
     "execution_count": 71,
     "metadata": {
     },
     "output_type": "execute_result"
    },
    {
     "name": "stdout",
     "output_type": "stream",
     "text": [
      "\n",
      "sol=\n"
     ]
    },
    {
     "data": {
      "text/latex": [
       "$$\\left[\\right]$$"
      ],
      "text/plain": [
       "<IPython.core.display.Math object>"
      ]
     },
     "execution_count": 71,
     "metadata": {
     },
     "output_type": "execute_result"
    },
    {
     "name": "stdout",
     "output_type": "stream",
     "text": [
      "\n",
      "var =\n"
     ]
    },
    {
     "data": {
      "text/latex": [
       "$$B_{z_{1}}$$"
      ],
      "text/plain": [
       "<IPython.core.display.Math object>"
      ]
     },
     "execution_count": 71,
     "metadata": {
     },
     "output_type": "execute_result"
    },
    {
     "name": "stdout",
     "output_type": "stream",
     "text": [
      "sol_tg_kappa_x_coeff=\n"
     ]
    },
    {
     "data": {
      "text/latex": [
       "$$\\left[B_{z_{1}} = r_{1}\\right]$$"
      ],
      "text/plain": [
       "<IPython.core.display.Math object>"
      ]
     },
     "execution_count": 71,
     "metadata": {
     },
     "output_type": "execute_result"
    },
    {
     "name": "stdout",
     "output_type": "stream",
     "text": [
      "eq4 ="
     ]
    },
    {
     "name": "stdout",
     "output_type": "stream",
     "text": [
      "\n"
     ]
    },
    {
     "data": {
      "text/latex": [
       "$$-\\frac{{\\left(4 \\, A_{z_{1}} \\epsilon_{1} \\kappa \\mu_{1} \\omega^{2} J_{0}(\\kappa \\rho) \\cos\\left(h k_{1}\\right) \\sin\\left(h k_{1}\\right) + 4 \\, c^{2} k_{1}^{2} r_{1} J_{1}(\\kappa \\rho) \\cos\\left(h k_{1}\\right)^{2} + 4 \\, A_{z_{1}} c^{2} \\kappa^{2} J_{1}(\\kappa \\rho) \\cos\\left(h k_{1}\\right) \\sin\\left(h k_{1}\\right) - 2 \\, c^{2} k_{1}^{2} r_{1} J_{1}(\\kappa \\rho) - {\\left(2 \\, A_{z_{1}} c^{2} \\kappa^{3} {\\left(J_{2}(\\kappa \\rho) - J_{0}(\\kappa \\rho)\\right)} \\cos\\left(h k_{1}\\right) \\sin\\left(h k_{1}\\right) + {\\left(2 \\, c^{2} k_{1}^{2} r_{1} {\\left(J_{2}(\\kappa \\rho) - J_{0}(\\kappa \\rho)\\right)} \\cos\\left(h k_{1}\\right)^{2} - c^{2} k_{1}^{2} r_{1} {\\left(J_{2}(\\kappa \\rho) - J_{0}(\\kappa \\rho)\\right)}\\right)} \\kappa\\right)} \\rho\\right)} \\cos\\left(k_{1} z\\right)^{2} - {\\left(4 \\, A_{z_{1}} c^{2} k_{1}^{2} J_{1}(\\kappa \\rho) \\cos\\left(h k_{1}\\right)^{2} - 4 \\, c^{2} k_{1}^{2} r_{1} J_{1}(\\kappa \\rho) \\cos\\left(h k_{1}\\right) \\sin\\left(h k_{1}\\right) - 2 \\, A_{z_{1}} c^{2} k_{1}^{2} J_{1}(\\kappa \\rho) + 2 \\, {\\left(2 \\, A_{z_{1}} \\epsilon_{1} J_{0}(\\kappa \\rho) \\cos\\left(h k_{1}\\right)^{2} - 2 \\, \\epsilon_{1} r_{1} J_{0}(\\kappa \\rho) \\cos\\left(h k_{1}\\right) \\sin\\left(h k_{1}\\right) - A_{z_{1}} \\epsilon_{1} J_{0}(\\kappa \\rho)\\right)} \\kappa \\mu_{1} \\omega^{2} + 2 \\, {\\left(2 \\, A_{z_{1}} c^{2} J_{1}(\\kappa \\rho) \\cos\\left(h k_{1}\\right)^{2} - 2 \\, c^{2} r_{1} J_{1}(\\kappa \\rho) \\cos\\left(h k_{1}\\right) \\sin\\left(h k_{1}\\right) - A_{z_{1}} c^{2} J_{1}(\\kappa \\rho)\\right)} \\kappa^{2} - {\\left({\\left(2 \\, A_{z_{1}} c^{2} {\\left(J_{2}(\\kappa \\rho) - J_{0}(\\kappa \\rho)\\right)} \\cos\\left(h k_{1}\\right)^{2} - 2 \\, c^{2} r_{1} {\\left(J_{2}(\\kappa \\rho) - J_{0}(\\kappa \\rho)\\right)} \\cos\\left(h k_{1}\\right) \\sin\\left(h k_{1}\\right) - A_{z_{1}} c^{2} {\\left(J_{2}(\\kappa \\rho) - J_{0}(\\kappa \\rho)\\right)}\\right)} \\kappa^{3} + {\\left(2 \\, A_{z_{1}} c^{2} k_{1}^{2} {\\left(J_{2}(\\kappa \\rho) - J_{0}(\\kappa \\rho)\\right)} \\cos\\left(h k_{1}\\right)^{2} - 2 \\, c^{2} k_{1}^{2} r_{1} {\\left(J_{2}(\\kappa \\rho) - J_{0}(\\kappa \\rho)\\right)} \\cos\\left(h k_{1}\\right) \\sin\\left(h k_{1}\\right) - A_{z_{1}} c^{2} k_{1}^{2} {\\left(J_{2}(\\kappa \\rho) - J_{0}(\\kappa \\rho)\\right)}\\right)} \\kappa\\right)} \\rho\\right)} \\cos\\left(k_{1} z\\right) \\sin\\left(k_{1} z\\right) - {\\left(4 \\, A_{z_{1}} c^{2} k_{1}^{2} J_{1}(\\kappa \\rho) \\cos\\left(h k_{1}\\right) \\sin\\left(h k_{1}\\right) + 2 \\, {\\left(2 \\, \\epsilon_{1} r_{1} J_{0}(\\kappa \\rho) \\cos\\left(h k_{1}\\right)^{2} - \\epsilon_{1} r_{1} J_{0}(\\kappa \\rho)\\right)} \\kappa \\mu_{1} \\omega^{2} + 2 \\, {\\left(2 \\, c^{2} r_{1} J_{1}(\\kappa \\rho) \\cos\\left(h k_{1}\\right)^{2} - c^{2} r_{1} J_{1}(\\kappa \\rho)\\right)} \\kappa^{2} - {\\left(2 \\, A_{z_{1}} c^{2} k_{1}^{2} \\kappa {\\left(J_{2}(\\kappa \\rho) - J_{0}(\\kappa \\rho)\\right)} \\cos\\left(h k_{1}\\right) \\sin\\left(h k_{1}\\right) + {\\left(2 \\, c^{2} r_{1} {\\left(J_{2}(\\kappa \\rho) - J_{0}(\\kappa \\rho)\\right)} \\cos\\left(h k_{1}\\right)^{2} - c^{2} r_{1} {\\left(J_{2}(\\kappa \\rho) - J_{0}(\\kappa \\rho)\\right)}\\right)} \\kappa^{3}\\right)} \\rho\\right)} \\sin\\left(k_{1} z\\right)^{2}}{2 \\, {\\left(2 \\, c^{2} \\kappa \\mu_{1} \\cos\\left(h k_{1}\\right) \\cos\\left(k_{1} z\\right) \\sin\\left(h k_{1}\\right) - {\\left(2 \\, c^{2} \\cos\\left(h k_{1}\\right)^{2} - c^{2}\\right)} \\kappa \\mu_{1} \\sin\\left(k_{1} z\\right)\\right)}} = 0$$"
      ],
      "text/plain": [
       "<IPython.core.display.Math object>"
      ]
     },
     "execution_count": 71,
     "metadata": {
     },
     "output_type": "execute_result"
    },
    {
     "name": "stdout",
     "output_type": "stream",
     "text": [
      "eq4 =\n"
     ]
    },
    {
     "data": {
      "text/latex": [
       "$$-\\frac{{\\left(4 \\, A_{z_{1}} \\epsilon_{1} \\kappa \\mu_{1} \\omega^{2} J_{0}(\\kappa \\rho) \\cos\\left(h k_{1}\\right) \\sin\\left(h k_{1}\\right) + 4 \\, A_{z_{1}} c^{2} \\kappa^{2} J_{1}(\\kappa \\rho) \\cos\\left(h k_{1}\\right) \\sin\\left(h k_{1}\\right) + 2 \\, {\\left(2 \\, c^{2} k_{1}^{2} J_{1}(\\kappa \\rho) \\cos\\left(h k_{1}\\right)^{2} - c^{2} k_{1}^{2} J_{1}(\\kappa \\rho)\\right)} r_{1} - {\\left(2 \\, A_{z_{1}} c^{2} \\kappa^{3} {\\left(J_{2}(\\kappa \\rho) - J_{0}(\\kappa \\rho)\\right)} \\cos\\left(h k_{1}\\right) \\sin\\left(h k_{1}\\right) + {\\left(2 \\, c^{2} k_{1}^{2} {\\left(J_{2}(\\kappa \\rho) - J_{0}(\\kappa \\rho)\\right)} \\cos\\left(h k_{1}\\right)^{2} - c^{2} k_{1}^{2} {\\left(J_{2}(\\kappa \\rho) - J_{0}(\\kappa \\rho)\\right)}\\right)} \\kappa r_{1}\\right)} \\rho\\right)} \\cos\\left(k_{1} z\\right)^{2} - {\\left(4 \\, A_{z_{1}} c^{2} k_{1}^{2} J_{1}(\\kappa \\rho) \\cos\\left(h k_{1}\\right)^{2} - 2 \\, A_{z_{1}} c^{2} k_{1}^{2} J_{1}(\\kappa \\rho) + 2 \\, {\\left(2 \\, A_{z_{1}} \\epsilon_{1} J_{0}(\\kappa \\rho) \\cos\\left(h k_{1}\\right)^{2} - A_{z_{1}} \\epsilon_{1} J_{0}(\\kappa \\rho)\\right)} \\kappa \\mu_{1} \\omega^{2} + 2 \\, {\\left(2 \\, A_{z_{1}} c^{2} J_{1}(\\kappa \\rho) \\cos\\left(h k_{1}\\right)^{2} - A_{z_{1}} c^{2} J_{1}(\\kappa \\rho)\\right)} \\kappa^{2} - 4 \\, {\\left(\\epsilon_{1} \\kappa \\mu_{1} \\omega^{2} J_{0}(\\kappa \\rho) \\cos\\left(h k_{1}\\right) \\sin\\left(h k_{1}\\right) + c^{2} k_{1}^{2} J_{1}(\\kappa \\rho) \\cos\\left(h k_{1}\\right) \\sin\\left(h k_{1}\\right) + c^{2} \\kappa^{2} J_{1}(\\kappa \\rho) \\cos\\left(h k_{1}\\right) \\sin\\left(h k_{1}\\right)\\right)} r_{1} - {\\left({\\left(2 \\, A_{z_{1}} c^{2} {\\left(J_{2}(\\kappa \\rho) - J_{0}(\\kappa \\rho)\\right)} \\cos\\left(h k_{1}\\right)^{2} - A_{z_{1}} c^{2} {\\left(J_{2}(\\kappa \\rho) - J_{0}(\\kappa \\rho)\\right)}\\right)} \\kappa^{3} + {\\left(2 \\, A_{z_{1}} c^{2} k_{1}^{2} {\\left(J_{2}(\\kappa \\rho) - J_{0}(\\kappa \\rho)\\right)} \\cos\\left(h k_{1}\\right)^{2} - A_{z_{1}} c^{2} k_{1}^{2} {\\left(J_{2}(\\kappa \\rho) - J_{0}(\\kappa \\rho)\\right)}\\right)} \\kappa - 2 \\, {\\left(c^{2} k_{1}^{2} \\kappa {\\left(J_{2}(\\kappa \\rho) - J_{0}(\\kappa \\rho)\\right)} \\cos\\left(h k_{1}\\right) \\sin\\left(h k_{1}\\right) + c^{2} \\kappa^{3} {\\left(J_{2}(\\kappa \\rho) - J_{0}(\\kappa \\rho)\\right)} \\cos\\left(h k_{1}\\right) \\sin\\left(h k_{1}\\right)\\right)} r_{1}\\right)} \\rho\\right)} \\cos\\left(k_{1} z\\right) \\sin\\left(k_{1} z\\right) - {\\left(4 \\, A_{z_{1}} c^{2} k_{1}^{2} J_{1}(\\kappa \\rho) \\cos\\left(h k_{1}\\right) \\sin\\left(h k_{1}\\right) + 2 \\, {\\left({\\left(2 \\, \\epsilon_{1} J_{0}(\\kappa \\rho) \\cos\\left(h k_{1}\\right)^{2} - \\epsilon_{1} J_{0}(\\kappa \\rho)\\right)} \\kappa \\mu_{1} \\omega^{2} + {\\left(2 \\, c^{2} J_{1}(\\kappa \\rho) \\cos\\left(h k_{1}\\right)^{2} - c^{2} J_{1}(\\kappa \\rho)\\right)} \\kappa^{2}\\right)} r_{1} - {\\left(2 \\, A_{z_{1}} c^{2} k_{1}^{2} \\kappa {\\left(J_{2}(\\kappa \\rho) - J_{0}(\\kappa \\rho)\\right)} \\cos\\left(h k_{1}\\right) \\sin\\left(h k_{1}\\right) + {\\left(2 \\, c^{2} {\\left(J_{2}(\\kappa \\rho) - J_{0}(\\kappa \\rho)\\right)} \\cos\\left(h k_{1}\\right)^{2} - c^{2} {\\left(J_{2}(\\kappa \\rho) - J_{0}(\\kappa \\rho)\\right)}\\right)} \\kappa^{3} r_{1}\\right)} \\rho\\right)} \\sin\\left(k_{1} z\\right)^{2}}{2 \\, {\\left(2 \\, c^{2} \\kappa \\mu_{1} \\cos\\left(h k_{1}\\right) \\cos\\left(k_{1} z\\right) \\sin\\left(h k_{1}\\right) - {\\left(2 \\, c^{2} \\cos\\left(h k_{1}\\right)^{2} - c^{2}\\right)} \\kappa \\mu_{1} \\sin\\left(k_{1} z\\right)\\right)}} = 0$$"
      ],
      "text/plain": [
       "<IPython.core.display.Math object>"
      ]
     },
     "execution_count": 71,
     "metadata": {
     },
     "output_type": "execute_result"
    },
    {
     "name": "stdout",
     "output_type": "stream",
     "text": [
      "var =\n"
     ]
    },
    {
     "data": {
      "text/latex": [
       "$$A_{z_{1}}$$"
      ],
      "text/plain": [
       "<IPython.core.display.Math object>"
      ]
     },
     "execution_count": 71,
     "metadata": {
     },
     "output_type": "execute_result"
    },
    {
     "name": "stdout",
     "output_type": "stream",
     "text": [
      "\n"
     ]
    },
    {
     "name": "stdout",
     "output_type": "stream",
     "text": [
      "sol=\n"
     ]
    },
    {
     "data": {
      "text/latex": [
       "$$\\left[A_{z_{1}} = -\\frac{{\\left({\\left(2 \\, c^{2} k_{1}^{2} {\\left(J_{2}(\\kappa \\rho) - J_{0}(\\kappa \\rho)\\right)} \\cos\\left(h k_{1}\\right)^{2} - c^{2} k_{1}^{2} {\\left(J_{2}(\\kappa \\rho) - J_{0}(\\kappa \\rho)\\right)}\\right)} \\kappa r_{1} \\rho - 2 \\, {\\left(2 \\, c^{2} k_{1}^{2} J_{1}(\\kappa \\rho) \\cos\\left(h k_{1}\\right)^{2} - c^{2} k_{1}^{2} J_{1}(\\kappa \\rho)\\right)} r_{1}\\right)} \\cos\\left(k_{1} z\\right)^{2} + 2 \\, {\\left({\\left(c^{2} k_{1}^{2} \\kappa {\\left(J_{2}(\\kappa \\rho) - J_{0}(\\kappa \\rho)\\right)} \\cos\\left(h k_{1}\\right) \\sin\\left(h k_{1}\\right) + c^{2} \\kappa^{3} {\\left(J_{2}(\\kappa \\rho) - J_{0}(\\kappa \\rho)\\right)} \\cos\\left(h k_{1}\\right) \\sin\\left(h k_{1}\\right)\\right)} r_{1} \\rho - 2 \\, {\\left(\\epsilon_{1} \\kappa \\mu_{1} \\omega^{2} J_{0}(\\kappa \\rho) \\cos\\left(h k_{1}\\right) \\sin\\left(h k_{1}\\right) + c^{2} k_{1}^{2} J_{1}(\\kappa \\rho) \\cos\\left(h k_{1}\\right) \\sin\\left(h k_{1}\\right) + c^{2} \\kappa^{2} J_{1}(\\kappa \\rho) \\cos\\left(h k_{1}\\right) \\sin\\left(h k_{1}\\right)\\right)} r_{1}\\right)} \\cos\\left(k_{1} z\\right) \\sin\\left(k_{1} z\\right) - {\\left({\\left(2 \\, c^{2} {\\left(J_{2}(\\kappa \\rho) - J_{0}(\\kappa \\rho)\\right)} \\cos\\left(h k_{1}\\right)^{2} - c^{2} {\\left(J_{2}(\\kappa \\rho) - J_{0}(\\kappa \\rho)\\right)}\\right)} \\kappa^{3} r_{1} \\rho - 2 \\, {\\left({\\left(2 \\, \\epsilon_{1} J_{0}(\\kappa \\rho) \\cos\\left(h k_{1}\\right)^{2} - \\epsilon_{1} J_{0}(\\kappa \\rho)\\right)} \\kappa \\mu_{1} \\omega^{2} + {\\left(2 \\, c^{2} J_{1}(\\kappa \\rho) \\cos\\left(h k_{1}\\right)^{2} - c^{2} J_{1}(\\kappa \\rho)\\right)} \\kappa^{2}\\right)} r_{1}\\right)} \\sin\\left(k_{1} z\\right)^{2}}{2 \\, {\\left(c^{2} \\kappa^{3} \\rho {\\left(J_{2}(\\kappa \\rho) - J_{0}(\\kappa \\rho)\\right)} \\cos\\left(h k_{1}\\right) \\sin\\left(h k_{1}\\right) - 2 \\, \\epsilon_{1} \\kappa \\mu_{1} \\omega^{2} J_{0}(\\kappa \\rho) \\cos\\left(h k_{1}\\right) \\sin\\left(h k_{1}\\right) - 2 \\, c^{2} \\kappa^{2} J_{1}(\\kappa \\rho) \\cos\\left(h k_{1}\\right) \\sin\\left(h k_{1}\\right)\\right)} \\cos\\left(k_{1} z\\right)^{2} + {\\left(4 \\, c^{2} k_{1}^{2} J_{1}(\\kappa \\rho) \\cos\\left(h k_{1}\\right)^{2} + 2 \\, {\\left(2 \\, \\epsilon_{1} J_{0}(\\kappa \\rho) \\cos\\left(h k_{1}\\right)^{2} - \\epsilon_{1} J_{0}(\\kappa \\rho)\\right)} \\kappa \\mu_{1} \\omega^{2} - 2 \\, c^{2} k_{1}^{2} J_{1}(\\kappa \\rho) + 2 \\, {\\left(2 \\, c^{2} J_{1}(\\kappa \\rho) \\cos\\left(h k_{1}\\right)^{2} - c^{2} J_{1}(\\kappa \\rho)\\right)} \\kappa^{2} - {\\left({\\left(2 \\, c^{2} {\\left(J_{2}(\\kappa \\rho) - J_{0}(\\kappa \\rho)\\right)} \\cos\\left(h k_{1}\\right)^{2} - c^{2} {\\left(J_{2}(\\kappa \\rho) - J_{0}(\\kappa \\rho)\\right)}\\right)} \\kappa^{3} + {\\left(2 \\, c^{2} k_{1}^{2} {\\left(J_{2}(\\kappa \\rho) - J_{0}(\\kappa \\rho)\\right)} \\cos\\left(h k_{1}\\right)^{2} - c^{2} k_{1}^{2} {\\left(J_{2}(\\kappa \\rho) - J_{0}(\\kappa \\rho)\\right)}\\right)} \\kappa\\right)} \\rho\\right)} \\cos\\left(k_{1} z\\right) \\sin\\left(k_{1} z\\right) - 2 \\, {\\left(c^{2} k_{1}^{2} \\kappa \\rho {\\left(J_{2}(\\kappa \\rho) - J_{0}(\\kappa \\rho)\\right)} \\cos\\left(h k_{1}\\right) \\sin\\left(h k_{1}\\right) - 2 \\, c^{2} k_{1}^{2} J_{1}(\\kappa \\rho) \\cos\\left(h k_{1}\\right) \\sin\\left(h k_{1}\\right)\\right)} \\sin\\left(k_{1} z\\right)^{2}}\\right]$$"
      ],
      "text/plain": [
       "<IPython.core.display.Math object>"
      ]
     },
     "execution_count": 71,
     "metadata": {
     },
     "output_type": "execute_result"
    },
    {
     "name": "stdout",
     "output_type": "stream",
     "text": [
      "\n",
      "var =\n"
     ]
    },
    {
     "data": {
      "text/latex": [
       "$$B_{z_{1}}$$"
      ],
      "text/plain": [
       "<IPython.core.display.Math object>"
      ]
     },
     "execution_count": 71,
     "metadata": {
     },
     "output_type": "execute_result"
    },
    {
     "name": "stdout",
     "output_type": "stream",
     "text": [
      "\n"
     ]
    },
    {
     "name": "stdout",
     "output_type": "stream",
     "text": [
      "sol=\n"
     ]
    },
    {
     "data": {
      "text/latex": [
       "$$\\left[\\right]$$"
      ],
      "text/plain": [
       "<IPython.core.display.Math object>"
      ]
     },
     "execution_count": 71,
     "metadata": {
     },
     "output_type": "execute_result"
    },
    {
     "name": "stdout",
     "output_type": "stream",
     "text": [
      "\n",
      "var =\n"
     ]
    },
    {
     "data": {
      "text/latex": [
       "$$A_{r_{1}}$$"
      ],
      "text/plain": [
       "<IPython.core.display.Math object>"
      ]
     },
     "execution_count": 71,
     "metadata": {
     },
     "output_type": "execute_result"
    },
    {
     "name": "stdout",
     "output_type": "stream",
     "text": [
      "\n",
      "sol=\n"
     ]
    },
    {
     "data": {
      "text/latex": [
       "$$\\left[\\right]$$"
      ],
      "text/plain": [
       "<IPython.core.display.Math object>"
      ]
     },
     "execution_count": 71,
     "metadata": {
     },
     "output_type": "execute_result"
    },
    {
     "name": "stdout",
     "output_type": "stream",
     "text": [
      "\n",
      "var =\n"
     ]
    },
    {
     "data": {
      "text/latex": [
       "$$B_{r_{1}}$$"
      ],
      "text/plain": [
       "<IPython.core.display.Math object>"
      ]
     },
     "execution_count": 71,
     "metadata": {
     },
     "output_type": "execute_result"
    },
    {
     "name": "stdout",
     "output_type": "stream",
     "text": [
      "\n"
     ]
    },
    {
     "name": "stdout",
     "output_type": "stream",
     "text": [
      "sol=\n"
     ]
    },
    {
     "data": {
      "text/latex": [
       "$$\\left[\\right]$$"
      ],
      "text/plain": [
       "<IPython.core.display.Math object>"
      ]
     },
     "execution_count": 71,
     "metadata": {
     },
     "output_type": "execute_result"
    },
    {
     "name": "stdout",
     "output_type": "stream",
     "text": [
      "\n",
      "var =\n"
     ]
    },
    {
     "data": {
      "text/latex": [
       "$$A_{r_{1}}$$"
      ],
      "text/plain": [
       "<IPython.core.display.Math object>"
      ]
     },
     "execution_count": 71,
     "metadata": {
     },
     "output_type": "execute_result"
    },
    {
     "name": "stdout",
     "output_type": "stream",
     "text": [
      "sol_tg_kappa_x_coeff=\n"
     ]
    },
    {
     "data": {
      "text/latex": [
       "$$\\left[A_{r_{1}} = r_{1}\\right]$$"
      ],
      "text/plain": [
       "<IPython.core.display.Math object>"
      ]
     },
     "execution_count": 71,
     "metadata": {
     },
     "output_type": "execute_result"
    },
    {
     "name": "stdout",
     "output_type": "stream",
     "text": [
      "eq4 =\n"
     ]
    },
    {
     "data": {
      "text/latex": [
       "$$-\\frac{{\\left(4 \\, A_{z_{1}} \\epsilon_{1} \\kappa \\mu_{1} \\omega^{2} J_{0}(\\kappa \\rho) \\cos\\left(h k_{1}\\right) \\sin\\left(h k_{1}\\right) + 4 \\, B_{z_{1}} c^{2} k_{1}^{2} J_{1}(\\kappa \\rho) \\cos\\left(h k_{1}\\right)^{2} + 4 \\, A_{z_{1}} c^{2} \\kappa^{2} J_{1}(\\kappa \\rho) \\cos\\left(h k_{1}\\right) \\sin\\left(h k_{1}\\right) - 2 \\, B_{z_{1}} c^{2} k_{1}^{2} J_{1}(\\kappa \\rho) - {\\left(2 \\, A_{z_{1}} c^{2} \\kappa^{3} {\\left(J_{2}(\\kappa \\rho) - J_{0}(\\kappa \\rho)\\right)} \\cos\\left(h k_{1}\\right) \\sin\\left(h k_{1}\\right) + {\\left(2 \\, B_{z_{1}} c^{2} k_{1}^{2} {\\left(J_{2}(\\kappa \\rho) - J_{0}(\\kappa \\rho)\\right)} \\cos\\left(h k_{1}\\right)^{2} - B_{z_{1}} c^{2} k_{1}^{2} {\\left(J_{2}(\\kappa \\rho) - J_{0}(\\kappa \\rho)\\right)}\\right)} \\kappa\\right)} \\rho\\right)} \\cos\\left(k_{1} z\\right)^{2} - {\\left(4 \\, A_{z_{1}} c^{2} k_{1}^{2} J_{1}(\\kappa \\rho) \\cos\\left(h k_{1}\\right)^{2} - 4 \\, B_{z_{1}} c^{2} k_{1}^{2} J_{1}(\\kappa \\rho) \\cos\\left(h k_{1}\\right) \\sin\\left(h k_{1}\\right) - 2 \\, A_{z_{1}} c^{2} k_{1}^{2} J_{1}(\\kappa \\rho) + 2 \\, {\\left(2 \\, A_{z_{1}} \\epsilon_{1} J_{0}(\\kappa \\rho) \\cos\\left(h k_{1}\\right)^{2} - 2 \\, B_{z_{1}} \\epsilon_{1} J_{0}(\\kappa \\rho) \\cos\\left(h k_{1}\\right) \\sin\\left(h k_{1}\\right) - A_{z_{1}} \\epsilon_{1} J_{0}(\\kappa \\rho)\\right)} \\kappa \\mu_{1} \\omega^{2} + 2 \\, {\\left(2 \\, A_{z_{1}} c^{2} J_{1}(\\kappa \\rho) \\cos\\left(h k_{1}\\right)^{2} - 2 \\, B_{z_{1}} c^{2} J_{1}(\\kappa \\rho) \\cos\\left(h k_{1}\\right) \\sin\\left(h k_{1}\\right) - A_{z_{1}} c^{2} J_{1}(\\kappa \\rho)\\right)} \\kappa^{2} - {\\left({\\left(2 \\, A_{z_{1}} c^{2} {\\left(J_{2}(\\kappa \\rho) - J_{0}(\\kappa \\rho)\\right)} \\cos\\left(h k_{1}\\right)^{2} - 2 \\, B_{z_{1}} c^{2} {\\left(J_{2}(\\kappa \\rho) - J_{0}(\\kappa \\rho)\\right)} \\cos\\left(h k_{1}\\right) \\sin\\left(h k_{1}\\right) - A_{z_{1}} c^{2} {\\left(J_{2}(\\kappa \\rho) - J_{0}(\\kappa \\rho)\\right)}\\right)} \\kappa^{3} + {\\left(2 \\, A_{z_{1}} c^{2} k_{1}^{2} {\\left(J_{2}(\\kappa \\rho) - J_{0}(\\kappa \\rho)\\right)} \\cos\\left(h k_{1}\\right)^{2} - 2 \\, B_{z_{1}} c^{2} k_{1}^{2} {\\left(J_{2}(\\kappa \\rho) - J_{0}(\\kappa \\rho)\\right)} \\cos\\left(h k_{1}\\right) \\sin\\left(h k_{1}\\right) - A_{z_{1}} c^{2} k_{1}^{2} {\\left(J_{2}(\\kappa \\rho) - J_{0}(\\kappa \\rho)\\right)}\\right)} \\kappa\\right)} \\rho\\right)} \\cos\\left(k_{1} z\\right) \\sin\\left(k_{1} z\\right) - {\\left(4 \\, A_{z_{1}} c^{2} k_{1}^{2} J_{1}(\\kappa \\rho) \\cos\\left(h k_{1}\\right) \\sin\\left(h k_{1}\\right) + 2 \\, {\\left(2 \\, B_{z_{1}} \\epsilon_{1} J_{0}(\\kappa \\rho) \\cos\\left(h k_{1}\\right)^{2} - B_{z_{1}} \\epsilon_{1} J_{0}(\\kappa \\rho)\\right)} \\kappa \\mu_{1} \\omega^{2} + 2 \\, {\\left(2 \\, B_{z_{1}} c^{2} J_{1}(\\kappa \\rho) \\cos\\left(h k_{1}\\right)^{2} - B_{z_{1}} c^{2} J_{1}(\\kappa \\rho)\\right)} \\kappa^{2} - {\\left(2 \\, A_{z_{1}} c^{2} k_{1}^{2} \\kappa {\\left(J_{2}(\\kappa \\rho) - J_{0}(\\kappa \\rho)\\right)} \\cos\\left(h k_{1}\\right) \\sin\\left(h k_{1}\\right) + {\\left(2 \\, B_{z_{1}} c^{2} {\\left(J_{2}(\\kappa \\rho) - J_{0}(\\kappa \\rho)\\right)} \\cos\\left(h k_{1}\\right)^{2} - B_{z_{1}} c^{2} {\\left(J_{2}(\\kappa \\rho) - J_{0}(\\kappa \\rho)\\right)}\\right)} \\kappa^{3}\\right)} \\rho\\right)} \\sin\\left(k_{1} z\\right)^{2}}{2 \\, {\\left(2 \\, c^{2} \\kappa \\mu_{1} \\cos\\left(h k_{1}\\right) \\cos\\left(k_{1} z\\right) \\sin\\left(h k_{1}\\right) - {\\left(2 \\, c^{2} \\cos\\left(h k_{1}\\right)^{2} - c^{2}\\right)} \\kappa \\mu_{1} \\sin\\left(k_{1} z\\right)\\right)}} = 0$$"
      ],
      "text/plain": [
       "<IPython.core.display.Math object>"
      ]
     },
     "execution_count": 71,
     "metadata": {
     },
     "output_type": "execute_result"
    },
    {
     "name": "stdout",
     "output_type": "stream",
     "text": [
      "eq4 =\n"
     ]
    },
    {
     "data": {
      "text/latex": [
       "$$-\\frac{{\\left(4 \\, A_{z_{1}} \\epsilon_{1} \\kappa \\mu_{1} \\omega^{2} J_{0}(\\kappa \\rho) \\cos\\left(h k_{1}\\right) \\sin\\left(h k_{1}\\right) + 4 \\, B_{z_{1}} c^{2} k_{1}^{2} J_{1}(\\kappa \\rho) \\cos\\left(h k_{1}\\right)^{2} + 4 \\, A_{z_{1}} c^{2} \\kappa^{2} J_{1}(\\kappa \\rho) \\cos\\left(h k_{1}\\right) \\sin\\left(h k_{1}\\right) - 2 \\, B_{z_{1}} c^{2} k_{1}^{2} J_{1}(\\kappa \\rho) - {\\left(2 \\, A_{z_{1}} c^{2} \\kappa^{3} {\\left(J_{2}(\\kappa \\rho) - J_{0}(\\kappa \\rho)\\right)} \\cos\\left(h k_{1}\\right) \\sin\\left(h k_{1}\\right) + {\\left(2 \\, B_{z_{1}} c^{2} k_{1}^{2} {\\left(J_{2}(\\kappa \\rho) - J_{0}(\\kappa \\rho)\\right)} \\cos\\left(h k_{1}\\right)^{2} - B_{z_{1}} c^{2} k_{1}^{2} {\\left(J_{2}(\\kappa \\rho) - J_{0}(\\kappa \\rho)\\right)}\\right)} \\kappa\\right)} \\rho\\right)} \\cos\\left(k_{1} z\\right)^{2} - {\\left(4 \\, A_{z_{1}} c^{2} k_{1}^{2} J_{1}(\\kappa \\rho) \\cos\\left(h k_{1}\\right)^{2} - 4 \\, B_{z_{1}} c^{2} k_{1}^{2} J_{1}(\\kappa \\rho) \\cos\\left(h k_{1}\\right) \\sin\\left(h k_{1}\\right) - 2 \\, A_{z_{1}} c^{2} k_{1}^{2} J_{1}(\\kappa \\rho) + 2 \\, {\\left(2 \\, A_{z_{1}} \\epsilon_{1} J_{0}(\\kappa \\rho) \\cos\\left(h k_{1}\\right)^{2} - 2 \\, B_{z_{1}} \\epsilon_{1} J_{0}(\\kappa \\rho) \\cos\\left(h k_{1}\\right) \\sin\\left(h k_{1}\\right) - A_{z_{1}} \\epsilon_{1} J_{0}(\\kappa \\rho)\\right)} \\kappa \\mu_{1} \\omega^{2} + 2 \\, {\\left(2 \\, A_{z_{1}} c^{2} J_{1}(\\kappa \\rho) \\cos\\left(h k_{1}\\right)^{2} - 2 \\, B_{z_{1}} c^{2} J_{1}(\\kappa \\rho) \\cos\\left(h k_{1}\\right) \\sin\\left(h k_{1}\\right) - A_{z_{1}} c^{2} J_{1}(\\kappa \\rho)\\right)} \\kappa^{2} - {\\left({\\left(2 \\, A_{z_{1}} c^{2} {\\left(J_{2}(\\kappa \\rho) - J_{0}(\\kappa \\rho)\\right)} \\cos\\left(h k_{1}\\right)^{2} - 2 \\, B_{z_{1}} c^{2} {\\left(J_{2}(\\kappa \\rho) - J_{0}(\\kappa \\rho)\\right)} \\cos\\left(h k_{1}\\right) \\sin\\left(h k_{1}\\right) - A_{z_{1}} c^{2} {\\left(J_{2}(\\kappa \\rho) - J_{0}(\\kappa \\rho)\\right)}\\right)} \\kappa^{3} + {\\left(2 \\, A_{z_{1}} c^{2} k_{1}^{2} {\\left(J_{2}(\\kappa \\rho) - J_{0}(\\kappa \\rho)\\right)} \\cos\\left(h k_{1}\\right)^{2} - 2 \\, B_{z_{1}} c^{2} k_{1}^{2} {\\left(J_{2}(\\kappa \\rho) - J_{0}(\\kappa \\rho)\\right)} \\cos\\left(h k_{1}\\right) \\sin\\left(h k_{1}\\right) - A_{z_{1}} c^{2} k_{1}^{2} {\\left(J_{2}(\\kappa \\rho) - J_{0}(\\kappa \\rho)\\right)}\\right)} \\kappa\\right)} \\rho\\right)} \\cos\\left(k_{1} z\\right) \\sin\\left(k_{1} z\\right) - {\\left(4 \\, A_{z_{1}} c^{2} k_{1}^{2} J_{1}(\\kappa \\rho) \\cos\\left(h k_{1}\\right) \\sin\\left(h k_{1}\\right) + 2 \\, {\\left(2 \\, B_{z_{1}} \\epsilon_{1} J_{0}(\\kappa \\rho) \\cos\\left(h k_{1}\\right)^{2} - B_{z_{1}} \\epsilon_{1} J_{0}(\\kappa \\rho)\\right)} \\kappa \\mu_{1} \\omega^{2} + 2 \\, {\\left(2 \\, B_{z_{1}} c^{2} J_{1}(\\kappa \\rho) \\cos\\left(h k_{1}\\right)^{2} - B_{z_{1}} c^{2} J_{1}(\\kappa \\rho)\\right)} \\kappa^{2} - {\\left(2 \\, A_{z_{1}} c^{2} k_{1}^{2} \\kappa {\\left(J_{2}(\\kappa \\rho) - J_{0}(\\kappa \\rho)\\right)} \\cos\\left(h k_{1}\\right) \\sin\\left(h k_{1}\\right) + {\\left(2 \\, B_{z_{1}} c^{2} {\\left(J_{2}(\\kappa \\rho) - J_{0}(\\kappa \\rho)\\right)} \\cos\\left(h k_{1}\\right)^{2} - B_{z_{1}} c^{2} {\\left(J_{2}(\\kappa \\rho) - J_{0}(\\kappa \\rho)\\right)}\\right)} \\kappa^{3}\\right)} \\rho\\right)} \\sin\\left(k_{1} z\\right)^{2}}{2 \\, {\\left(2 \\, c^{2} \\kappa \\mu_{1} \\cos\\left(h k_{1}\\right) \\cos\\left(k_{1} z\\right) \\sin\\left(h k_{1}\\right) - {\\left(2 \\, c^{2} \\cos\\left(h k_{1}\\right)^{2} - c^{2}\\right)} \\kappa \\mu_{1} \\sin\\left(k_{1} z\\right)\\right)}} = 0$$"
      ],
      "text/plain": [
       "<IPython.core.display.Math object>"
      ]
     },
     "execution_count": 71,
     "metadata": {
     },
     "output_type": "execute_result"
    },
    {
     "name": "stdout",
     "output_type": "stream",
     "text": [
      "var =\n"
     ]
    },
    {
     "data": {
      "text/latex": [
       "$$A_{z_{1}}$$"
      ],
      "text/plain": [
       "<IPython.core.display.Math object>"
      ]
     },
     "execution_count": 71,
     "metadata": {
     },
     "output_type": "execute_result"
    },
    {
     "name": "stdout",
     "output_type": "stream",
     "text": [
      "\n"
     ]
    },
    {
     "name": "stdout",
     "output_type": "stream",
     "text": [
      "sol=\n"
     ]
    },
    {
     "data": {
      "text/latex": [
       "$$\\left[A_{z_{1}} = \\frac{{\\left(4 \\, B_{z_{1}} c^{2} k_{1}^{2} J_{1}(\\kappa \\rho) \\cos\\left(h k_{1}\\right)^{2} - 2 \\, B_{z_{1}} c^{2} k_{1}^{2} J_{1}(\\kappa \\rho) - {\\left(2 \\, B_{z_{1}} c^{2} k_{1}^{2} {\\left(J_{2}(\\kappa \\rho) - J_{0}(\\kappa \\rho)\\right)} \\cos\\left(h k_{1}\\right)^{2} - B_{z_{1}} c^{2} k_{1}^{2} {\\left(J_{2}(\\kappa \\rho) - J_{0}(\\kappa \\rho)\\right)}\\right)} \\kappa \\rho\\right)} \\cos\\left(k_{1} z\\right)^{2} + 2 \\, {\\left(2 \\, B_{z_{1}} \\epsilon_{1} \\kappa \\mu_{1} \\omega^{2} J_{0}(\\kappa \\rho) \\cos\\left(h k_{1}\\right) \\sin\\left(h k_{1}\\right) + 2 \\, B_{z_{1}} c^{2} k_{1}^{2} J_{1}(\\kappa \\rho) \\cos\\left(h k_{1}\\right) \\sin\\left(h k_{1}\\right) + 2 \\, B_{z_{1}} c^{2} \\kappa^{2} J_{1}(\\kappa \\rho) \\cos\\left(h k_{1}\\right) \\sin\\left(h k_{1}\\right) - {\\left(B_{z_{1}} c^{2} k_{1}^{2} \\kappa {\\left(J_{2}(\\kappa \\rho) - J_{0}(\\kappa \\rho)\\right)} \\cos\\left(h k_{1}\\right) \\sin\\left(h k_{1}\\right) + B_{z_{1}} c^{2} \\kappa^{3} {\\left(J_{2}(\\kappa \\rho) - J_{0}(\\kappa \\rho)\\right)} \\cos\\left(h k_{1}\\right) \\sin\\left(h k_{1}\\right)\\right)} \\rho\\right)} \\cos\\left(k_{1} z\\right) \\sin\\left(k_{1} z\\right) - {\\left(2 \\, {\\left(2 \\, B_{z_{1}} \\epsilon_{1} J_{0}(\\kappa \\rho) \\cos\\left(h k_{1}\\right)^{2} - B_{z_{1}} \\epsilon_{1} J_{0}(\\kappa \\rho)\\right)} \\kappa \\mu_{1} \\omega^{2} - {\\left(2 \\, B_{z_{1}} c^{2} {\\left(J_{2}(\\kappa \\rho) - J_{0}(\\kappa \\rho)\\right)} \\cos\\left(h k_{1}\\right)^{2} - B_{z_{1}} c^{2} {\\left(J_{2}(\\kappa \\rho) - J_{0}(\\kappa \\rho)\\right)}\\right)} \\kappa^{3} \\rho + 2 \\, {\\left(2 \\, B_{z_{1}} c^{2} J_{1}(\\kappa \\rho) \\cos\\left(h k_{1}\\right)^{2} - B_{z_{1}} c^{2} J_{1}(\\kappa \\rho)\\right)} \\kappa^{2}\\right)} \\sin\\left(k_{1} z\\right)^{2}}{2 \\, {\\left(c^{2} \\kappa^{3} \\rho {\\left(J_{2}(\\kappa \\rho) - J_{0}(\\kappa \\rho)\\right)} \\cos\\left(h k_{1}\\right) \\sin\\left(h k_{1}\\right) - 2 \\, \\epsilon_{1} \\kappa \\mu_{1} \\omega^{2} J_{0}(\\kappa \\rho) \\cos\\left(h k_{1}\\right) \\sin\\left(h k_{1}\\right) - 2 \\, c^{2} \\kappa^{2} J_{1}(\\kappa \\rho) \\cos\\left(h k_{1}\\right) \\sin\\left(h k_{1}\\right)\\right)} \\cos\\left(k_{1} z\\right)^{2} + {\\left(4 \\, c^{2} k_{1}^{2} J_{1}(\\kappa \\rho) \\cos\\left(h k_{1}\\right)^{2} + 2 \\, {\\left(2 \\, \\epsilon_{1} J_{0}(\\kappa \\rho) \\cos\\left(h k_{1}\\right)^{2} - \\epsilon_{1} J_{0}(\\kappa \\rho)\\right)} \\kappa \\mu_{1} \\omega^{2} - 2 \\, c^{2} k_{1}^{2} J_{1}(\\kappa \\rho) + 2 \\, {\\left(2 \\, c^{2} J_{1}(\\kappa \\rho) \\cos\\left(h k_{1}\\right)^{2} - c^{2} J_{1}(\\kappa \\rho)\\right)} \\kappa^{2} - {\\left({\\left(2 \\, c^{2} {\\left(J_{2}(\\kappa \\rho) - J_{0}(\\kappa \\rho)\\right)} \\cos\\left(h k_{1}\\right)^{2} - c^{2} {\\left(J_{2}(\\kappa \\rho) - J_{0}(\\kappa \\rho)\\right)}\\right)} \\kappa^{3} + {\\left(2 \\, c^{2} k_{1}^{2} {\\left(J_{2}(\\kappa \\rho) - J_{0}(\\kappa \\rho)\\right)} \\cos\\left(h k_{1}\\right)^{2} - c^{2} k_{1}^{2} {\\left(J_{2}(\\kappa \\rho) - J_{0}(\\kappa \\rho)\\right)}\\right)} \\kappa\\right)} \\rho\\right)} \\cos\\left(k_{1} z\\right) \\sin\\left(k_{1} z\\right) - 2 \\, {\\left(c^{2} k_{1}^{2} \\kappa \\rho {\\left(J_{2}(\\kappa \\rho) - J_{0}(\\kappa \\rho)\\right)} \\cos\\left(h k_{1}\\right) \\sin\\left(h k_{1}\\right) - 2 \\, c^{2} k_{1}^{2} J_{1}(\\kappa \\rho) \\cos\\left(h k_{1}\\right) \\sin\\left(h k_{1}\\right)\\right)} \\sin\\left(k_{1} z\\right)^{2}}\\right]$$"
      ],
      "text/plain": [
       "<IPython.core.display.Math object>"
      ]
     },
     "execution_count": 71,
     "metadata": {
     },
     "output_type": "execute_result"
    },
    {
     "name": "stdout",
     "output_type": "stream",
     "text": [
      "\n",
      "var =\n"
     ]
    },
    {
     "data": {
      "text/latex": [
       "$$B_{z_{1}}$$"
      ],
      "text/plain": [
       "<IPython.core.display.Math object>"
      ]
     },
     "execution_count": 71,
     "metadata": {
     },
     "output_type": "execute_result"
    },
    {
     "name": "stdout",
     "output_type": "stream",
     "text": [
      "\n"
     ]
    },
    {
     "name": "stdout",
     "output_type": "stream",
     "text": [
      "sol=\n"
     ]
    },
    {
     "data": {
      "text/latex": [
       "$$\\left[B_{z_{1}} = \\frac{2 \\, {\\left(A_{z_{1}} c^{2} \\kappa^{3} \\rho {\\left(J_{2}(\\kappa \\rho) - J_{0}(\\kappa \\rho)\\right)} \\cos\\left(h k_{1}\\right) \\sin\\left(h k_{1}\\right) - 2 \\, A_{z_{1}} \\epsilon_{1} \\kappa \\mu_{1} \\omega^{2} J_{0}(\\kappa \\rho) \\cos\\left(h k_{1}\\right) \\sin\\left(h k_{1}\\right) - 2 \\, A_{z_{1}} c^{2} \\kappa^{2} J_{1}(\\kappa \\rho) \\cos\\left(h k_{1}\\right) \\sin\\left(h k_{1}\\right)\\right)} \\cos\\left(k_{1} z\\right)^{2} + {\\left(4 \\, A_{z_{1}} c^{2} k_{1}^{2} J_{1}(\\kappa \\rho) \\cos\\left(h k_{1}\\right)^{2} - 2 \\, A_{z_{1}} c^{2} k_{1}^{2} J_{1}(\\kappa \\rho) + 2 \\, {\\left(2 \\, A_{z_{1}} \\epsilon_{1} J_{0}(\\kappa \\rho) \\cos\\left(h k_{1}\\right)^{2} - A_{z_{1}} \\epsilon_{1} J_{0}(\\kappa \\rho)\\right)} \\kappa \\mu_{1} \\omega^{2} + 2 \\, {\\left(2 \\, A_{z_{1}} c^{2} J_{1}(\\kappa \\rho) \\cos\\left(h k_{1}\\right)^{2} - A_{z_{1}} c^{2} J_{1}(\\kappa \\rho)\\right)} \\kappa^{2} - {\\left({\\left(2 \\, A_{z_{1}} c^{2} {\\left(J_{2}(\\kappa \\rho) - J_{0}(\\kappa \\rho)\\right)} \\cos\\left(h k_{1}\\right)^{2} - A_{z_{1}} c^{2} {\\left(J_{2}(\\kappa \\rho) - J_{0}(\\kappa \\rho)\\right)}\\right)} \\kappa^{3} + {\\left(2 \\, A_{z_{1}} c^{2} k_{1}^{2} {\\left(J_{2}(\\kappa \\rho) - J_{0}(\\kappa \\rho)\\right)} \\cos\\left(h k_{1}\\right)^{2} - A_{z_{1}} c^{2} k_{1}^{2} {\\left(J_{2}(\\kappa \\rho) - J_{0}(\\kappa \\rho)\\right)}\\right)} \\kappa\\right)} \\rho\\right)} \\cos\\left(k_{1} z\\right) \\sin\\left(k_{1} z\\right) - 2 \\, {\\left(A_{z_{1}} c^{2} k_{1}^{2} \\kappa \\rho {\\left(J_{2}(\\kappa \\rho) - J_{0}(\\kappa \\rho)\\right)} \\cos\\left(h k_{1}\\right) \\sin\\left(h k_{1}\\right) - 2 \\, A_{z_{1}} c^{2} k_{1}^{2} J_{1}(\\kappa \\rho) \\cos\\left(h k_{1}\\right) \\sin\\left(h k_{1}\\right)\\right)} \\sin\\left(k_{1} z\\right)^{2}}{{\\left(4 \\, c^{2} k_{1}^{2} J_{1}(\\kappa \\rho) \\cos\\left(h k_{1}\\right)^{2} - 2 \\, c^{2} k_{1}^{2} J_{1}(\\kappa \\rho) - {\\left(2 \\, c^{2} k_{1}^{2} {\\left(J_{2}(\\kappa \\rho) - J_{0}(\\kappa \\rho)\\right)} \\cos\\left(h k_{1}\\right)^{2} - c^{2} k_{1}^{2} {\\left(J_{2}(\\kappa \\rho) - J_{0}(\\kappa \\rho)\\right)}\\right)} \\kappa \\rho\\right)} \\cos\\left(k_{1} z\\right)^{2} + 2 \\, {\\left(2 \\, \\epsilon_{1} \\kappa \\mu_{1} \\omega^{2} J_{0}(\\kappa \\rho) \\cos\\left(h k_{1}\\right) \\sin\\left(h k_{1}\\right) + 2 \\, c^{2} k_{1}^{2} J_{1}(\\kappa \\rho) \\cos\\left(h k_{1}\\right) \\sin\\left(h k_{1}\\right) + 2 \\, c^{2} \\kappa^{2} J_{1}(\\kappa \\rho) \\cos\\left(h k_{1}\\right) \\sin\\left(h k_{1}\\right) - {\\left(c^{2} k_{1}^{2} \\kappa {\\left(J_{2}(\\kappa \\rho) - J_{0}(\\kappa \\rho)\\right)} \\cos\\left(h k_{1}\\right) \\sin\\left(h k_{1}\\right) + c^{2} \\kappa^{3} {\\left(J_{2}(\\kappa \\rho) - J_{0}(\\kappa \\rho)\\right)} \\cos\\left(h k_{1}\\right) \\sin\\left(h k_{1}\\right)\\right)} \\rho\\right)} \\cos\\left(k_{1} z\\right) \\sin\\left(k_{1} z\\right) - {\\left(2 \\, {\\left(2 \\, \\epsilon_{1} J_{0}(\\kappa \\rho) \\cos\\left(h k_{1}\\right)^{2} - \\epsilon_{1} J_{0}(\\kappa \\rho)\\right)} \\kappa \\mu_{1} \\omega^{2} - {\\left(2 \\, c^{2} {\\left(J_{2}(\\kappa \\rho) - J_{0}(\\kappa \\rho)\\right)} \\cos\\left(h k_{1}\\right)^{2} - c^{2} {\\left(J_{2}(\\kappa \\rho) - J_{0}(\\kappa \\rho)\\right)}\\right)} \\kappa^{3} \\rho + 2 \\, {\\left(2 \\, c^{2} J_{1}(\\kappa \\rho) \\cos\\left(h k_{1}\\right)^{2} - c^{2} J_{1}(\\kappa \\rho)\\right)} \\kappa^{2}\\right)} \\sin\\left(k_{1} z\\right)^{2}}\\right]$$"
      ],
      "text/plain": [
       "<IPython.core.display.Math object>"
      ]
     },
     "execution_count": 71,
     "metadata": {
     },
     "output_type": "execute_result"
    },
    {
     "name": "stdout",
     "output_type": "stream",
     "text": [
      "\n",
      "var =\n"
     ]
    },
    {
     "data": {
      "text/latex": [
       "$$A_{r_{1}}$$"
      ],
      "text/plain": [
       "<IPython.core.display.Math object>"
      ]
     },
     "execution_count": 71,
     "metadata": {
     },
     "output_type": "execute_result"
    },
    {
     "name": "stdout",
     "output_type": "stream",
     "text": [
      "\n"
     ]
    },
    {
     "name": "stdout",
     "output_type": "stream",
     "text": [
      "sol=\n"
     ]
    },
    {
     "data": {
      "text/latex": [
       "$$\\left[\\right]$$"
      ],
      "text/plain": [
       "<IPython.core.display.Math object>"
      ]
     },
     "execution_count": 71,
     "metadata": {
     },
     "output_type": "execute_result"
    },
    {
     "name": "stdout",
     "output_type": "stream",
     "text": [
      "\n",
      "var =\n"
     ]
    },
    {
     "data": {
      "text/latex": [
       "$$B_{r_{1}}$$"
      ],
      "text/plain": [
       "<IPython.core.display.Math object>"
      ]
     },
     "execution_count": 71,
     "metadata": {
     },
     "output_type": "execute_result"
    },
    {
     "name": "stdout",
     "output_type": "stream",
     "text": [
      "\n"
     ]
    },
    {
     "name": "stdout",
     "output_type": "stream",
     "text": [
      "sol=\n"
     ]
    },
    {
     "data": {
      "text/latex": [
       "$$\\left[\\right]$$"
      ],
      "text/plain": [
       "<IPython.core.display.Math object>"
      ]
     },
     "execution_count": 71,
     "metadata": {
     },
     "output_type": "execute_result"
    },
    {
     "name": "stdout",
     "output_type": "stream",
     "text": [
      "\n",
      "var =\n"
     ]
    },
    {
     "data": {
      "text/latex": [
       "$$B_{r_{1}}$$"
      ],
      "text/plain": [
       "<IPython.core.display.Math object>"
      ]
     },
     "execution_count": 71,
     "metadata": {
     },
     "output_type": "execute_result"
    },
    {
     "name": "stdout",
     "output_type": "stream",
     "text": [
      "sol_tg_kappa_x_coeff=\n"
     ]
    },
    {
     "data": {
      "text/latex": [
       "$$\\left[B_{r_{1}} = r_{1}\\right]$$"
      ],
      "text/plain": [
       "<IPython.core.display.Math object>"
      ]
     },
     "execution_count": 71,
     "metadata": {
     },
     "output_type": "execute_result"
    },
    {
     "name": "stdout",
     "output_type": "stream",
     "text": [
      "eq4 =\n"
     ]
    },
    {
     "data": {
      "text/latex": [
       "$$-\\frac{{\\left(4 \\, A_{z_{1}} \\epsilon_{1} \\kappa \\mu_{1} \\omega^{2} J_{0}(\\kappa \\rho) \\cos\\left(h k_{1}\\right) \\sin\\left(h k_{1}\\right) + 4 \\, B_{z_{1}} c^{2} k_{1}^{2} J_{1}(\\kappa \\rho) \\cos\\left(h k_{1}\\right)^{2} + 4 \\, A_{z_{1}} c^{2} \\kappa^{2} J_{1}(\\kappa \\rho) \\cos\\left(h k_{1}\\right) \\sin\\left(h k_{1}\\right) - 2 \\, B_{z_{1}} c^{2} k_{1}^{2} J_{1}(\\kappa \\rho) - {\\left(2 \\, A_{z_{1}} c^{2} \\kappa^{3} {\\left(J_{2}(\\kappa \\rho) - J_{0}(\\kappa \\rho)\\right)} \\cos\\left(h k_{1}\\right) \\sin\\left(h k_{1}\\right) + {\\left(2 \\, B_{z_{1}} c^{2} k_{1}^{2} {\\left(J_{2}(\\kappa \\rho) - J_{0}(\\kappa \\rho)\\right)} \\cos\\left(h k_{1}\\right)^{2} - B_{z_{1}} c^{2} k_{1}^{2} {\\left(J_{2}(\\kappa \\rho) - J_{0}(\\kappa \\rho)\\right)}\\right)} \\kappa\\right)} \\rho\\right)} \\cos\\left(k_{1} z\\right)^{2} - {\\left(4 \\, A_{z_{1}} c^{2} k_{1}^{2} J_{1}(\\kappa \\rho) \\cos\\left(h k_{1}\\right)^{2} - 4 \\, B_{z_{1}} c^{2} k_{1}^{2} J_{1}(\\kappa \\rho) \\cos\\left(h k_{1}\\right) \\sin\\left(h k_{1}\\right) - 2 \\, A_{z_{1}} c^{2} k_{1}^{2} J_{1}(\\kappa \\rho) + 2 \\, {\\left(2 \\, A_{z_{1}} \\epsilon_{1} J_{0}(\\kappa \\rho) \\cos\\left(h k_{1}\\right)^{2} - 2 \\, B_{z_{1}} \\epsilon_{1} J_{0}(\\kappa \\rho) \\cos\\left(h k_{1}\\right) \\sin\\left(h k_{1}\\right) - A_{z_{1}} \\epsilon_{1} J_{0}(\\kappa \\rho)\\right)} \\kappa \\mu_{1} \\omega^{2} + 2 \\, {\\left(2 \\, A_{z_{1}} c^{2} J_{1}(\\kappa \\rho) \\cos\\left(h k_{1}\\right)^{2} - 2 \\, B_{z_{1}} c^{2} J_{1}(\\kappa \\rho) \\cos\\left(h k_{1}\\right) \\sin\\left(h k_{1}\\right) - A_{z_{1}} c^{2} J_{1}(\\kappa \\rho)\\right)} \\kappa^{2} - {\\left({\\left(2 \\, A_{z_{1}} c^{2} {\\left(J_{2}(\\kappa \\rho) - J_{0}(\\kappa \\rho)\\right)} \\cos\\left(h k_{1}\\right)^{2} - 2 \\, B_{z_{1}} c^{2} {\\left(J_{2}(\\kappa \\rho) - J_{0}(\\kappa \\rho)\\right)} \\cos\\left(h k_{1}\\right) \\sin\\left(h k_{1}\\right) - A_{z_{1}} c^{2} {\\left(J_{2}(\\kappa \\rho) - J_{0}(\\kappa \\rho)\\right)}\\right)} \\kappa^{3} + {\\left(2 \\, A_{z_{1}} c^{2} k_{1}^{2} {\\left(J_{2}(\\kappa \\rho) - J_{0}(\\kappa \\rho)\\right)} \\cos\\left(h k_{1}\\right)^{2} - 2 \\, B_{z_{1}} c^{2} k_{1}^{2} {\\left(J_{2}(\\kappa \\rho) - J_{0}(\\kappa \\rho)\\right)} \\cos\\left(h k_{1}\\right) \\sin\\left(h k_{1}\\right) - A_{z_{1}} c^{2} k_{1}^{2} {\\left(J_{2}(\\kappa \\rho) - J_{0}(\\kappa \\rho)\\right)}\\right)} \\kappa\\right)} \\rho\\right)} \\cos\\left(k_{1} z\\right) \\sin\\left(k_{1} z\\right) - {\\left(4 \\, A_{z_{1}} c^{2} k_{1}^{2} J_{1}(\\kappa \\rho) \\cos\\left(h k_{1}\\right) \\sin\\left(h k_{1}\\right) + 2 \\, {\\left(2 \\, B_{z_{1}} \\epsilon_{1} J_{0}(\\kappa \\rho) \\cos\\left(h k_{1}\\right)^{2} - B_{z_{1}} \\epsilon_{1} J_{0}(\\kappa \\rho)\\right)} \\kappa \\mu_{1} \\omega^{2} + 2 \\, {\\left(2 \\, B_{z_{1}} c^{2} J_{1}(\\kappa \\rho) \\cos\\left(h k_{1}\\right)^{2} - B_{z_{1}} c^{2} J_{1}(\\kappa \\rho)\\right)} \\kappa^{2} - {\\left(2 \\, A_{z_{1}} c^{2} k_{1}^{2} \\kappa {\\left(J_{2}(\\kappa \\rho) - J_{0}(\\kappa \\rho)\\right)} \\cos\\left(h k_{1}\\right) \\sin\\left(h k_{1}\\right) + {\\left(2 \\, B_{z_{1}} c^{2} {\\left(J_{2}(\\kappa \\rho) - J_{0}(\\kappa \\rho)\\right)} \\cos\\left(h k_{1}\\right)^{2} - B_{z_{1}} c^{2} {\\left(J_{2}(\\kappa \\rho) - J_{0}(\\kappa \\rho)\\right)}\\right)} \\kappa^{3}\\right)} \\rho\\right)} \\sin\\left(k_{1} z\\right)^{2}}{2 \\, {\\left(2 \\, c^{2} \\kappa \\mu_{1} \\cos\\left(h k_{1}\\right) \\cos\\left(k_{1} z\\right) \\sin\\left(h k_{1}\\right) - {\\left(2 \\, c^{2} \\cos\\left(h k_{1}\\right)^{2} - c^{2}\\right)} \\kappa \\mu_{1} \\sin\\left(k_{1} z\\right)\\right)}} = 0$$"
      ],
      "text/plain": [
       "<IPython.core.display.Math object>"
      ]
     },
     "execution_count": 71,
     "metadata": {
     },
     "output_type": "execute_result"
    },
    {
     "name": "stdout",
     "output_type": "stream",
     "text": [
      "eq4 =\n"
     ]
    },
    {
     "data": {
      "text/latex": [
       "$$-\\frac{{\\left(4 \\, A_{z_{1}} \\epsilon_{1} \\kappa \\mu_{1} \\omega^{2} J_{0}(\\kappa \\rho) \\cos\\left(h k_{1}\\right) \\sin\\left(h k_{1}\\right) + 4 \\, B_{z_{1}} c^{2} k_{1}^{2} J_{1}(\\kappa \\rho) \\cos\\left(h k_{1}\\right)^{2} + 4 \\, A_{z_{1}} c^{2} \\kappa^{2} J_{1}(\\kappa \\rho) \\cos\\left(h k_{1}\\right) \\sin\\left(h k_{1}\\right) - 2 \\, B_{z_{1}} c^{2} k_{1}^{2} J_{1}(\\kappa \\rho) - {\\left(2 \\, A_{z_{1}} c^{2} \\kappa^{3} {\\left(J_{2}(\\kappa \\rho) - J_{0}(\\kappa \\rho)\\right)} \\cos\\left(h k_{1}\\right) \\sin\\left(h k_{1}\\right) + {\\left(2 \\, B_{z_{1}} c^{2} k_{1}^{2} {\\left(J_{2}(\\kappa \\rho) - J_{0}(\\kappa \\rho)\\right)} \\cos\\left(h k_{1}\\right)^{2} - B_{z_{1}} c^{2} k_{1}^{2} {\\left(J_{2}(\\kappa \\rho) - J_{0}(\\kappa \\rho)\\right)}\\right)} \\kappa\\right)} \\rho\\right)} \\cos\\left(k_{1} z\\right)^{2} - {\\left(4 \\, A_{z_{1}} c^{2} k_{1}^{2} J_{1}(\\kappa \\rho) \\cos\\left(h k_{1}\\right)^{2} - 4 \\, B_{z_{1}} c^{2} k_{1}^{2} J_{1}(\\kappa \\rho) \\cos\\left(h k_{1}\\right) \\sin\\left(h k_{1}\\right) - 2 \\, A_{z_{1}} c^{2} k_{1}^{2} J_{1}(\\kappa \\rho) + 2 \\, {\\left(2 \\, A_{z_{1}} \\epsilon_{1} J_{0}(\\kappa \\rho) \\cos\\left(h k_{1}\\right)^{2} - 2 \\, B_{z_{1}} \\epsilon_{1} J_{0}(\\kappa \\rho) \\cos\\left(h k_{1}\\right) \\sin\\left(h k_{1}\\right) - A_{z_{1}} \\epsilon_{1} J_{0}(\\kappa \\rho)\\right)} \\kappa \\mu_{1} \\omega^{2} + 2 \\, {\\left(2 \\, A_{z_{1}} c^{2} J_{1}(\\kappa \\rho) \\cos\\left(h k_{1}\\right)^{2} - 2 \\, B_{z_{1}} c^{2} J_{1}(\\kappa \\rho) \\cos\\left(h k_{1}\\right) \\sin\\left(h k_{1}\\right) - A_{z_{1}} c^{2} J_{1}(\\kappa \\rho)\\right)} \\kappa^{2} - {\\left({\\left(2 \\, A_{z_{1}} c^{2} {\\left(J_{2}(\\kappa \\rho) - J_{0}(\\kappa \\rho)\\right)} \\cos\\left(h k_{1}\\right)^{2} - 2 \\, B_{z_{1}} c^{2} {\\left(J_{2}(\\kappa \\rho) - J_{0}(\\kappa \\rho)\\right)} \\cos\\left(h k_{1}\\right) \\sin\\left(h k_{1}\\right) - A_{z_{1}} c^{2} {\\left(J_{2}(\\kappa \\rho) - J_{0}(\\kappa \\rho)\\right)}\\right)} \\kappa^{3} + {\\left(2 \\, A_{z_{1}} c^{2} k_{1}^{2} {\\left(J_{2}(\\kappa \\rho) - J_{0}(\\kappa \\rho)\\right)} \\cos\\left(h k_{1}\\right)^{2} - 2 \\, B_{z_{1}} c^{2} k_{1}^{2} {\\left(J_{2}(\\kappa \\rho) - J_{0}(\\kappa \\rho)\\right)} \\cos\\left(h k_{1}\\right) \\sin\\left(h k_{1}\\right) - A_{z_{1}} c^{2} k_{1}^{2} {\\left(J_{2}(\\kappa \\rho) - J_{0}(\\kappa \\rho)\\right)}\\right)} \\kappa\\right)} \\rho\\right)} \\cos\\left(k_{1} z\\right) \\sin\\left(k_{1} z\\right) - {\\left(4 \\, A_{z_{1}} c^{2} k_{1}^{2} J_{1}(\\kappa \\rho) \\cos\\left(h k_{1}\\right) \\sin\\left(h k_{1}\\right) + 2 \\, {\\left(2 \\, B_{z_{1}} \\epsilon_{1} J_{0}(\\kappa \\rho) \\cos\\left(h k_{1}\\right)^{2} - B_{z_{1}} \\epsilon_{1} J_{0}(\\kappa \\rho)\\right)} \\kappa \\mu_{1} \\omega^{2} + 2 \\, {\\left(2 \\, B_{z_{1}} c^{2} J_{1}(\\kappa \\rho) \\cos\\left(h k_{1}\\right)^{2} - B_{z_{1}} c^{2} J_{1}(\\kappa \\rho)\\right)} \\kappa^{2} - {\\left(2 \\, A_{z_{1}} c^{2} k_{1}^{2} \\kappa {\\left(J_{2}(\\kappa \\rho) - J_{0}(\\kappa \\rho)\\right)} \\cos\\left(h k_{1}\\right) \\sin\\left(h k_{1}\\right) + {\\left(2 \\, B_{z_{1}} c^{2} {\\left(J_{2}(\\kappa \\rho) - J_{0}(\\kappa \\rho)\\right)} \\cos\\left(h k_{1}\\right)^{2} - B_{z_{1}} c^{2} {\\left(J_{2}(\\kappa \\rho) - J_{0}(\\kappa \\rho)\\right)}\\right)} \\kappa^{3}\\right)} \\rho\\right)} \\sin\\left(k_{1} z\\right)^{2}}{2 \\, {\\left(2 \\, c^{2} \\kappa \\mu_{1} \\cos\\left(h k_{1}\\right) \\cos\\left(k_{1} z\\right) \\sin\\left(h k_{1}\\right) - {\\left(2 \\, c^{2} \\cos\\left(h k_{1}\\right)^{2} - c^{2}\\right)} \\kappa \\mu_{1} \\sin\\left(k_{1} z\\right)\\right)}} = 0$$"
      ],
      "text/plain": [
       "<IPython.core.display.Math object>"
      ]
     },
     "execution_count": 71,
     "metadata": {
     },
     "output_type": "execute_result"
    },
    {
     "name": "stdout",
     "output_type": "stream",
     "text": [
      "var =\n"
     ]
    },
    {
     "data": {
      "text/latex": [
       "$$A_{z_{1}}$$"
      ],
      "text/plain": [
       "<IPython.core.display.Math object>"
      ]
     },
     "execution_count": 71,
     "metadata": {
     },
     "output_type": "execute_result"
    },
    {
     "name": "stdout",
     "output_type": "stream",
     "text": [
      "\n"
     ]
    },
    {
     "name": "stdout",
     "output_type": "stream",
     "text": [
      "sol=\n"
     ]
    },
    {
     "data": {
      "text/latex": [
       "$$\\left[A_{z_{1}} = \\frac{{\\left(4 \\, B_{z_{1}} c^{2} k_{1}^{2} J_{1}(\\kappa \\rho) \\cos\\left(h k_{1}\\right)^{2} - 2 \\, B_{z_{1}} c^{2} k_{1}^{2} J_{1}(\\kappa \\rho) - {\\left(2 \\, B_{z_{1}} c^{2} k_{1}^{2} {\\left(J_{2}(\\kappa \\rho) - J_{0}(\\kappa \\rho)\\right)} \\cos\\left(h k_{1}\\right)^{2} - B_{z_{1}} c^{2} k_{1}^{2} {\\left(J_{2}(\\kappa \\rho) - J_{0}(\\kappa \\rho)\\right)}\\right)} \\kappa \\rho\\right)} \\cos\\left(k_{1} z\\right)^{2} + 2 \\, {\\left(2 \\, B_{z_{1}} \\epsilon_{1} \\kappa \\mu_{1} \\omega^{2} J_{0}(\\kappa \\rho) \\cos\\left(h k_{1}\\right) \\sin\\left(h k_{1}\\right) + 2 \\, B_{z_{1}} c^{2} k_{1}^{2} J_{1}(\\kappa \\rho) \\cos\\left(h k_{1}\\right) \\sin\\left(h k_{1}\\right) + 2 \\, B_{z_{1}} c^{2} \\kappa^{2} J_{1}(\\kappa \\rho) \\cos\\left(h k_{1}\\right) \\sin\\left(h k_{1}\\right) - {\\left(B_{z_{1}} c^{2} k_{1}^{2} \\kappa {\\left(J_{2}(\\kappa \\rho) - J_{0}(\\kappa \\rho)\\right)} \\cos\\left(h k_{1}\\right) \\sin\\left(h k_{1}\\right) + B_{z_{1}} c^{2} \\kappa^{3} {\\left(J_{2}(\\kappa \\rho) - J_{0}(\\kappa \\rho)\\right)} \\cos\\left(h k_{1}\\right) \\sin\\left(h k_{1}\\right)\\right)} \\rho\\right)} \\cos\\left(k_{1} z\\right) \\sin\\left(k_{1} z\\right) - {\\left(2 \\, {\\left(2 \\, B_{z_{1}} \\epsilon_{1} J_{0}(\\kappa \\rho) \\cos\\left(h k_{1}\\right)^{2} - B_{z_{1}} \\epsilon_{1} J_{0}(\\kappa \\rho)\\right)} \\kappa \\mu_{1} \\omega^{2} - {\\left(2 \\, B_{z_{1}} c^{2} {\\left(J_{2}(\\kappa \\rho) - J_{0}(\\kappa \\rho)\\right)} \\cos\\left(h k_{1}\\right)^{2} - B_{z_{1}} c^{2} {\\left(J_{2}(\\kappa \\rho) - J_{0}(\\kappa \\rho)\\right)}\\right)} \\kappa^{3} \\rho + 2 \\, {\\left(2 \\, B_{z_{1}} c^{2} J_{1}(\\kappa \\rho) \\cos\\left(h k_{1}\\right)^{2} - B_{z_{1}} c^{2} J_{1}(\\kappa \\rho)\\right)} \\kappa^{2}\\right)} \\sin\\left(k_{1} z\\right)^{2}}{2 \\, {\\left(c^{2} \\kappa^{3} \\rho {\\left(J_{2}(\\kappa \\rho) - J_{0}(\\kappa \\rho)\\right)} \\cos\\left(h k_{1}\\right) \\sin\\left(h k_{1}\\right) - 2 \\, \\epsilon_{1} \\kappa \\mu_{1} \\omega^{2} J_{0}(\\kappa \\rho) \\cos\\left(h k_{1}\\right) \\sin\\left(h k_{1}\\right) - 2 \\, c^{2} \\kappa^{2} J_{1}(\\kappa \\rho) \\cos\\left(h k_{1}\\right) \\sin\\left(h k_{1}\\right)\\right)} \\cos\\left(k_{1} z\\right)^{2} + {\\left(4 \\, c^{2} k_{1}^{2} J_{1}(\\kappa \\rho) \\cos\\left(h k_{1}\\right)^{2} + 2 \\, {\\left(2 \\, \\epsilon_{1} J_{0}(\\kappa \\rho) \\cos\\left(h k_{1}\\right)^{2} - \\epsilon_{1} J_{0}(\\kappa \\rho)\\right)} \\kappa \\mu_{1} \\omega^{2} - 2 \\, c^{2} k_{1}^{2} J_{1}(\\kappa \\rho) + 2 \\, {\\left(2 \\, c^{2} J_{1}(\\kappa \\rho) \\cos\\left(h k_{1}\\right)^{2} - c^{2} J_{1}(\\kappa \\rho)\\right)} \\kappa^{2} - {\\left({\\left(2 \\, c^{2} {\\left(J_{2}(\\kappa \\rho) - J_{0}(\\kappa \\rho)\\right)} \\cos\\left(h k_{1}\\right)^{2} - c^{2} {\\left(J_{2}(\\kappa \\rho) - J_{0}(\\kappa \\rho)\\right)}\\right)} \\kappa^{3} + {\\left(2 \\, c^{2} k_{1}^{2} {\\left(J_{2}(\\kappa \\rho) - J_{0}(\\kappa \\rho)\\right)} \\cos\\left(h k_{1}\\right)^{2} - c^{2} k_{1}^{2} {\\left(J_{2}(\\kappa \\rho) - J_{0}(\\kappa \\rho)\\right)}\\right)} \\kappa\\right)} \\rho\\right)} \\cos\\left(k_{1} z\\right) \\sin\\left(k_{1} z\\right) - 2 \\, {\\left(c^{2} k_{1}^{2} \\kappa \\rho {\\left(J_{2}(\\kappa \\rho) - J_{0}(\\kappa \\rho)\\right)} \\cos\\left(h k_{1}\\right) \\sin\\left(h k_{1}\\right) - 2 \\, c^{2} k_{1}^{2} J_{1}(\\kappa \\rho) \\cos\\left(h k_{1}\\right) \\sin\\left(h k_{1}\\right)\\right)} \\sin\\left(k_{1} z\\right)^{2}}\\right]$$"
      ],
      "text/plain": [
       "<IPython.core.display.Math object>"
      ]
     },
     "execution_count": 71,
     "metadata": {
     },
     "output_type": "execute_result"
    },
    {
     "name": "stdout",
     "output_type": "stream",
     "text": [
      "\n",
      "var =\n"
     ]
    },
    {
     "data": {
      "text/latex": [
       "$$B_{z_{1}}$$"
      ],
      "text/plain": [
       "<IPython.core.display.Math object>"
      ]
     },
     "execution_count": 71,
     "metadata": {
     },
     "output_type": "execute_result"
    },
    {
     "name": "stdout",
     "output_type": "stream",
     "text": [
      "\n"
     ]
    },
    {
     "name": "stdout",
     "output_type": "stream",
     "text": [
      "sol=\n"
     ]
    },
    {
     "data": {
      "text/latex": [
       "$$\\left[B_{z_{1}} = \\frac{2 \\, {\\left(A_{z_{1}} c^{2} \\kappa^{3} \\rho {\\left(J_{2}(\\kappa \\rho) - J_{0}(\\kappa \\rho)\\right)} \\cos\\left(h k_{1}\\right) \\sin\\left(h k_{1}\\right) - 2 \\, A_{z_{1}} \\epsilon_{1} \\kappa \\mu_{1} \\omega^{2} J_{0}(\\kappa \\rho) \\cos\\left(h k_{1}\\right) \\sin\\left(h k_{1}\\right) - 2 \\, A_{z_{1}} c^{2} \\kappa^{2} J_{1}(\\kappa \\rho) \\cos\\left(h k_{1}\\right) \\sin\\left(h k_{1}\\right)\\right)} \\cos\\left(k_{1} z\\right)^{2} + {\\left(4 \\, A_{z_{1}} c^{2} k_{1}^{2} J_{1}(\\kappa \\rho) \\cos\\left(h k_{1}\\right)^{2} - 2 \\, A_{z_{1}} c^{2} k_{1}^{2} J_{1}(\\kappa \\rho) + 2 \\, {\\left(2 \\, A_{z_{1}} \\epsilon_{1} J_{0}(\\kappa \\rho) \\cos\\left(h k_{1}\\right)^{2} - A_{z_{1}} \\epsilon_{1} J_{0}(\\kappa \\rho)\\right)} \\kappa \\mu_{1} \\omega^{2} + 2 \\, {\\left(2 \\, A_{z_{1}} c^{2} J_{1}(\\kappa \\rho) \\cos\\left(h k_{1}\\right)^{2} - A_{z_{1}} c^{2} J_{1}(\\kappa \\rho)\\right)} \\kappa^{2} - {\\left({\\left(2 \\, A_{z_{1}} c^{2} {\\left(J_{2}(\\kappa \\rho) - J_{0}(\\kappa \\rho)\\right)} \\cos\\left(h k_{1}\\right)^{2} - A_{z_{1}} c^{2} {\\left(J_{2}(\\kappa \\rho) - J_{0}(\\kappa \\rho)\\right)}\\right)} \\kappa^{3} + {\\left(2 \\, A_{z_{1}} c^{2} k_{1}^{2} {\\left(J_{2}(\\kappa \\rho) - J_{0}(\\kappa \\rho)\\right)} \\cos\\left(h k_{1}\\right)^{2} - A_{z_{1}} c^{2} k_{1}^{2} {\\left(J_{2}(\\kappa \\rho) - J_{0}(\\kappa \\rho)\\right)}\\right)} \\kappa\\right)} \\rho\\right)} \\cos\\left(k_{1} z\\right) \\sin\\left(k_{1} z\\right) - 2 \\, {\\left(A_{z_{1}} c^{2} k_{1}^{2} \\kappa \\rho {\\left(J_{2}(\\kappa \\rho) - J_{0}(\\kappa \\rho)\\right)} \\cos\\left(h k_{1}\\right) \\sin\\left(h k_{1}\\right) - 2 \\, A_{z_{1}} c^{2} k_{1}^{2} J_{1}(\\kappa \\rho) \\cos\\left(h k_{1}\\right) \\sin\\left(h k_{1}\\right)\\right)} \\sin\\left(k_{1} z\\right)^{2}}{{\\left(4 \\, c^{2} k_{1}^{2} J_{1}(\\kappa \\rho) \\cos\\left(h k_{1}\\right)^{2} - 2 \\, c^{2} k_{1}^{2} J_{1}(\\kappa \\rho) - {\\left(2 \\, c^{2} k_{1}^{2} {\\left(J_{2}(\\kappa \\rho) - J_{0}(\\kappa \\rho)\\right)} \\cos\\left(h k_{1}\\right)^{2} - c^{2} k_{1}^{2} {\\left(J_{2}(\\kappa \\rho) - J_{0}(\\kappa \\rho)\\right)}\\right)} \\kappa \\rho\\right)} \\cos\\left(k_{1} z\\right)^{2} + 2 \\, {\\left(2 \\, \\epsilon_{1} \\kappa \\mu_{1} \\omega^{2} J_{0}(\\kappa \\rho) \\cos\\left(h k_{1}\\right) \\sin\\left(h k_{1}\\right) + 2 \\, c^{2} k_{1}^{2} J_{1}(\\kappa \\rho) \\cos\\left(h k_{1}\\right) \\sin\\left(h k_{1}\\right) + 2 \\, c^{2} \\kappa^{2} J_{1}(\\kappa \\rho) \\cos\\left(h k_{1}\\right) \\sin\\left(h k_{1}\\right) - {\\left(c^{2} k_{1}^{2} \\kappa {\\left(J_{2}(\\kappa \\rho) - J_{0}(\\kappa \\rho)\\right)} \\cos\\left(h k_{1}\\right) \\sin\\left(h k_{1}\\right) + c^{2} \\kappa^{3} {\\left(J_{2}(\\kappa \\rho) - J_{0}(\\kappa \\rho)\\right)} \\cos\\left(h k_{1}\\right) \\sin\\left(h k_{1}\\right)\\right)} \\rho\\right)} \\cos\\left(k_{1} z\\right) \\sin\\left(k_{1} z\\right) - {\\left(2 \\, {\\left(2 \\, \\epsilon_{1} J_{0}(\\kappa \\rho) \\cos\\left(h k_{1}\\right)^{2} - \\epsilon_{1} J_{0}(\\kappa \\rho)\\right)} \\kappa \\mu_{1} \\omega^{2} - {\\left(2 \\, c^{2} {\\left(J_{2}(\\kappa \\rho) - J_{0}(\\kappa \\rho)\\right)} \\cos\\left(h k_{1}\\right)^{2} - c^{2} {\\left(J_{2}(\\kappa \\rho) - J_{0}(\\kappa \\rho)\\right)}\\right)} \\kappa^{3} \\rho + 2 \\, {\\left(2 \\, c^{2} J_{1}(\\kappa \\rho) \\cos\\left(h k_{1}\\right)^{2} - c^{2} J_{1}(\\kappa \\rho)\\right)} \\kappa^{2}\\right)} \\sin\\left(k_{1} z\\right)^{2}}\\right]$$"
      ],
      "text/plain": [
       "<IPython.core.display.Math object>"
      ]
     },
     "execution_count": 71,
     "metadata": {
     },
     "output_type": "execute_result"
    },
    {
     "name": "stdout",
     "output_type": "stream",
     "text": [
      "\n",
      "var =\n"
     ]
    },
    {
     "data": {
      "text/latex": [
       "$$A_{r_{1}}$$"
      ],
      "text/plain": [
       "<IPython.core.display.Math object>"
      ]
     },
     "execution_count": 71,
     "metadata": {
     },
     "output_type": "execute_result"
    },
    {
     "name": "stdout",
     "output_type": "stream",
     "text": [
      "\n",
      "sol=\n"
     ]
    },
    {
     "data": {
      "text/latex": [
       "$$\\left[\\right]$$"
      ],
      "text/plain": [
       "<IPython.core.display.Math object>"
      ]
     },
     "execution_count": 71,
     "metadata": {
     },
     "output_type": "execute_result"
    },
    {
     "name": "stdout",
     "output_type": "stream",
     "text": [
      "\n",
      "var =\n"
     ]
    },
    {
     "data": {
      "text/latex": [
       "$$B_{r_{1}}$$"
      ],
      "text/plain": [
       "<IPython.core.display.Math object>"
      ]
     },
     "execution_count": 71,
     "metadata": {
     },
     "output_type": "execute_result"
    },
    {
     "name": "stdout",
     "output_type": "stream",
     "text": [
      "\n",
      "sol=\n"
     ]
    },
    {
     "data": {
      "text/latex": [
       "$$\\left[\\right]$$"
      ],
      "text/plain": [
       "<IPython.core.display.Math object>"
      ]
     },
     "execution_count": 71,
     "metadata": {
     },
     "output_type": "execute_result"
    },
    {
     "name": "stdout",
     "output_type": "stream",
     "text": [
      "\n",
      "row_M =\n"
     ]
    },
    {
     "data": {
      "text/latex": [
       "$$\\left(0,\\,0,\\,0,\\,0\\right)$$"
      ],
      "text/plain": [
       "<IPython.core.display.Math object>"
      ]
     },
     "execution_count": 71,
     "metadata": {
     },
     "output_type": "execute_result"
    },
    {
     "name": "stdout",
     "output_type": "stream",
     "text": [
      "eq =\n"
     ]
    },
    {
     "data": {
      "text/latex": [
       "$$0 = 0$$"
      ],
      "text/plain": [
       "<IPython.core.display.Math object>"
      ]
     },
     "execution_count": 71,
     "metadata": {
     },
     "output_type": "execute_result"
    },
    {
     "name": "stdout",
     "output_type": "stream",
     "text": [
      "\n",
      "eq2 =\n"
     ]
    },
    {
     "data": {
      "text/latex": [
       "$$0 = 0$$"
      ],
      "text/plain": [
       "<IPython.core.display.Math object>"
      ]
     },
     "execution_count": 71,
     "metadata": {
     },
     "output_type": "execute_result"
    },
    {
     "name": "stdout",
     "output_type": "stream",
     "text": [
      "tg_kappa_x_coeff =\n"
     ]
    },
    {
     "data": {
      "text/latex": [
       "$$0$$"
      ],
      "text/plain": [
       "<IPython.core.display.Math object>"
      ]
     },
     "execution_count": 71,
     "metadata": {
     },
     "output_type": "execute_result"
    },
    {
     "name": "stdout",
     "output_type": "stream",
     "text": [
      "var =\n"
     ]
    },
    {
     "data": {
      "text/latex": [
       "$$A_{z_{1}}$$"
      ],
      "text/plain": [
       "<IPython.core.display.Math object>"
      ]
     },
     "execution_count": 71,
     "metadata": {
     },
     "output_type": "execute_result"
    },
    {
     "name": "stdout",
     "output_type": "stream",
     "text": [
      "sol_tg_kappa_x_coeff=\n"
     ]
    },
    {
     "data": {
      "text/latex": [
       "$$\\left[A_{z_{1}} = r_{1}\\right]$$"
      ],
      "text/plain": [
       "<IPython.core.display.Math object>"
      ]
     },
     "execution_count": 71,
     "metadata": {
     },
     "output_type": "execute_result"
    },
    {
     "name": "stdout",
     "output_type": "stream",
     "text": [
      "eq4 =\n"
     ]
    },
    {
     "data": {
      "text/latex": [
       "$$0 = 0$$"
      ],
      "text/plain": [
       "<IPython.core.display.Math object>"
      ]
     },
     "execution_count": 71,
     "metadata": {
     },
     "output_type": "execute_result"
    },
    {
     "name": "stdout",
     "output_type": "stream",
     "text": [
      "eq4 =\n"
     ]
    },
    {
     "data": {
      "text/latex": [
       "$$0 = 0$$"
      ],
      "text/plain": [
       "<IPython.core.display.Math object>"
      ]
     },
     "execution_count": 71,
     "metadata": {
     },
     "output_type": "execute_result"
    },
    {
     "name": "stdout",
     "output_type": "stream",
     "text": [
      "var =\n"
     ]
    },
    {
     "data": {
      "text/latex": [
       "$$A_{z_{1}}$$"
      ],
      "text/plain": [
       "<IPython.core.display.Math object>"
      ]
     },
     "execution_count": 71,
     "metadata": {
     },
     "output_type": "execute_result"
    },
    {
     "name": "stdout",
     "output_type": "stream",
     "text": [
      "\n"
     ]
    },
    {
     "name": "stdout",
     "output_type": "stream",
     "text": [
      "sol=\n"
     ]
    },
    {
     "data": {
      "text/latex": [
       "$$\\left[A_{z_{1}} = r_{1}\\right]$$"
      ],
      "text/plain": [
       "<IPython.core.display.Math object>"
      ]
     },
     "execution_count": 71,
     "metadata": {
     },
     "output_type": "execute_result"
    },
    {
     "name": "stdout",
     "output_type": "stream",
     "text": [
      "\n",
      "var =\n"
     ]
    },
    {
     "data": {
      "text/latex": [
       "$$B_{z_{1}}$$"
      ],
      "text/plain": [
       "<IPython.core.display.Math object>"
      ]
     },
     "execution_count": 71,
     "metadata": {
     },
     "output_type": "execute_result"
    },
    {
     "name": "stdout",
     "output_type": "stream",
     "text": [
      "\n",
      "sol=\n"
     ]
    },
    {
     "data": {
      "text/latex": [
       "$$\\left[B_{z_{1}} = r_{1}\\right]$$"
      ],
      "text/plain": [
       "<IPython.core.display.Math object>"
      ]
     },
     "execution_count": 71,
     "metadata": {
     },
     "output_type": "execute_result"
    },
    {
     "name": "stdout",
     "output_type": "stream",
     "text": [
      "\n",
      "var =\n"
     ]
    },
    {
     "data": {
      "text/latex": [
       "$$A_{r_{1}}$$"
      ],
      "text/plain": [
       "<IPython.core.display.Math object>"
      ]
     },
     "execution_count": 71,
     "metadata": {
     },
     "output_type": "execute_result"
    },
    {
     "name": "stdout",
     "output_type": "stream",
     "text": [
      "\n",
      "sol=\n"
     ]
    },
    {
     "data": {
      "text/latex": [
       "$$\\left[A_{r_{1}} = r_{1}\\right]$$"
      ],
      "text/plain": [
       "<IPython.core.display.Math object>"
      ]
     },
     "execution_count": 71,
     "metadata": {
     },
     "output_type": "execute_result"
    },
    {
     "name": "stdout",
     "output_type": "stream",
     "text": [
      "\n",
      "var =\n"
     ]
    },
    {
     "data": {
      "text/latex": [
       "$$B_{r_{1}}$$"
      ],
      "text/plain": [
       "<IPython.core.display.Math object>"
      ]
     },
     "execution_count": 71,
     "metadata": {
     },
     "output_type": "execute_result"
    },
    {
     "name": "stdout",
     "output_type": "stream",
     "text": [
      "\n",
      "sol=\n"
     ]
    },
    {
     "data": {
      "text/latex": [
       "$$\\left[B_{r_{1}} = r_{1}\\right]$$"
      ],
      "text/plain": [
       "<IPython.core.display.Math object>"
      ]
     },
     "execution_count": 71,
     "metadata": {
     },
     "output_type": "execute_result"
    },
    {
     "name": "stdout",
     "output_type": "stream",
     "text": [
      "\n",
      "var =\n"
     ]
    },
    {
     "data": {
      "text/latex": [
       "$$B_{z_{1}}$$"
      ],
      "text/plain": [
       "<IPython.core.display.Math object>"
      ]
     },
     "execution_count": 71,
     "metadata": {
     },
     "output_type": "execute_result"
    },
    {
     "name": "stdout",
     "output_type": "stream",
     "text": [
      "sol_tg_kappa_x_coeff=\n"
     ]
    },
    {
     "data": {
      "text/latex": [
       "$$\\left[B_{z_{1}} = r_{1}\\right]$$"
      ],
      "text/plain": [
       "<IPython.core.display.Math object>"
      ]
     },
     "execution_count": 71,
     "metadata": {
     },
     "output_type": "execute_result"
    },
    {
     "name": "stdout",
     "output_type": "stream",
     "text": [
      "eq4 =\n"
     ]
    },
    {
     "data": {
      "text/latex": [
       "$$0 = 0$$"
      ],
      "text/plain": [
       "<IPython.core.display.Math object>"
      ]
     },
     "execution_count": 71,
     "metadata": {
     },
     "output_type": "execute_result"
    },
    {
     "name": "stdout",
     "output_type": "stream",
     "text": [
      "eq4 =\n"
     ]
    },
    {
     "data": {
      "text/latex": [
       "$$0 = 0$$"
      ],
      "text/plain": [
       "<IPython.core.display.Math object>"
      ]
     },
     "execution_count": 71,
     "metadata": {
     },
     "output_type": "execute_result"
    },
    {
     "name": "stdout",
     "output_type": "stream",
     "text": [
      "var =\n"
     ]
    },
    {
     "data": {
      "text/latex": [
       "$$A_{z_{1}}$$"
      ],
      "text/plain": [
       "<IPython.core.display.Math object>"
      ]
     },
     "execution_count": 71,
     "metadata": {
     },
     "output_type": "execute_result"
    },
    {
     "name": "stdout",
     "output_type": "stream",
     "text": [
      "\n",
      "sol=\n"
     ]
    },
    {
     "data": {
      "text/latex": [
       "$$\\left[A_{z_{1}} = r_{1}\\right]$$"
      ],
      "text/plain": [
       "<IPython.core.display.Math object>"
      ]
     },
     "execution_count": 71,
     "metadata": {
     },
     "output_type": "execute_result"
    },
    {
     "name": "stdout",
     "output_type": "stream",
     "text": [
      "\n",
      "var =\n"
     ]
    },
    {
     "data": {
      "text/latex": [
       "$$B_{z_{1}}$$"
      ],
      "text/plain": [
       "<IPython.core.display.Math object>"
      ]
     },
     "execution_count": 71,
     "metadata": {
     },
     "output_type": "execute_result"
    },
    {
     "name": "stdout",
     "output_type": "stream",
     "text": [
      "\n",
      "sol=\n"
     ]
    },
    {
     "data": {
      "text/latex": [
       "$$\\left[B_{z_{1}} = r_{1}\\right]$$"
      ],
      "text/plain": [
       "<IPython.core.display.Math object>"
      ]
     },
     "execution_count": 71,
     "metadata": {
     },
     "output_type": "execute_result"
    },
    {
     "name": "stdout",
     "output_type": "stream",
     "text": [
      "\n",
      "var =\n"
     ]
    },
    {
     "data": {
      "text/latex": [
       "$$A_{r_{1}}$$"
      ],
      "text/plain": [
       "<IPython.core.display.Math object>"
      ]
     },
     "execution_count": 71,
     "metadata": {
     },
     "output_type": "execute_result"
    },
    {
     "name": "stdout",
     "output_type": "stream",
     "text": [
      "\n",
      "sol=\n"
     ]
    },
    {
     "data": {
      "text/latex": [
       "$$\\left[A_{r_{1}} = r_{1}\\right]$$"
      ],
      "text/plain": [
       "<IPython.core.display.Math object>"
      ]
     },
     "execution_count": 71,
     "metadata": {
     },
     "output_type": "execute_result"
    },
    {
     "name": "stdout",
     "output_type": "stream",
     "text": [
      "\n",
      "var ="
     ]
    },
    {
     "name": "stdout",
     "output_type": "stream",
     "text": [
      "\n"
     ]
    },
    {
     "data": {
      "text/latex": [
       "$$B_{r_{1}}$$"
      ],
      "text/plain": [
       "<IPython.core.display.Math object>"
      ]
     },
     "execution_count": 71,
     "metadata": {
     },
     "output_type": "execute_result"
    },
    {
     "name": "stdout",
     "output_type": "stream",
     "text": [
      "\n",
      "sol=\n"
     ]
    },
    {
     "data": {
      "text/latex": [
       "$$\\left[B_{r_{1}} = r_{1}\\right]$$"
      ],
      "text/plain": [
       "<IPython.core.display.Math object>"
      ]
     },
     "execution_count": 71,
     "metadata": {
     },
     "output_type": "execute_result"
    },
    {
     "name": "stdout",
     "output_type": "stream",
     "text": [
      "\n",
      "var =\n"
     ]
    },
    {
     "data": {
      "text/latex": [
       "$$A_{r_{1}}$$"
      ],
      "text/plain": [
       "<IPython.core.display.Math object>"
      ]
     },
     "execution_count": 71,
     "metadata": {
     },
     "output_type": "execute_result"
    },
    {
     "name": "stdout",
     "output_type": "stream",
     "text": [
      "sol_tg_kappa_x_coeff=\n"
     ]
    },
    {
     "data": {
      "text/latex": [
       "$$\\left[A_{r_{1}} = r_{1}\\right]$$"
      ],
      "text/plain": [
       "<IPython.core.display.Math object>"
      ]
     },
     "execution_count": 71,
     "metadata": {
     },
     "output_type": "execute_result"
    },
    {
     "name": "stdout",
     "output_type": "stream",
     "text": [
      "eq4 =\n"
     ]
    },
    {
     "data": {
      "text/latex": [
       "$$0 = 0$$"
      ],
      "text/plain": [
       "<IPython.core.display.Math object>"
      ]
     },
     "execution_count": 71,
     "metadata": {
     },
     "output_type": "execute_result"
    },
    {
     "name": "stdout",
     "output_type": "stream",
     "text": [
      "eq4 =\n"
     ]
    },
    {
     "data": {
      "text/latex": [
       "$$0 = 0$$"
      ],
      "text/plain": [
       "<IPython.core.display.Math object>"
      ]
     },
     "execution_count": 71,
     "metadata": {
     },
     "output_type": "execute_result"
    },
    {
     "name": "stdout",
     "output_type": "stream",
     "text": [
      "var =\n"
     ]
    },
    {
     "data": {
      "text/latex": [
       "$$A_{z_{1}}$$"
      ],
      "text/plain": [
       "<IPython.core.display.Math object>"
      ]
     },
     "execution_count": 71,
     "metadata": {
     },
     "output_type": "execute_result"
    },
    {
     "name": "stdout",
     "output_type": "stream",
     "text": [
      "\n",
      "sol=\n"
     ]
    },
    {
     "data": {
      "text/latex": [
       "$$\\left[A_{z_{1}} = r_{1}\\right]$$"
      ],
      "text/plain": [
       "<IPython.core.display.Math object>"
      ]
     },
     "execution_count": 71,
     "metadata": {
     },
     "output_type": "execute_result"
    },
    {
     "name": "stdout",
     "output_type": "stream",
     "text": [
      "\n",
      "var =\n"
     ]
    },
    {
     "data": {
      "text/latex": [
       "$$B_{z_{1}}$$"
      ],
      "text/plain": [
       "<IPython.core.display.Math object>"
      ]
     },
     "execution_count": 71,
     "metadata": {
     },
     "output_type": "execute_result"
    },
    {
     "name": "stdout",
     "output_type": "stream",
     "text": [
      "\n",
      "sol=\n"
     ]
    },
    {
     "data": {
      "text/latex": [
       "$$\\left[B_{z_{1}} = r_{1}\\right]$$"
      ],
      "text/plain": [
       "<IPython.core.display.Math object>"
      ]
     },
     "execution_count": 71,
     "metadata": {
     },
     "output_type": "execute_result"
    },
    {
     "name": "stdout",
     "output_type": "stream",
     "text": [
      "\n",
      "var =\n"
     ]
    },
    {
     "data": {
      "text/latex": [
       "$$A_{r_{1}}$$"
      ],
      "text/plain": [
       "<IPython.core.display.Math object>"
      ]
     },
     "execution_count": 71,
     "metadata": {
     },
     "output_type": "execute_result"
    },
    {
     "name": "stdout",
     "output_type": "stream",
     "text": [
      "\n",
      "sol=\n"
     ]
    },
    {
     "data": {
      "text/latex": [
       "$$\\left[A_{r_{1}} = r_{1}\\right]$$"
      ],
      "text/plain": [
       "<IPython.core.display.Math object>"
      ]
     },
     "execution_count": 71,
     "metadata": {
     },
     "output_type": "execute_result"
    },
    {
     "name": "stdout",
     "output_type": "stream",
     "text": [
      "\n",
      "var =\n"
     ]
    },
    {
     "data": {
      "text/latex": [
       "$$B_{r_{1}}$$"
      ],
      "text/plain": [
       "<IPython.core.display.Math object>"
      ]
     },
     "execution_count": 71,
     "metadata": {
     },
     "output_type": "execute_result"
    },
    {
     "name": "stdout",
     "output_type": "stream",
     "text": [
      "\n",
      "sol=\n"
     ]
    },
    {
     "data": {
      "text/latex": [
       "$$\\left[B_{r_{1}} = r_{1}\\right]$$"
      ],
      "text/plain": [
       "<IPython.core.display.Math object>"
      ]
     },
     "execution_count": 71,
     "metadata": {
     },
     "output_type": "execute_result"
    },
    {
     "name": "stdout",
     "output_type": "stream",
     "text": [
      "\n",
      "var =\n"
     ]
    },
    {
     "data": {
      "text/latex": [
       "$$B_{r_{1}}$$"
      ],
      "text/plain": [
       "<IPython.core.display.Math object>"
      ]
     },
     "execution_count": 71,
     "metadata": {
     },
     "output_type": "execute_result"
    },
    {
     "name": "stdout",
     "output_type": "stream",
     "text": [
      "sol_tg_kappa_x_coeff=\n"
     ]
    },
    {
     "data": {
      "text/latex": [
       "$$\\left[B_{r_{1}} = r_{1}\\right]$$"
      ],
      "text/plain": [
       "<IPython.core.display.Math object>"
      ]
     },
     "execution_count": 71,
     "metadata": {
     },
     "output_type": "execute_result"
    },
    {
     "name": "stdout",
     "output_type": "stream",
     "text": [
      "eq4 =\n"
     ]
    },
    {
     "data": {
      "text/latex": [
       "$$0 = 0$$"
      ],
      "text/plain": [
       "<IPython.core.display.Math object>"
      ]
     },
     "execution_count": 71,
     "metadata": {
     },
     "output_type": "execute_result"
    },
    {
     "name": "stdout",
     "output_type": "stream",
     "text": [
      "eq4 =\n"
     ]
    },
    {
     "data": {
      "text/latex": [
       "$$0 = 0$$"
      ],
      "text/plain": [
       "<IPython.core.display.Math object>"
      ]
     },
     "execution_count": 71,
     "metadata": {
     },
     "output_type": "execute_result"
    },
    {
     "name": "stdout",
     "output_type": "stream",
     "text": [
      "var =\n"
     ]
    },
    {
     "data": {
      "text/latex": [
       "$$A_{z_{1}}$$"
      ],
      "text/plain": [
       "<IPython.core.display.Math object>"
      ]
     },
     "execution_count": 71,
     "metadata": {
     },
     "output_type": "execute_result"
    },
    {
     "name": "stdout",
     "output_type": "stream",
     "text": [
      "\n"
     ]
    },
    {
     "name": "stdout",
     "output_type": "stream",
     "text": [
      "sol=\n"
     ]
    },
    {
     "data": {
      "text/latex": [
       "$$\\left[A_{z_{1}} = r_{1}\\right]$$"
      ],
      "text/plain": [
       "<IPython.core.display.Math object>"
      ]
     },
     "execution_count": 71,
     "metadata": {
     },
     "output_type": "execute_result"
    },
    {
     "name": "stdout",
     "output_type": "stream",
     "text": [
      "\n",
      "var =\n"
     ]
    },
    {
     "data": {
      "text/latex": [
       "$$B_{z_{1}}$$"
      ],
      "text/plain": [
       "<IPython.core.display.Math object>"
      ]
     },
     "execution_count": 71,
     "metadata": {
     },
     "output_type": "execute_result"
    },
    {
     "name": "stdout",
     "output_type": "stream",
     "text": [
      "\n",
      "sol=\n"
     ]
    },
    {
     "data": {
      "text/latex": [
       "$$\\left[B_{z_{1}} = r_{1}\\right]$$"
      ],
      "text/plain": [
       "<IPython.core.display.Math object>"
      ]
     },
     "execution_count": 71,
     "metadata": {
     },
     "output_type": "execute_result"
    },
    {
     "name": "stdout",
     "output_type": "stream",
     "text": [
      "\n",
      "var =\n"
     ]
    },
    {
     "data": {
      "text/latex": [
       "$$A_{r_{1}}$$"
      ],
      "text/plain": [
       "<IPython.core.display.Math object>"
      ]
     },
     "execution_count": 71,
     "metadata": {
     },
     "output_type": "execute_result"
    },
    {
     "name": "stdout",
     "output_type": "stream",
     "text": [
      "\n",
      "sol=\n"
     ]
    },
    {
     "data": {
      "text/latex": [
       "$$\\left[A_{r_{1}} = r_{1}\\right]$$"
      ],
      "text/plain": [
       "<IPython.core.display.Math object>"
      ]
     },
     "execution_count": 71,
     "metadata": {
     },
     "output_type": "execute_result"
    },
    {
     "name": "stdout",
     "output_type": "stream",
     "text": [
      "\n",
      "var =\n"
     ]
    },
    {
     "data": {
      "text/latex": [
       "$$B_{r_{1}}$$"
      ],
      "text/plain": [
       "<IPython.core.display.Math object>"
      ]
     },
     "execution_count": 71,
     "metadata": {
     },
     "output_type": "execute_result"
    },
    {
     "name": "stdout",
     "output_type": "stream",
     "text": [
      "\n",
      "sol=\n"
     ]
    },
    {
     "data": {
      "text/latex": [
       "$$\\left[B_{r_{1}} = r_{1}\\right]$$"
      ],
      "text/plain": [
       "<IPython.core.display.Math object>"
      ]
     },
     "execution_count": 71,
     "metadata": {
     },
     "output_type": "execute_result"
    },
    {
     "name": "stdout",
     "output_type": "stream",
     "text": [
      "\n"
     ]
    }
   ],
   "source": [
    "res_rot_H = []\n",
    "for i in range(n_layers):\n",
    "    eqs_rotH = [(eqE_z[i]*(-I)*omega/c)\n",
    "                     .subs(solve(eq_kappa[i], omega^2))\n",
    "                     .subs(boundary_subs_begin).subs(boundary_subs_end)\n",
    "                     .full_simplify(),\n",
    "                (eqE_rhs[i]*(-I)*omega/c)\n",
    "                     .subs(solve(eq_kappa[i], omega^2))\n",
    "                     .subs(boundary_subs_begin).subs(boundary_subs_end)\n",
    "                     .full_simplify(),\n",
    "               ]\n",
    "\n",
    "    print(\"eq_rot_H_z = \")\n",
    "    display(Math(latex(eqs_rotH[0])))\n",
    "    print(\"eq_rot_H_rh = \")\n",
    "    display(Math(latex(eqs_rotH[1])))\n",
    "    print(\"\")\n",
    "\n",
    "    vars_dielectric = [A_z[i], B_z[i], A_r[i], B_r[i]]\n",
    "\n",
    "    vars_dielectric = [var for var in vars_dielectric if var not in exclude_vars]\n",
    "    display(Math(latex(vars_dielectric)))\n",
    "    M_rotH = GenerateMatrix(eqs_rotH, vars_dielectric)\n",
    "    print (\"M_rotH =\")\n",
    "    display(Math(latex(M_rotH)))\n",
    "    print (\"M_rotH.nrows =\", M_rotH.nrows())\n",
    "    print (\"M_rotH.ncols =\", M_rotH.ncols())\n",
    "    print (\"M_rotH.rank =\", M_rotH.rank())\n",
    "    res_rot_H += rot_H_solve(M_rotH, vars_dielectric, eq_kappa[i], k[i])"
   ]
  },
  {
   "cell_type": "code",
   "execution_count": 72,
   "metadata": {
    "collapsed": false
   },
   "outputs": [
    {
     "data": {
      "text/html": [
       "<html><script type=\"math/tex; mode=display\">\\newcommand{\\Bold}[1]{\\mathbf{#1}}\\left[B_{z_{0}} = 0, A_{z_{0}} = 0, A_{z_{0}} = r_{1}, A_{z_{0}} = r_{1}, B_{z_{0}} = r_{1}, A_{r_{0}} = r_{1}, B_{r_{0}} = r_{1}, B_{z_{0}} = r_{1}, A_{z_{0}} = r_{1}, B_{z_{0}} = r_{1}, A_{r_{0}} = r_{1}, B_{r_{0}} = r_{1}, A_{r_{0}} = r_{1}, A_{z_{0}} = r_{1}, B_{z_{0}} = r_{1}, A_{r_{0}} = r_{1}, B_{r_{0}} = r_{1}, B_{r_{0}} = r_{1}, A_{z_{0}} = r_{1}, B_{z_{0}} = r_{1}, A_{r_{0}} = r_{1}, B_{r_{0}} = r_{1}, A_{z_{1}} = r_{1}, B_{z_{1}} = \\frac{2 \\, {\\left(c^{2} \\kappa^{3} r_{1} \\rho {\\left(J_{2}(\\kappa \\rho) - J_{0}(\\kappa \\rho)\\right)} \\cos\\left(h k_{1}\\right) \\sin\\left(h k_{1}\\right) - 2 \\, {\\left(\\epsilon_{1} \\kappa \\mu_{1} \\omega^{2} J_{0}(\\kappa \\rho) \\cos\\left(h k_{1}\\right) \\sin\\left(h k_{1}\\right) + c^{2} \\kappa^{2} J_{1}(\\kappa \\rho) \\cos\\left(h k_{1}\\right) \\sin\\left(h k_{1}\\right)\\right)} r_{1}\\right)} \\cos\\left(k_{1} z\\right)^{2} - {\\left({\\left({\\left(2 \\, c^{2} {\\left(J_{2}(\\kappa \\rho) - J_{0}(\\kappa \\rho)\\right)} \\cos\\left(h k_{1}\\right)^{2} - c^{2} {\\left(J_{2}(\\kappa \\rho) - J_{0}(\\kappa \\rho)\\right)}\\right)} \\kappa^{3} + {\\left(2 \\, c^{2} k_{1}^{2} {\\left(J_{2}(\\kappa \\rho) - J_{0}(\\kappa \\rho)\\right)} \\cos\\left(h k_{1}\\right)^{2} - c^{2} k_{1}^{2} {\\left(J_{2}(\\kappa \\rho) - J_{0}(\\kappa \\rho)\\right)}\\right)} \\kappa\\right)} r_{1} \\rho - 2 \\, {\\left(2 \\, c^{2} k_{1}^{2} J_{1}(\\kappa \\rho) \\cos\\left(h k_{1}\\right)^{2} + {\\left(2 \\, \\epsilon_{1} J_{0}(\\kappa \\rho) \\cos\\left(h k_{1}\\right)^{2} - \\epsilon_{1} J_{0}(\\kappa \\rho)\\right)} \\kappa \\mu_{1} \\omega^{2} - c^{2} k_{1}^{2} J_{1}(\\kappa \\rho) + {\\left(2 \\, c^{2} J_{1}(\\kappa \\rho) \\cos\\left(h k_{1}\\right)^{2} - c^{2} J_{1}(\\kappa \\rho)\\right)} \\kappa^{2}\\right)} r_{1}\\right)} \\cos\\left(k_{1} z\\right) \\sin\\left(k_{1} z\\right) - 2 \\, {\\left(c^{2} k_{1}^{2} \\kappa r_{1} \\rho {\\left(J_{2}(\\kappa \\rho) - J_{0}(\\kappa \\rho)\\right)} \\cos\\left(h k_{1}\\right) \\sin\\left(h k_{1}\\right) - 2 \\, c^{2} k_{1}^{2} r_{1} J_{1}(\\kappa \\rho) \\cos\\left(h k_{1}\\right) \\sin\\left(h k_{1}\\right)\\right)} \\sin\\left(k_{1} z\\right)^{2}}{{\\left(4 \\, c^{2} k_{1}^{2} J_{1}(\\kappa \\rho) \\cos\\left(h k_{1}\\right)^{2} - 2 \\, c^{2} k_{1}^{2} J_{1}(\\kappa \\rho) - {\\left(2 \\, c^{2} k_{1}^{2} {\\left(J_{2}(\\kappa \\rho) - J_{0}(\\kappa \\rho)\\right)} \\cos\\left(h k_{1}\\right)^{2} - c^{2} k_{1}^{2} {\\left(J_{2}(\\kappa \\rho) - J_{0}(\\kappa \\rho)\\right)}\\right)} \\kappa \\rho\\right)} \\cos\\left(k_{1} z\\right)^{2} + 2 \\, {\\left(2 \\, \\epsilon_{1} \\kappa \\mu_{1} \\omega^{2} J_{0}(\\kappa \\rho) \\cos\\left(h k_{1}\\right) \\sin\\left(h k_{1}\\right) + 2 \\, c^{2} k_{1}^{2} J_{1}(\\kappa \\rho) \\cos\\left(h k_{1}\\right) \\sin\\left(h k_{1}\\right) + 2 \\, c^{2} \\kappa^{2} J_{1}(\\kappa \\rho) \\cos\\left(h k_{1}\\right) \\sin\\left(h k_{1}\\right) - {\\left(c^{2} k_{1}^{2} \\kappa {\\left(J_{2}(\\kappa \\rho) - J_{0}(\\kappa \\rho)\\right)} \\cos\\left(h k_{1}\\right) \\sin\\left(h k_{1}\\right) + c^{2} \\kappa^{3} {\\left(J_{2}(\\kappa \\rho) - J_{0}(\\kappa \\rho)\\right)} \\cos\\left(h k_{1}\\right) \\sin\\left(h k_{1}\\right)\\right)} \\rho\\right)} \\cos\\left(k_{1} z\\right) \\sin\\left(k_{1} z\\right) - {\\left(2 \\, {\\left(2 \\, \\epsilon_{1} J_{0}(\\kappa \\rho) \\cos\\left(h k_{1}\\right)^{2} - \\epsilon_{1} J_{0}(\\kappa \\rho)\\right)} \\kappa \\mu_{1} \\omega^{2} - {\\left(2 \\, c^{2} {\\left(J_{2}(\\kappa \\rho) - J_{0}(\\kappa \\rho)\\right)} \\cos\\left(h k_{1}\\right)^{2} - c^{2} {\\left(J_{2}(\\kappa \\rho) - J_{0}(\\kappa \\rho)\\right)}\\right)} \\kappa^{3} \\rho + 2 \\, {\\left(2 \\, c^{2} J_{1}(\\kappa \\rho) \\cos\\left(h k_{1}\\right)^{2} - c^{2} J_{1}(\\kappa \\rho)\\right)} \\kappa^{2}\\right)} \\sin\\left(k_{1} z\\right)^{2}}, B_{z_{1}} = r_{1}, A_{z_{1}} = -\\frac{{\\left({\\left(2 \\, c^{2} k_{1}^{2} {\\left(J_{2}(\\kappa \\rho) - J_{0}(\\kappa \\rho)\\right)} \\cos\\left(h k_{1}\\right)^{2} - c^{2} k_{1}^{2} {\\left(J_{2}(\\kappa \\rho) - J_{0}(\\kappa \\rho)\\right)}\\right)} \\kappa r_{1} \\rho - 2 \\, {\\left(2 \\, c^{2} k_{1}^{2} J_{1}(\\kappa \\rho) \\cos\\left(h k_{1}\\right)^{2} - c^{2} k_{1}^{2} J_{1}(\\kappa \\rho)\\right)} r_{1}\\right)} \\cos\\left(k_{1} z\\right)^{2} + 2 \\, {\\left({\\left(c^{2} k_{1}^{2} \\kappa {\\left(J_{2}(\\kappa \\rho) - J_{0}(\\kappa \\rho)\\right)} \\cos\\left(h k_{1}\\right) \\sin\\left(h k_{1}\\right) + c^{2} \\kappa^{3} {\\left(J_{2}(\\kappa \\rho) - J_{0}(\\kappa \\rho)\\right)} \\cos\\left(h k_{1}\\right) \\sin\\left(h k_{1}\\right)\\right)} r_{1} \\rho - 2 \\, {\\left(\\epsilon_{1} \\kappa \\mu_{1} \\omega^{2} J_{0}(\\kappa \\rho) \\cos\\left(h k_{1}\\right) \\sin\\left(h k_{1}\\right) + c^{2} k_{1}^{2} J_{1}(\\kappa \\rho) \\cos\\left(h k_{1}\\right) \\sin\\left(h k_{1}\\right) + c^{2} \\kappa^{2} J_{1}(\\kappa \\rho) \\cos\\left(h k_{1}\\right) \\sin\\left(h k_{1}\\right)\\right)} r_{1}\\right)} \\cos\\left(k_{1} z\\right) \\sin\\left(k_{1} z\\right) - {\\left({\\left(2 \\, c^{2} {\\left(J_{2}(\\kappa \\rho) - J_{0}(\\kappa \\rho)\\right)} \\cos\\left(h k_{1}\\right)^{2} - c^{2} {\\left(J_{2}(\\kappa \\rho) - J_{0}(\\kappa \\rho)\\right)}\\right)} \\kappa^{3} r_{1} \\rho - 2 \\, {\\left({\\left(2 \\, \\epsilon_{1} J_{0}(\\kappa \\rho) \\cos\\left(h k_{1}\\right)^{2} - \\epsilon_{1} J_{0}(\\kappa \\rho)\\right)} \\kappa \\mu_{1} \\omega^{2} + {\\left(2 \\, c^{2} J_{1}(\\kappa \\rho) \\cos\\left(h k_{1}\\right)^{2} - c^{2} J_{1}(\\kappa \\rho)\\right)} \\kappa^{2}\\right)} r_{1}\\right)} \\sin\\left(k_{1} z\\right)^{2}}{2 \\, {\\left(c^{2} \\kappa^{3} \\rho {\\left(J_{2}(\\kappa \\rho) - J_{0}(\\kappa \\rho)\\right)} \\cos\\left(h k_{1}\\right) \\sin\\left(h k_{1}\\right) - 2 \\, \\epsilon_{1} \\kappa \\mu_{1} \\omega^{2} J_{0}(\\kappa \\rho) \\cos\\left(h k_{1}\\right) \\sin\\left(h k_{1}\\right) - 2 \\, c^{2} \\kappa^{2} J_{1}(\\kappa \\rho) \\cos\\left(h k_{1}\\right) \\sin\\left(h k_{1}\\right)\\right)} \\cos\\left(k_{1} z\\right)^{2} + {\\left(4 \\, c^{2} k_{1}^{2} J_{1}(\\kappa \\rho) \\cos\\left(h k_{1}\\right)^{2} + 2 \\, {\\left(2 \\, \\epsilon_{1} J_{0}(\\kappa \\rho) \\cos\\left(h k_{1}\\right)^{2} - \\epsilon_{1} J_{0}(\\kappa \\rho)\\right)} \\kappa \\mu_{1} \\omega^{2} - 2 \\, c^{2} k_{1}^{2} J_{1}(\\kappa \\rho) + 2 \\, {\\left(2 \\, c^{2} J_{1}(\\kappa \\rho) \\cos\\left(h k_{1}\\right)^{2} - c^{2} J_{1}(\\kappa \\rho)\\right)} \\kappa^{2} - {\\left({\\left(2 \\, c^{2} {\\left(J_{2}(\\kappa \\rho) - J_{0}(\\kappa \\rho)\\right)} \\cos\\left(h k_{1}\\right)^{2} - c^{2} {\\left(J_{2}(\\kappa \\rho) - J_{0}(\\kappa \\rho)\\right)}\\right)} \\kappa^{3} + {\\left(2 \\, c^{2} k_{1}^{2} {\\left(J_{2}(\\kappa \\rho) - J_{0}(\\kappa \\rho)\\right)} \\cos\\left(h k_{1}\\right)^{2} - c^{2} k_{1}^{2} {\\left(J_{2}(\\kappa \\rho) - J_{0}(\\kappa \\rho)\\right)}\\right)} \\kappa\\right)} \\rho\\right)} \\cos\\left(k_{1} z\\right) \\sin\\left(k_{1} z\\right) - 2 \\, {\\left(c^{2} k_{1}^{2} \\kappa \\rho {\\left(J_{2}(\\kappa \\rho) - J_{0}(\\kappa \\rho)\\right)} \\cos\\left(h k_{1}\\right) \\sin\\left(h k_{1}\\right) - 2 \\, c^{2} k_{1}^{2} J_{1}(\\kappa \\rho) \\cos\\left(h k_{1}\\right) \\sin\\left(h k_{1}\\right)\\right)} \\sin\\left(k_{1} z\\right)^{2}}, A_{r_{1}} = r_{1}, A_{z_{1}} = \\frac{{\\left(4 \\, B_{z_{1}} c^{2} k_{1}^{2} J_{1}(\\kappa \\rho) \\cos\\left(h k_{1}\\right)^{2} - 2 \\, B_{z_{1}} c^{2} k_{1}^{2} J_{1}(\\kappa \\rho) - {\\left(2 \\, B_{z_{1}} c^{2} k_{1}^{2} {\\left(J_{2}(\\kappa \\rho) - J_{0}(\\kappa \\rho)\\right)} \\cos\\left(h k_{1}\\right)^{2} - B_{z_{1}} c^{2} k_{1}^{2} {\\left(J_{2}(\\kappa \\rho) - J_{0}(\\kappa \\rho)\\right)}\\right)} \\kappa \\rho\\right)} \\cos\\left(k_{1} z\\right)^{2} + 2 \\, {\\left(2 \\, B_{z_{1}} \\epsilon_{1} \\kappa \\mu_{1} \\omega^{2} J_{0}(\\kappa \\rho) \\cos\\left(h k_{1}\\right) \\sin\\left(h k_{1}\\right) + 2 \\, B_{z_{1}} c^{2} k_{1}^{2} J_{1}(\\kappa \\rho) \\cos\\left(h k_{1}\\right) \\sin\\left(h k_{1}\\right) + 2 \\, B_{z_{1}} c^{2} \\kappa^{2} J_{1}(\\kappa \\rho) \\cos\\left(h k_{1}\\right) \\sin\\left(h k_{1}\\right) - {\\left(B_{z_{1}} c^{2} k_{1}^{2} \\kappa {\\left(J_{2}(\\kappa \\rho) - J_{0}(\\kappa \\rho)\\right)} \\cos\\left(h k_{1}\\right) \\sin\\left(h k_{1}\\right) + B_{z_{1}} c^{2} \\kappa^{3} {\\left(J_{2}(\\kappa \\rho) - J_{0}(\\kappa \\rho)\\right)} \\cos\\left(h k_{1}\\right) \\sin\\left(h k_{1}\\right)\\right)} \\rho\\right)} \\cos\\left(k_{1} z\\right) \\sin\\left(k_{1} z\\right) - {\\left(2 \\, {\\left(2 \\, B_{z_{1}} \\epsilon_{1} J_{0}(\\kappa \\rho) \\cos\\left(h k_{1}\\right)^{2} - B_{z_{1}} \\epsilon_{1} J_{0}(\\kappa \\rho)\\right)} \\kappa \\mu_{1} \\omega^{2} - {\\left(2 \\, B_{z_{1}} c^{2} {\\left(J_{2}(\\kappa \\rho) - J_{0}(\\kappa \\rho)\\right)} \\cos\\left(h k_{1}\\right)^{2} - B_{z_{1}} c^{2} {\\left(J_{2}(\\kappa \\rho) - J_{0}(\\kappa \\rho)\\right)}\\right)} \\kappa^{3} \\rho + 2 \\, {\\left(2 \\, B_{z_{1}} c^{2} J_{1}(\\kappa \\rho) \\cos\\left(h k_{1}\\right)^{2} - B_{z_{1}} c^{2} J_{1}(\\kappa \\rho)\\right)} \\kappa^{2}\\right)} \\sin\\left(k_{1} z\\right)^{2}}{2 \\, {\\left(c^{2} \\kappa^{3} \\rho {\\left(J_{2}(\\kappa \\rho) - J_{0}(\\kappa \\rho)\\right)} \\cos\\left(h k_{1}\\right) \\sin\\left(h k_{1}\\right) - 2 \\, \\epsilon_{1} \\kappa \\mu_{1} \\omega^{2} J_{0}(\\kappa \\rho) \\cos\\left(h k_{1}\\right) \\sin\\left(h k_{1}\\right) - 2 \\, c^{2} \\kappa^{2} J_{1}(\\kappa \\rho) \\cos\\left(h k_{1}\\right) \\sin\\left(h k_{1}\\right)\\right)} \\cos\\left(k_{1} z\\right)^{2} + {\\left(4 \\, c^{2} k_{1}^{2} J_{1}(\\kappa \\rho) \\cos\\left(h k_{1}\\right)^{2} + 2 \\, {\\left(2 \\, \\epsilon_{1} J_{0}(\\kappa \\rho) \\cos\\left(h k_{1}\\right)^{2} - \\epsilon_{1} J_{0}(\\kappa \\rho)\\right)} \\kappa \\mu_{1} \\omega^{2} - 2 \\, c^{2} k_{1}^{2} J_{1}(\\kappa \\rho) + 2 \\, {\\left(2 \\, c^{2} J_{1}(\\kappa \\rho) \\cos\\left(h k_{1}\\right)^{2} - c^{2} J_{1}(\\kappa \\rho)\\right)} \\kappa^{2} - {\\left({\\left(2 \\, c^{2} {\\left(J_{2}(\\kappa \\rho) - J_{0}(\\kappa \\rho)\\right)} \\cos\\left(h k_{1}\\right)^{2} - c^{2} {\\left(J_{2}(\\kappa \\rho) - J_{0}(\\kappa \\rho)\\right)}\\right)} \\kappa^{3} + {\\left(2 \\, c^{2} k_{1}^{2} {\\left(J_{2}(\\kappa \\rho) - J_{0}(\\kappa \\rho)\\right)} \\cos\\left(h k_{1}\\right)^{2} - c^{2} k_{1}^{2} {\\left(J_{2}(\\kappa \\rho) - J_{0}(\\kappa \\rho)\\right)}\\right)} \\kappa\\right)} \\rho\\right)} \\cos\\left(k_{1} z\\right) \\sin\\left(k_{1} z\\right) - 2 \\, {\\left(c^{2} k_{1}^{2} \\kappa \\rho {\\left(J_{2}(\\kappa \\rho) - J_{0}(\\kappa \\rho)\\right)} \\cos\\left(h k_{1}\\right) \\sin\\left(h k_{1}\\right) - 2 \\, c^{2} k_{1}^{2} J_{1}(\\kappa \\rho) \\cos\\left(h k_{1}\\right) \\sin\\left(h k_{1}\\right)\\right)} \\sin\\left(k_{1} z\\right)^{2}}, B_{z_{1}} = \\frac{2 \\, {\\left(A_{z_{1}} c^{2} \\kappa^{3} \\rho {\\left(J_{2}(\\kappa \\rho) - J_{0}(\\kappa \\rho)\\right)} \\cos\\left(h k_{1}\\right) \\sin\\left(h k_{1}\\right) - 2 \\, A_{z_{1}} \\epsilon_{1} \\kappa \\mu_{1} \\omega^{2} J_{0}(\\kappa \\rho) \\cos\\left(h k_{1}\\right) \\sin\\left(h k_{1}\\right) - 2 \\, A_{z_{1}} c^{2} \\kappa^{2} J_{1}(\\kappa \\rho) \\cos\\left(h k_{1}\\right) \\sin\\left(h k_{1}\\right)\\right)} \\cos\\left(k_{1} z\\right)^{2} + {\\left(4 \\, A_{z_{1}} c^{2} k_{1}^{2} J_{1}(\\kappa \\rho) \\cos\\left(h k_{1}\\right)^{2} - 2 \\, A_{z_{1}} c^{2} k_{1}^{2} J_{1}(\\kappa \\rho) + 2 \\, {\\left(2 \\, A_{z_{1}} \\epsilon_{1} J_{0}(\\kappa \\rho) \\cos\\left(h k_{1}\\right)^{2} - A_{z_{1}} \\epsilon_{1} J_{0}(\\kappa \\rho)\\right)} \\kappa \\mu_{1} \\omega^{2} + 2 \\, {\\left(2 \\, A_{z_{1}} c^{2} J_{1}(\\kappa \\rho) \\cos\\left(h k_{1}\\right)^{2} - A_{z_{1}} c^{2} J_{1}(\\kappa \\rho)\\right)} \\kappa^{2} - {\\left({\\left(2 \\, A_{z_{1}} c^{2} {\\left(J_{2}(\\kappa \\rho) - J_{0}(\\kappa \\rho)\\right)} \\cos\\left(h k_{1}\\right)^{2} - A_{z_{1}} c^{2} {\\left(J_{2}(\\kappa \\rho) - J_{0}(\\kappa \\rho)\\right)}\\right)} \\kappa^{3} + {\\left(2 \\, A_{z_{1}} c^{2} k_{1}^{2} {\\left(J_{2}(\\kappa \\rho) - J_{0}(\\kappa \\rho)\\right)} \\cos\\left(h k_{1}\\right)^{2} - A_{z_{1}} c^{2} k_{1}^{2} {\\left(J_{2}(\\kappa \\rho) - J_{0}(\\kappa \\rho)\\right)}\\right)} \\kappa\\right)} \\rho\\right)} \\cos\\left(k_{1} z\\right) \\sin\\left(k_{1} z\\right) - 2 \\, {\\left(A_{z_{1}} c^{2} k_{1}^{2} \\kappa \\rho {\\left(J_{2}(\\kappa \\rho) - J_{0}(\\kappa \\rho)\\right)} \\cos\\left(h k_{1}\\right) \\sin\\left(h k_{1}\\right) - 2 \\, A_{z_{1}} c^{2} k_{1}^{2} J_{1}(\\kappa \\rho) \\cos\\left(h k_{1}\\right) \\sin\\left(h k_{1}\\right)\\right)} \\sin\\left(k_{1} z\\right)^{2}}{{\\left(4 \\, c^{2} k_{1}^{2} J_{1}(\\kappa \\rho) \\cos\\left(h k_{1}\\right)^{2} - 2 \\, c^{2} k_{1}^{2} J_{1}(\\kappa \\rho) - {\\left(2 \\, c^{2} k_{1}^{2} {\\left(J_{2}(\\kappa \\rho) - J_{0}(\\kappa \\rho)\\right)} \\cos\\left(h k_{1}\\right)^{2} - c^{2} k_{1}^{2} {\\left(J_{2}(\\kappa \\rho) - J_{0}(\\kappa \\rho)\\right)}\\right)} \\kappa \\rho\\right)} \\cos\\left(k_{1} z\\right)^{2} + 2 \\, {\\left(2 \\, \\epsilon_{1} \\kappa \\mu_{1} \\omega^{2} J_{0}(\\kappa \\rho) \\cos\\left(h k_{1}\\right) \\sin\\left(h k_{1}\\right) + 2 \\, c^{2} k_{1}^{2} J_{1}(\\kappa \\rho) \\cos\\left(h k_{1}\\right) \\sin\\left(h k_{1}\\right) + 2 \\, c^{2} \\kappa^{2} J_{1}(\\kappa \\rho) \\cos\\left(h k_{1}\\right) \\sin\\left(h k_{1}\\right) - {\\left(c^{2} k_{1}^{2} \\kappa {\\left(J_{2}(\\kappa \\rho) - J_{0}(\\kappa \\rho)\\right)} \\cos\\left(h k_{1}\\right) \\sin\\left(h k_{1}\\right) + c^{2} \\kappa^{3} {\\left(J_{2}(\\kappa \\rho) - J_{0}(\\kappa \\rho)\\right)} \\cos\\left(h k_{1}\\right) \\sin\\left(h k_{1}\\right)\\right)} \\rho\\right)} \\cos\\left(k_{1} z\\right) \\sin\\left(k_{1} z\\right) - {\\left(2 \\, {\\left(2 \\, \\epsilon_{1} J_{0}(\\kappa \\rho) \\cos\\left(h k_{1}\\right)^{2} - \\epsilon_{1} J_{0}(\\kappa \\rho)\\right)} \\kappa \\mu_{1} \\omega^{2} - {\\left(2 \\, c^{2} {\\left(J_{2}(\\kappa \\rho) - J_{0}(\\kappa \\rho)\\right)} \\cos\\left(h k_{1}\\right)^{2} - c^{2} {\\left(J_{2}(\\kappa \\rho) - J_{0}(\\kappa \\rho)\\right)}\\right)} \\kappa^{3} \\rho + 2 \\, {\\left(2 \\, c^{2} J_{1}(\\kappa \\rho) \\cos\\left(h k_{1}\\right)^{2} - c^{2} J_{1}(\\kappa \\rho)\\right)} \\kappa^{2}\\right)} \\sin\\left(k_{1} z\\right)^{2}}, B_{r_{1}} = r_{1}, A_{z_{1}} = \\frac{{\\left(4 \\, B_{z_{1}} c^{2} k_{1}^{2} J_{1}(\\kappa \\rho) \\cos\\left(h k_{1}\\right)^{2} - 2 \\, B_{z_{1}} c^{2} k_{1}^{2} J_{1}(\\kappa \\rho) - {\\left(2 \\, B_{z_{1}} c^{2} k_{1}^{2} {\\left(J_{2}(\\kappa \\rho) - J_{0}(\\kappa \\rho)\\right)} \\cos\\left(h k_{1}\\right)^{2} - B_{z_{1}} c^{2} k_{1}^{2} {\\left(J_{2}(\\kappa \\rho) - J_{0}(\\kappa \\rho)\\right)}\\right)} \\kappa \\rho\\right)} \\cos\\left(k_{1} z\\right)^{2} + 2 \\, {\\left(2 \\, B_{z_{1}} \\epsilon_{1} \\kappa \\mu_{1} \\omega^{2} J_{0}(\\kappa \\rho) \\cos\\left(h k_{1}\\right) \\sin\\left(h k_{1}\\right) + 2 \\, B_{z_{1}} c^{2} k_{1}^{2} J_{1}(\\kappa \\rho) \\cos\\left(h k_{1}\\right) \\sin\\left(h k_{1}\\right) + 2 \\, B_{z_{1}} c^{2} \\kappa^{2} J_{1}(\\kappa \\rho) \\cos\\left(h k_{1}\\right) \\sin\\left(h k_{1}\\right) - {\\left(B_{z_{1}} c^{2} k_{1}^{2} \\kappa {\\left(J_{2}(\\kappa \\rho) - J_{0}(\\kappa \\rho)\\right)} \\cos\\left(h k_{1}\\right) \\sin\\left(h k_{1}\\right) + B_{z_{1}} c^{2} \\kappa^{3} {\\left(J_{2}(\\kappa \\rho) - J_{0}(\\kappa \\rho)\\right)} \\cos\\left(h k_{1}\\right) \\sin\\left(h k_{1}\\right)\\right)} \\rho\\right)} \\cos\\left(k_{1} z\\right) \\sin\\left(k_{1} z\\right) - {\\left(2 \\, {\\left(2 \\, B_{z_{1}} \\epsilon_{1} J_{0}(\\kappa \\rho) \\cos\\left(h k_{1}\\right)^{2} - B_{z_{1}} \\epsilon_{1} J_{0}(\\kappa \\rho)\\right)} \\kappa \\mu_{1} \\omega^{2} - {\\left(2 \\, B_{z_{1}} c^{2} {\\left(J_{2}(\\kappa \\rho) - J_{0}(\\kappa \\rho)\\right)} \\cos\\left(h k_{1}\\right)^{2} - B_{z_{1}} c^{2} {\\left(J_{2}(\\kappa \\rho) - J_{0}(\\kappa \\rho)\\right)}\\right)} \\kappa^{3} \\rho + 2 \\, {\\left(2 \\, B_{z_{1}} c^{2} J_{1}(\\kappa \\rho) \\cos\\left(h k_{1}\\right)^{2} - B_{z_{1}} c^{2} J_{1}(\\kappa \\rho)\\right)} \\kappa^{2}\\right)} \\sin\\left(k_{1} z\\right)^{2}}{2 \\, {\\left(c^{2} \\kappa^{3} \\rho {\\left(J_{2}(\\kappa \\rho) - J_{0}(\\kappa \\rho)\\right)} \\cos\\left(h k_{1}\\right) \\sin\\left(h k_{1}\\right) - 2 \\, \\epsilon_{1} \\kappa \\mu_{1} \\omega^{2} J_{0}(\\kappa \\rho) \\cos\\left(h k_{1}\\right) \\sin\\left(h k_{1}\\right) - 2 \\, c^{2} \\kappa^{2} J_{1}(\\kappa \\rho) \\cos\\left(h k_{1}\\right) \\sin\\left(h k_{1}\\right)\\right)} \\cos\\left(k_{1} z\\right)^{2} + {\\left(4 \\, c^{2} k_{1}^{2} J_{1}(\\kappa \\rho) \\cos\\left(h k_{1}\\right)^{2} + 2 \\, {\\left(2 \\, \\epsilon_{1} J_{0}(\\kappa \\rho) \\cos\\left(h k_{1}\\right)^{2} - \\epsilon_{1} J_{0}(\\kappa \\rho)\\right)} \\kappa \\mu_{1} \\omega^{2} - 2 \\, c^{2} k_{1}^{2} J_{1}(\\kappa \\rho) + 2 \\, {\\left(2 \\, c^{2} J_{1}(\\kappa \\rho) \\cos\\left(h k_{1}\\right)^{2} - c^{2} J_{1}(\\kappa \\rho)\\right)} \\kappa^{2} - {\\left({\\left(2 \\, c^{2} {\\left(J_{2}(\\kappa \\rho) - J_{0}(\\kappa \\rho)\\right)} \\cos\\left(h k_{1}\\right)^{2} - c^{2} {\\left(J_{2}(\\kappa \\rho) - J_{0}(\\kappa \\rho)\\right)}\\right)} \\kappa^{3} + {\\left(2 \\, c^{2} k_{1}^{2} {\\left(J_{2}(\\kappa \\rho) - J_{0}(\\kappa \\rho)\\right)} \\cos\\left(h k_{1}\\right)^{2} - c^{2} k_{1}^{2} {\\left(J_{2}(\\kappa \\rho) - J_{0}(\\kappa \\rho)\\right)}\\right)} \\kappa\\right)} \\rho\\right)} \\cos\\left(k_{1} z\\right) \\sin\\left(k_{1} z\\right) - 2 \\, {\\left(c^{2} k_{1}^{2} \\kappa \\rho {\\left(J_{2}(\\kappa \\rho) - J_{0}(\\kappa \\rho)\\right)} \\cos\\left(h k_{1}\\right) \\sin\\left(h k_{1}\\right) - 2 \\, c^{2} k_{1}^{2} J_{1}(\\kappa \\rho) \\cos\\left(h k_{1}\\right) \\sin\\left(h k_{1}\\right)\\right)} \\sin\\left(k_{1} z\\right)^{2}}, B_{z_{1}} = \\frac{2 \\, {\\left(A_{z_{1}} c^{2} \\kappa^{3} \\rho {\\left(J_{2}(\\kappa \\rho) - J_{0}(\\kappa \\rho)\\right)} \\cos\\left(h k_{1}\\right) \\sin\\left(h k_{1}\\right) - 2 \\, A_{z_{1}} \\epsilon_{1} \\kappa \\mu_{1} \\omega^{2} J_{0}(\\kappa \\rho) \\cos\\left(h k_{1}\\right) \\sin\\left(h k_{1}\\right) - 2 \\, A_{z_{1}} c^{2} \\kappa^{2} J_{1}(\\kappa \\rho) \\cos\\left(h k_{1}\\right) \\sin\\left(h k_{1}\\right)\\right)} \\cos\\left(k_{1} z\\right)^{2} + {\\left(4 \\, A_{z_{1}} c^{2} k_{1}^{2} J_{1}(\\kappa \\rho) \\cos\\left(h k_{1}\\right)^{2} - 2 \\, A_{z_{1}} c^{2} k_{1}^{2} J_{1}(\\kappa \\rho) + 2 \\, {\\left(2 \\, A_{z_{1}} \\epsilon_{1} J_{0}(\\kappa \\rho) \\cos\\left(h k_{1}\\right)^{2} - A_{z_{1}} \\epsilon_{1} J_{0}(\\kappa \\rho)\\right)} \\kappa \\mu_{1} \\omega^{2} + 2 \\, {\\left(2 \\, A_{z_{1}} c^{2} J_{1}(\\kappa \\rho) \\cos\\left(h k_{1}\\right)^{2} - A_{z_{1}} c^{2} J_{1}(\\kappa \\rho)\\right)} \\kappa^{2} - {\\left({\\left(2 \\, A_{z_{1}} c^{2} {\\left(J_{2}(\\kappa \\rho) - J_{0}(\\kappa \\rho)\\right)} \\cos\\left(h k_{1}\\right)^{2} - A_{z_{1}} c^{2} {\\left(J_{2}(\\kappa \\rho) - J_{0}(\\kappa \\rho)\\right)}\\right)} \\kappa^{3} + {\\left(2 \\, A_{z_{1}} c^{2} k_{1}^{2} {\\left(J_{2}(\\kappa \\rho) - J_{0}(\\kappa \\rho)\\right)} \\cos\\left(h k_{1}\\right)^{2} - A_{z_{1}} c^{2} k_{1}^{2} {\\left(J_{2}(\\kappa \\rho) - J_{0}(\\kappa \\rho)\\right)}\\right)} \\kappa\\right)} \\rho\\right)} \\cos\\left(k_{1} z\\right) \\sin\\left(k_{1} z\\right) - 2 \\, {\\left(A_{z_{1}} c^{2} k_{1}^{2} \\kappa \\rho {\\left(J_{2}(\\kappa \\rho) - J_{0}(\\kappa \\rho)\\right)} \\cos\\left(h k_{1}\\right) \\sin\\left(h k_{1}\\right) - 2 \\, A_{z_{1}} c^{2} k_{1}^{2} J_{1}(\\kappa \\rho) \\cos\\left(h k_{1}\\right) \\sin\\left(h k_{1}\\right)\\right)} \\sin\\left(k_{1} z\\right)^{2}}{{\\left(4 \\, c^{2} k_{1}^{2} J_{1}(\\kappa \\rho) \\cos\\left(h k_{1}\\right)^{2} - 2 \\, c^{2} k_{1}^{2} J_{1}(\\kappa \\rho) - {\\left(2 \\, c^{2} k_{1}^{2} {\\left(J_{2}(\\kappa \\rho) - J_{0}(\\kappa \\rho)\\right)} \\cos\\left(h k_{1}\\right)^{2} - c^{2} k_{1}^{2} {\\left(J_{2}(\\kappa \\rho) - J_{0}(\\kappa \\rho)\\right)}\\right)} \\kappa \\rho\\right)} \\cos\\left(k_{1} z\\right)^{2} + 2 \\, {\\left(2 \\, \\epsilon_{1} \\kappa \\mu_{1} \\omega^{2} J_{0}(\\kappa \\rho) \\cos\\left(h k_{1}\\right) \\sin\\left(h k_{1}\\right) + 2 \\, c^{2} k_{1}^{2} J_{1}(\\kappa \\rho) \\cos\\left(h k_{1}\\right) \\sin\\left(h k_{1}\\right) + 2 \\, c^{2} \\kappa^{2} J_{1}(\\kappa \\rho) \\cos\\left(h k_{1}\\right) \\sin\\left(h k_{1}\\right) - {\\left(c^{2} k_{1}^{2} \\kappa {\\left(J_{2}(\\kappa \\rho) - J_{0}(\\kappa \\rho)\\right)} \\cos\\left(h k_{1}\\right) \\sin\\left(h k_{1}\\right) + c^{2} \\kappa^{3} {\\left(J_{2}(\\kappa \\rho) - J_{0}(\\kappa \\rho)\\right)} \\cos\\left(h k_{1}\\right) \\sin\\left(h k_{1}\\right)\\right)} \\rho\\right)} \\cos\\left(k_{1} z\\right) \\sin\\left(k_{1} z\\right) - {\\left(2 \\, {\\left(2 \\, \\epsilon_{1} J_{0}(\\kappa \\rho) \\cos\\left(h k_{1}\\right)^{2} - \\epsilon_{1} J_{0}(\\kappa \\rho)\\right)} \\kappa \\mu_{1} \\omega^{2} - {\\left(2 \\, c^{2} {\\left(J_{2}(\\kappa \\rho) - J_{0}(\\kappa \\rho)\\right)} \\cos\\left(h k_{1}\\right)^{2} - c^{2} {\\left(J_{2}(\\kappa \\rho) - J_{0}(\\kappa \\rho)\\right)}\\right)} \\kappa^{3} \\rho + 2 \\, {\\left(2 \\, c^{2} J_{1}(\\kappa \\rho) \\cos\\left(h k_{1}\\right)^{2} - c^{2} J_{1}(\\kappa \\rho)\\right)} \\kappa^{2}\\right)} \\sin\\left(k_{1} z\\right)^{2}}, A_{z_{1}} = r_{1}, A_{z_{1}} = r_{1}, B_{z_{1}} = r_{1}, A_{r_{1}} = r_{1}, B_{r_{1}} = r_{1}, B_{z_{1}} = r_{1}, A_{z_{1}} = r_{1}, B_{z_{1}} = r_{1}, A_{r_{1}} = r_{1}, B_{r_{1}} = r_{1}, A_{r_{1}} = r_{1}, A_{z_{1}} = r_{1}, B_{z_{1}} = r_{1}, A_{r_{1}} = r_{1}, B_{r_{1}} = r_{1}, B_{r_{1}} = r_{1}, A_{z_{1}} = r_{1}, B_{z_{1}} = r_{1}, A_{r_{1}} = r_{1}, B_{r_{1}} = r_{1}\\right]</script></html>"
      ],
      "text/plain": [
       "[B_z_0 == 0,\n",
       " A_z_0 == 0,\n",
       " A_z_0 == r1,\n",
       " A_z_0 == r1,\n",
       " B_z_0 == r1,\n",
       " A_r_0 == r1,\n",
       " B_r_0 == r1,\n",
       " B_z_0 == r1,\n",
       " A_z_0 == r1,\n",
       " B_z_0 == r1,\n",
       " A_r_0 == r1,\n",
       " B_r_0 == r1,\n",
       " A_r_0 == r1,\n",
       " A_z_0 == r1,\n",
       " B_z_0 == r1,\n",
       " A_r_0 == r1,\n",
       " B_r_0 == r1,\n",
       " B_r_0 == r1,\n",
       " A_z_0 == r1,\n",
       " B_z_0 == r1,\n",
       " A_r_0 == r1,\n",
       " B_r_0 == r1,\n",
       " A_z_1 == r1,\n",
       " B_z_1 == (2*(c^2*kappa^3*r1*rho*(bessel_J(2, kappa*rho) - bessel_J(0, kappa*rho))*cos(h*k_1)*sin(h*k_1) - 2*(epsilon_1*kappa*mu_1*omega^2*bessel_J(0, kappa*rho)*cos(h*k_1)*sin(h*k_1) + c^2*kappa^2*bessel_J(1, kappa*rho)*cos(h*k_1)*sin(h*k_1))*r1)*cos(k_1*z)^2 - (((2*c^2*(bessel_J(2, kappa*rho) - bessel_J(0, kappa*rho))*cos(h*k_1)^2 - c^2*(bessel_J(2, kappa*rho) - bessel_J(0, kappa*rho)))*kappa^3 + (2*c^2*k_1^2*(bessel_J(2, kappa*rho) - bessel_J(0, kappa*rho))*cos(h*k_1)^2 - c^2*k_1^2*(bessel_J(2, kappa*rho) - bessel_J(0, kappa*rho)))*kappa)*r1*rho - 2*(2*c^2*k_1^2*bessel_J(1, kappa*rho)*cos(h*k_1)^2 + (2*epsilon_1*bessel_J(0, kappa*rho)*cos(h*k_1)^2 - epsilon_1*bessel_J(0, kappa*rho))*kappa*mu_1*omega^2 - c^2*k_1^2*bessel_J(1, kappa*rho) + (2*c^2*bessel_J(1, kappa*rho)*cos(h*k_1)^2 - c^2*bessel_J(1, kappa*rho))*kappa^2)*r1)*cos(k_1*z)*sin(k_1*z) - 2*(c^2*k_1^2*kappa*r1*rho*(bessel_J(2, kappa*rho) - bessel_J(0, kappa*rho))*cos(h*k_1)*sin(h*k_1) - 2*c^2*k_1^2*r1*bessel_J(1, kappa*rho)*cos(h*k_1)*sin(h*k_1))*sin(k_1*z)^2)/((4*c^2*k_1^2*bessel_J(1, kappa*rho)*cos(h*k_1)^2 - 2*c^2*k_1^2*bessel_J(1, kappa*rho) - (2*c^2*k_1^2*(bessel_J(2, kappa*rho) - bessel_J(0, kappa*rho))*cos(h*k_1)^2 - c^2*k_1^2*(bessel_J(2, kappa*rho) - bessel_J(0, kappa*rho)))*kappa*rho)*cos(k_1*z)^2 + 2*(2*epsilon_1*kappa*mu_1*omega^2*bessel_J(0, kappa*rho)*cos(h*k_1)*sin(h*k_1) + 2*c^2*k_1^2*bessel_J(1, kappa*rho)*cos(h*k_1)*sin(h*k_1) + 2*c^2*kappa^2*bessel_J(1, kappa*rho)*cos(h*k_1)*sin(h*k_1) - (c^2*k_1^2*kappa*(bessel_J(2, kappa*rho) - bessel_J(0, kappa*rho))*cos(h*k_1)*sin(h*k_1) + c^2*kappa^3*(bessel_J(2, kappa*rho) - bessel_J(0, kappa*rho))*cos(h*k_1)*sin(h*k_1))*rho)*cos(k_1*z)*sin(k_1*z) - (2*(2*epsilon_1*bessel_J(0, kappa*rho)*cos(h*k_1)^2 - epsilon_1*bessel_J(0, kappa*rho))*kappa*mu_1*omega^2 - (2*c^2*(bessel_J(2, kappa*rho) - bessel_J(0, kappa*rho))*cos(h*k_1)^2 - c^2*(bessel_J(2, kappa*rho) - bessel_J(0, kappa*rho)))*kappa^3*rho + 2*(2*c^2*bessel_J(1, kappa*rho)*cos(h*k_1)^2 - c^2*bessel_J(1, kappa*rho))*kappa^2)*sin(k_1*z)^2),\n",
       " B_z_1 == r1,\n",
       " A_z_1 == -(((2*c^2*k_1^2*(bessel_J(2, kappa*rho) - bessel_J(0, kappa*rho))*cos(h*k_1)^2 - c^2*k_1^2*(bessel_J(2, kappa*rho) - bessel_J(0, kappa*rho)))*kappa*r1*rho - 2*(2*c^2*k_1^2*bessel_J(1, kappa*rho)*cos(h*k_1)^2 - c^2*k_1^2*bessel_J(1, kappa*rho))*r1)*cos(k_1*z)^2 + 2*((c^2*k_1^2*kappa*(bessel_J(2, kappa*rho) - bessel_J(0, kappa*rho))*cos(h*k_1)*sin(h*k_1) + c^2*kappa^3*(bessel_J(2, kappa*rho) - bessel_J(0, kappa*rho))*cos(h*k_1)*sin(h*k_1))*r1*rho - 2*(epsilon_1*kappa*mu_1*omega^2*bessel_J(0, kappa*rho)*cos(h*k_1)*sin(h*k_1) + c^2*k_1^2*bessel_J(1, kappa*rho)*cos(h*k_1)*sin(h*k_1) + c^2*kappa^2*bessel_J(1, kappa*rho)*cos(h*k_1)*sin(h*k_1))*r1)*cos(k_1*z)*sin(k_1*z) - ((2*c^2*(bessel_J(2, kappa*rho) - bessel_J(0, kappa*rho))*cos(h*k_1)^2 - c^2*(bessel_J(2, kappa*rho) - bessel_J(0, kappa*rho)))*kappa^3*r1*rho - 2*((2*epsilon_1*bessel_J(0, kappa*rho)*cos(h*k_1)^2 - epsilon_1*bessel_J(0, kappa*rho))*kappa*mu_1*omega^2 + (2*c^2*bessel_J(1, kappa*rho)*cos(h*k_1)^2 - c^2*bessel_J(1, kappa*rho))*kappa^2)*r1)*sin(k_1*z)^2)/(2*(c^2*kappa^3*rho*(bessel_J(2, kappa*rho) - bessel_J(0, kappa*rho))*cos(h*k_1)*sin(h*k_1) - 2*epsilon_1*kappa*mu_1*omega^2*bessel_J(0, kappa*rho)*cos(h*k_1)*sin(h*k_1) - 2*c^2*kappa^2*bessel_J(1, kappa*rho)*cos(h*k_1)*sin(h*k_1))*cos(k_1*z)^2 + (4*c^2*k_1^2*bessel_J(1, kappa*rho)*cos(h*k_1)^2 + 2*(2*epsilon_1*bessel_J(0, kappa*rho)*cos(h*k_1)^2 - epsilon_1*bessel_J(0, kappa*rho))*kappa*mu_1*omega^2 - 2*c^2*k_1^2*bessel_J(1, kappa*rho) + 2*(2*c^2*bessel_J(1, kappa*rho)*cos(h*k_1)^2 - c^2*bessel_J(1, kappa*rho))*kappa^2 - ((2*c^2*(bessel_J(2, kappa*rho) - bessel_J(0, kappa*rho))*cos(h*k_1)^2 - c^2*(bessel_J(2, kappa*rho) - bessel_J(0, kappa*rho)))*kappa^3 + (2*c^2*k_1^2*(bessel_J(2, kappa*rho) - bessel_J(0, kappa*rho))*cos(h*k_1)^2 - c^2*k_1^2*(bessel_J(2, kappa*rho) - bessel_J(0, kappa*rho)))*kappa)*rho)*cos(k_1*z)*sin(k_1*z) - 2*(c^2*k_1^2*kappa*rho*(bessel_J(2, kappa*rho) - bessel_J(0, kappa*rho))*cos(h*k_1)*sin(h*k_1) - 2*c^2*k_1^2*bessel_J(1, kappa*rho)*cos(h*k_1)*sin(h*k_1))*sin(k_1*z)^2),\n",
       " A_r_1 == r1,\n",
       " A_z_1 == ((4*B_z_1*c^2*k_1^2*bessel_J(1, kappa*rho)*cos(h*k_1)^2 - 2*B_z_1*c^2*k_1^2*bessel_J(1, kappa*rho) - (2*B_z_1*c^2*k_1^2*(bessel_J(2, kappa*rho) - bessel_J(0, kappa*rho))*cos(h*k_1)^2 - B_z_1*c^2*k_1^2*(bessel_J(2, kappa*rho) - bessel_J(0, kappa*rho)))*kappa*rho)*cos(k_1*z)^2 + 2*(2*B_z_1*epsilon_1*kappa*mu_1*omega^2*bessel_J(0, kappa*rho)*cos(h*k_1)*sin(h*k_1) + 2*B_z_1*c^2*k_1^2*bessel_J(1, kappa*rho)*cos(h*k_1)*sin(h*k_1) + 2*B_z_1*c^2*kappa^2*bessel_J(1, kappa*rho)*cos(h*k_1)*sin(h*k_1) - (B_z_1*c^2*k_1^2*kappa*(bessel_J(2, kappa*rho) - bessel_J(0, kappa*rho))*cos(h*k_1)*sin(h*k_1) + B_z_1*c^2*kappa^3*(bessel_J(2, kappa*rho) - bessel_J(0, kappa*rho))*cos(h*k_1)*sin(h*k_1))*rho)*cos(k_1*z)*sin(k_1*z) - (2*(2*B_z_1*epsilon_1*bessel_J(0, kappa*rho)*cos(h*k_1)^2 - B_z_1*epsilon_1*bessel_J(0, kappa*rho))*kappa*mu_1*omega^2 - (2*B_z_1*c^2*(bessel_J(2, kappa*rho) - bessel_J(0, kappa*rho))*cos(h*k_1)^2 - B_z_1*c^2*(bessel_J(2, kappa*rho) - bessel_J(0, kappa*rho)))*kappa^3*rho + 2*(2*B_z_1*c^2*bessel_J(1, kappa*rho)*cos(h*k_1)^2 - B_z_1*c^2*bessel_J(1, kappa*rho))*kappa^2)*sin(k_1*z)^2)/(2*(c^2*kappa^3*rho*(bessel_J(2, kappa*rho) - bessel_J(0, kappa*rho))*cos(h*k_1)*sin(h*k_1) - 2*epsilon_1*kappa*mu_1*omega^2*bessel_J(0, kappa*rho)*cos(h*k_1)*sin(h*k_1) - 2*c^2*kappa^2*bessel_J(1, kappa*rho)*cos(h*k_1)*sin(h*k_1))*cos(k_1*z)^2 + (4*c^2*k_1^2*bessel_J(1, kappa*rho)*cos(h*k_1)^2 + 2*(2*epsilon_1*bessel_J(0, kappa*rho)*cos(h*k_1)^2 - epsilon_1*bessel_J(0, kappa*rho))*kappa*mu_1*omega^2 - 2*c^2*k_1^2*bessel_J(1, kappa*rho) + 2*(2*c^2*bessel_J(1, kappa*rho)*cos(h*k_1)^2 - c^2*bessel_J(1, kappa*rho))*kappa^2 - ((2*c^2*(bessel_J(2, kappa*rho) - bessel_J(0, kappa*rho))*cos(h*k_1)^2 - c^2*(bessel_J(2, kappa*rho) - bessel_J(0, kappa*rho)))*kappa^3 + (2*c^2*k_1^2*(bessel_J(2, kappa*rho) - bessel_J(0, kappa*rho))*cos(h*k_1)^2 - c^2*k_1^2*(bessel_J(2, kappa*rho) - bessel_J(0, kappa*rho)))*kappa)*rho)*cos(k_1*z)*sin(k_1*z) - 2*(c^2*k_1^2*kappa*rho*(bessel_J(2, kappa*rho) - bessel_J(0, kappa*rho))*cos(h*k_1)*sin(h*k_1) - 2*c^2*k_1^2*bessel_J(1, kappa*rho)*cos(h*k_1)*sin(h*k_1))*sin(k_1*z)^2),\n",
       " B_z_1 == (2*(A_z_1*c^2*kappa^3*rho*(bessel_J(2, kappa*rho) - bessel_J(0, kappa*rho))*cos(h*k_1)*sin(h*k_1) - 2*A_z_1*epsilon_1*kappa*mu_1*omega^2*bessel_J(0, kappa*rho)*cos(h*k_1)*sin(h*k_1) - 2*A_z_1*c^2*kappa^2*bessel_J(1, kappa*rho)*cos(h*k_1)*sin(h*k_1))*cos(k_1*z)^2 + (4*A_z_1*c^2*k_1^2*bessel_J(1, kappa*rho)*cos(h*k_1)^2 - 2*A_z_1*c^2*k_1^2*bessel_J(1, kappa*rho) + 2*(2*A_z_1*epsilon_1*bessel_J(0, kappa*rho)*cos(h*k_1)^2 - A_z_1*epsilon_1*bessel_J(0, kappa*rho))*kappa*mu_1*omega^2 + 2*(2*A_z_1*c^2*bessel_J(1, kappa*rho)*cos(h*k_1)^2 - A_z_1*c^2*bessel_J(1, kappa*rho))*kappa^2 - ((2*A_z_1*c^2*(bessel_J(2, kappa*rho) - bessel_J(0, kappa*rho))*cos(h*k_1)^2 - A_z_1*c^2*(bessel_J(2, kappa*rho) - bessel_J(0, kappa*rho)))*kappa^3 + (2*A_z_1*c^2*k_1^2*(bessel_J(2, kappa*rho) - bessel_J(0, kappa*rho))*cos(h*k_1)^2 - A_z_1*c^2*k_1^2*(bessel_J(2, kappa*rho) - bessel_J(0, kappa*rho)))*kappa)*rho)*cos(k_1*z)*sin(k_1*z) - 2*(A_z_1*c^2*k_1^2*kappa*rho*(bessel_J(2, kappa*rho) - bessel_J(0, kappa*rho))*cos(h*k_1)*sin(h*k_1) - 2*A_z_1*c^2*k_1^2*bessel_J(1, kappa*rho)*cos(h*k_1)*sin(h*k_1))*sin(k_1*z)^2)/((4*c^2*k_1^2*bessel_J(1, kappa*rho)*cos(h*k_1)^2 - 2*c^2*k_1^2*bessel_J(1, kappa*rho) - (2*c^2*k_1^2*(bessel_J(2, kappa*rho) - bessel_J(0, kappa*rho))*cos(h*k_1)^2 - c^2*k_1^2*(bessel_J(2, kappa*rho) - bessel_J(0, kappa*rho)))*kappa*rho)*cos(k_1*z)^2 + 2*(2*epsilon_1*kappa*mu_1*omega^2*bessel_J(0, kappa*rho)*cos(h*k_1)*sin(h*k_1) + 2*c^2*k_1^2*bessel_J(1, kappa*rho)*cos(h*k_1)*sin(h*k_1) + 2*c^2*kappa^2*bessel_J(1, kappa*rho)*cos(h*k_1)*sin(h*k_1) - (c^2*k_1^2*kappa*(bessel_J(2, kappa*rho) - bessel_J(0, kappa*rho))*cos(h*k_1)*sin(h*k_1) + c^2*kappa^3*(bessel_J(2, kappa*rho) - bessel_J(0, kappa*rho))*cos(h*k_1)*sin(h*k_1))*rho)*cos(k_1*z)*sin(k_1*z) - (2*(2*epsilon_1*bessel_J(0, kappa*rho)*cos(h*k_1)^2 - epsilon_1*bessel_J(0, kappa*rho))*kappa*mu_1*omega^2 - (2*c^2*(bessel_J(2, kappa*rho) - bessel_J(0, kappa*rho))*cos(h*k_1)^2 - c^2*(bessel_J(2, kappa*rho) - bessel_J(0, kappa*rho)))*kappa^3*rho + 2*(2*c^2*bessel_J(1, kappa*rho)*cos(h*k_1)^2 - c^2*bessel_J(1, kappa*rho))*kappa^2)*sin(k_1*z)^2),\n",
       " B_r_1 == r1,\n",
       " A_z_1 == ((4*B_z_1*c^2*k_1^2*bessel_J(1, kappa*rho)*cos(h*k_1)^2 - 2*B_z_1*c^2*k_1^2*bessel_J(1, kappa*rho) - (2*B_z_1*c^2*k_1^2*(bessel_J(2, kappa*rho) - bessel_J(0, kappa*rho))*cos(h*k_1)^2 - B_z_1*c^2*k_1^2*(bessel_J(2, kappa*rho) - bessel_J(0, kappa*rho)))*kappa*rho)*cos(k_1*z)^2 + 2*(2*B_z_1*epsilon_1*kappa*mu_1*omega^2*bessel_J(0, kappa*rho)*cos(h*k_1)*sin(h*k_1) + 2*B_z_1*c^2*k_1^2*bessel_J(1, kappa*rho)*cos(h*k_1)*sin(h*k_1) + 2*B_z_1*c^2*kappa^2*bessel_J(1, kappa*rho)*cos(h*k_1)*sin(h*k_1) - (B_z_1*c^2*k_1^2*kappa*(bessel_J(2, kappa*rho) - bessel_J(0, kappa*rho))*cos(h*k_1)*sin(h*k_1) + B_z_1*c^2*kappa^3*(bessel_J(2, kappa*rho) - bessel_J(0, kappa*rho))*cos(h*k_1)*sin(h*k_1))*rho)*cos(k_1*z)*sin(k_1*z) - (2*(2*B_z_1*epsilon_1*bessel_J(0, kappa*rho)*cos(h*k_1)^2 - B_z_1*epsilon_1*bessel_J(0, kappa*rho))*kappa*mu_1*omega^2 - (2*B_z_1*c^2*(bessel_J(2, kappa*rho) - bessel_J(0, kappa*rho))*cos(h*k_1)^2 - B_z_1*c^2*(bessel_J(2, kappa*rho) - bessel_J(0, kappa*rho)))*kappa^3*rho + 2*(2*B_z_1*c^2*bessel_J(1, kappa*rho)*cos(h*k_1)^2 - B_z_1*c^2*bessel_J(1, kappa*rho))*kappa^2)*sin(k_1*z)^2)/(2*(c^2*kappa^3*rho*(bessel_J(2, kappa*rho) - bessel_J(0, kappa*rho))*cos(h*k_1)*sin(h*k_1) - 2*epsilon_1*kappa*mu_1*omega^2*bessel_J(0, kappa*rho)*cos(h*k_1)*sin(h*k_1) - 2*c^2*kappa^2*bessel_J(1, kappa*rho)*cos(h*k_1)*sin(h*k_1))*cos(k_1*z)^2 + (4*c^2*k_1^2*bessel_J(1, kappa*rho)*cos(h*k_1)^2 + 2*(2*epsilon_1*bessel_J(0, kappa*rho)*cos(h*k_1)^2 - epsilon_1*bessel_J(0, kappa*rho))*kappa*mu_1*omega^2 - 2*c^2*k_1^2*bessel_J(1, kappa*rho) + 2*(2*c^2*bessel_J(1, kappa*rho)*cos(h*k_1)^2 - c^2*bessel_J(1, kappa*rho))*kappa^2 - ((2*c^2*(bessel_J(2, kappa*rho) - bessel_J(0, kappa*rho))*cos(h*k_1)^2 - c^2*(bessel_J(2, kappa*rho) - bessel_J(0, kappa*rho)))*kappa^3 + (2*c^2*k_1^2*(bessel_J(2, kappa*rho) - bessel_J(0, kappa*rho))*cos(h*k_1)^2 - c^2*k_1^2*(bessel_J(2, kappa*rho) - bessel_J(0, kappa*rho)))*kappa)*rho)*cos(k_1*z)*sin(k_1*z) - 2*(c^2*k_1^2*kappa*rho*(bessel_J(2, kappa*rho) - bessel_J(0, kappa*rho))*cos(h*k_1)*sin(h*k_1) - 2*c^2*k_1^2*bessel_J(1, kappa*rho)*cos(h*k_1)*sin(h*k_1))*sin(k_1*z)^2),\n",
       " B_z_1 == (2*(A_z_1*c^2*kappa^3*rho*(bessel_J(2, kappa*rho) - bessel_J(0, kappa*rho))*cos(h*k_1)*sin(h*k_1) - 2*A_z_1*epsilon_1*kappa*mu_1*omega^2*bessel_J(0, kappa*rho)*cos(h*k_1)*sin(h*k_1) - 2*A_z_1*c^2*kappa^2*bessel_J(1, kappa*rho)*cos(h*k_1)*sin(h*k_1))*cos(k_1*z)^2 + (4*A_z_1*c^2*k_1^2*bessel_J(1, kappa*rho)*cos(h*k_1)^2 - 2*A_z_1*c^2*k_1^2*bessel_J(1, kappa*rho) + 2*(2*A_z_1*epsilon_1*bessel_J(0, kappa*rho)*cos(h*k_1)^2 - A_z_1*epsilon_1*bessel_J(0, kappa*rho))*kappa*mu_1*omega^2 + 2*(2*A_z_1*c^2*bessel_J(1, kappa*rho)*cos(h*k_1)^2 - A_z_1*c^2*bessel_J(1, kappa*rho))*kappa^2 - ((2*A_z_1*c^2*(bessel_J(2, kappa*rho) - bessel_J(0, kappa*rho))*cos(h*k_1)^2 - A_z_1*c^2*(bessel_J(2, kappa*rho) - bessel_J(0, kappa*rho)))*kappa^3 + (2*A_z_1*c^2*k_1^2*(bessel_J(2, kappa*rho) - bessel_J(0, kappa*rho))*cos(h*k_1)^2 - A_z_1*c^2*k_1^2*(bessel_J(2, kappa*rho) - bessel_J(0, kappa*rho)))*kappa)*rho)*cos(k_1*z)*sin(k_1*z) - 2*(A_z_1*c^2*k_1^2*kappa*rho*(bessel_J(2, kappa*rho) - bessel_J(0, kappa*rho))*cos(h*k_1)*sin(h*k_1) - 2*A_z_1*c^2*k_1^2*bessel_J(1, kappa*rho)*cos(h*k_1)*sin(h*k_1))*sin(k_1*z)^2)/((4*c^2*k_1^2*bessel_J(1, kappa*rho)*cos(h*k_1)^2 - 2*c^2*k_1^2*bessel_J(1, kappa*rho) - (2*c^2*k_1^2*(bessel_J(2, kappa*rho) - bessel_J(0, kappa*rho))*cos(h*k_1)^2 - c^2*k_1^2*(bessel_J(2, kappa*rho) - bessel_J(0, kappa*rho)))*kappa*rho)*cos(k_1*z)^2 + 2*(2*epsilon_1*kappa*mu_1*omega^2*bessel_J(0, kappa*rho)*cos(h*k_1)*sin(h*k_1) + 2*c^2*k_1^2*bessel_J(1, kappa*rho)*cos(h*k_1)*sin(h*k_1) + 2*c^2*kappa^2*bessel_J(1, kappa*rho)*cos(h*k_1)*sin(h*k_1) - (c^2*k_1^2*kappa*(bessel_J(2, kappa*rho) - bessel_J(0, kappa*rho))*cos(h*k_1)*sin(h*k_1) + c^2*kappa^3*(bessel_J(2, kappa*rho) - bessel_J(0, kappa*rho))*cos(h*k_1)*sin(h*k_1))*rho)*cos(k_1*z)*sin(k_1*z) - (2*(2*epsilon_1*bessel_J(0, kappa*rho)*cos(h*k_1)^2 - epsilon_1*bessel_J(0, kappa*rho))*kappa*mu_1*omega^2 - (2*c^2*(bessel_J(2, kappa*rho) - bessel_J(0, kappa*rho))*cos(h*k_1)^2 - c^2*(bessel_J(2, kappa*rho) - bessel_J(0, kappa*rho)))*kappa^3*rho + 2*(2*c^2*bessel_J(1, kappa*rho)*cos(h*k_1)^2 - c^2*bessel_J(1, kappa*rho))*kappa^2)*sin(k_1*z)^2),\n",
       " A_z_1 == r1,\n",
       " A_z_1 == r1,\n",
       " B_z_1 == r1,\n",
       " A_r_1 == r1,\n",
       " B_r_1 == r1,\n",
       " B_z_1 == r1,\n",
       " A_z_1 == r1,\n",
       " B_z_1 == r1,\n",
       " A_r_1 == r1,\n",
       " B_r_1 == r1,\n",
       " A_r_1 == r1,\n",
       " A_z_1 == r1,\n",
       " B_z_1 == r1,\n",
       " A_r_1 == r1,\n",
       " B_r_1 == r1,\n",
       " B_r_1 == r1,\n",
       " A_z_1 == r1,\n",
       " B_z_1 == r1,\n",
       " A_r_1 == r1,\n",
       " B_r_1 == r1]"
      ]
     },
     "execution_count": 72,
     "metadata": {
     },
     "output_type": "execute_result"
    }
   ],
   "source": [
    "res_rot_H"
   ]
  },
  {
   "cell_type": "code",
   "execution_count": 73,
   "metadata": {
    "collapsed": false
   },
   "outputs": [
    {
     "ename": "NameError",
     "evalue": "name 'A' is not defined",
     "output_type": "error",
     "traceback": [
      "\u001b[0;31m---------------------------------------------------------------------------\u001b[0m",
      "\u001b[0;31mNameError\u001b[0m                                 Traceback (most recent call last)",
      "\u001b[0;32m<ipython-input-73-4cc24e04b123>\u001b[0m in \u001b[0;36m<module>\u001b[0;34m()\u001b[0m\n\u001b[0;32m----> 1\u001b[0;31m \u001b[0mM\u001b[0m \u001b[0;34m=\u001b[0m \u001b[0mGenerateMatrix\u001b[0m\u001b[0;34m(\u001b[0m\u001b[0mbc\u001b[0m\u001b[0;34m,\u001b[0m\u001b[0mA\u001b[0m\u001b[0;34m)\u001b[0m\u001b[0;34m\u001b[0m\u001b[0;34m\u001b[0m\u001b[0m\n\u001b[0m",
      "\u001b[0;31mNameError\u001b[0m: name 'A' is not defined"
     ]
    }
   ],
   "source": [
    "M = GenerateMatrix(bc,A)"
   ]
  },
  {
   "cell_type": "code",
   "execution_count": 0,
   "metadata": {
    "collapsed": false
   },
   "outputs": [
   ],
   "source": [
    "M"
   ]
  },
  {
   "cell_type": "code",
   "execution_count": 0,
   "metadata": {
    "collapsed": false
   },
   "outputs": [
   ],
   "source": [
    "M_det  = M.det()"
   ]
  },
  {
   "cell_type": "code",
   "execution_count": 0,
   "metadata": {
    "collapsed": false
   },
   "outputs": [
   ],
   "source": [
    "M_det = M_det.full_simplify ()"
   ]
  },
  {
   "cell_type": "code",
   "execution_count": 0,
   "metadata": {
    "collapsed": false
   },
   "outputs": [
   ],
   "source": [
    "M_det"
   ]
  },
  {
   "cell_type": "code",
   "execution_count": 0,
   "metadata": {
    "collapsed": false
   },
   "outputs": [
   ],
   "source": [
    "M_det_num = M_det.numerator()"
   ]
  },
  {
   "cell_type": "code",
   "execution_count": 0,
   "metadata": {
    "collapsed": false
   },
   "outputs": [
   ],
   "source": [
    "M_det_num"
   ]
  },
  {
   "cell_type": "code",
   "execution_count": 0,
   "metadata": {
    "collapsed": false
   },
   "outputs": [
   ],
   "source": [
    "M_det_num = ( M_det_num/ (c^2 *kappa) ).full_simplify ()"
   ]
  },
  {
   "cell_type": "code",
   "execution_count": 0,
   "metadata": {
    "collapsed": false
   },
   "outputs": [
   ],
   "source": [
    "M_det_num"
   ]
  },
  {
   "cell_type": "code",
   "execution_count": 0,
   "metadata": {
    "collapsed": false
   },
   "outputs": [
   ],
   "source": [
    "for i  in range(n_layers):    M_det_num = (M_det_num/cos(k[i]*h)).full_simplify ().expand()"
   ]
  },
  {
   "cell_type": "code",
   "execution_count": 0,
   "metadata": {
    "collapsed": false
   },
   "outputs": [
   ],
   "source": [
    "M_det_num"
   ]
  },
  {
   "cell_type": "code",
   "execution_count": 0,
   "metadata": {
    "collapsed": false
   },
   "outputs": [
   ],
   "source": [
    "for m in [0,1]:\n",
    "    M_det_num = (M_det_num/bessel_J(m,kappa * rh)).full_simplify ().expand ()"
   ]
  },
  {
   "cell_type": "code",
   "execution_count": 0,
   "metadata": {
    "collapsed": false
   },
   "outputs": [
   ],
   "source": [
    "M_det_num"
   ]
  },
  {
   "cell_type": "code",
   "execution_count": 0,
   "metadata": {
    "collapsed": false
   },
   "outputs": [
   ],
   "source": [
   ]
  },
  {
   "cell_type": "code",
   "execution_count": 0,
   "metadata": {
    "collapsed": false
   },
   "outputs": [
   ],
   "source": [
    "for i in range(n_layers):    M_det_num  =(M_det_num/(epsilon [i]^2 * mu[i])).full_simplify ().expand ()"
   ]
  },
  {
   "cell_type": "code",
   "execution_count": 0,
   "metadata": {
    "collapsed": false
   },
   "outputs": [
   ],
   "source": [
    "M_det_num"
   ]
  },
  {
   "cell_type": "code",
   "execution_count": 0,
   "metadata": {
    "collapsed": false
   },
   "outputs": [
   ],
   "source": [
    "disp_eq = M_det_num == 0"
   ]
  },
  {
   "cell_type": "code",
   "execution_count": 0,
   "metadata": {
    "collapsed": false
   },
   "outputs": [
   ],
   "source": [
    "disp_eq"
   ]
  },
  {
   "cell_type": "code",
   "execution_count": 0,
   "metadata": {
    "collapsed": false
   },
   "outputs": [
   ],
   "source": [
    "bch"
   ]
  },
  {
   "cell_type": "code",
   "execution_count": 0,
   "metadata": {
    "collapsed": false
   },
   "outputs": [
   ],
   "source": [
    "bchs = []\n",
    "for i in range(n_layers-1):\n",
    "    bchs +=  [solve (bch, A[i+1])[0].full_simplify ().expand () ]"
   ]
  },
  {
   "cell_type": "code",
   "execution_count": 0,
   "metadata": {
    "collapsed": false
   },
   "outputs": [
   ],
   "source": [
    "bchs"
   ]
  },
  {
   "cell_type": "code",
   "execution_count": 0,
   "metadata": {
    "collapsed": false
   },
   "outputs": [
   ],
   "source": [
   ]
  },
  {
   "cell_type": "code",
   "execution_count": 0,
   "metadata": {
    "collapsed": false
   },
   "outputs": [
   ],
   "source": [
    "E_rho = []\n",
    "for i in range(n_layers):       E_rho += [ lambda rh, ph, z, i=i : E_rhs[i](rh,ph,z).subs(boundary_subs).subs(bchs) ]"
   ]
  },
  {
   "cell_type": "code",
   "execution_count": 0,
   "metadata": {
    "collapsed": false
   },
   "outputs": [
   ],
   "source": [
    "E_zz = []\n",
    "for i in range(n_layers):       E_zz += [ lambda rh, ph, z, i=i : E_z[i](rh,ph,z).subs(boundary_subs).subs(bchs) ]"
   ]
  },
  {
   "cell_type": "code",
   "execution_count": 0,
   "metadata": {
    "collapsed": false
   },
   "outputs": [
   ],
   "source": [
    "H_phi = []\n",
    "for i in range(n_layers):       H_phi += [ lambda rh, ph, z, i=i : H_phs[i](rh,ph,z).subs(boundary_subs).subs(bchs) ]\n"
   ]
  },
  {
   "cell_type": "code",
   "execution_count": 0,
   "metadata": {
    "collapsed": false
   },
   "outputs": [
   ],
   "source": [
    "E_rho [1](rh,ph,z)"
   ]
  },
  {
   "cell_type": "code",
   "execution_count": 0,
   "metadata": {
    "collapsed": false
   },
   "outputs": [
   ],
   "source": [
    "E_zz[1](rh,ph,z)"
   ]
  },
  {
   "cell_type": "code",
   "execution_count": 0,
   "metadata": {
    "collapsed": false
   },
   "outputs": [
   ],
   "source": [
    "H_phi[1](rh,ph,z)"
   ]
  },
  {
   "cell_type": "code",
   "execution_count": 0,
   "metadata": {
    "collapsed": false
   },
   "outputs": [
   ],
   "source": [
    "eq_kappa"
   ]
  },
  {
   "cell_type": "code",
   "execution_count": 0,
   "metadata": {
    "collapsed": false
   },
   "outputs": [
   ],
   "source": [
    "disp_eq"
   ]
  },
  {
   "cell_type": "code",
   "execution_count": 0,
   "metadata": {
    "collapsed": false
   },
   "outputs": [
   ],
   "source": [
    "bessel_root_1 = find_root (bessel_J(0,x),  0, pi)"
   ]
  },
  {
   "cell_type": "code",
   "execution_count": 0,
   "metadata": {
    "collapsed": false
   },
   "outputs": [
   ],
   "source": [
    "bessel_root_2 =  find_root (bessel_J(0,x),  pi, pi*2)"
   ]
  },
  {
   "cell_type": "code",
   "execution_count": 0,
   "metadata": {
    "collapsed": false,
    "scrolled": true
   },
   "outputs": [
   ],
   "source": [
    "kappa_d1 = bessel_root_1/a"
   ]
  },
  {
   "cell_type": "code",
   "execution_count": 0,
   "metadata": {
    "collapsed": false
   },
   "outputs": [
   ],
   "source": [
    "#sgs\n",
    "lambda_d = 632*100*10^-9\n",
    "# 632 nm\n",
    "digit_values = [a == 12, mu[0] == 1, mu[1] == 1, epsilon[0] == 2.468^2, epsilon[1] == 1.67^2]\n",
    "\n",
    "c_value  = [ c == 299792458 * 100]\n",
    "\n",
    "omega_value = [ omega  == ((2*pi * c)/ lambda_d).subs (c_value) ]"
   ]
  },
  {
   "cell_type": "code",
   "execution_count": 0,
   "metadata": {
    "collapsed": false
   },
   "outputs": [
   ],
   "source": [
    "eq_kappa_d =[]\n",
    "for i in range(n_layers):\n",
    "    eq_kappa_d += [eq_kappa[i].subs(kappa == kappa_d1).subs(digit_values).subs (c_value).subs(omega_value)]"
   ]
  },
  {
   "cell_type": "code",
   "execution_count": 0,
   "metadata": {
    "collapsed": false,
    "scrolled": true
   },
   "outputs": [
   ],
   "source": [
    "eq_kappa_d"
   ]
  },
  {
   "cell_type": "code",
   "execution_count": 0,
   "metadata": {
    "collapsed": false
   },
   "outputs": [
   ],
   "source": [
    "disp_eq_d = disp_eq.subs(digit_values).subs (c_value)"
   ]
  },
  {
   "cell_type": "code",
   "execution_count": 0,
   "metadata": {
    "collapsed": false
   },
   "outputs": [
   ],
   "source": [
    "disp_eq_d"
   ]
  },
  {
   "cell_type": "code",
   "execution_count": 0,
   "metadata": {
    "collapsed": false
   },
   "outputs": [
   ],
   "source": [
    "k_values = []\n",
    "for i in range(n_layers):\n",
    "    assume (k [i] > 0)\n",
    "    k_values += solve (eq_kappa_d[i], k[i])"
   ]
  },
  {
   "cell_type": "code",
   "execution_count": 0,
   "metadata": {
    "collapsed": false
   },
   "outputs": [
   ],
   "source": [
    "k_values"
   ]
  },
  {
   "cell_type": "code",
   "execution_count": 0,
   "metadata": {
    "collapsed": false
   },
   "outputs": [
   ],
   "source": [
    "k_values_d = []\n",
    "for i in range(n_layers):\n",
    "    k_values_d += [k_values [i].lhs() == k_values [i].rhs().n() ]"
   ]
  },
  {
   "cell_type": "code",
   "execution_count": 0,
   "metadata": {
    "collapsed": false
   },
   "outputs": [
   ],
   "source": [
    "k_values_d"
   ]
  },
  {
   "cell_type": "code",
   "execution_count": 0,
   "metadata": {
    "collapsed": false
   },
   "outputs": [
   ],
   "source": [
    "disp_eq_s = disp_eq_d.subs(k_values_d)"
   ]
  },
  {
   "cell_type": "code",
   "execution_count": 0,
   "metadata": {
    "collapsed": false
   },
   "outputs": [
   ],
   "source": [
    "disp_eq_s"
   ]
  },
  {
   "cell_type": "code",
   "execution_count": 0,
   "metadata": {
    "collapsed": false
   },
   "outputs": [
   ],
   "source": [
    "disp_eq_brakes = []\n",
    "for i in range(n_layers):\n",
    "    disp_eq_brake = find_root( cos(k_values_d[i].rhs()*x) == 0, lambda_d/32, lambda_d/4)\n",
    "    for j in range (3):\n",
    "        disp_eq_brakes += [ j * pi / k_values_d [i].rhs() + disp_eq_brake]"
   ]
  },
  {
   "cell_type": "code",
   "execution_count": 0,
   "metadata": {
    "collapsed": false
   },
   "outputs": [
   ],
   "source": [
    "disp_eq_brakes"
   ]
  },
  {
   "cell_type": "code",
   "execution_count": 0,
   "metadata": {
    "collapsed": false
   },
   "outputs": [
   ],
   "source": [
   ]
  },
  {
   "cell_type": "code",
   "execution_count": 0,
   "metadata": {
    "collapsed": false
   },
   "outputs": [
   ],
   "source": [
   ]
  },
  {
   "cell_type": "code",
   "execution_count": 0,
   "metadata": {
    "collapsed": false
   },
   "outputs": [
   ],
   "source": [
    "p = sage.plot.graphics.Graphics()\n",
    "for i in range(n_layers):   p += plot ( cos(k_values_d[i].rhs()* x), lambda_d/32, lambda_d/4)\n",
    "\n",
    "p.show()"
   ]
  },
  {
   "cell_type": "code",
   "execution_count": 0,
   "metadata": {
    "collapsed": false,
    "scrolled": true
   },
   "outputs": [
   ],
   "source": [
    "disp_eq_brakes"
   ]
  },
  {
   "cell_type": "code",
   "execution_count": 0,
   "metadata": {
    "collapsed": false
   },
   "outputs": [
   ],
   "source": [
    "disp_eq_brakes.sort()"
   ]
  },
  {
   "cell_type": "code",
   "execution_count": 0,
   "metadata": {
    "collapsed": false,
    "scrolled": true
   },
   "outputs": [
   ],
   "source": [
    "for i in range(len(disp_eq_brakes)):\n",
    "    display(Math(latex(disp_eq_brakes [i].n())))"
   ]
  },
  {
   "cell_type": "code",
   "execution_count": 0,
   "metadata": {
    "collapsed": false
   },
   "outputs": [
   ],
   "source": [
    "disp_eq_s.lhs ().subs(h  == disp_eq_brakes [0] + lambda_d/64)"
   ]
  },
  {
   "cell_type": "code",
   "execution_count": 0,
   "metadata": {
    "collapsed": false
   },
   "outputs": [
   ],
   "source": [
    "p = sage.plot.graphics.Graphics()\n",
    "ylim = 100000*5\n",
    "xeps = lambda_d/1024\n",
    "p += plot(disp_eq_s.lhs(), xeps, disp_eq_brakes[0])\n",
    "for i in range(len(disp_eq_brakes)-1):   p += plot (disp_eq_s.lhs(), disp_eq_brakes[i] + xeps, disp_eq_brakes[i+1] - xeps, ymin = -ylim, ymax = ylim)\n",
    "\n",
    "p.show()"
   ]
  },
  {
   "cell_type": "code",
   "execution_count": 0,
   "metadata": {
    "collapsed": false
   },
   "outputs": [
   ],
   "source": [
    "h_lst =[]\n",
    "\n",
    "xeps = lambda_d/1024\n",
    "for i in range(len(disp_eq_brakes)-1):\n",
    "    try:\n",
    "        \n",
    "        h_lst += [find_root (disp_eq_s.lhs(), disp_eq_brakes[i] + xeps, disp_eq_brakes[i+1] - xeps)]\n",
    "    except  Exception as ex:\n",
    "        print(str(ex))\n",
    "        print(disp_eq_brakes[i].n())\n",
    "        print(disp_eq_brakes [i+1].n())\n",
    "\n"
   ]
  },
  {
   "cell_type": "code",
   "execution_count": 0,
   "metadata": {
    "collapsed": false
   },
   "outputs": [
   ],
   "source": [
    "h_lst "
   ]
  },
  {
   "cell_type": "code",
   "execution_count": 0,
   "metadata": {
    "collapsed": false
   },
   "outputs": [
   ],
   "source": [
    "def find_newton_root(f,x,a,b):\n",
    "    df = f.diff(x)\n",
    "    NewtonIt(x)=x-(f/df)(x)\n",
    "    \n",
    "    xn=(a+b)/2;                      # initial guess\n",
    "\n",
    "    print (xn)\n",
    "    for i in range(10):\n",
    "        xn=N(NewtonIt(xn),digits=20)\n",
    "\n",
    "        \n",
    "        print (xn)\n",
    "\n",
    "    return xn"
   ]
  },
  {
   "cell_type": "code",
   "execution_count": 0,
   "metadata": {
    "collapsed": false
   },
   "outputs": [
   ],
   "source": [
    "h_lst =[]\n",
    "\n",
    "xeps = lambda_d/1024\n",
    "for i in range(len(disp_eq_brakes)-1):\n",
    "    try:\n",
    "        h_lst += [find_newton_root (disp_eq_s.lhs(),h,disp_eq_brakes[i] + xeps, disp_eq_brakes[i+1] - xeps)]\n",
    "    except  Exception as ex:\n",
    "        print(str(ex))\n",
    "        print(disp_eq_brakes[i].n())\n",
    "        print(disp_eq_brakes [i+1].n())\n",
    "\n"
   ]
  },
  {
   "cell_type": "code",
   "execution_count": 0,
   "metadata": {
    "collapsed": false
   },
   "outputs": [
   ],
   "source": [
    "h_lst"
   ]
  },
  {
   "cell_type": "code",
   "execution_count": 0,
   "metadata": {
    "collapsed": false
   },
   "outputs": [
   ],
   "source": [
    "h_sol = h_lst[0]"
   ]
  },
  {
   "cell_type": "code",
   "execution_count": 0,
   "metadata": {
    "collapsed": false
   },
   "outputs": [
   ],
   "source": [
    "h_sol"
   ]
  },
  {
   "cell_type": "code",
   "execution_count": 0,
   "metadata": {
    "collapsed": false
   },
   "outputs": [
   ],
   "source": [
    "E_rho_sol = []\n",
    "for i in range(n_layers):\n",
    "    E_rho_sol += [lambda rh,ph,z,  i=i: E_rho[i](rh,ph,z).subs(digit_values).subs(h == h_sol).subs(omega_value).subs(kappa == kappa_d1).subs(c_value).subs(k_values_d).subs(A[0] == 1).subs (digit_values)]"
   ]
  },
  {
   "cell_type": "code",
   "execution_count": 0,
   "metadata": {
    "collapsed": false
   },
   "outputs": [
   ],
   "source": [
    "E_z_sol = []\n",
    "for i in range(n_layers):\n",
    "    E_z_sol += [lambda rh,ph,z,  i=i: E_zz[i](rh,ph,z).subs(digit_values).subs(h == h_sol).subs(omega_value).subs(kappa == kappa_d1).subs(c_value).subs(k_values_d).subs(A[0] == 1).subs (digit_values)]"
   ]
  },
  {
   "cell_type": "code",
   "execution_count": 0,
   "metadata": {
    "collapsed": false
   },
   "outputs": [
   ],
   "source": [
    "H_phi_sol = []\n",
    "for i in range(n_layers):\n",
    "    H_phi_sol += [lambda rh,ph,z,  i=i: H_phi[i](rh,ph,z).subs(digit_values).subs(h == h_sol).subs(omega_value).subs(kappa == kappa_d1).subs(c_value).subs(k_values_d).subs(A[0] == 1).subs (digit_values)]"
   ]
  },
  {
   "cell_type": "code",
   "execution_count": 0,
   "metadata": {
    "collapsed": false
   },
   "outputs": [
   ],
   "source": [
    "[E_rho_sol [1](rho,ph,z) for rho in [0..12]]"
   ]
  },
  {
   "cell_type": "code",
   "execution_count": 0,
   "metadata": {
    "collapsed": false
   },
   "outputs": [
   ],
   "source": [
   ]
  },
  {
   "cell_type": "code",
   "execution_count": 0,
   "metadata": {
    "collapsed": false
   },
   "outputs": [
   ],
   "source": [
   ]
  },
  {
   "cell_type": "code",
   "execution_count": 0,
   "metadata": {
    "collapsed": false
   },
   "outputs": [
   ],
   "source": [
    "p = sage.plot.graphics.Graphics()\n",
    "\n",
    "for i in range(n_layers):    p += plot ([E_rho_sol[i](rh,ph,z).subs(rh == rho) for rho in [0..12]],(z, i* h_sol, (i+1)*h_sol))\n",
    "p.show ()\n"
   ]
  },
  {
   "cell_type": "code",
   "execution_count": 0,
   "metadata": {
    "collapsed": false
   },
   "outputs": [
   ],
   "source": [
    "p = sage.plot.graphics.Graphics()\n",
    "\n",
    "for i in range(n_layers):    p += plot ([E_z_sol[i](rh,ph,z).subs(rh == rho) for rho in [0..12]],(z, i* h_sol, (i+1)*h_sol))\n",
    "p.show ()\n"
   ]
  },
  {
   "cell_type": "code",
   "execution_count": 0,
   "metadata": {
    "collapsed": false
   },
   "outputs": [
   ],
   "source": [
    "p = sage.plot.graphics.Graphics()\n",
    "\n",
    "for i in range(n_layers):    p += plot ([H_phi_sol[i](rh,ph,z).subs(rh == rho) for rho in [0..12]],(z, i* h_sol, (i+1)*h_sol))\n",
    "p.show ()\n"
   ]
  },
  {
   "cell_type": "code",
   "execution_count": 0,
   "metadata": {
    "collapsed": false
   },
   "outputs": [
   ],
   "source": [
   ]
  },
  {
   "cell_type": "code",
   "execution_count": 0,
   "metadata": {
    "collapsed": false
   },
   "outputs": [
   ],
   "source": [
   ]
  },
  {
   "cell_type": "code",
   "execution_count": 0,
   "metadata": {
    "collapsed": false
   },
   "outputs": [
   ],
   "source": [
    "def rot_H_solve(M_rotH, vars, eq_kappa, k):\n",
    "    if (M_rotH.nrows() != 2):\n",
    "        return\n",
    "    if (M_rotH.ncols() != len(vars)):\n",
    "        return\n",
    "    xx = vector(SR, vars)\n",
    "    yy = vector(SR, [0, 0])\n",
    "    print(\"eqns =\")\n",
    "    eqns = [(M_rotH*xx)[index] == yy[index] for index in [0,1]]\n",
    "    display(Math(latex(eqns)))\n",
    "    res = []\n",
    "\n",
    "    for index in [0,1]:\n",
    "        row_M = M_rotH[index]\n",
    "        print(\"row_M =\")\n",
    "        display(Math(latex(row_M)))\n",
    "        eq = eqns[index].full_simplify()\n",
    "        print (\"eq =\")\n",
    "        display(Math(latex(eq)))\n",
    "        print (\"\")\n",
    "\n",
    "        eq2 = (eq / cos(k * z)).full_simplify().expand()\n",
    "        print (\"eq2 =\")\n",
    "        display(Math(latex(eq2)))\n",
    "\n",
    "        tg_kappa_x_coeff = eq2.lhs().coefficient(sin(k * z) / cos(k * z))\n",
    "        print (\"tg_kappa_x_coeff =\")\n",
    "        display(Math(latex(tg_kappa_x_coeff)))\n",
    "\n",
    "        eq_tg_kappa_x_coeff = tg_kappa_x_coeff == 0\n",
    "        for var in vars:\n",
    "            print (\"var =\")\n",
    "            display(Math(latex(var)))\n",
    "            sol_tg_kappa_x_coeff = solve(eq_tg_kappa_x_coeff, var)\n",
    "            print(\"sol_tg_kappa_x_coeff=\")\n",
    "            display(Math(latex(sol_tg_kappa_x_coeff)))\n",
    "            if len(sol_tg_kappa_x_coeff) > 0:\n",
    "                res += sol_tg_kappa_x_coeff\n",
    "\n",
    "                eq4 = eq.subs(sol_tg_kappa_x_coeff)\n",
    "                print (\"eq4 =\")\n",
    "                display(Math(latex(eq4)))\n",
    "\n",
    "                eq4 = eq4.full_simplify()\n",
    "                print (\"eq4 =\")\n",
    "                display(Math(latex(eq4)))\n",
    "\n",
    "                for var in vars:\n",
    "                    print (\"var =\")\n",
    "                    display(Math(latex(var)))\n",
    "                    print (\"\")\n",
    "                    sol = solve(eq4, var)\n",
    "                    print(\"sol=\")\n",
    "                    display(Math(latex(sol)))\n",
    "                    print (\"\")\n",
    "                    res += sol\n",
    "    return res"
   ]
  },
  {
   "cell_type": "code",
   "execution_count": 0,
   "metadata": {
    "collapsed": false
   },
   "outputs": [
   ],
   "source": [
   ]
  },
  {
   "cell_type": "code",
   "execution_count": 0,
   "metadata": {
    "collapsed": false
   },
   "outputs": [
   ],
   "source": [
   ]
  },
  {
   "cell_type": "code",
   "execution_count": 0,
   "metadata": {
    "collapsed": false
   },
   "outputs": [
   ],
   "source": [
    "exclude_vars = []"
   ]
  },
  {
   "cell_type": "code",
   "execution_count": 0,
   "metadata": {
    "collapsed": false,
    "scrolled": true
   },
   "outputs": [
   ],
   "source": [
    "res_rot_H = []\n",
    "for i in range(n_layers):\n",
    "    eqs_rotH = [(eqE_z[i]*(-I)*omega/c)\n",
    "                     .subs(solve(eq_kappa[i], omega^2))\n",
    "                     .subs(boundary_subs_begin).subs(boundary_subs_end)\n",
    "                     .full_simplify(),\n",
    "                (eqE_rh[i]*(-I)*omega/c)\n",
    "                     .subs(solve(eq_kappa[i], omega^2))\n",
    "                     .subs(boundary_subs_begin).subs(boundary_subs_end)\n",
    "                     .full_simplify(),\n",
    "               ]\n",
    "\n",
    "    print(\"eq_rot_H_z = \")\n",
    "    display(Math(latex(eqs_rotH[0])))\n",
    "    print(\"eq_rot_H_rh = \")\n",
    "    display(Math(latex(eqs_rotH[1])))\n",
    "    print(\"\")\n",
    "\n",
    "    vars_dielectric = [A[i], B[i]]\n",
    "\n",
    "    vars_dielectric = [var for var in vars_dielectric if var not in exclude_vars]\n",
    "    display(Math(latex(vars_dielectric)))\n",
    "    M_rotH = GenerateMatrix(eqs_rotH, vars_dielectric)\n",
    "    print (\"M_rotH =\")\n",
    "    display(Math(latex(M_rotH)))\n",
    "    print (\"M_rotH.nrows =\", M_rotH.nrows())\n",
    "    print (\"M_rotH.ncols =\", M_rotH.ncols())\n",
    "    print (\"M_rotH.rank =\", M_rotH.rank())\n",
    "    res_rot_H += rot_H_solve(M_rotH, vars_dielectric, eq_kappa[i], k[i])"
   ]
  },
  {
   "cell_type": "code",
   "execution_count": 0,
   "metadata": {
    "collapsed": false
   },
   "outputs": [
   ],
   "source": [
    "res_rot_H"
   ]
  },
  {
   "cell_type": "code",
   "execution_count": 0,
   "metadata": {
    "collapsed": false
   },
   "outputs": [
   ],
   "source": [
   ]
  }
 ],
 "metadata": {
  "kernelspec": {
   "display_name": "SageMath 9.1",
   "language": "sagemath",
   "metadata": {
    "cocalc": {
     "description": "Open-source mathematical software system",
     "priority": 1,
     "url": "https://www.sagemath.org/"
    }
   },
   "name": "sage-9.1"
  },
  "language_info": {
   "codemirror_mode": {
    "name": "ipython",
    "version": 3
   },
   "file_extension": ".py",
   "mimetype": "text/x-python",
   "name": "python",
   "nbconvert_exporter": "python",
   "pygments_lexer": "ipython3",
   "version": "3.7.3"
  }
 },
 "nbformat": 4,
 "nbformat_minor": 4
}